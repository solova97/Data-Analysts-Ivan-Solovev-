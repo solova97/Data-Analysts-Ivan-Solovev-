{
 "cells": [
  {
   "cell_type": "markdown",
   "metadata": {},
   "source": [
    "<div class=\"alert alert-info\">\n",
    "<font size=\"5\"><b>Комментарий ревьюера</b></font>\n",
    "\n",
    "Привет Иван! Меня зовут Марат, и я буду твоим ревьюером. Спешу сообщить что все ключевые этапы в работе выполнены,  с задачей тебе удалось справиться. По поводу обращения - в IT сфере принято общаться на «ты» :) Но, если привычней на «вы», дай знать. Как ревьюера моя задача помочь тебе в развитии, дав хорошие советы. Я внимательно посмотрю твой код, ознакомлюсь с твоими выводами и оставлю комментарии. Где то могу предложить небольшие исправление в коде, но ненавязчиво. Где потребуются уточнения, я оставлю много наводящих вопросов. Они помогут тебя с поиском верного решения.\n",
    "\n",
    "Все мои комментарии размечены по цветам, для лучшего восприятия. \n",
    "    \n",
    "<div class=\"alert alert-success\">Зеленым цветом и словом «Успех» отмечены особо удачные и элегантные решения, которыми ты можешь гордиться. </div>\n",
    "        \n",
    "<div class=\"alert alert-warning\">Желтым и значком словом «Совет», помечены решения у которых есть альтернативные решения, более оптимальные. Ты можешь найти их сразу и доработать проект, или отложить это на потом, для будущих проектах. Проект будет принят и без их доработки. </div>\n",
    "        \n",
    "<div class=\"alert alert-danger\"> Красным цветом и значком словом «Ошибка» помечу твои решения, на которые стоит обратить внимание прежде всего. После их доработки проект будет принят. </div>\n",
    "        \n",
    "Залог успеха - работа сообща, взаимное уважение и работа в диалоге. Поэтому, помечай свои ответные комментарии на мои реплики заметным цветом или курсивом, так мне будет легче их отслеживать. Пожалуйста, не изменяй и не удаляй мои комментарии. Все это поможет выполнить повторную проверку быстрей.\n",
    "\n",
    "</div>\n",
    "\n",
    "\n",
    "\n",
    "---\n",
    "    \n",
    "Для лучшей коммуникации будет лучше если ты будешь оставлять ответные комментарий (cвои комментарии к исправлениям, вопросы), так результат будет лучше.  А чтобы ревьюры их не теряли, лучше их подсвечивать цветом (можешь выбрать свой, а можешь использовать   тот который я предложил ниже). И чтобы не возникло путаницы лучше оставлять указание на номер версии комментария по итерация:  \n",
    "\n",
    "1 итерация\n",
    "\n",
    "<div class=\"alert alert-info\"> <b>Комментарии студентаV1:</b> Привет Марат!.</div>\n",
    "\n",
    "\n",
    "2 итерация\n",
    "\n",
    "<div class=\"alert alert-info\"> <b>Комментарии студентаV2:</b> Исправлено.... </div>\n",
    "    \n",
    "    \n",
    "И лучше подсвечивать свои комментарии цветом, для этого достаточно в ячейку markdown добавить: \n",
    "\n",
    "```html\n",
    "<div class=\"alert alert-info\"> <b>Комментарии студентаV2:</b> Исправлено.... </div>    \n",
    "\n",
    "```    \n",
    "    \n",
    "Хорошая коммуникация залог успеха! )\n",
    "    \n",
    "---\n",
    "\n",
    "\n",
    "\n",
    "\n"
   ]
  },
  {
   "cell_type": "markdown",
   "metadata": {
    "id": "4mJbK1knrJgz"
   },
   "source": [
    "# Проект: Исследование стартапов\n",
    "\n",
    "- Автор: Соловьев Иван\n",
    "- Дата: 02.07.2025"
   ]
  },
  {
   "cell_type": "markdown",
   "metadata": {
    "id": "P6j0r3worJg0"
   },
   "source": [
    "## Введение"
   ]
  },
  {
   "cell_type": "markdown",
   "metadata": {
    "id": "8lQtbsIUyFG6"
   },
   "source": [
    "Проект направлен на исследование данных, касающихся стартапов, с целью помочь финансовой компании оценить перспективность выхода на рынок инвестиций. Основная задача — обработка данных, выявление ключевых факторов, влияющих на успешность стартапов, и предоставление рекомендаций для принятия обоснованных инвестиционных решений.\n",
    "\n",
    "**Задачи:**\n",
    "\n",
    "1. Загрузить данные и познакомиться с их содержимым.\n",
    "2. Провести предобработку данных.\n",
    "3. Провести исследовательский анализ данных.\n",
    "4. Сформулировать выводы по проведённому анализу."
   ]
  },
  {
   "cell_type": "markdown",
   "metadata": {
    "id": "xqr6uttCrJg0"
   },
   "source": [
    "\n",
    "## Шаг 1. Знакомство с данными: загрузка и первичная предобработка\n",
    "\n",
    "### Описание данных\n",
    "\n",
    "1. Таблица `acquisition`\n",
    "\n",
    "Содержит информацию о покупках одними компаниями других компаний:\n",
    "\n",
    "- `id` — идентификатор покупки.\n",
    "- `acquiring_company_id` — идентификатор покупающей компании.\n",
    "- `acquired_company_id` — идентификатор покупаемой компании.\n",
    "- `term_code` — варианты расчёта.\n",
    "- `price_amount` — сумма сделки.\n",
    "- `acquired_at` — дата сделки.\n",
    "\n",
    "2. Таблица `company_and_rounds`\n",
    "\n",
    "Содержит информацию о компаниях и раундах финансирования:\n",
    "\n",
    "- `company ID` — идентификатор компании.\n",
    "- `name` — название компании.\n",
    "- `category code` — категория области деятельности компании.\n",
    "- `status` — статус компании.\n",
    "- `founded at` — дата инвестирования.\n",
    "- `closed at` — дата закрытия компании.\n",
    "- `domain` — официальный сайт компании.\n",
    "- `network username` — ник компании в сети.\n",
    "- `country code` — код страны компании.\n",
    "- `investment rounds` — число инвестиционных раундов.\n",
    "- `funding rounds` — число раундов финансирования.\n",
    "- `funding total` — сумма финансирования.\n",
    "- `milestones` — вехи финансирования.\n",
    "- `funding round id` — идентификатор этапа финансирования.\n",
    "- `company id` — идентификатор компании.\n",
    "- `funded at` — дата финансирования.\n",
    "- `funding round type` — тип финансирования.\n",
    "- `raised amount` — сумма финансирования.\n",
    "- `pre money valuation` — предварительная денежная оценка.\n",
    "- `participants` — число участников.\n",
    "- `is first round` — является ли раунд первым.\n",
    "- `is last round` — является раунд последним.\n",
    "\n",
    "3. Таблица `education`\n",
    "\n",
    "Содержит информацию об образовании сотрудника:\n",
    "\n",
    "- `id` — идентификатор записи об образовании.\n",
    "- `person_id` — идентификатор работника.\n",
    "- `instituition` — название учебного заведения.\n",
    "- `graduated_at` — дата получения образования.\n",
    "\n",
    "4. Таблица `people`\n",
    "\n",
    "Содержит информацию о сотрудниках:\n",
    "- `id` — идентификатор сотрудника.\n",
    "- `first_name` — имя сотрудника.\n",
    "- `last_name` — фамилия сотрудника.\n",
    "- `company_id` — идентификатор компании.\n",
    "- `network_username` — ник в социальных сетях.\n",
    "\n",
    "5. Таблица `degrees`\n",
    "\n",
    "Содержит информацию о типе образования сотрудника:\n",
    "- `id` — идентификатор записи.\n",
    "- `object_id` — идентификатор сотрудника.\n",
    "- `degree_type` — тип образования.\n",
    "- `subject` — специальность.\n",
    "\n",
    "6. Таблица `fund`\n",
    "\n",
    "Содержит информацию о фондах:\n",
    "\n",
    "- `id` — идентификатор фонда.\n",
    "- `name` — название фонда.\n",
    "- `category_code` — категория области деятельности компании.\n",
    "- `founded_at` — дата создания фонда.\n",
    "- `domain` — сайт фонда.\n",
    "- `network_username` — ник фонда в сети.\n",
    "- `country_code` — код страны фонда.\n",
    "- `investment_rounds` — число инвестиционных раундов.\n",
    "- `invested_companies` — число профинансированных компаний.\n",
    "- `milestones` — вехи финансирования.\n",
    "\n",
    "7. Таблица `investment`\n",
    "\n",
    "Содержит информацию о раундах инвестирования:\n",
    "\n",
    "- `id` — идентификатор этапа инвестирования.\n",
    "- `funding_round_id` — идентификатор раунда инвестирования.\n",
    "- `company_id` — индентификатор компании.\n",
    "- `funding_round_type` — тип финансирования.\n",
    "- `fund_id` — идентификатор фонда."
   ]
  },
  {
   "cell_type": "markdown",
   "metadata": {},
   "source": [
    "### 1.1. Вывод общей информации, исправление названия столбцов\n",
    "\n",
    "- Загрузите все данные по проекту.\n",
    "- Проверьте названия столбцов.\n",
    "- Выведите информацию, которая необходима вам для принятия решений о предобработке, для каждого из датасетов."
   ]
  },
  {
   "cell_type": "code",
   "execution_count": 84,
   "metadata": {
    "colab": {
     "base_uri": "https://localhost:8080/"
    },
    "id": "W_W4jRazrJg0",
    "outputId": "d2409aad-233f-4bb4-ec71-7da96594f9df",
    "vscode": {
     "languageId": "plaintext"
    }
   },
   "outputs": [],
   "source": [
    "# Устанавливаем библиотеку matplotlib-venn\n",
    "!pip install matplotlib-venn -q"
   ]
  },
  {
   "cell_type": "markdown",
   "metadata": {},
   "source": [
    "<div class=\"alert alert-warning\">\n",
    "<font size=\"5\"><b>Комментарий ревьюера</b></font>\n",
    "\n",
    "\n",
    "\n",
    "Совет 🤔:\n",
    "\n",
    "\n",
    "Тут можно добавить ключик -q:\n",
    "\n",
    "\n",
    "\t!pip install matplotlib-venn -q\n",
    "    \n",
    "    \n",
    "Чтобы не выводились   зависимости (они нам пока не нужны) \n",
    "\n",
    "\n",
    " "
   ]
  },
  {
   "cell_type": "markdown",
   "metadata": {},
   "source": [
    "<div class=\"alert alert-info\"> <b>Комментарии студентаV1:</b> Добавлен ключ -q. </div> "
   ]
  },
  {
   "cell_type": "markdown",
   "metadata": {},
   "source": [
    "<div class=\"alert alert-success\">\n",
    "<font size=\"5\"><b>Комментарий ревьюераV2</b></font>\n",
    "\n",
    "\n",
    "\n",
    "Успех 👍:\n",
    "\n",
    "\n",
    "\n",
    "👍\n",
    "\n",
    "\n",
    " "
   ]
  },
  {
   "cell_type": "code",
   "execution_count": 85,
   "metadata": {
    "id": "2Tm4Pk__Felf"
   },
   "outputs": [],
   "source": [
    "# Импортируем библиотеки\n",
    "import pandas as pd\n",
    "import numpy as np\n",
    "\n",
    "# Загружаем библиотеки для визуализации данных\n",
    "import matplotlib.pyplot as plt\n",
    "import seaborn as sns\n",
    "from matplotlib_venn import venn2, venn3\n",
    "from scipy.stats import percentileofscore"
   ]
  },
  {
   "cell_type": "markdown",
   "metadata": {},
   "source": [
    "\n",
    "\n",
    "<div class=\"alert alert-success\">\n",
    "<font size=\"5\"><b>Комментарий ревьюера</b></font>\n",
    "\n",
    "Успех:\n",
    "\n",
    "Собираем все импорты в верхней части, чтобы легче было ориентироваться и добавлять новые по необходимости. \n",
    "\n",
    "\n",
    "<div class=\"alert alert-warning\">\n",
    "\n",
    "\n",
    "Совет:\n",
    "\n",
    "   \n",
    " \n",
    "    \n",
    "    \n",
    "- в этом проекте мы не используем phik, поэтому стоит убрать чтобы поберечь ресурсы      \n",
    " \n",
    " \n",
    " \n",
    "\n",
    "- есть рекомендации PEP-8 при написании кода, в том числе и для импортов. Если интересно можешь почитать [тут](https://pythonworld.ru/osnovy/pep-8-rukovodstvo-po-napisaniyu-koda-na-python.html). Пока исправлять нечего но в будущем может пригодиться\n"
   ]
  },
  {
   "cell_type": "markdown",
   "metadata": {},
   "source": [
    "<div class=\"alert alert-info\"> <b>Комментарии студентаV1:</b> Убран phik.</div>"
   ]
  },
  {
   "cell_type": "code",
   "execution_count": 86,
   "metadata": {
    "id": "oNqJ2qpRFebv"
   },
   "outputs": [],
   "source": [
    "# Загружаем данные в датафреймы\n",
    "PATH = \"https://code.s3.yandex.net/datasets/\"\n",
    "acquisition = pd.read_csv(PATH + 'acquisition.csv')\n",
    "company_and_rounds = pd.read_csv(PATH + 'company_and_rounds.csv')\n",
    "people = pd.read_csv(PATH + 'people.csv')\n",
    "education = pd.read_csv(PATH + 'education.csv')\n",
    "degrees = pd.read_csv(PATH + 'degrees.csv')"
   ]
  },
  {
   "cell_type": "code",
   "execution_count": 87,
   "metadata": {},
   "outputs": [
    {
     "name": "stdout",
     "output_type": "stream",
     "text": [
      "Index(['id', 'acquiring_company_id', 'acquired_company_id', 'term_code',\n",
      "       'price_amount', 'acquired_at'],\n",
      "      dtype='object')\n",
      "Index(['company  ID', 'name', 'category  code', 'status', 'founded  at',\n",
      "       'closed  at', 'domain', 'network  username', 'country  code',\n",
      "       'investment  rounds', 'funding  rounds', 'funding  total', 'milestones',\n",
      "       'funding  round  id', 'company  id', 'funded  at',\n",
      "       'funding  round  type', 'raised  amount', 'pre  money  valuation',\n",
      "       'participants', 'is  first  round', 'is  last  round'],\n",
      "      dtype='object')\n",
      "Index(['id', 'first_name', 'last_name', 'company_id', 'network_username'], dtype='object')\n",
      "Index(['id', 'person_id', 'instituition', 'graduated_at'], dtype='object')\n",
      "Index(['id', 'object_id', 'degree_type', 'subject'], dtype='object')\n"
     ]
    }
   ],
   "source": [
    "# Проверка названия столбцов\n",
    "for i in [acquisition, company_and_rounds, people, education, degrees]:\n",
    "    print(i.columns)"
   ]
  },
  {
   "cell_type": "markdown",
   "metadata": {},
   "source": [
    "В датафрейме `company_and_rounds` приведем данные к стилю **snake_case:**"
   ]
  },
  {
   "cell_type": "code",
   "execution_count": 88,
   "metadata": {},
   "outputs": [],
   "source": [
    "company_and_rounds = company_and_rounds.rename(columns={'company  ID': 'company_ID',\n",
    "                                  'name': 'name',\n",
    "                                  'category  code': 'category_code',\n",
    "                                  'status': 'status',\n",
    "                                  'founded  at': 'founded_at',\n",
    "                                  'closed  at': 'closed_at',\n",
    "                                  'domain': 'domain',\n",
    "                                  'network  username': 'network_username',\n",
    "                                  'country  code' : 'country_code',\n",
    "                                  'investment  rounds' : 'investment_rounds',\n",
    "                                   'funding  rounds'  : 'funding_rounds',\n",
    "                                   'funding  total' : 'funding_total',\n",
    "                                   'milestones' : 'milestones',\n",
    "                                   'funding  round  id' : 'funding_round_id',\n",
    "                                   'company  id' : 'company_id',\n",
    "                                   'funded  at'  : 'funded_at',\n",
    "                                   'funding  round  type' : 'funding_round_type',\n",
    "                                   'raised  amount' : 'raised_amount',\n",
    "                                   'pre  money  valuation' : 'pre_money_valuation',\n",
    "                                   'participants' : 'participants',\n",
    "                                   'is  first  round' : 'is_first_round',\n",
    "                                   'is  last  round' : 'is_last_round'}) "
   ]
  },
  {
   "cell_type": "markdown",
   "metadata": {},
   "source": [
    "\n",
    "\n",
    "\n",
    "<div class=\"alert alert-success\">\n",
    "<font size=\"5\"><b>Комментарий ревьюера</b></font>\n",
    "\n",
    "Успех:\n",
    "\n",
    "👍 помнишь о стилистике\n",
    "\n",
    " \n",
    "    \n",
    "    \n",
    " <div class=\"alert alert-warning\">\n",
    "\n",
    "\n",
    "Совет: \n",
    "\n",
    "\n",
    " \n",
    "- лучше всего автоматизировать процесс приведения к змеиному стилю воспользовавшись  .lower, а с помощью регуляризации    (или .replace) избавиться от точек, % итп, а если надо организовать нижние подчёркивание (привезти название столбцов к змеиному коду) \n",
    "   \n",
    "\n",
    "\n"
   ]
  },
  {
   "cell_type": "markdown",
   "metadata": {},
   "source": [
    "Выведем столбцы датафрейма `company_and_rounds` с обновленными названиями :"
   ]
  },
  {
   "cell_type": "code",
   "execution_count": 89,
   "metadata": {},
   "outputs": [
    {
     "data": {
      "text/plain": [
       "Index(['company_ID', 'name', 'category_code', 'status', 'founded_at',\n",
       "       'closed_at', 'domain', 'network_username', 'country_code',\n",
       "       'investment_rounds', 'funding_rounds', 'funding_total', 'milestones',\n",
       "       'funding_round_id', 'company_id', 'funded_at', 'funding_round_type',\n",
       "       'raised_amount', 'pre_money_valuation', 'participants',\n",
       "       'is_first_round', 'is_last_round'],\n",
       "      dtype='object')"
      ]
     },
     "execution_count": 89,
     "metadata": {},
     "output_type": "execute_result"
    }
   ],
   "source": [
    "company_and_rounds.columns"
   ]
  },
  {
   "cell_type": "code",
   "execution_count": 90,
   "metadata": {},
   "outputs": [
    {
     "data": {
      "image/png": "[encoded data removed]",
      "text/plain": [
       "<Figure size 432x288 with 1 Axes>"
      ]
     },
     "metadata": {},
     "output_type": "display_data"
    }
   ],
   "source": [
    "first_id = set(company_and_rounds['company_ID'].dropna().unique())\n",
    "second_id = set(company_and_rounds['company_id'].dropna().unique())\n",
    "\n",
    "# Строим диаграмму Венна\n",
    "venn2([first_id, second_id], set_labels=('company_ID', 'company_id'))\n",
    "\n",
    "# Отображаем график\n",
    "plt.title(\"Пересечение\")\n",
    "plt.show()"
   ]
  },
  {
   "cell_type": "markdown",
   "metadata": {},
   "source": [
    "<div class=\"alert alert-success\">\n",
    "<font size=\"5\"><b>Комментарий ревьюера</b></font>\n",
    "\n",
    "\n",
    "\n",
    "Успех 👍:\n",
    "\n",
    "\n",
    "\n",
    "👍Отличная иллюстрация\n",
    "\n",
    "\n",
    " "
   ]
  },
  {
   "cell_type": "markdown",
   "metadata": {},
   "source": [
    "Выведем информацию, которая необходима для принятия решений о предобработке, для каждого из датасетов."
   ]
  },
  {
   "cell_type": "code",
   "execution_count": 91,
   "metadata": {},
   "outputs": [
    {
     "data": {
      "text/html": [
       "<div>\n",
       "<style scoped>\n",
       "    .dataframe tbody tr th:only-of-type {\n",
       "        vertical-align: middle;\n",
       "    }\n",
       "\n",
       "    .dataframe tbody tr th {\n",
       "        vertical-align: top;\n",
       "    }\n",
       "\n",
       "    .dataframe thead th {\n",
       "        text-align: right;\n",
       "    }\n",
       "</style>\n",
       "<table border=\"1\" class=\"dataframe\">\n",
       "  <thead>\n",
       "    <tr style=\"text-align: right;\">\n",
       "      <th></th>\n",
       "      <th>id</th>\n",
       "      <th>acquiring_company_id</th>\n",
       "      <th>acquired_company_id</th>\n",
       "      <th>term_code</th>\n",
       "      <th>price_amount</th>\n",
       "      <th>acquired_at</th>\n",
       "    </tr>\n",
       "  </thead>\n",
       "  <tbody>\n",
       "    <tr>\n",
       "      <th>0</th>\n",
       "      <td>1</td>\n",
       "      <td>11</td>\n",
       "      <td>10</td>\n",
       "      <td>NaN</td>\n",
       "      <td>20000000</td>\n",
       "      <td>2007-05-30</td>\n",
       "    </tr>\n",
       "    <tr>\n",
       "      <th>1</th>\n",
       "      <td>7</td>\n",
       "      <td>59</td>\n",
       "      <td>72</td>\n",
       "      <td>cash</td>\n",
       "      <td>60000000</td>\n",
       "      <td>2007-07-01</td>\n",
       "    </tr>\n",
       "    <tr>\n",
       "      <th>2</th>\n",
       "      <td>8</td>\n",
       "      <td>24</td>\n",
       "      <td>132</td>\n",
       "      <td>cash</td>\n",
       "      <td>280000000</td>\n",
       "      <td>2007-05-01</td>\n",
       "    </tr>\n",
       "    <tr>\n",
       "      <th>3</th>\n",
       "      <td>9</td>\n",
       "      <td>59</td>\n",
       "      <td>155</td>\n",
       "      <td>cash</td>\n",
       "      <td>100000000</td>\n",
       "      <td>2007-06-01</td>\n",
       "    </tr>\n",
       "    <tr>\n",
       "      <th>4</th>\n",
       "      <td>10</td>\n",
       "      <td>212</td>\n",
       "      <td>215</td>\n",
       "      <td>cash</td>\n",
       "      <td>25000000</td>\n",
       "      <td>2007-07-01</td>\n",
       "    </tr>\n",
       "  </tbody>\n",
       "</table>\n",
       "</div>"
      ],
      "text/plain": [
       "   id  acquiring_company_id  acquired_company_id term_code  price_amount  \\\n",
       "0   1                    11                   10       NaN      20000000   \n",
       "1   7                    59                   72      cash      60000000   \n",
       "2   8                    24                  132      cash     280000000   \n",
       "3   9                    59                  155      cash     100000000   \n",
       "4  10                   212                  215      cash      25000000   \n",
       "\n",
       "  acquired_at  \n",
       "0  2007-05-30  \n",
       "1  2007-07-01  \n",
       "2  2007-05-01  \n",
       "3  2007-06-01  \n",
       "4  2007-07-01  "
      ]
     },
     "metadata": {},
     "output_type": "display_data"
    },
    {
     "name": "stdout",
     "output_type": "stream",
     "text": [
      "<class 'pandas.core.frame.DataFrame'>\n",
      "RangeIndex: 9407 entries, 0 to 9406\n",
      "Data columns (total 6 columns):\n",
      " #   Column                Non-Null Count  Dtype \n",
      "---  ------                --------------  ----- \n",
      " 0   id                    9407 non-null   int64 \n",
      " 1   acquiring_company_id  9407 non-null   int64 \n",
      " 2   acquired_company_id   9407 non-null   int64 \n",
      " 3   term_code             1831 non-null   object\n",
      " 4   price_amount          9407 non-null   int64 \n",
      " 5   acquired_at           9378 non-null   object\n",
      "dtypes: int64(4), object(2)\n",
      "memory usage: 441.1+ KB\n"
     ]
    },
    {
     "data": {
      "text/html": [
       "<div>\n",
       "<style scoped>\n",
       "    .dataframe tbody tr th:only-of-type {\n",
       "        vertical-align: middle;\n",
       "    }\n",
       "\n",
       "    .dataframe tbody tr th {\n",
       "        vertical-align: top;\n",
       "    }\n",
       "\n",
       "    .dataframe thead th {\n",
       "        text-align: right;\n",
       "    }\n",
       "</style>\n",
       "<table border=\"1\" class=\"dataframe\">\n",
       "  <thead>\n",
       "    <tr style=\"text-align: right;\">\n",
       "      <th></th>\n",
       "      <th>company_ID</th>\n",
       "      <th>name</th>\n",
       "      <th>category_code</th>\n",
       "      <th>status</th>\n",
       "      <th>founded_at</th>\n",
       "      <th>closed_at</th>\n",
       "      <th>domain</th>\n",
       "      <th>network_username</th>\n",
       "      <th>country_code</th>\n",
       "      <th>investment_rounds</th>\n",
       "      <th>...</th>\n",
       "      <th>milestones</th>\n",
       "      <th>funding_round_id</th>\n",
       "      <th>company_id</th>\n",
       "      <th>funded_at</th>\n",
       "      <th>funding_round_type</th>\n",
       "      <th>raised_amount</th>\n",
       "      <th>pre_money_valuation</th>\n",
       "      <th>participants</th>\n",
       "      <th>is_first_round</th>\n",
       "      <th>is_last_round</th>\n",
       "    </tr>\n",
       "  </thead>\n",
       "  <tbody>\n",
       "    <tr>\n",
       "      <th>0</th>\n",
       "      <td>1.0</td>\n",
       "      <td>Wetpaint</td>\n",
       "      <td>web</td>\n",
       "      <td>operating</td>\n",
       "      <td>2005-10-17</td>\n",
       "      <td>NaN</td>\n",
       "      <td>wetpaint-inc.com</td>\n",
       "      <td>BachelrWetpaint</td>\n",
       "      <td>USA</td>\n",
       "      <td>0.0</td>\n",
       "      <td>...</td>\n",
       "      <td>5.0</td>\n",
       "      <td>888.0</td>\n",
       "      <td>1.0</td>\n",
       "      <td>2005-10-01</td>\n",
       "      <td>series-a</td>\n",
       "      <td>5250000.0</td>\n",
       "      <td>0.0</td>\n",
       "      <td>2.0</td>\n",
       "      <td>0.0</td>\n",
       "      <td>1.0</td>\n",
       "    </tr>\n",
       "    <tr>\n",
       "      <th>1</th>\n",
       "      <td>1.0</td>\n",
       "      <td>Wetpaint</td>\n",
       "      <td>web</td>\n",
       "      <td>operating</td>\n",
       "      <td>2005-10-17</td>\n",
       "      <td>NaN</td>\n",
       "      <td>wetpaint-inc.com</td>\n",
       "      <td>BachelrWetpaint</td>\n",
       "      <td>USA</td>\n",
       "      <td>0.0</td>\n",
       "      <td>...</td>\n",
       "      <td>5.0</td>\n",
       "      <td>889.0</td>\n",
       "      <td>1.0</td>\n",
       "      <td>2007-01-01</td>\n",
       "      <td>series-b</td>\n",
       "      <td>9500000.0</td>\n",
       "      <td>0.0</td>\n",
       "      <td>3.0</td>\n",
       "      <td>0.0</td>\n",
       "      <td>0.0</td>\n",
       "    </tr>\n",
       "    <tr>\n",
       "      <th>2</th>\n",
       "      <td>1.0</td>\n",
       "      <td>Wetpaint</td>\n",
       "      <td>web</td>\n",
       "      <td>operating</td>\n",
       "      <td>2005-10-17</td>\n",
       "      <td>NaN</td>\n",
       "      <td>wetpaint-inc.com</td>\n",
       "      <td>BachelrWetpaint</td>\n",
       "      <td>USA</td>\n",
       "      <td>0.0</td>\n",
       "      <td>...</td>\n",
       "      <td>5.0</td>\n",
       "      <td>2312.0</td>\n",
       "      <td>1.0</td>\n",
       "      <td>2008-05-19</td>\n",
       "      <td>series-c+</td>\n",
       "      <td>25000000.0</td>\n",
       "      <td>0.0</td>\n",
       "      <td>4.0</td>\n",
       "      <td>1.0</td>\n",
       "      <td>0.0</td>\n",
       "    </tr>\n",
       "    <tr>\n",
       "      <th>3</th>\n",
       "      <td>10.0</td>\n",
       "      <td>Flektor</td>\n",
       "      <td>games_video</td>\n",
       "      <td>acquired</td>\n",
       "      <td>NaN</td>\n",
       "      <td>NaN</td>\n",
       "      <td>flektor.com</td>\n",
       "      <td>NaN</td>\n",
       "      <td>USA</td>\n",
       "      <td>0.0</td>\n",
       "      <td>...</td>\n",
       "      <td>0.0</td>\n",
       "      <td>NaN</td>\n",
       "      <td>NaN</td>\n",
       "      <td>NaN</td>\n",
       "      <td>NaN</td>\n",
       "      <td>NaN</td>\n",
       "      <td>NaN</td>\n",
       "      <td>NaN</td>\n",
       "      <td>NaN</td>\n",
       "      <td>NaN</td>\n",
       "    </tr>\n",
       "    <tr>\n",
       "      <th>4</th>\n",
       "      <td>100.0</td>\n",
       "      <td>There</td>\n",
       "      <td>games_video</td>\n",
       "      <td>acquired</td>\n",
       "      <td>NaN</td>\n",
       "      <td>NaN</td>\n",
       "      <td>there.com</td>\n",
       "      <td>NaN</td>\n",
       "      <td>USA</td>\n",
       "      <td>0.0</td>\n",
       "      <td>...</td>\n",
       "      <td>4.0</td>\n",
       "      <td>NaN</td>\n",
       "      <td>NaN</td>\n",
       "      <td>NaN</td>\n",
       "      <td>NaN</td>\n",
       "      <td>NaN</td>\n",
       "      <td>NaN</td>\n",
       "      <td>NaN</td>\n",
       "      <td>NaN</td>\n",
       "      <td>NaN</td>\n",
       "    </tr>\n",
       "  </tbody>\n",
       "</table>\n",
       "<p>5 rows × 22 columns</p>\n",
       "</div>"
      ],
      "text/plain": [
       "   company_ID      name category_code     status  founded_at closed_at  \\\n",
       "0         1.0  Wetpaint           web  operating  2005-10-17       NaN   \n",
       "1         1.0  Wetpaint           web  operating  2005-10-17       NaN   \n",
       "2         1.0  Wetpaint           web  operating  2005-10-17       NaN   \n",
       "3        10.0   Flektor   games_video   acquired         NaN       NaN   \n",
       "4       100.0     There   games_video   acquired         NaN       NaN   \n",
       "\n",
       "             domain network_username country_code  investment_rounds  ...  \\\n",
       "0  wetpaint-inc.com  BachelrWetpaint          USA                0.0  ...   \n",
       "1  wetpaint-inc.com  BachelrWetpaint          USA                0.0  ...   \n",
       "2  wetpaint-inc.com  BachelrWetpaint          USA                0.0  ...   \n",
       "3       flektor.com              NaN          USA                0.0  ...   \n",
       "4         there.com              NaN          USA                0.0  ...   \n",
       "\n",
       "   milestones  funding_round_id  company_id   funded_at  funding_round_type  \\\n",
       "0         5.0             888.0         1.0  2005-10-01            series-a   \n",
       "1         5.0             889.0         1.0  2007-01-01            series-b   \n",
       "2         5.0            2312.0         1.0  2008-05-19           series-c+   \n",
       "3         0.0               NaN         NaN         NaN                 NaN   \n",
       "4         4.0               NaN         NaN         NaN                 NaN   \n",
       "\n",
       "  raised_amount pre_money_valuation  participants  is_first_round  \\\n",
       "0     5250000.0                 0.0           2.0             0.0   \n",
       "1     9500000.0                 0.0           3.0             0.0   \n",
       "2    25000000.0                 0.0           4.0             1.0   \n",
       "3           NaN                 NaN           NaN             NaN   \n",
       "4           NaN                 NaN           NaN             NaN   \n",
       "\n",
       "   is_last_round  \n",
       "0            1.0  \n",
       "1            0.0  \n",
       "2            0.0  \n",
       "3            NaN  \n",
       "4            NaN  \n",
       "\n",
       "[5 rows x 22 columns]"
      ]
     },
     "metadata": {},
     "output_type": "display_data"
    },
    {
     "name": "stdout",
     "output_type": "stream",
     "text": [
      "<class 'pandas.core.frame.DataFrame'>\n",
      "RangeIndex: 217774 entries, 0 to 217773\n",
      "Data columns (total 22 columns):\n",
      " #   Column               Non-Null Count   Dtype  \n",
      "---  ------               --------------   -----  \n",
      " 0   company_ID           217472 non-null  float64\n",
      " 1   name                 217472 non-null  object \n",
      " 2   category_code        143886 non-null  object \n",
      " 3   status               217472 non-null  object \n",
      " 4   founded_at           109956 non-null  object \n",
      " 5   closed_at            3449 non-null    object \n",
      " 6   domain               147159 non-null  object \n",
      " 7   network_username     95534 non-null   object \n",
      " 8   country_code         108607 non-null  object \n",
      " 9   investment_rounds    217472 non-null  float64\n",
      " 10  funding_rounds       217472 non-null  float64\n",
      " 11  funding_total        217472 non-null  float64\n",
      " 12  milestones           217472 non-null  float64\n",
      " 13  funding_round_id     52928 non-null   float64\n",
      " 14  company_id           52928 non-null   float64\n",
      " 15  funded_at            52680 non-null   object \n",
      " 16  funding_round_type   52928 non-null   object \n",
      " 17  raised_amount        52928 non-null   float64\n",
      " 18  pre_money_valuation  52928 non-null   float64\n",
      " 19  participants         52928 non-null   float64\n",
      " 20  is_first_round       52928 non-null   float64\n",
      " 21  is_last_round        52928 non-null   float64\n",
      "dtypes: float64(12), object(10)\n",
      "memory usage: 36.6+ MB\n"
     ]
    },
    {
     "data": {
      "text/html": [
       "<div>\n",
       "<style scoped>\n",
       "    .dataframe tbody tr th:only-of-type {\n",
       "        vertical-align: middle;\n",
       "    }\n",
       "\n",
       "    .dataframe tbody tr th {\n",
       "        vertical-align: top;\n",
       "    }\n",
       "\n",
       "    .dataframe thead th {\n",
       "        text-align: right;\n",
       "    }\n",
       "</style>\n",
       "<table border=\"1\" class=\"dataframe\">\n",
       "  <thead>\n",
       "    <tr style=\"text-align: right;\">\n",
       "      <th></th>\n",
       "      <th>id</th>\n",
       "      <th>first_name</th>\n",
       "      <th>last_name</th>\n",
       "      <th>company_id</th>\n",
       "      <th>network_username</th>\n",
       "    </tr>\n",
       "  </thead>\n",
       "  <tbody>\n",
       "    <tr>\n",
       "      <th>0</th>\n",
       "      <td>10</td>\n",
       "      <td>Mark</td>\n",
       "      <td>Zuckerberg</td>\n",
       "      <td>5.0</td>\n",
       "      <td>NaN</td>\n",
       "    </tr>\n",
       "    <tr>\n",
       "      <th>1</th>\n",
       "      <td>100</td>\n",
       "      <td>Peter</td>\n",
       "      <td>Lester</td>\n",
       "      <td>27.0</td>\n",
       "      <td>NaN</td>\n",
       "    </tr>\n",
       "    <tr>\n",
       "      <th>2</th>\n",
       "      <td>1000</td>\n",
       "      <td>Dr. Steven</td>\n",
       "      <td>E. Saunders</td>\n",
       "      <td>292.0</td>\n",
       "      <td>NaN</td>\n",
       "    </tr>\n",
       "    <tr>\n",
       "      <th>3</th>\n",
       "      <td>10000</td>\n",
       "      <td>Neil</td>\n",
       "      <td>Capel</td>\n",
       "      <td>2526.0</td>\n",
       "      <td>NaN</td>\n",
       "    </tr>\n",
       "    <tr>\n",
       "      <th>4</th>\n",
       "      <td>100000</td>\n",
       "      <td>Sue</td>\n",
       "      <td>Pilsch</td>\n",
       "      <td>NaN</td>\n",
       "      <td>NaN</td>\n",
       "    </tr>\n",
       "  </tbody>\n",
       "</table>\n",
       "</div>"
      ],
      "text/plain": [
       "       id  first_name    last_name  company_id network_username\n",
       "0      10        Mark   Zuckerberg         5.0              NaN\n",
       "1     100       Peter       Lester        27.0              NaN\n",
       "2    1000  Dr. Steven  E. Saunders       292.0              NaN\n",
       "3   10000        Neil        Capel      2526.0              NaN\n",
       "4  100000         Sue       Pilsch         NaN              NaN"
      ]
     },
     "metadata": {},
     "output_type": "display_data"
    },
    {
     "name": "stdout",
     "output_type": "stream",
     "text": [
      "<class 'pandas.core.frame.DataFrame'>\n",
      "RangeIndex: 226709 entries, 0 to 226708\n",
      "Data columns (total 5 columns):\n",
      " #   Column            Non-Null Count   Dtype  \n",
      "---  ------            --------------   -----  \n",
      " 0   id                226709 non-null  int64  \n",
      " 1   first_name        226704 non-null  object \n",
      " 2   last_name         226708 non-null  object \n",
      " 3   company_id        34615 non-null   float64\n",
      " 4   network_username  38867 non-null   object \n",
      "dtypes: float64(1), int64(1), object(3)\n",
      "memory usage: 8.6+ MB\n"
     ]
    },
    {
     "data": {
      "text/html": [
       "<div>\n",
       "<style scoped>\n",
       "    .dataframe tbody tr th:only-of-type {\n",
       "        vertical-align: middle;\n",
       "    }\n",
       "\n",
       "    .dataframe tbody tr th {\n",
       "        vertical-align: top;\n",
       "    }\n",
       "\n",
       "    .dataframe thead th {\n",
       "        text-align: right;\n",
       "    }\n",
       "</style>\n",
       "<table border=\"1\" class=\"dataframe\">\n",
       "  <thead>\n",
       "    <tr style=\"text-align: right;\">\n",
       "      <th></th>\n",
       "      <th>id</th>\n",
       "      <th>person_id</th>\n",
       "      <th>instituition</th>\n",
       "      <th>graduated_at</th>\n",
       "    </tr>\n",
       "  </thead>\n",
       "  <tbody>\n",
       "    <tr>\n",
       "      <th>0</th>\n",
       "      <td>1</td>\n",
       "      <td>6117</td>\n",
       "      <td>NaN</td>\n",
       "      <td>NaN</td>\n",
       "    </tr>\n",
       "    <tr>\n",
       "      <th>1</th>\n",
       "      <td>2</td>\n",
       "      <td>6136</td>\n",
       "      <td>Washington University, St. Louis</td>\n",
       "      <td>1990-01-01</td>\n",
       "    </tr>\n",
       "    <tr>\n",
       "      <th>2</th>\n",
       "      <td>3</td>\n",
       "      <td>6136</td>\n",
       "      <td>Boston University</td>\n",
       "      <td>1992-01-01</td>\n",
       "    </tr>\n",
       "    <tr>\n",
       "      <th>3</th>\n",
       "      <td>4</td>\n",
       "      <td>6005</td>\n",
       "      <td>University of Greenwich</td>\n",
       "      <td>2006-01-01</td>\n",
       "    </tr>\n",
       "    <tr>\n",
       "      <th>4</th>\n",
       "      <td>5</td>\n",
       "      <td>5832</td>\n",
       "      <td>Rice University</td>\n",
       "      <td>NaN</td>\n",
       "    </tr>\n",
       "  </tbody>\n",
       "</table>\n",
       "</div>"
      ],
      "text/plain": [
       "   id  person_id                      instituition graduated_at\n",
       "0   1       6117                               NaN          NaN\n",
       "1   2       6136  Washington University, St. Louis   1990-01-01\n",
       "2   3       6136                 Boston University   1992-01-01\n",
       "3   4       6005           University of Greenwich   2006-01-01\n",
       "4   5       5832                   Rice University          NaN"
      ]
     },
     "metadata": {},
     "output_type": "display_data"
    },
    {
     "name": "stdout",
     "output_type": "stream",
     "text": [
      "<class 'pandas.core.frame.DataFrame'>\n",
      "RangeIndex: 109610 entries, 0 to 109609\n",
      "Data columns (total 4 columns):\n",
      " #   Column        Non-Null Count   Dtype \n",
      "---  ------        --------------   ----- \n",
      " 0   id            109610 non-null  int64 \n",
      " 1   person_id     109610 non-null  int64 \n",
      " 2   instituition  109555 non-null  object\n",
      " 3   graduated_at  58054 non-null   object\n",
      "dtypes: int64(2), object(2)\n",
      "memory usage: 3.3+ MB\n"
     ]
    },
    {
     "data": {
      "text/html": [
       "<div>\n",
       "<style scoped>\n",
       "    .dataframe tbody tr th:only-of-type {\n",
       "        vertical-align: middle;\n",
       "    }\n",
       "\n",
       "    .dataframe tbody tr th {\n",
       "        vertical-align: top;\n",
       "    }\n",
       "\n",
       "    .dataframe thead th {\n",
       "        text-align: right;\n",
       "    }\n",
       "</style>\n",
       "<table border=\"1\" class=\"dataframe\">\n",
       "  <thead>\n",
       "    <tr style=\"text-align: right;\">\n",
       "      <th></th>\n",
       "      <th>id</th>\n",
       "      <th>object_id</th>\n",
       "      <th>degree_type</th>\n",
       "      <th>subject</th>\n",
       "    </tr>\n",
       "  </thead>\n",
       "  <tbody>\n",
       "    <tr>\n",
       "      <th>0</th>\n",
       "      <td>1</td>\n",
       "      <td>p:6117</td>\n",
       "      <td>MBA</td>\n",
       "      <td>NaN</td>\n",
       "    </tr>\n",
       "    <tr>\n",
       "      <th>1</th>\n",
       "      <td>2</td>\n",
       "      <td>p:6136</td>\n",
       "      <td>BA</td>\n",
       "      <td>English, French</td>\n",
       "    </tr>\n",
       "    <tr>\n",
       "      <th>2</th>\n",
       "      <td>3</td>\n",
       "      <td>p:6136</td>\n",
       "      <td>MS</td>\n",
       "      <td>Mass Communication</td>\n",
       "    </tr>\n",
       "    <tr>\n",
       "      <th>3</th>\n",
       "      <td>4</td>\n",
       "      <td>p:6005</td>\n",
       "      <td>MS</td>\n",
       "      <td>Internet Technology</td>\n",
       "    </tr>\n",
       "    <tr>\n",
       "      <th>4</th>\n",
       "      <td>5</td>\n",
       "      <td>p:5832</td>\n",
       "      <td>BCS</td>\n",
       "      <td>Computer Science, Psychology</td>\n",
       "    </tr>\n",
       "  </tbody>\n",
       "</table>\n",
       "</div>"
      ],
      "text/plain": [
       "   id object_id degree_type                       subject\n",
       "0   1    p:6117         MBA                           NaN\n",
       "1   2    p:6136          BA               English, French\n",
       "2   3    p:6136          MS            Mass Communication\n",
       "3   4    p:6005          MS           Internet Technology\n",
       "4   5    p:5832         BCS  Computer Science, Psychology"
      ]
     },
     "metadata": {},
     "output_type": "display_data"
    },
    {
     "name": "stdout",
     "output_type": "stream",
     "text": [
      "<class 'pandas.core.frame.DataFrame'>\n",
      "RangeIndex: 109610 entries, 0 to 109609\n",
      "Data columns (total 4 columns):\n",
      " #   Column       Non-Null Count   Dtype \n",
      "---  ------       --------------   ----- \n",
      " 0   id           109610 non-null  int64 \n",
      " 1   object_id    109610 non-null  object\n",
      " 2   degree_type  98392 non-null   object\n",
      " 3   subject      81298 non-null   object\n",
      "dtypes: int64(1), object(3)\n",
      "memory usage: 3.3+ MB\n"
     ]
    }
   ],
   "source": [
    "for i in [acquisition, company_and_rounds, people, education, degrees]:\n",
    "    display(i.head())\n",
    "    i.info()"
   ]
  },
  {
   "cell_type": "markdown",
   "metadata": {},
   "source": [
    "**Изменение типов данных в таблицах**\n",
    "- **Таблица `acquisition`:** Преобразовать тип данных в столбце `acquired_at` к типу `date`.\n",
    "- **Таблица `company_and_rounds`:** Привести столбцы `ounded_at`, `closed_at` и `funded_at` к типу `date`.\n",
    "- **Таблица `education`:** Преобразовать тип данных в столбце `graduated_at` к типу `date`."
   ]
  },
  {
   "cell_type": "markdown",
   "metadata": {},
   "source": [
    "\n",
    "<div class=\"alert alert-success\">\n",
    "<font size=\"5\"><b>Комментарий ревьюера</b></font>\n",
    "\n",
    "Успех:\n",
    "\n",
    "\n",
    "- Предварительный обзор данных сделан\n",
    "\n",
    "\n",
    "- Выводы сделаны\n",
    "\n",
    " \n",
    "- Здорово Что обратил внимание на на то что в company_and_rounds  два раза встречается название столбца company_id и провёл анализ    \n",
    "\n",
    "     \n",
    "\n",
    "     \n",
    "<div class=\"alert alert-warning\">\n",
    "\n",
    "Совет 🤔:\n",
    "\n",
    " \n",
    "\n",
    "- Можно было найти опечатку \n",
    "\n",
    " "
   ]
  },
  {
   "cell_type": "markdown",
   "metadata": {
    "id": "mg2gEwh0rJg0"
   },
   "source": [
    "### 1.2. Смена типов и анализ пропусков\n",
    "\n",
    "- Обработайте типы данных в столбцах, которые хранят значения даты и времени, если это необходимо.\n",
    "- Оцените полноту данных — сделайте предварительный вывод, достаточно ли данных для решения задач проекта."
   ]
  },
  {
   "cell_type": "markdown",
   "metadata": {
    "id": "FsL0A8RBrJg1",
    "vscode": {
     "languageId": "plaintext"
    }
   },
   "source": [
    "Приведем необходимы столбцы к типу данных `date`"
   ]
  },
  {
   "cell_type": "code",
   "execution_count": 92,
   "metadata": {
    "id": "46VskrGyFeJ-"
   },
   "outputs": [],
   "source": [
    "acquisition['acquired_at'] = pd.to_datetime(acquisition['acquired_at'])\n",
    "company_and_rounds[['founded_at', 'closed_at', 'funded_at']] = company_and_rounds[['founded_at', 'closed_at', 'funded_at']].apply(pd.to_datetime)\n",
    "education['graduated_at'] = pd.to_datetime(education['graduated_at'])"
   ]
  },
  {
   "cell_type": "markdown",
   "metadata": {},
   "source": [
    "\n",
    "<div class=\"alert alert-success\">\n",
    "<font size=\"5\"><b>Комментарий ревьюера</b></font>\n",
    "\n",
    "\n",
    "\n",
    "Успех 👍:\n",
    "\n",
    "\n",
    "\n",
    "👍 to_datetime\n",
    "\n",
    "\n",
    "  \n",
    "    \n",
    "<div class=\"alert alert-warning\">\n",
    "\n",
    "\n",
    "\n",
    "Совет 🤔:\n",
    "\n",
    "\n",
    " \n",
    "- Ещё можно было хитро автоматизировать приведение к нужному типу,  заметив что все столбцы которые нужно привести к типу datetime содержат \"_at\". Реализовать это можно по-разному, например использовать функцию в функций. Одна функция - это двойной цикл (Пробегается по всем датсетам а в каждом датасете по всем столбцам),  а в качестве аргумента в ней подаём другую функцию, которая в отношении столбца делает нужную операцию (Одна функция приводит к верному типу данных, другая работает со стилистикой название столбцов итп). Если не очень знакома тема функций, то ниже написал шаблончик можешь поиграться, добавив к   process_to_datetime, какие-то другие функции, которые ты хочешь применить к каждому столбцу какждого датасета - например поискать столбец в котроом содержится network_username (У нас есть такое задание)\n",
    "\t\n",
    "\t\n",
    "\n",
    "\n",
    "\t\t# код ревьюера\n",
    "\n",
    "\n",
    "\t\t# Пример функции для обработки столбца\n",
    "\t\tdef process_to_datetime(column):\n",
    "\t\t\t\"\"\"\n",
    "\t\t\tФункция, которая выполняет действия над столбцом.\n",
    "\t\t\tНапример, преобразует столбцы с '_at' в datetime.\n",
    "\t\t\t\"\"\"\n",
    "\t\t\tif '_at' in column.name:  # Проверяем, содержит ли название столбца '_at'\n",
    "\t\t\t\treturn pd.to_datetime(column)  # Преобразуем в datetime\n",
    "\t\t\treturn column  # Возвращаем столбец без изменений\n",
    "\n",
    "\t\t# Основная функция для обработки датасетов\n",
    "\t\tdef process_datasets(dataset_dict, column_processor):\n",
    "\t\t\t\"\"\"\n",
    "\t\t\tФункция, которая проходит по каждому датасету в словаре и каждому столбцу,\n",
    "\t\t\tприменяя к ним функцию column_processor.\n",
    "\t\t\t\"\"\"\n",
    "\t\t\tfor dataset_name, dataset in dataset_dict.items():  # Проходим по каждому датасету в словаре\n",
    "\t\t\t\tfor column_name in dataset.columns:  # Проходим по каждому столбцу\n",
    "\t\t\t\t\tdataset[column_name] = column_processor(dataset[column_name])  # Применяем функцию\n",
    "\t\t\treturn dataset_dict\n",
    "\n",
    "\t\t# Пример данных (создаём несколько датасетов для демонстрации)\n",
    "\t\tdata1 = pd.DataFrame({\n",
    "\t\t\t'created_at': ['2023-01-01', '2023-02-01'],\n",
    "\t\t\t'updated_at': ['2023-01-02', '2023-02-02'],\n",
    "\t\t\t'value': [10, 20]\n",
    "\t\t})\n",
    "\n",
    "\t\tdata2 = pd.DataFrame({\n",
    "\t\t\t'start_at': ['2023-03-01', '2023-04-01'],\n",
    "\t\t\t'end_at': ['2023-03-02', '2023-04-02'],\n",
    "\t\t\t'price': [100, 200]\n",
    "\t\t})\n",
    "\n",
    "\t\t# Словарь датасетов\n",
    "\t\tdataset_dict = {\n",
    "\t\t\t'dataset1': data1,\n",
    "\t\t\t'dataset2': data2\n",
    "\t\t}\n",
    "\n",
    "\t\t# Обрабатываем датасеты\n",
    "\t\tprocessed_datasets = process_datasets(dataset_dict, process_to_datetime)\n",
    "\n",
    "\t\t# Выводим результат\n",
    "\t\tfor dataset_name, dataset in processed_datasets.items():\n",
    "\t\t\tdisplay(f\"Датасет '{dataset_name}':\")\n",
    "\t\t\tdisplay(dataset)\n",
    " "
   ]
  },
  {
   "cell_type": "markdown",
   "metadata": {
    "id": "DEg1tl8DFeBn"
   },
   "source": [
    "Оценим полноту данных и сделаем предварительный вывод, достаточно ли данных для решения задач проекта."
   ]
  },
  {
   "cell_type": "code",
   "execution_count": 93,
   "metadata": {},
   "outputs": [
    {
     "name": "stdout",
     "output_type": "stream",
     "text": [
      "<class 'pandas.core.frame.DataFrame'>\n",
      "RangeIndex: 9407 entries, 0 to 9406\n",
      "Data columns (total 6 columns):\n",
      " #   Column                Non-Null Count  Dtype         \n",
      "---  ------                --------------  -----         \n",
      " 0   id                    9407 non-null   int64         \n",
      " 1   acquiring_company_id  9407 non-null   int64         \n",
      " 2   acquired_company_id   9407 non-null   int64         \n",
      " 3   term_code             1831 non-null   object        \n",
      " 4   price_amount          9407 non-null   int64         \n",
      " 5   acquired_at           9378 non-null   datetime64[ns]\n",
      "dtypes: datetime64[ns](1), int64(4), object(1)\n",
      "memory usage: 441.1+ KB\n",
      "None\n",
      "id                         0\n",
      "acquiring_company_id       0\n",
      "acquired_company_id        0\n",
      "term_code               7576\n",
      "price_amount               0\n",
      "acquired_at               29\n",
      "dtype: int64\n",
      "id                      0.000000\n",
      "acquiring_company_id    0.000000\n",
      "acquired_company_id     0.000000\n",
      "term_code               0.805358\n",
      "price_amount            0.000000\n",
      "acquired_at             0.003083\n",
      "dtype: float64\n",
      "<class 'pandas.core.frame.DataFrame'>\n",
      "RangeIndex: 217774 entries, 0 to 217773\n",
      "Data columns (total 22 columns):\n",
      " #   Column               Non-Null Count   Dtype         \n",
      "---  ------               --------------   -----         \n",
      " 0   company_ID           217472 non-null  float64       \n",
      " 1   name                 217472 non-null  object        \n",
      " 2   category_code        143886 non-null  object        \n",
      " 3   status               217472 non-null  object        \n",
      " 4   founded_at           109956 non-null  datetime64[ns]\n",
      " 5   closed_at            3449 non-null    datetime64[ns]\n",
      " 6   domain               147159 non-null  object        \n",
      " 7   network_username     95534 non-null   object        \n",
      " 8   country_code         108607 non-null  object        \n",
      " 9   investment_rounds    217472 non-null  float64       \n",
      " 10  funding_rounds       217472 non-null  float64       \n",
      " 11  funding_total        217472 non-null  float64       \n",
      " 12  milestones           217472 non-null  float64       \n",
      " 13  funding_round_id     52928 non-null   float64       \n",
      " 14  company_id           52928 non-null   float64       \n",
      " 15  funded_at            52680 non-null   datetime64[ns]\n",
      " 16  funding_round_type   52928 non-null   object        \n",
      " 17  raised_amount        52928 non-null   float64       \n",
      " 18  pre_money_valuation  52928 non-null   float64       \n",
      " 19  participants         52928 non-null   float64       \n",
      " 20  is_first_round       52928 non-null   float64       \n",
      " 21  is_last_round        52928 non-null   float64       \n",
      "dtypes: datetime64[ns](3), float64(12), object(7)\n",
      "memory usage: 36.6+ MB\n",
      "None\n",
      "company_ID                302\n",
      "name                      302\n",
      "category_code           73888\n",
      "status                    302\n",
      "founded_at             107818\n",
      "closed_at              214325\n",
      "domain                  70615\n",
      "network_username       122240\n",
      "country_code           109167\n",
      "investment_rounds         302\n",
      "funding_rounds            302\n",
      "funding_total             302\n",
      "milestones                302\n",
      "funding_round_id       164846\n",
      "company_id             164846\n",
      "funded_at              165094\n",
      "funding_round_type     164846\n",
      "raised_amount          164846\n",
      "pre_money_valuation    164846\n",
      "participants           164846\n",
      "is_first_round         164846\n",
      "is_last_round          164846\n",
      "dtype: int64\n",
      "company_ID             0.001387\n",
      "name                   0.001387\n",
      "category_code          0.339288\n",
      "status                 0.001387\n",
      "founded_at             0.495091\n",
      "closed_at              0.984162\n",
      "domain                 0.324258\n",
      "network_username       0.561316\n",
      "country_code           0.501286\n",
      "investment_rounds      0.001387\n",
      "funding_rounds         0.001387\n",
      "funding_total          0.001387\n",
      "milestones             0.001387\n",
      "funding_round_id       0.756959\n",
      "company_id             0.756959\n",
      "funded_at              0.758098\n",
      "funding_round_type     0.756959\n",
      "raised_amount          0.756959\n",
      "pre_money_valuation    0.756959\n",
      "participants           0.756959\n",
      "is_first_round         0.756959\n",
      "is_last_round          0.756959\n",
      "dtype: float64\n",
      "<class 'pandas.core.frame.DataFrame'>\n",
      "RangeIndex: 226709 entries, 0 to 226708\n",
      "Data columns (total 5 columns):\n",
      " #   Column            Non-Null Count   Dtype  \n",
      "---  ------            --------------   -----  \n",
      " 0   id                226709 non-null  int64  \n",
      " 1   first_name        226704 non-null  object \n",
      " 2   last_name         226708 non-null  object \n",
      " 3   company_id        34615 non-null   float64\n",
      " 4   network_username  38867 non-null   object \n",
      "dtypes: float64(1), int64(1), object(3)\n",
      "memory usage: 8.6+ MB\n",
      "None\n",
      "id                       0\n",
      "first_name               5\n",
      "last_name                1\n",
      "company_id          192094\n",
      "network_username    187842\n",
      "dtype: int64\n",
      "id                  0.000000\n",
      "first_name          0.000022\n",
      "last_name           0.000004\n",
      "company_id          0.847315\n",
      "network_username    0.828560\n",
      "dtype: float64\n",
      "<class 'pandas.core.frame.DataFrame'>\n",
      "RangeIndex: 109610 entries, 0 to 109609\n",
      "Data columns (total 4 columns):\n",
      " #   Column        Non-Null Count   Dtype         \n",
      "---  ------        --------------   -----         \n",
      " 0   id            109610 non-null  int64         \n",
      " 1   person_id     109610 non-null  int64         \n",
      " 2   instituition  109555 non-null  object        \n",
      " 3   graduated_at  58054 non-null   datetime64[ns]\n",
      "dtypes: datetime64[ns](1), int64(2), object(1)\n",
      "memory usage: 3.3+ MB\n",
      "None\n",
      "id                  0\n",
      "person_id           0\n",
      "instituition       55\n",
      "graduated_at    51556\n",
      "dtype: int64\n",
      "id              0.000000\n",
      "person_id       0.000000\n",
      "instituition    0.000502\n",
      "graduated_at    0.470359\n",
      "dtype: float64\n",
      "<class 'pandas.core.frame.DataFrame'>\n",
      "RangeIndex: 109610 entries, 0 to 109609\n",
      "Data columns (total 4 columns):\n",
      " #   Column       Non-Null Count   Dtype \n",
      "---  ------       --------------   ----- \n",
      " 0   id           109610 non-null  int64 \n",
      " 1   object_id    109610 non-null  object\n",
      " 2   degree_type  98392 non-null   object\n",
      " 3   subject      81298 non-null   object\n",
      "dtypes: int64(1), object(3)\n",
      "memory usage: 3.3+ MB\n",
      "None\n",
      "id                 0\n",
      "object_id          0\n",
      "degree_type    11218\n",
      "subject        28312\n",
      "dtype: int64\n",
      "id             0.000000\n",
      "object_id      0.000000\n",
      "degree_type    0.102345\n",
      "subject        0.258298\n",
      "dtype: float64\n"
     ]
    }
   ],
   "source": [
    "for i in [acquisition, company_and_rounds, people, education, degrees]:\n",
    "    print(i.info())\n",
    "    print(i.isna().sum())\n",
    "    print(i.isna().sum()/i.shape[0])"
   ]
  },
  {
   "cell_type": "markdown",
   "metadata": {},
   "source": [
    "- В таблице **acquisition** всего 9407 строк и 80% пропусков в столбце `term_code`, но в дальнейшем анализе данный столбец не будет играть весомой роли\n",
    "\n",
    "- Самая большая по количеству строк и столбцов таблица **company_and_rounds** она содержит 217774 строки и 22 столбца\n",
    "   - В столбцах `funding_round_id`,`company_id`,`funded_at`,`funding_round_type`, `raised_amount`,`pre_money_valuation`,`participants`,`is_first_round`, `is_last_round` - 75% пропусокв\n",
    "   - В столбцах `category_code` - 34%, `founded_at` - 50%, `closed_at` - 98%, `domain` - 32%, `network_username` - 56%, `country_code`  - 50%\n",
    "\n",
    "- В таблице **people** всего 226709 строк около 80% пропусков в столбцах `company_id`, `network_username`\n",
    "\n",
    "- В таблице **df_education** всего 109610 строк и 50% пропусков в столбце `graduated_at`\n",
    "\n",
    "- В таблице **df_degrees** всего 109610 строк и пропуски в столбцах `degree_type`- 10%, `subject`-25%"
   ]
  },
  {
   "cell_type": "markdown",
   "metadata": {},
   "source": [
    "Визуализируем пропуски в таблице `company_and_rounds`"
   ]
  },
  {
   "cell_type": "code",
   "execution_count": 94,
   "metadata": {},
   "outputs": [
    {
     "data": {
      "image/png": "[encoded data removed]",
      "text/plain": [
       "<Figure size 864x432 with 1 Axes>"
      ]
     },
     "metadata": {
      "needs_background": "light"
     },
     "output_type": "display_data"
    }
   ],
   "source": [
    "# Количество пропусков по столбцам\n",
    "missing_values = company_and_rounds.isnull().sum()\n",
    "\n",
    "# Визуализация\n",
    "plt.figure(figsize=(12, 6))\n",
    "missing_values.plot(kind='bar')\n",
    "plt.title(\"Количество пропусков по столбцам в company_and_rounds\")\n",
    "plt.ylabel(\"Количество пропусков\")\n",
    "plt.xlabel(\"Столбцы\")\n",
    "plt.xticks(rotation=45)\n",
    "plt.show()"
   ]
  },
  {
   "cell_type": "markdown",
   "metadata": {},
   "source": [
    "После визуализации пропусков в таблице **company_and_rounds** можно заметить, что пропуски в столбцах `funding_round_id`, `company_id`, `funded_at`, `funding_round_type`,`raised_amount`, `pre_money_valuation`, `participants`, `is_first_round`, `is_last_round` распределены одинаково. Это может быть связано с тем, что определенные компании не участвовали в финансировании."
   ]
  },
  {
   "cell_type": "markdown",
   "metadata": {},
   "source": [
    "Так как данных в каждой таблице достаточное количество, то пропуски, которые присутствуют во многих таблицах можно игнорировать, так как данных для анализа все еще достаточно."
   ]
  },
  {
   "cell_type": "markdown",
   "metadata": {},
   "source": [
    "\n",
    "<div class=\"alert alert-success\">\n",
    "<font size=\"5\"><b>Комментарий ревьюера</b></font>\n",
    "\n",
    "\n",
    "\n",
    "Успех 👍:\n",
    "\n",
    "\n",
    "\n",
    "- Информация о пропусках получена \n",
    "\n",
    "       \n",
    "- Есть описание возможных причин их появления,  это важно,  потому что поможет в будущем собирать лучше информацию,  а также для решения   пунктов проекта ниже   \n",
    "\n",
    "       \n",
    "    \n",
    "<div class=\"alert alert-warning\">\n",
    " \n",
    "\n",
    "Совет 🤔:\n",
    "    \n",
    "    \n",
    "     \n",
    "    \n",
    "- Можно визуализировать пропуски с помощью библиотеки [missingno](https://www.geeksforgeeks.org/python-visualize-missing-values-nan-values-using-missingno-library/), выглядит красиво\n",
    "    \n",
    "Также мы поймём структуру пропусков в company_and_rounds. Посоветовал бы использовать  msno.matrix(),  и там бы мы увидели кластеры пропусков. \n",
    "    \n",
    "Также у missingno есть дополнительный функционал\n",
    "\n",
    "    msno.heatmap(df)\n",
    "\n",
    "Так можно посмотреть на корреляцию между пропусками в разных столбцах, это может подсказать как образовались многие наши пропуски\n",
    "\n",
    " "
   ]
  },
  {
   "cell_type": "markdown",
   "metadata": {
    "id": "u60cHsn6rJg1"
   },
   "source": [
    "## Шаг 2. Предобработка данных, предварительное исследование"
   ]
  },
  {
   "cell_type": "markdown",
   "metadata": {
    "id": "g2bHIIjcrJg1"
   },
   "source": [
    "\n",
    "### 2.1. Раунды финансирования по годам\n",
    "\n",
    "Задание необходимо выполнить без объединения и дополнительной предобработки на основе датасета `company_and_rounds.csv`.\n",
    "\n",
    "- Составьте сводную таблицу по годам, в которой на основании столбца `raised_amount` для каждого года указан:\n",
    "    - типичный размер средств, выделяемый в рамках одного раунда;\n",
    "    - общее количество раундов финансирования за этот год.\n",
    "    \n",
    "- Оставьте в таблице информацию только для тех лет, для которых есть информация о более чем 50 раундах финансирования.\n",
    "- На основе получившейся таблицы постройте график, который будет отражать динамику типичного размера средств, которые стартапы получали в рамках одного раунда финансирования.\n",
    "\n",
    "На основе полученных данных ответьте на вопросы:\n",
    "\n",
    "- В каком году типичный размер собранных в рамках одного раунда средств был максимален?\n",
    "- Какая тенденция по количеству раундов и выделяемых в рамках каждого раунда средств наблюдалась в 2013 году?"
   ]
  },
  {
   "cell_type": "code",
   "execution_count": 95,
   "metadata": {
    "id": "Cf5IjfOQrJg1",
    "vscode": {
     "languageId": "plaintext"
    }
   },
   "outputs": [
    {
     "data": {
      "text/html": [
       "<div>\n",
       "<style scoped>\n",
       "    .dataframe tbody tr th:only-of-type {\n",
       "        vertical-align: middle;\n",
       "    }\n",
       "\n",
       "    .dataframe tbody tr th {\n",
       "        vertical-align: top;\n",
       "    }\n",
       "\n",
       "    .dataframe thead th {\n",
       "        text-align: right;\n",
       "    }\n",
       "</style>\n",
       "<table border=\"1\" class=\"dataframe\">\n",
       "  <thead>\n",
       "    <tr style=\"text-align: right;\">\n",
       "      <th></th>\n",
       "      <th>company_ID</th>\n",
       "      <th>name</th>\n",
       "      <th>category_code</th>\n",
       "      <th>status</th>\n",
       "      <th>founded_at</th>\n",
       "      <th>closed_at</th>\n",
       "      <th>domain</th>\n",
       "      <th>network_username</th>\n",
       "      <th>country_code</th>\n",
       "      <th>investment_rounds</th>\n",
       "      <th>...</th>\n",
       "      <th>funding_round_id</th>\n",
       "      <th>company_id</th>\n",
       "      <th>funded_at</th>\n",
       "      <th>funding_round_type</th>\n",
       "      <th>raised_amount</th>\n",
       "      <th>pre_money_valuation</th>\n",
       "      <th>participants</th>\n",
       "      <th>is_first_round</th>\n",
       "      <th>is_last_round</th>\n",
       "      <th>funded_year</th>\n",
       "    </tr>\n",
       "  </thead>\n",
       "  <tbody>\n",
       "    <tr>\n",
       "      <th>0</th>\n",
       "      <td>1.0</td>\n",
       "      <td>Wetpaint</td>\n",
       "      <td>web</td>\n",
       "      <td>operating</td>\n",
       "      <td>2005-10-17</td>\n",
       "      <td>NaT</td>\n",
       "      <td>wetpaint-inc.com</td>\n",
       "      <td>BachelrWetpaint</td>\n",
       "      <td>USA</td>\n",
       "      <td>0.0</td>\n",
       "      <td>...</td>\n",
       "      <td>888.0</td>\n",
       "      <td>1.0</td>\n",
       "      <td>2005-10-01</td>\n",
       "      <td>series-a</td>\n",
       "      <td>5250000.0</td>\n",
       "      <td>0.0</td>\n",
       "      <td>2.0</td>\n",
       "      <td>0.0</td>\n",
       "      <td>1.0</td>\n",
       "      <td>2005</td>\n",
       "    </tr>\n",
       "    <tr>\n",
       "      <th>1</th>\n",
       "      <td>1.0</td>\n",
       "      <td>Wetpaint</td>\n",
       "      <td>web</td>\n",
       "      <td>operating</td>\n",
       "      <td>2005-10-17</td>\n",
       "      <td>NaT</td>\n",
       "      <td>wetpaint-inc.com</td>\n",
       "      <td>BachelrWetpaint</td>\n",
       "      <td>USA</td>\n",
       "      <td>0.0</td>\n",
       "      <td>...</td>\n",
       "      <td>889.0</td>\n",
       "      <td>1.0</td>\n",
       "      <td>2007-01-01</td>\n",
       "      <td>series-b</td>\n",
       "      <td>9500000.0</td>\n",
       "      <td>0.0</td>\n",
       "      <td>3.0</td>\n",
       "      <td>0.0</td>\n",
       "      <td>0.0</td>\n",
       "      <td>2007</td>\n",
       "    </tr>\n",
       "    <tr>\n",
       "      <th>2</th>\n",
       "      <td>1.0</td>\n",
       "      <td>Wetpaint</td>\n",
       "      <td>web</td>\n",
       "      <td>operating</td>\n",
       "      <td>2005-10-17</td>\n",
       "      <td>NaT</td>\n",
       "      <td>wetpaint-inc.com</td>\n",
       "      <td>BachelrWetpaint</td>\n",
       "      <td>USA</td>\n",
       "      <td>0.0</td>\n",
       "      <td>...</td>\n",
       "      <td>2312.0</td>\n",
       "      <td>1.0</td>\n",
       "      <td>2008-05-19</td>\n",
       "      <td>series-c+</td>\n",
       "      <td>25000000.0</td>\n",
       "      <td>0.0</td>\n",
       "      <td>4.0</td>\n",
       "      <td>1.0</td>\n",
       "      <td>0.0</td>\n",
       "      <td>2008</td>\n",
       "    </tr>\n",
       "    <tr>\n",
       "      <th>3</th>\n",
       "      <td>10.0</td>\n",
       "      <td>Flektor</td>\n",
       "      <td>games_video</td>\n",
       "      <td>acquired</td>\n",
       "      <td>NaT</td>\n",
       "      <td>NaT</td>\n",
       "      <td>flektor.com</td>\n",
       "      <td>NaN</td>\n",
       "      <td>USA</td>\n",
       "      <td>0.0</td>\n",
       "      <td>...</td>\n",
       "      <td>NaN</td>\n",
       "      <td>NaN</td>\n",
       "      <td>NaT</td>\n",
       "      <td>NaN</td>\n",
       "      <td>NaN</td>\n",
       "      <td>NaN</td>\n",
       "      <td>NaN</td>\n",
       "      <td>NaN</td>\n",
       "      <td>NaN</td>\n",
       "      <td>&lt;NA&gt;</td>\n",
       "    </tr>\n",
       "    <tr>\n",
       "      <th>4</th>\n",
       "      <td>100.0</td>\n",
       "      <td>There</td>\n",
       "      <td>games_video</td>\n",
       "      <td>acquired</td>\n",
       "      <td>NaT</td>\n",
       "      <td>NaT</td>\n",
       "      <td>there.com</td>\n",
       "      <td>NaN</td>\n",
       "      <td>USA</td>\n",
       "      <td>0.0</td>\n",
       "      <td>...</td>\n",
       "      <td>NaN</td>\n",
       "      <td>NaN</td>\n",
       "      <td>NaT</td>\n",
       "      <td>NaN</td>\n",
       "      <td>NaN</td>\n",
       "      <td>NaN</td>\n",
       "      <td>NaN</td>\n",
       "      <td>NaN</td>\n",
       "      <td>NaN</td>\n",
       "      <td>&lt;NA&gt;</td>\n",
       "    </tr>\n",
       "  </tbody>\n",
       "</table>\n",
       "<p>5 rows × 23 columns</p>\n",
       "</div>"
      ],
      "text/plain": [
       "   company_ID      name category_code     status founded_at closed_at  \\\n",
       "0         1.0  Wetpaint           web  operating 2005-10-17       NaT   \n",
       "1         1.0  Wetpaint           web  operating 2005-10-17       NaT   \n",
       "2         1.0  Wetpaint           web  operating 2005-10-17       NaT   \n",
       "3        10.0   Flektor   games_video   acquired        NaT       NaT   \n",
       "4       100.0     There   games_video   acquired        NaT       NaT   \n",
       "\n",
       "             domain network_username country_code  investment_rounds  ...  \\\n",
       "0  wetpaint-inc.com  BachelrWetpaint          USA                0.0  ...   \n",
       "1  wetpaint-inc.com  BachelrWetpaint          USA                0.0  ...   \n",
       "2  wetpaint-inc.com  BachelrWetpaint          USA                0.0  ...   \n",
       "3       flektor.com              NaN          USA                0.0  ...   \n",
       "4         there.com              NaN          USA                0.0  ...   \n",
       "\n",
       "   funding_round_id  company_id  funded_at  funding_round_type  raised_amount  \\\n",
       "0             888.0         1.0 2005-10-01            series-a      5250000.0   \n",
       "1             889.0         1.0 2007-01-01            series-b      9500000.0   \n",
       "2            2312.0         1.0 2008-05-19           series-c+     25000000.0   \n",
       "3               NaN         NaN        NaT                 NaN            NaN   \n",
       "4               NaN         NaN        NaT                 NaN            NaN   \n",
       "\n",
       "  pre_money_valuation participants  is_first_round  is_last_round  funded_year  \n",
       "0                 0.0          2.0             0.0            1.0         2005  \n",
       "1                 0.0          3.0             0.0            0.0         2007  \n",
       "2                 0.0          4.0             1.0            0.0         2008  \n",
       "3                 NaN          NaN             NaN            NaN         <NA>  \n",
       "4                 NaN          NaN             NaN            NaN         <NA>  \n",
       "\n",
       "[5 rows x 23 columns]"
      ]
     },
     "execution_count": 95,
     "metadata": {},
     "output_type": "execute_result"
    }
   ],
   "source": [
    "# Выделим из даты `funded_at` год\n",
    "company_and_rounds['funded_year'] = company_and_rounds['funded_at'].dt.year.astype('Int64')\n",
    "company_and_rounds.head()"
   ]
  },
  {
   "cell_type": "code",
   "execution_count": 96,
   "metadata": {
    "id": "8Fbz6KmzFdYP"
   },
   "outputs": [
    {
     "data": {
      "text/html": [
       "<div>\n",
       "<style scoped>\n",
       "    .dataframe tbody tr th:only-of-type {\n",
       "        vertical-align: middle;\n",
       "    }\n",
       "\n",
       "    .dataframe tbody tr th {\n",
       "        vertical-align: top;\n",
       "    }\n",
       "\n",
       "    .dataframe thead th {\n",
       "        text-align: right;\n",
       "    }\n",
       "</style>\n",
       "<table border=\"1\" class=\"dataframe\">\n",
       "  <thead>\n",
       "    <tr style=\"text-align: right;\">\n",
       "      <th></th>\n",
       "      <th>funded_year</th>\n",
       "      <th>funding_round_id</th>\n",
       "      <th>raised_amount</th>\n",
       "    </tr>\n",
       "  </thead>\n",
       "  <tbody>\n",
       "    <tr>\n",
       "      <th>15</th>\n",
       "      <td>1999</td>\n",
       "      <td>76</td>\n",
       "      <td>2000000.0</td>\n",
       "    </tr>\n",
       "    <tr>\n",
       "      <th>16</th>\n",
       "      <td>2000</td>\n",
       "      <td>125</td>\n",
       "      <td>4200000.0</td>\n",
       "    </tr>\n",
       "    <tr>\n",
       "      <th>17</th>\n",
       "      <td>2001</td>\n",
       "      <td>96</td>\n",
       "      <td>3000000.0</td>\n",
       "    </tr>\n",
       "    <tr>\n",
       "      <th>18</th>\n",
       "      <td>2002</td>\n",
       "      <td>116</td>\n",
       "      <td>4200000.0</td>\n",
       "    </tr>\n",
       "    <tr>\n",
       "      <th>19</th>\n",
       "      <td>2003</td>\n",
       "      <td>159</td>\n",
       "      <td>3000000.0</td>\n",
       "    </tr>\n",
       "    <tr>\n",
       "      <th>20</th>\n",
       "      <td>2004</td>\n",
       "      <td>291</td>\n",
       "      <td>5000000.0</td>\n",
       "    </tr>\n",
       "    <tr>\n",
       "      <th>21</th>\n",
       "      <td>2005</td>\n",
       "      <td>1633</td>\n",
       "      <td>5500000.0</td>\n",
       "    </tr>\n",
       "    <tr>\n",
       "      <th>22</th>\n",
       "      <td>2006</td>\n",
       "      <td>2436</td>\n",
       "      <td>5000000.0</td>\n",
       "    </tr>\n",
       "    <tr>\n",
       "      <th>23</th>\n",
       "      <td>2007</td>\n",
       "      <td>3279</td>\n",
       "      <td>3973320.0</td>\n",
       "    </tr>\n",
       "    <tr>\n",
       "      <th>24</th>\n",
       "      <td>2008</td>\n",
       "      <td>3774</td>\n",
       "      <td>3110000.0</td>\n",
       "    </tr>\n",
       "    <tr>\n",
       "      <th>25</th>\n",
       "      <td>2009</td>\n",
       "      <td>4151</td>\n",
       "      <td>2000000.0</td>\n",
       "    </tr>\n",
       "    <tr>\n",
       "      <th>26</th>\n",
       "      <td>2010</td>\n",
       "      <td>6221</td>\n",
       "      <td>1602500.0</td>\n",
       "    </tr>\n",
       "    <tr>\n",
       "      <th>27</th>\n",
       "      <td>2011</td>\n",
       "      <td>9204</td>\n",
       "      <td>1200000.0</td>\n",
       "    </tr>\n",
       "    <tr>\n",
       "      <th>28</th>\n",
       "      <td>2012</td>\n",
       "      <td>9970</td>\n",
       "      <td>1000000.0</td>\n",
       "    </tr>\n",
       "    <tr>\n",
       "      <th>29</th>\n",
       "      <td>2013</td>\n",
       "      <td>11072</td>\n",
       "      <td>1200000.0</td>\n",
       "    </tr>\n",
       "  </tbody>\n",
       "</table>\n",
       "</div>"
      ],
      "text/plain": [
       "    funded_year  funding_round_id  raised_amount\n",
       "15         1999                76      2000000.0\n",
       "16         2000               125      4200000.0\n",
       "17         2001                96      3000000.0\n",
       "18         2002               116      4200000.0\n",
       "19         2003               159      3000000.0\n",
       "20         2004               291      5000000.0\n",
       "21         2005              1633      5500000.0\n",
       "22         2006              2436      5000000.0\n",
       "23         2007              3279      3973320.0\n",
       "24         2008              3774      3110000.0\n",
       "25         2009              4151      2000000.0\n",
       "26         2010              6221      1602500.0\n",
       "27         2011              9204      1200000.0\n",
       "28         2012              9970      1000000.0\n",
       "29         2013             11072      1200000.0"
      ]
     },
     "execution_count": 96,
     "metadata": {},
     "output_type": "execute_result"
    }
   ],
   "source": [
    "# С помощью groupby составим сводную таблицу\n",
    "pivot_company_and_rounds = company_and_rounds.groupby('funded_year').agg({'funding_round_id': 'nunique' , 'raised_amount': 'median'}).reset_index()\n",
    "# Выделем года с более чем 50 раундами финансирования\n",
    "pivot_company_and_rounds = pivot_company_and_rounds[pivot_company_and_rounds['funding_round_id'] > 50]\n",
    "pivot_company_and_rounds"
   ]
  },
  {
   "cell_type": "code",
   "execution_count": 97,
   "metadata": {
    "id": "Z92DzKMMFdKW"
   },
   "outputs": [
    {
     "data": {
      "image/png": "[encoded data removed]",
      "text/plain": [
       "<Figure size 720x432 with 1 Axes>"
      ]
     },
     "metadata": {
      "needs_background": "light"
     },
     "output_type": "display_data"
    }
   ],
   "source": [
    "# Переводим raised_amount в миллионы долларов для читаемости\n",
    "pivot_company_and_rounds['raised_amount_millions'] = pivot_company_and_rounds['raised_amount'] / 1000000\n",
    "\n",
    "# Вычисляем скользящую среднюю\n",
    "pivot_company_and_rounds['rolling_mean'] = pivot_company_and_rounds['raised_amount_millions'].rolling(window=2).mean()\n",
    "\n",
    "# Строим линейный график\n",
    "plt.figure(figsize=(10, 6))\n",
    "plt.plot(pivot_company_and_rounds['funded_year'], pivot_company_and_rounds['raised_amount_millions'], label='Типичный размер финансирования')\n",
    "plt.plot(pivot_company_and_rounds['funded_year'], pivot_company_and_rounds['rolling_mean'], label='Скользящая средняя (2 года)', linestyle='--')\n",
    "\n",
    "plt.xlabel('Год')\n",
    "plt.ylabel('Типичный размер финансирования (в млн долларов)')\n",
    "plt.title('Динамика размера финансирования по годам')\n",
    "plt.legend()\n",
    "plt.grid(True)\n",
    "plt.show()"
   ]
  },
  {
   "cell_type": "markdown",
   "metadata": {},
   "source": [
    "- В 2005 году типичный размер собранных за один раунд был максимален\n",
    "- В 2013 году число раундов и размер финансирования выросли по сравнению с прошлым годом"
   ]
  },
  {
   "cell_type": "markdown",
   "metadata": {},
   "source": [
    "   \n",
    "    \n",
    "<div class=\"alert alert-success\">\n",
    "<font size=\"5\"><b>Комментарий ревьюера</b></font>\n",
    "\n",
    "\n",
    "\n",
    "Успех 👍:\n",
    "\n",
    "\n",
    "\n",
    "- Верно что использована медиана, корректно подсчитано количество раундов \n",
    "  \n",
    "    \n",
    "- График оформлен хорошо - надписи по осям, заголовок - на месте. + за скользящую среднюю\n",
    "  \n",
    "    \n",
    "- Выводы соответствуют графику \n",
    "    \n",
    "\n",
    "    \n",
    "<div class=\"alert alert-warning\">\n",
    "\n",
    "Совет 🤔:\n",
    "\n",
    "    \n",
    "    \n",
    "  \n",
    " \n",
    "- Можно построить дополнительный график для количества раундов   (Можно даже совместить две линии на одном графике с помощью twinx)\n",
    "    \n",
    "    \n",
    "\n",
    "- Предложил бы тебе углубить анализ связав рост количества раундов со снижение финансирования за райнд, выдвинув гипотезу   которая бы обьеденила эти две разнонаправленные тенденции в одно. \n",
    "    \n",
    "      \n",
    "    \n",
    "    \n",
    "- Кстати тут можно добавить коэффициент дефляции,  ведь покупательная способность одного доллара в 2000 и 2013 года разная. Такой небольшой экономический аспект   (в экономике часто приводят прошлую цену в настоящую, для более корректного сравнения)       \n",
    "    \n",
    "    \n",
    "     "
   ]
  },
  {
   "cell_type": "markdown",
   "metadata": {
    "id": "45if1en1rJg2"
   },
   "source": [
    "\n",
    "### 2.2. Люди и их образование\n",
    "\n",
    "Заказчик хочет понять, зависит ли полнота сведений о сотрудниках (например, об их образовании) от размера компаний.\n",
    "\n",
    "- Оцените, насколько информация об образовании сотрудников полна. Используя датасеты `people.csv` и `education.csv`, разделите все компании на несколько групп по количеству сотрудников и оцените среднюю долю сотрудников без информации об образовании в каждой из групп. Обоснуйте выбранные границы групп.\n",
    "- Оцените, возможно ли для выполнения задания присоединить к этим таблицам ещё и таблицу `degrees.csv`."
   ]
  },
  {
   "cell_type": "code",
   "execution_count": 98,
   "metadata": {
    "id": "psPO7C4MrJg2",
    "vscode": {
     "languageId": "plaintext"
    }
   },
   "outputs": [
    {
     "data": {
      "text/html": [
       "<div>\n",
       "<style scoped>\n",
       "    .dataframe tbody tr th:only-of-type {\n",
       "        vertical-align: middle;\n",
       "    }\n",
       "\n",
       "    .dataframe tbody tr th {\n",
       "        vertical-align: top;\n",
       "    }\n",
       "\n",
       "    .dataframe thead th {\n",
       "        text-align: right;\n",
       "    }\n",
       "</style>\n",
       "<table border=\"1\" class=\"dataframe\">\n",
       "  <thead>\n",
       "    <tr style=\"text-align: right;\">\n",
       "      <th></th>\n",
       "      <th>id_people</th>\n",
       "      <th>first_name</th>\n",
       "      <th>last_name</th>\n",
       "      <th>company_id</th>\n",
       "      <th>network_username</th>\n",
       "      <th>id_education</th>\n",
       "      <th>person_id</th>\n",
       "      <th>instituition</th>\n",
       "      <th>graduated_at</th>\n",
       "    </tr>\n",
       "  </thead>\n",
       "  <tbody>\n",
       "    <tr>\n",
       "      <th>0</th>\n",
       "      <td>10</td>\n",
       "      <td>Mark</td>\n",
       "      <td>Zuckerberg</td>\n",
       "      <td>5.0</td>\n",
       "      <td>NaN</td>\n",
       "      <td>2415.0</td>\n",
       "      <td>10.0</td>\n",
       "      <td>Harvard University</td>\n",
       "      <td>NaT</td>\n",
       "    </tr>\n",
       "    <tr>\n",
       "      <th>1</th>\n",
       "      <td>100</td>\n",
       "      <td>Peter</td>\n",
       "      <td>Lester</td>\n",
       "      <td>27.0</td>\n",
       "      <td>NaN</td>\n",
       "      <td>NaN</td>\n",
       "      <td>NaN</td>\n",
       "      <td>NaN</td>\n",
       "      <td>NaT</td>\n",
       "    </tr>\n",
       "    <tr>\n",
       "      <th>2</th>\n",
       "      <td>1000</td>\n",
       "      <td>Dr. Steven</td>\n",
       "      <td>E. Saunders</td>\n",
       "      <td>292.0</td>\n",
       "      <td>NaN</td>\n",
       "      <td>NaN</td>\n",
       "      <td>NaN</td>\n",
       "      <td>NaN</td>\n",
       "      <td>NaT</td>\n",
       "    </tr>\n",
       "    <tr>\n",
       "      <th>3</th>\n",
       "      <td>10000</td>\n",
       "      <td>Neil</td>\n",
       "      <td>Capel</td>\n",
       "      <td>2526.0</td>\n",
       "      <td>NaN</td>\n",
       "      <td>NaN</td>\n",
       "      <td>NaN</td>\n",
       "      <td>NaN</td>\n",
       "      <td>NaT</td>\n",
       "    </tr>\n",
       "    <tr>\n",
       "      <th>4</th>\n",
       "      <td>100000</td>\n",
       "      <td>Sue</td>\n",
       "      <td>Pilsch</td>\n",
       "      <td>NaN</td>\n",
       "      <td>NaN</td>\n",
       "      <td>NaN</td>\n",
       "      <td>NaN</td>\n",
       "      <td>NaN</td>\n",
       "      <td>NaT</td>\n",
       "    </tr>\n",
       "  </tbody>\n",
       "</table>\n",
       "</div>"
      ],
      "text/plain": [
       "   id_people  first_name    last_name  company_id network_username  \\\n",
       "0         10        Mark   Zuckerberg         5.0              NaN   \n",
       "1        100       Peter       Lester        27.0              NaN   \n",
       "2       1000  Dr. Steven  E. Saunders       292.0              NaN   \n",
       "3      10000        Neil        Capel      2526.0              NaN   \n",
       "4     100000         Sue       Pilsch         NaN              NaN   \n",
       "\n",
       "   id_education  person_id        instituition graduated_at  \n",
       "0        2415.0       10.0  Harvard University          NaT  \n",
       "1           NaN        NaN                 NaN          NaT  \n",
       "2           NaN        NaN                 NaN          NaT  \n",
       "3           NaN        NaN                 NaN          NaT  \n",
       "4           NaN        NaN                 NaN          NaT  "
      ]
     },
     "execution_count": 98,
     "metadata": {},
     "output_type": "execute_result"
    }
   ],
   "source": [
    "# Объединим таблицы 'people' и 'education'\n",
    "df_mer_ep = people.merge(education, left_on = 'id', right_on = 'person_id',  how = 'left', suffixes = ('_people','_education'))\n",
    "\n",
    "# Так как нам важно посчитать количесвто сотрудников с образованием, то людей с двумя и более образованиями можно удалить из рассматриваемого датафрейма\n",
    "df_mer_ep = df_mer_ep.drop_duplicates(subset=['first_name', 'last_name', 'person_id', 'company_id'])\n",
    "df_mer_ep.head()"
   ]
  },
  {
   "cell_type": "markdown",
   "metadata": {},
   "source": [
    " \n",
    "\n",
    "\n",
    "<div class=\"alert alert-success\">\n",
    "<font size=\"5\"><b>Комментарий ревьюера</b></font>\n",
    "\n",
    "\n",
    "\n",
    "Успех 👍:\n",
    "\n",
    "\n",
    "\n",
    "👍Объединение проведено верно, + за suffixes\n",
    " \n",
    "\n",
    "<div class=\"alert alert-warning\">\n",
    " \n",
    "\n",
    "Совет 🤔:\n",
    "\n",
    "\n",
    " \n",
    "\n",
    "\n",
    "- Если посмотреть на сотрудников company_id' == 1,  то обнаружишь там несколько раз Kevin\tFlaherty,  получается ты одного и того же человека посчитала два раза.  И в стартапе в котором на самом деле два человека Alex Weinstein и Kevin Flaherty, у тебя 3. И в результате наши данные немножко исказятся\n",
    "\n",
    "    \n",
    " \n",
    "    \n",
    "    \n",
    "    \n",
    "    \n",
    "    \n",
    "    \n",
    " \n",
    "    \n"
   ]
  },
  {
   "cell_type": "code",
   "execution_count": 99,
   "metadata": {
    "id": "BThTjpLqFcsm"
   },
   "outputs": [
    {
     "data": {
      "text/html": [
       "<div>\n",
       "<style scoped>\n",
       "    .dataframe tbody tr th:only-of-type {\n",
       "        vertical-align: middle;\n",
       "    }\n",
       "\n",
       "    .dataframe tbody tr th {\n",
       "        vertical-align: top;\n",
       "    }\n",
       "\n",
       "    .dataframe thead th {\n",
       "        text-align: right;\n",
       "    }\n",
       "</style>\n",
       "<table border=\"1\" class=\"dataframe\">\n",
       "  <thead>\n",
       "    <tr style=\"text-align: right;\">\n",
       "      <th></th>\n",
       "      <th>id_people</th>\n",
       "      <th>first_name</th>\n",
       "      <th>last_name</th>\n",
       "      <th>company_id</th>\n",
       "      <th>network_username</th>\n",
       "      <th>id_education</th>\n",
       "      <th>person_id</th>\n",
       "      <th>instituition</th>\n",
       "      <th>graduated_at</th>\n",
       "      <th>employee_count</th>\n",
       "    </tr>\n",
       "  </thead>\n",
       "  <tbody>\n",
       "    <tr>\n",
       "      <th>182830</th>\n",
       "      <td>57913</td>\n",
       "      <td>David</td>\n",
       "      <td>Krane</td>\n",
       "      <td>59.0</td>\n",
       "      <td>kraneland</td>\n",
       "      <td>69501.0</td>\n",
       "      <td>57913.0</td>\n",
       "      <td>Indiana University Bloomington</td>\n",
       "      <td>1994-01-01</td>\n",
       "      <td>244.0</td>\n",
       "    </tr>\n",
       "    <tr>\n",
       "      <th>187498</th>\n",
       "      <td>6297</td>\n",
       "      <td>Marissa</td>\n",
       "      <td>Mayer</td>\n",
       "      <td>59.0</td>\n",
       "      <td>marissamayer</td>\n",
       "      <td>718.0</td>\n",
       "      <td>6297.0</td>\n",
       "      <td>Stanford University</td>\n",
       "      <td>1997-01-01</td>\n",
       "      <td>244.0</td>\n",
       "    </tr>\n",
       "    <tr>\n",
       "      <th>65392</th>\n",
       "      <td>179177</td>\n",
       "      <td>Nima</td>\n",
       "      <td>Rahnemoon</td>\n",
       "      <td>59.0</td>\n",
       "      <td>nimstr</td>\n",
       "      <td>NaN</td>\n",
       "      <td>NaN</td>\n",
       "      <td>NaN</td>\n",
       "      <td>NaT</td>\n",
       "      <td>244.0</td>\n",
       "    </tr>\n",
       "    <tr>\n",
       "      <th>65574</th>\n",
       "      <td>179353</td>\n",
       "      <td>Raj</td>\n",
       "      <td>Sarkar</td>\n",
       "      <td>59.0</td>\n",
       "      <td>NaN</td>\n",
       "      <td>NaN</td>\n",
       "      <td>NaN</td>\n",
       "      <td>NaN</td>\n",
       "      <td>NaT</td>\n",
       "      <td>244.0</td>\n",
       "    </tr>\n",
       "    <tr>\n",
       "      <th>189056</th>\n",
       "      <td>646</td>\n",
       "      <td>Aaron</td>\n",
       "      <td>Dunn</td>\n",
       "      <td>59.0</td>\n",
       "      <td>NaN</td>\n",
       "      <td>711.0</td>\n",
       "      <td>646.0</td>\n",
       "      <td>Skidmore College</td>\n",
       "      <td>2006-01-01</td>\n",
       "      <td>244.0</td>\n",
       "    </tr>\n",
       "    <tr>\n",
       "      <th>...</th>\n",
       "      <td>...</td>\n",
       "      <td>...</td>\n",
       "      <td>...</td>\n",
       "      <td>...</td>\n",
       "      <td>...</td>\n",
       "      <td>...</td>\n",
       "      <td>...</td>\n",
       "      <td>...</td>\n",
       "      <td>...</td>\n",
       "      <td>...</td>\n",
       "    </tr>\n",
       "    <tr>\n",
       "      <th>220078</th>\n",
       "      <td>99994</td>\n",
       "      <td>Kiran</td>\n",
       "      <td>Manda</td>\n",
       "      <td>NaN</td>\n",
       "      <td>NaN</td>\n",
       "      <td>102502.0</td>\n",
       "      <td>99994.0</td>\n",
       "      <td>University of Louisiana</td>\n",
       "      <td>NaT</td>\n",
       "      <td>NaN</td>\n",
       "    </tr>\n",
       "    <tr>\n",
       "      <th>220079</th>\n",
       "      <td>99995</td>\n",
       "      <td>Sue</td>\n",
       "      <td>Gench</td>\n",
       "      <td>NaN</td>\n",
       "      <td>NaN</td>\n",
       "      <td>NaN</td>\n",
       "      <td>NaN</td>\n",
       "      <td>NaN</td>\n",
       "      <td>NaT</td>\n",
       "      <td>NaN</td>\n",
       "    </tr>\n",
       "    <tr>\n",
       "      <th>220080</th>\n",
       "      <td>99996</td>\n",
       "      <td>Rick</td>\n",
       "      <td>Tamberrino</td>\n",
       "      <td>NaN</td>\n",
       "      <td>tamberrino</td>\n",
       "      <td>NaN</td>\n",
       "      <td>NaN</td>\n",
       "      <td>NaN</td>\n",
       "      <td>NaT</td>\n",
       "      <td>NaN</td>\n",
       "    </tr>\n",
       "    <tr>\n",
       "      <th>220082</th>\n",
       "      <td>99998</td>\n",
       "      <td>Adam</td>\n",
       "      <td>Neumann</td>\n",
       "      <td>NaN</td>\n",
       "      <td>NaN</td>\n",
       "      <td>NaN</td>\n",
       "      <td>NaN</td>\n",
       "      <td>NaN</td>\n",
       "      <td>NaT</td>\n",
       "      <td>NaN</td>\n",
       "    </tr>\n",
       "    <tr>\n",
       "      <th>220083</th>\n",
       "      <td>99999</td>\n",
       "      <td>Ramon</td>\n",
       "      <td>Peypoch</td>\n",
       "      <td>NaN</td>\n",
       "      <td>NaN</td>\n",
       "      <td>NaN</td>\n",
       "      <td>NaN</td>\n",
       "      <td>NaN</td>\n",
       "      <td>NaT</td>\n",
       "      <td>NaN</td>\n",
       "    </tr>\n",
       "  </tbody>\n",
       "</table>\n",
       "<p>220086 rows × 10 columns</p>\n",
       "</div>"
      ],
      "text/plain": [
       "        id_people first_name   last_name  company_id network_username  \\\n",
       "182830      57913      David       Krane        59.0        kraneland   \n",
       "187498       6297    Marissa       Mayer        59.0     marissamayer   \n",
       "65392      179177       Nima   Rahnemoon        59.0           nimstr   \n",
       "65574      179353        Raj      Sarkar        59.0              NaN   \n",
       "189056        646      Aaron        Dunn        59.0              NaN   \n",
       "...           ...        ...         ...         ...              ...   \n",
       "220078      99994      Kiran       Manda         NaN              NaN   \n",
       "220079      99995        Sue       Gench         NaN              NaN   \n",
       "220080      99996       Rick  Tamberrino         NaN       tamberrino   \n",
       "220082      99998       Adam     Neumann         NaN              NaN   \n",
       "220083      99999      Ramon     Peypoch         NaN              NaN   \n",
       "\n",
       "        id_education  person_id                    instituition graduated_at  \\\n",
       "182830       69501.0    57913.0  Indiana University Bloomington   1994-01-01   \n",
       "187498         718.0     6297.0             Stanford University   1997-01-01   \n",
       "65392            NaN        NaN                             NaN          NaT   \n",
       "65574            NaN        NaN                             NaN          NaT   \n",
       "189056         711.0      646.0                Skidmore College   2006-01-01   \n",
       "...              ...        ...                             ...          ...   \n",
       "220078      102502.0    99994.0         University of Louisiana          NaT   \n",
       "220079           NaN        NaN                             NaN          NaT   \n",
       "220080           NaN        NaN                             NaN          NaT   \n",
       "220082           NaN        NaN                             NaN          NaT   \n",
       "220083           NaN        NaN                             NaN          NaT   \n",
       "\n",
       "        employee_count  \n",
       "182830           244.0  \n",
       "187498           244.0  \n",
       "65392            244.0  \n",
       "65574            244.0  \n",
       "189056           244.0  \n",
       "...                ...  \n",
       "220078             NaN  \n",
       "220079             NaN  \n",
       "220080             NaN  \n",
       "220082             NaN  \n",
       "220083             NaN  \n",
       "\n",
       "[220086 rows x 10 columns]"
      ]
     },
     "execution_count": 99,
     "metadata": {},
     "output_type": "execute_result"
    }
   ],
   "source": [
    "# Сгрупируем столбцы\n",
    "df_grouped_ep = df_mer_ep.groupby('company_id', as_index=False)['id_people'].count()\n",
    "df_grouped_ep.rename(columns={'id_people': 'employee_count'}, inplace=True)\n",
    "\n",
    "# Объединим таблицы\n",
    "df_mer_ep = df_mer_ep.merge(df_grouped_ep, on='company_id', how='left')\n",
    "\n",
    "# Сортируем значения по убыванию количества сотрудников в компании\n",
    "df_mer_ep.sort_values(by='employee_count', ascending=False)"
   ]
  },
  {
   "cell_type": "code",
   "execution_count": 100,
   "metadata": {
    "id": "4FC98Pd-FcmG"
   },
   "outputs": [
    {
     "data": {
      "text/html": [
       "<div>\n",
       "<style scoped>\n",
       "    .dataframe tbody tr th:only-of-type {\n",
       "        vertical-align: middle;\n",
       "    }\n",
       "\n",
       "    .dataframe tbody tr th {\n",
       "        vertical-align: top;\n",
       "    }\n",
       "\n",
       "    .dataframe thead th {\n",
       "        text-align: right;\n",
       "    }\n",
       "</style>\n",
       "<table border=\"1\" class=\"dataframe\">\n",
       "  <thead>\n",
       "    <tr style=\"text-align: right;\">\n",
       "      <th></th>\n",
       "      <th>id_people</th>\n",
       "      <th>first_name</th>\n",
       "      <th>last_name</th>\n",
       "      <th>company_id</th>\n",
       "      <th>network_username</th>\n",
       "      <th>id_education</th>\n",
       "      <th>person_id</th>\n",
       "      <th>instituition</th>\n",
       "      <th>graduated_at</th>\n",
       "      <th>employee_count</th>\n",
       "      <th>df_group_ep</th>\n",
       "    </tr>\n",
       "  </thead>\n",
       "  <tbody>\n",
       "    <tr>\n",
       "      <th>0</th>\n",
       "      <td>10</td>\n",
       "      <td>Mark</td>\n",
       "      <td>Zuckerberg</td>\n",
       "      <td>5.0</td>\n",
       "      <td>NaN</td>\n",
       "      <td>2415.0</td>\n",
       "      <td>10.0</td>\n",
       "      <td>Harvard University</td>\n",
       "      <td>NaT</td>\n",
       "      <td>61.0</td>\n",
       "      <td>25+</td>\n",
       "    </tr>\n",
       "    <tr>\n",
       "      <th>1</th>\n",
       "      <td>100</td>\n",
       "      <td>Peter</td>\n",
       "      <td>Lester</td>\n",
       "      <td>27.0</td>\n",
       "      <td>NaN</td>\n",
       "      <td>NaN</td>\n",
       "      <td>NaN</td>\n",
       "      <td>NaN</td>\n",
       "      <td>NaT</td>\n",
       "      <td>10.0</td>\n",
       "      <td>5-10</td>\n",
       "    </tr>\n",
       "    <tr>\n",
       "      <th>2</th>\n",
       "      <td>1000</td>\n",
       "      <td>Dr. Steven</td>\n",
       "      <td>E. Saunders</td>\n",
       "      <td>292.0</td>\n",
       "      <td>NaN</td>\n",
       "      <td>NaN</td>\n",
       "      <td>NaN</td>\n",
       "      <td>NaN</td>\n",
       "      <td>NaT</td>\n",
       "      <td>3.0</td>\n",
       "      <td>3</td>\n",
       "    </tr>\n",
       "    <tr>\n",
       "      <th>3</th>\n",
       "      <td>10000</td>\n",
       "      <td>Neil</td>\n",
       "      <td>Capel</td>\n",
       "      <td>2526.0</td>\n",
       "      <td>NaN</td>\n",
       "      <td>NaN</td>\n",
       "      <td>NaN</td>\n",
       "      <td>NaN</td>\n",
       "      <td>NaT</td>\n",
       "      <td>2.0</td>\n",
       "      <td>2</td>\n",
       "    </tr>\n",
       "    <tr>\n",
       "      <th>4</th>\n",
       "      <td>100000</td>\n",
       "      <td>Sue</td>\n",
       "      <td>Pilsch</td>\n",
       "      <td>NaN</td>\n",
       "      <td>NaN</td>\n",
       "      <td>NaN</td>\n",
       "      <td>NaN</td>\n",
       "      <td>NaN</td>\n",
       "      <td>NaT</td>\n",
       "      <td>NaN</td>\n",
       "      <td>NaN</td>\n",
       "    </tr>\n",
       "  </tbody>\n",
       "</table>\n",
       "</div>"
      ],
      "text/plain": [
       "   id_people  first_name    last_name  company_id network_username  \\\n",
       "0         10        Mark   Zuckerberg         5.0              NaN   \n",
       "1        100       Peter       Lester        27.0              NaN   \n",
       "2       1000  Dr. Steven  E. Saunders       292.0              NaN   \n",
       "3      10000        Neil        Capel      2526.0              NaN   \n",
       "4     100000         Sue       Pilsch         NaN              NaN   \n",
       "\n",
       "   id_education  person_id        instituition graduated_at  employee_count  \\\n",
       "0        2415.0       10.0  Harvard University          NaT            61.0   \n",
       "1           NaN        NaN                 NaN          NaT            10.0   \n",
       "2           NaN        NaN                 NaN          NaT             3.0   \n",
       "3           NaN        NaN                 NaN          NaT             2.0   \n",
       "4           NaN        NaN                 NaN          NaT             NaN   \n",
       "\n",
       "  df_group_ep  \n",
       "0         25+  \n",
       "1        5-10  \n",
       "2           3  \n",
       "3           2  \n",
       "4         NaN  "
      ]
     },
     "execution_count": 100,
     "metadata": {},
     "output_type": "execute_result"
    }
   ],
   "source": [
    "# Разделяем компании на 6 групп по количеству сотрудников\n",
    "df_mer_ep['df_group_ep'] = pd.cut(df_mer_ep['employee_count'], bins = [0, 1, 2, 3, 5, 10, 23, float('inf')], labels = ['1', '2', '3', '3-5', '5-10', '11-23','25+'])\n",
    "df_mer_ep.head()"
   ]
  },
  {
   "cell_type": "code",
   "execution_count": 101,
   "metadata": {},
   "outputs": [
    {
     "data": {
      "image/png": "[encoded data removed]",
      "text/plain": [
       "<Figure size 432x288 with 1 Axes>"
      ]
     },
     "metadata": {
      "needs_background": "light"
     },
     "output_type": "display_data"
    }
   ],
   "source": [
    "# Посторим график для отображения распределения сотрудников\n",
    "sns.countplot(x='df_group_ep', data=df_mer_ep)\n",
    "\n",
    "# Добавление подписей и заголовка\n",
    "plt.xlabel('Категория')\n",
    "plt.ylabel('Количество')\n",
    "plt.title('Количество компаний по количеству сотрудников')\n",
    "\n",
    "plt.show()"
   ]
  },
  {
   "cell_type": "markdown",
   "metadata": {},
   "source": [
    " \n",
    "\n",
    "<div class=\"alert alert-success\">\n",
    "<font size=\"5\"><b>Комментарий ревьюера</b></font>\n",
    "\n",
    "\n",
    "\n",
    "Успех 👍:\n",
    "\n",
    "\n",
    " \n",
    "    \n",
    "    \n",
    "- Выбор корзинок удачный\n",
    "\n",
    "\n",
    "    \n",
    "- Плюс за использование  pd.cut\n",
    "    \n",
    "    \n",
    "    \n",
    "  \n",
    "\n",
    "    \n",
    "<div class=\"alert alert-warning\">\n",
    "\n",
    "\n",
    "\n",
    "Совет 🤔:\n",
    "\n",
    "\n",
    "Для изучения особенности распределения можно было  построить countplot или   глянуть  .count_values. А ты получается задним числом проверил\n",
    "    \n",
    "    "
   ]
  },
  {
   "cell_type": "code",
   "execution_count": 102,
   "metadata": {},
   "outputs": [
    {
     "data": {
      "text/html": [
       "<div>\n",
       "<style scoped>\n",
       "    .dataframe tbody tr th:only-of-type {\n",
       "        vertical-align: middle;\n",
       "    }\n",
       "\n",
       "    .dataframe tbody tr th {\n",
       "        vertical-align: top;\n",
       "    }\n",
       "\n",
       "    .dataframe thead th {\n",
       "        text-align: right;\n",
       "    }\n",
       "</style>\n",
       "<table border=\"1\" class=\"dataframe\">\n",
       "  <thead>\n",
       "    <tr style=\"text-align: right;\">\n",
       "      <th></th>\n",
       "      <th>id_people</th>\n",
       "      <th>first_name</th>\n",
       "      <th>last_name</th>\n",
       "      <th>company_id</th>\n",
       "      <th>network_username</th>\n",
       "      <th>id_education</th>\n",
       "      <th>person_id</th>\n",
       "      <th>instituition</th>\n",
       "      <th>graduated_at</th>\n",
       "      <th>employee_count</th>\n",
       "      <th>df_group_ep</th>\n",
       "    </tr>\n",
       "  </thead>\n",
       "  <tbody>\n",
       "    <tr>\n",
       "      <th>1</th>\n",
       "      <td>100</td>\n",
       "      <td>Peter</td>\n",
       "      <td>Lester</td>\n",
       "      <td>27.0</td>\n",
       "      <td>NaN</td>\n",
       "      <td>NaN</td>\n",
       "      <td>NaN</td>\n",
       "      <td>NaN</td>\n",
       "      <td>NaT</td>\n",
       "      <td>10.0</td>\n",
       "      <td>5-10</td>\n",
       "    </tr>\n",
       "    <tr>\n",
       "      <th>2</th>\n",
       "      <td>1000</td>\n",
       "      <td>Dr. Steven</td>\n",
       "      <td>E. Saunders</td>\n",
       "      <td>292.0</td>\n",
       "      <td>NaN</td>\n",
       "      <td>NaN</td>\n",
       "      <td>NaN</td>\n",
       "      <td>NaN</td>\n",
       "      <td>NaT</td>\n",
       "      <td>3.0</td>\n",
       "      <td>3</td>\n",
       "    </tr>\n",
       "    <tr>\n",
       "      <th>3</th>\n",
       "      <td>10000</td>\n",
       "      <td>Neil</td>\n",
       "      <td>Capel</td>\n",
       "      <td>2526.0</td>\n",
       "      <td>NaN</td>\n",
       "      <td>NaN</td>\n",
       "      <td>NaN</td>\n",
       "      <td>NaN</td>\n",
       "      <td>NaT</td>\n",
       "      <td>2.0</td>\n",
       "      <td>2</td>\n",
       "    </tr>\n",
       "    <tr>\n",
       "      <th>4</th>\n",
       "      <td>100000</td>\n",
       "      <td>Sue</td>\n",
       "      <td>Pilsch</td>\n",
       "      <td>NaN</td>\n",
       "      <td>NaN</td>\n",
       "      <td>NaN</td>\n",
       "      <td>NaN</td>\n",
       "      <td>NaN</td>\n",
       "      <td>NaT</td>\n",
       "      <td>NaN</td>\n",
       "      <td>NaN</td>\n",
       "    </tr>\n",
       "    <tr>\n",
       "      <th>5</th>\n",
       "      <td>100002</td>\n",
       "      <td>Keith</td>\n",
       "      <td>Kurzendoerfer</td>\n",
       "      <td>NaN</td>\n",
       "      <td>NaN</td>\n",
       "      <td>NaN</td>\n",
       "      <td>NaN</td>\n",
       "      <td>NaN</td>\n",
       "      <td>NaT</td>\n",
       "      <td>NaN</td>\n",
       "      <td>NaN</td>\n",
       "    </tr>\n",
       "  </tbody>\n",
       "</table>\n",
       "</div>"
      ],
      "text/plain": [
       "   id_people  first_name      last_name  company_id network_username  \\\n",
       "1        100       Peter         Lester        27.0              NaN   \n",
       "2       1000  Dr. Steven    E. Saunders       292.0              NaN   \n",
       "3      10000        Neil          Capel      2526.0              NaN   \n",
       "4     100000         Sue         Pilsch         NaN              NaN   \n",
       "5     100002       Keith  Kurzendoerfer         NaN              NaN   \n",
       "\n",
       "   id_education  person_id instituition graduated_at  employee_count  \\\n",
       "1           NaN        NaN          NaN          NaT            10.0   \n",
       "2           NaN        NaN          NaN          NaT             3.0   \n",
       "3           NaN        NaN          NaN          NaT             2.0   \n",
       "4           NaN        NaN          NaN          NaT             NaN   \n",
       "5           NaN        NaN          NaN          NaT             NaN   \n",
       "\n",
       "  df_group_ep  \n",
       "1        5-10  \n",
       "2           3  \n",
       "3           2  \n",
       "4         NaN  \n",
       "5         NaN  "
      ]
     },
     "execution_count": 102,
     "metadata": {},
     "output_type": "execute_result"
    }
   ],
   "source": [
    "# Фильтруем сотрудников, у которых нет информации об образовании\n",
    "df_group_ep_e = df_mer_ep[df_mer_ep['id_education'].isna()]\n",
    "df_group_ep_e.head()"
   ]
  },
  {
   "cell_type": "code",
   "execution_count": 103,
   "metadata": {},
   "outputs": [
    {
     "data": {
      "text/plain": [
       "df_group_ep\n",
       "1        8384\n",
       "2        2519\n",
       "3        1345\n",
       "3-5      1488\n",
       "5-10     1422\n",
       "11-23     632\n",
       "25+       356\n",
       "Name: id_people, dtype: int64"
      ]
     },
     "execution_count": 103,
     "metadata": {},
     "output_type": "execute_result"
    }
   ],
   "source": [
    "# Группируем по категориям компаний и считаем количество сотрудников без образования для каждой группы.\n",
    "df_group_ep_enn = df_group_ep_e.groupby('df_group_ep')['id_people'].count()\n",
    "df_group_ep_enn"
   ]
  },
  {
   "cell_type": "code",
   "execution_count": 104,
   "metadata": {},
   "outputs": [
    {
     "data": {
      "text/plain": [
       "df_group_ep\n",
       "1        18120\n",
       "2         5412\n",
       "3         2763\n",
       "3-5       2983\n",
       "5-10      2664\n",
       "11-23     1375\n",
       "25+       1293\n",
       "Name: id_people, dtype: int64"
      ]
     },
     "execution_count": 104,
     "metadata": {},
     "output_type": "execute_result"
    }
   ],
   "source": [
    "# Группируем данные по категориям компаний и считаем общее количество сотрудников в каждой группе.\n",
    "df_group_ep_we = df_mer_ep.groupby('df_group_ep')['id_people'].count()\n",
    "df_group_ep_we"
   ]
  },
  {
   "cell_type": "code",
   "execution_count": 105,
   "metadata": {},
   "outputs": [
    {
     "data": {
      "text/plain": [
       "df_group_ep\n",
       "1        46.269316\n",
       "2        46.544715\n",
       "3        48.678972\n",
       "3-5      49.882668\n",
       "5-10     53.378378\n",
       "11-23    45.963636\n",
       "25+      27.532869\n",
       "Name: id_people, dtype: float64"
      ]
     },
     "execution_count": 105,
     "metadata": {},
     "output_type": "execute_result"
    }
   ],
   "source": [
    "#Рассчитываем долю сотрудников без образования в каждой группе\n",
    "df_group_ep_enn/df_group_ep_we * 100"
   ]
  },
  {
   "cell_type": "markdown",
   "metadata": {},
   "source": [
    "- Все сотрудники были разделены на 6 групп, границы групп брались таким образом, чтобы у каждой было примерно равное количество сотрудников, но из-за достаточно большого количества сотрудников получилось, что в первой группе значение намного превосходит остальные.\n",
    "- Тем не менее в каждой из групп, получилось примерно равный процент сотрудников без информации об образовании - около 50%"
   ]
  },
  {
   "cell_type": "markdown",
   "metadata": {},
   "source": [
    " \n",
    "<div class=\"alert alert-success\">\n",
    "<font size=\"5\"><b>Комментарий ревьюера</b></font>\n",
    "\n",
    "\n",
    "\n",
    "Успех 👍:\n",
    "\n",
    "\n",
    "\n",
    "👍\n",
    "\n",
    "\n",
    " \n",
    "    \n",
    "<div class=\"alert alert-warning\">\n",
    " \n",
    "\n",
    "\n",
    "Совет 🤔:\n",
    "\n",
    "\n",
    "    \n",
    "- хорошо пару слов описания тенденции  \n",
    "    \n",
    "- вопрос стоит о полезности использования degrees (Тут стоило обратить внимание какая именно информация в нём содержится, позволяет она как-то дополнить информацию в education, чтобы ответить на вопросы раздела)\t"
   ]
  },
  {
   "cell_type": "markdown",
   "metadata": {
    "id": "Lz7qjM32xglW"
   },
   "source": [
    "### 2.3. Объединять или не объединять — вот в чём вопрос\n",
    "\n",
    "Некоторые названия столбцов встречаются в датасетах чаще других. В результате предварительной проверки датасетов было выяснено, что столбец `company_id` подходит для объединения данных.\n",
    "\n",
    "- Установите, подходит ли для объединения данных столбец `network_username`, который встречается в нескольких датасетах. Нам необходимо понимать, дублируется ли для разных датасетов информация в столбцах с таким названием, и если да — то насколько часто.\n",
    "- Оцените, можно ли использовать столбцы с именем `network_username` для объединения данных."
   ]
  },
  {
   "cell_type": "code",
   "execution_count": 106,
   "metadata": {
    "id": "zyI3rt0rxg1O"
   },
   "outputs": [],
   "source": [
    "# Загрузим датасет 'fund'\n",
    "fund = pd.read_csv('https://code.s3.yandex.net/datasets/fund.csv')"
   ]
  },
  {
   "cell_type": "code",
   "execution_count": 107,
   "metadata": {
    "id": "RxOS5rwmFcNW"
   },
   "outputs": [],
   "source": [
    "# Удалим дубликаты в датасетах\n",
    "fund_dup = fund.drop_duplicates(subset='network_username')\n",
    "people_dup = people.drop_duplicates(subset='network_username')\n",
    "company_and_rounds_dup = company_and_rounds.drop_duplicates(subset='network_username')"
   ]
  },
  {
   "cell_type": "code",
   "execution_count": 108,
   "metadata": {
    "id": "_7gjdrGOFcB2"
   },
   "outputs": [
    {
     "data": {
      "text/html": [
       "<div>\n",
       "<style scoped>\n",
       "    .dataframe tbody tr th:only-of-type {\n",
       "        vertical-align: middle;\n",
       "    }\n",
       "\n",
       "    .dataframe tbody tr th {\n",
       "        vertical-align: top;\n",
       "    }\n",
       "\n",
       "    .dataframe thead th {\n",
       "        text-align: right;\n",
       "    }\n",
       "</style>\n",
       "<table border=\"1\" class=\"dataframe\">\n",
       "  <thead>\n",
       "    <tr style=\"text-align: right;\">\n",
       "      <th></th>\n",
       "      <th>id_x</th>\n",
       "      <th>name_x</th>\n",
       "      <th>founded_at_x</th>\n",
       "      <th>domain_x</th>\n",
       "      <th>network_username</th>\n",
       "      <th>country_code_x</th>\n",
       "      <th>investment_rounds_x</th>\n",
       "      <th>invested_companies</th>\n",
       "      <th>milestones_x</th>\n",
       "      <th>id_y</th>\n",
       "      <th>...</th>\n",
       "      <th>funding_round_id</th>\n",
       "      <th>company_id_y</th>\n",
       "      <th>funded_at</th>\n",
       "      <th>funding_round_type</th>\n",
       "      <th>raised_amount</th>\n",
       "      <th>pre_money_valuation</th>\n",
       "      <th>participants</th>\n",
       "      <th>is_first_round</th>\n",
       "      <th>is_last_round</th>\n",
       "      <th>funded_year</th>\n",
       "    </tr>\n",
       "  </thead>\n",
       "  <tbody>\n",
       "    <tr>\n",
       "      <th>0</th>\n",
       "      <td>13131.0</td>\n",
       "      <td>NaN</td>\n",
       "      <td>NaN</td>\n",
       "      <td>NaN</td>\n",
       "      <td>NaN</td>\n",
       "      <td>NaN</td>\n",
       "      <td>0.0</td>\n",
       "      <td>0.0</td>\n",
       "      <td>0.0</td>\n",
       "      <td>10.0</td>\n",
       "      <td>...</td>\n",
       "      <td>NaN</td>\n",
       "      <td>NaN</td>\n",
       "      <td>NaT</td>\n",
       "      <td>NaN</td>\n",
       "      <td>NaN</td>\n",
       "      <td>NaN</td>\n",
       "      <td>NaN</td>\n",
       "      <td>NaN</td>\n",
       "      <td>NaN</td>\n",
       "      <td>&lt;NA&gt;</td>\n",
       "    </tr>\n",
       "    <tr>\n",
       "      <th>1</th>\n",
       "      <td>1.0</td>\n",
       "      <td>Greylock Partners</td>\n",
       "      <td>1965-01-01</td>\n",
       "      <td>greylock.com</td>\n",
       "      <td>greylockvc</td>\n",
       "      <td>USA</td>\n",
       "      <td>307.0</td>\n",
       "      <td>196.0</td>\n",
       "      <td>0.0</td>\n",
       "      <td>NaN</td>\n",
       "      <td>...</td>\n",
       "      <td>NaN</td>\n",
       "      <td>NaN</td>\n",
       "      <td>NaT</td>\n",
       "      <td>NaN</td>\n",
       "      <td>NaN</td>\n",
       "      <td>NaN</td>\n",
       "      <td>NaN</td>\n",
       "      <td>NaN</td>\n",
       "      <td>NaN</td>\n",
       "      <td>&lt;NA&gt;</td>\n",
       "    </tr>\n",
       "    <tr>\n",
       "      <th>2</th>\n",
       "      <td>10015.0</td>\n",
       "      <td>IMI.VC</td>\n",
       "      <td>2011-07-31</td>\n",
       "      <td>imi.vc</td>\n",
       "      <td>imi_vc</td>\n",
       "      <td>RUS</td>\n",
       "      <td>2.0</td>\n",
       "      <td>2.0</td>\n",
       "      <td>4.0</td>\n",
       "      <td>NaN</td>\n",
       "      <td>...</td>\n",
       "      <td>NaN</td>\n",
       "      <td>NaN</td>\n",
       "      <td>NaT</td>\n",
       "      <td>NaN</td>\n",
       "      <td>NaN</td>\n",
       "      <td>NaN</td>\n",
       "      <td>NaN</td>\n",
       "      <td>NaN</td>\n",
       "      <td>NaN</td>\n",
       "      <td>&lt;NA&gt;</td>\n",
       "    </tr>\n",
       "    <tr>\n",
       "      <th>3</th>\n",
       "      <td>1002.0</td>\n",
       "      <td>Alven Capital</td>\n",
       "      <td>2000-01-01</td>\n",
       "      <td>alvencapital.com</td>\n",
       "      <td>alvencap</td>\n",
       "      <td>FRA</td>\n",
       "      <td>43.0</td>\n",
       "      <td>36.0</td>\n",
       "      <td>1.0</td>\n",
       "      <td>NaN</td>\n",
       "      <td>...</td>\n",
       "      <td>NaN</td>\n",
       "      <td>NaN</td>\n",
       "      <td>NaT</td>\n",
       "      <td>NaN</td>\n",
       "      <td>NaN</td>\n",
       "      <td>NaN</td>\n",
       "      <td>NaN</td>\n",
       "      <td>NaN</td>\n",
       "      <td>NaN</td>\n",
       "      <td>&lt;NA&gt;</td>\n",
       "    </tr>\n",
       "    <tr>\n",
       "      <th>4</th>\n",
       "      <td>10020.0</td>\n",
       "      <td>East Valley Ventures</td>\n",
       "      <td>2011-01-01</td>\n",
       "      <td>eastvalleyventures.com</td>\n",
       "      <td>EastValleyVent</td>\n",
       "      <td>CAN</td>\n",
       "      <td>2.0</td>\n",
       "      <td>2.0</td>\n",
       "      <td>0.0</td>\n",
       "      <td>NaN</td>\n",
       "      <td>...</td>\n",
       "      <td>NaN</td>\n",
       "      <td>NaN</td>\n",
       "      <td>NaT</td>\n",
       "      <td>NaN</td>\n",
       "      <td>NaN</td>\n",
       "      <td>NaN</td>\n",
       "      <td>NaN</td>\n",
       "      <td>NaN</td>\n",
       "      <td>NaN</td>\n",
       "      <td>&lt;NA&gt;</td>\n",
       "    </tr>\n",
       "  </tbody>\n",
       "</table>\n",
       "<p>5 rows × 35 columns</p>\n",
       "</div>"
      ],
      "text/plain": [
       "      id_x                name_x founded_at_x                domain_x  \\\n",
       "0  13131.0                   NaN          NaN                     NaN   \n",
       "1      1.0     Greylock Partners   1965-01-01            greylock.com   \n",
       "2  10015.0                IMI.VC   2011-07-31                  imi.vc   \n",
       "3   1002.0         Alven Capital   2000-01-01        alvencapital.com   \n",
       "4  10020.0  East Valley Ventures   2011-01-01  eastvalleyventures.com   \n",
       "\n",
       "  network_username country_code_x  investment_rounds_x  invested_companies  \\\n",
       "0              NaN            NaN                  0.0                 0.0   \n",
       "1       greylockvc            USA                307.0               196.0   \n",
       "2           imi_vc            RUS                  2.0                 2.0   \n",
       "3         alvencap            FRA                 43.0                36.0   \n",
       "4   EastValleyVent            CAN                  2.0                 2.0   \n",
       "\n",
       "   milestones_x  id_y  ... funding_round_id company_id_y  funded_at  \\\n",
       "0           0.0  10.0  ...              NaN          NaN        NaT   \n",
       "1           0.0   NaN  ...              NaN          NaN        NaT   \n",
       "2           4.0   NaN  ...              NaN          NaN        NaT   \n",
       "3           1.0   NaN  ...              NaN          NaN        NaT   \n",
       "4           0.0   NaN  ...              NaN          NaN        NaT   \n",
       "\n",
       "   funding_round_type raised_amount pre_money_valuation participants  \\\n",
       "0                 NaN           NaN                 NaN          NaN   \n",
       "1                 NaN           NaN                 NaN          NaN   \n",
       "2                 NaN           NaN                 NaN          NaN   \n",
       "3                 NaN           NaN                 NaN          NaN   \n",
       "4                 NaN           NaN                 NaN          NaN   \n",
       "\n",
       "  is_first_round is_last_round funded_year  \n",
       "0            NaN           NaN        <NA>  \n",
       "1            NaN           NaN        <NA>  \n",
       "2            NaN           NaN        <NA>  \n",
       "3            NaN           NaN        <NA>  \n",
       "4            NaN           NaN        <NA>  \n",
       "\n",
       "[5 rows x 35 columns]"
      ]
     },
     "execution_count": 108,
     "metadata": {},
     "output_type": "execute_result"
    }
   ],
   "source": [
    "# Объединим необходимые таблицы\n",
    "df_comb1 = pd.merge(fund_dup, people_dup, on = 'network_username', how = 'outer')\n",
    "df_comb2 = pd.merge(df_comb1, company_and_rounds_dup, on = 'network_username', how = 'outer')\n",
    "df_comb2.head()"
   ]
  },
  {
   "cell_type": "code",
   "execution_count": 109,
   "metadata": {},
   "outputs": [
    {
     "name": "stdout",
     "output_type": "stream",
     "text": [
      "Количество дубликатов в итоговом датафрейме:  0\n"
     ]
    }
   ],
   "source": [
    "# Считаем количество дубликатов в итоговой таблице\n",
    "df_comb2_dupl_count = df_comb2.duplicated().sum()\n",
    "print(\"Количество дубликатов в итоговом датафрейме: \", df_comb2_dupl_count)"
   ]
  },
  {
   "cell_type": "code",
   "execution_count": 110,
   "metadata": {},
   "outputs": [],
   "source": [
    "# Извлекаем уникальные network_username из каждой таблицы\n",
    "people_users = set(people['network_username'].dropna().unique())\n",
    "company_users = set(company_and_rounds['network_username'].dropna().unique())\n",
    "fund_users = set(fund['network_username'].dropna().unique())"
   ]
  },
  {
   "cell_type": "markdown",
   "metadata": {},
   "source": [
    "\n",
    "<div class=\"alert alert-success\">\n",
    "<font size=\"5\"><b>Комментарий ревьюера</b></font>\n",
    "\n",
    "\n",
    "\n",
    "Успех 👍:\n",
    "\n",
    "\n",
    "\n",
    "- 👍 за использование set\n",
    "\n",
    "\n",
    "-  &/.intersection \n",
    "\n",
    "\n",
    "<div class=\"alert alert-warning\">\n",
    " \n",
    "\n",
    "Совет:\n",
    "\n",
    " \n",
    "- Было бы логично перед проверкой на пересечение привести данные к одному регистру (сделать .lower например)    \n",
    "    "
   ]
  },
  {
   "cell_type": "code",
   "execution_count": 111,
   "metadata": {},
   "outputs": [
    {
     "data": {
      "image/png": "[encoded data removed]",
      "text/plain": [
       "<Figure size 432x288 with 1 Axes>"
      ]
     },
     "metadata": {},
     "output_type": "display_data"
    },
    {
     "data": {
      "image/png": "[encoded data removed]",
      "text/plain": [
       "<Figure size 432x288 with 1 Axes>"
      ]
     },
     "metadata": {},
     "output_type": "display_data"
    },
    {
     "data": {
      "image/png": "[encoded data removed]",
      "text/plain": [
       "<Figure size 432x288 with 1 Axes>"
      ]
     },
     "metadata": {},
     "output_type": "display_data"
    },
    {
     "data": {
      "image/png": "[encoded data removed]",
      "text/plain": [
       "<Figure size 432x288 with 1 Axes>"
      ]
     },
     "metadata": {},
     "output_type": "display_data"
    }
   ],
   "source": [
    "# people и company_rounds\n",
    "venn2([people_users, company_users], set_labels=('People Users', 'Company Users'))\n",
    "plt.title(\"Пересечение network_username People и Company\")\n",
    "plt.show()\n",
    "\n",
    "# people и fund\n",
    "venn2([people_users, fund_users], set_labels=('People Users', 'Fund Users'))\n",
    "plt.title(\"Пересечение network_username People и Fund\")\n",
    "plt.show()\n",
    "\n",
    "# company_rounds и fund\n",
    "venn2([company_users, fund_users], set_labels=('Company Users', 'Fund Users'))\n",
    "plt.title(\"Пересечение network_username Company и Fund\")\n",
    "plt.show()\n",
    "\n",
    "# Сравнение всех трёх таблиц\n",
    "venn3([people_users, company_users, fund_users], set_labels=('People Users', 'Company Users', 'Fund Users'))\n",
    "plt.title(\"Пересечение network_username People, Company и Fund\")\n",
    "plt.show()"
   ]
  },
  {
   "cell_type": "markdown",
   "metadata": {},
   "source": [
    "- После того как были объединены необходимые таблицы количество дубликатов стало равно 0, из этого можно сделать вывод, что информация по данному столбцу `network_username` для разных таблиц не дублируется.\n",
    "- Благодаря диаграммам становится видно, что пересечений `user_name` между таблицами `company_and_rounds` и `people` всего 2199, что относительно общего числа обеих таблиц достаточно мало. Между оставшимся таблицами пересечения также очень малые.\n",
    "- А значит, данный столбец нежелательно использовать для объединения данных."
   ]
  },
  {
   "cell_type": "markdown",
   "metadata": {},
   "source": [
    " \n",
    " \n",
    "\t\t\n",
    "\t\t\n",
    "\n",
    "\n",
    "<div class=\"alert alert-success\">\n",
    "<font size=\"5\"><b>Комментарий ревьюера</b></font>\n",
    "\n",
    "\n",
    "\n",
    "Успех 👍:\n",
    "\n",
    "\n",
    "\n",
    "👍  согласен с анализом,  главная проблема указана\n",
    "\n",
    "\n",
    " \n",
    "<div class=\"alert alert-warning\">\n",
    "\n",
    "\n",
    "\n",
    "Совет 🤔:\n",
    "\n",
    "\n",
    "    \n",
    "- Тут можно было начать с учёта контекста.  network_username в таблице people относятся к сотрудникам, а в таблице company_rounds к компаниям.  Скорее всего даже эти пересечения случайны\n",
    "  "
   ]
  },
  {
   "cell_type": "markdown",
   "metadata": {
    "id": "EHcODomVrJg1"
   },
   "source": [
    "\n",
    "### 2.4. Проблемный датасет и причина возникновения пропусков\n",
    "\n",
    "Во время собственного анализа данных у заказчика больше всего вопросов возникло к датасету `company_and_rounds.csv`. В нём много пропусков как раз в информации о раундах, которая заказчику важна.\n",
    "\n",
    "- Любым удобным способом приведите данные в вид, который позволит в дальнейшем проводить анализ в разрезе отдельных компаний. Обратите внимание на структуру датасета, порядок и названия столбцов, проанализируйте значения.\n",
    "\n",
    "По гипотезе заказчика данные по компаниям из этой таблицы раньше хранились иначе, более удобным для исследования образом.\n",
    "\n",
    "- Максимальным образом сохраняя данные, сохранив их связность и исключив возможные возникающие при этом ошибки, подготовьте данные так, чтобы удобно было отобрать компании по параметрам и рассчитать показатели из расчёта на одну компанию без промежуточных агрегаций."
   ]
  },
  {
   "cell_type": "code",
   "execution_count": 112,
   "metadata": {
    "id": "oSk7xqu_FbaN"
   },
   "outputs": [],
   "source": [
    "# Таблица компаний\n",
    "companies = company_and_rounds[[\n",
    "    'company_ID', 'name', 'category_code', 'status', 'founded_at', 'closed_at',\n",
    "    'domain', 'network_username', 'country_code', 'investment_rounds',\n",
    "    'funding_rounds', 'funding_total', 'milestones'\n",
    "]].reset_index(drop=True)\n",
    "\n",
    "# Таблица раундов\n",
    "rounds = company_and_rounds[[\n",
    "    'funding_round_id', 'company_id', 'funded_at', 'funding_round_type',\n",
    "    'raised_amount', 'pre_money_valuation', 'participants', 'is_first_round',\n",
    "    'is_last_round'\n",
    "]].reset_index(drop=True)"
   ]
  },
  {
   "cell_type": "code",
   "execution_count": 113,
   "metadata": {
    "id": "9BY9lTUcFbJ-"
   },
   "outputs": [],
   "source": [
    "# Удаление дубликатов в таблицах компаний\n",
    "companies = companies.drop_duplicates(subset=['company_ID']).reset_index(drop=True)\n",
    "rounds = rounds.drop_duplicates(subset=['company_id']).reset_index(drop=True)"
   ]
  },
  {
   "cell_type": "code",
   "execution_count": 114,
   "metadata": {
    "id": "tJ6Sl6MKrJg1",
    "vscode": {
     "languageId": "plaintext"
    }
   },
   "outputs": [
    {
     "data": {
      "text/html": [
       "<div>\n",
       "<style scoped>\n",
       "    .dataframe tbody tr th:only-of-type {\n",
       "        vertical-align: middle;\n",
       "    }\n",
       "\n",
       "    .dataframe tbody tr th {\n",
       "        vertical-align: top;\n",
       "    }\n",
       "\n",
       "    .dataframe thead th {\n",
       "        text-align: right;\n",
       "    }\n",
       "</style>\n",
       "<table border=\"1\" class=\"dataframe\">\n",
       "  <thead>\n",
       "    <tr style=\"text-align: right;\">\n",
       "      <th></th>\n",
       "      <th>company_ID</th>\n",
       "      <th>name</th>\n",
       "      <th>category_code</th>\n",
       "      <th>status</th>\n",
       "      <th>founded_at</th>\n",
       "      <th>closed_at</th>\n",
       "      <th>domain</th>\n",
       "      <th>network_username</th>\n",
       "      <th>country_code</th>\n",
       "      <th>investment_rounds</th>\n",
       "      <th>funding_rounds</th>\n",
       "      <th>funding_total</th>\n",
       "      <th>milestones</th>\n",
       "    </tr>\n",
       "  </thead>\n",
       "  <tbody>\n",
       "    <tr>\n",
       "      <th>0</th>\n",
       "      <td>1.0</td>\n",
       "      <td>Wetpaint</td>\n",
       "      <td>web</td>\n",
       "      <td>operating</td>\n",
       "      <td>2005-10-17</td>\n",
       "      <td>NaT</td>\n",
       "      <td>wetpaint-inc.com</td>\n",
       "      <td>BachelrWetpaint</td>\n",
       "      <td>USA</td>\n",
       "      <td>0.0</td>\n",
       "      <td>3.0</td>\n",
       "      <td>39750000.0</td>\n",
       "      <td>5.0</td>\n",
       "    </tr>\n",
       "    <tr>\n",
       "      <th>1</th>\n",
       "      <td>10.0</td>\n",
       "      <td>Flektor</td>\n",
       "      <td>games_video</td>\n",
       "      <td>acquired</td>\n",
       "      <td>NaT</td>\n",
       "      <td>NaT</td>\n",
       "      <td>flektor.com</td>\n",
       "      <td>NaN</td>\n",
       "      <td>USA</td>\n",
       "      <td>0.0</td>\n",
       "      <td>0.0</td>\n",
       "      <td>0.0</td>\n",
       "      <td>0.0</td>\n",
       "    </tr>\n",
       "    <tr>\n",
       "      <th>2</th>\n",
       "      <td>100.0</td>\n",
       "      <td>There</td>\n",
       "      <td>games_video</td>\n",
       "      <td>acquired</td>\n",
       "      <td>NaT</td>\n",
       "      <td>NaT</td>\n",
       "      <td>there.com</td>\n",
       "      <td>NaN</td>\n",
       "      <td>USA</td>\n",
       "      <td>0.0</td>\n",
       "      <td>0.0</td>\n",
       "      <td>0.0</td>\n",
       "      <td>4.0</td>\n",
       "    </tr>\n",
       "    <tr>\n",
       "      <th>3</th>\n",
       "      <td>10000.0</td>\n",
       "      <td>MYWEBBO</td>\n",
       "      <td>network_hosting</td>\n",
       "      <td>operating</td>\n",
       "      <td>2008-07-26</td>\n",
       "      <td>NaT</td>\n",
       "      <td>mywebbo.com</td>\n",
       "      <td>NaN</td>\n",
       "      <td>NaN</td>\n",
       "      <td>0.0</td>\n",
       "      <td>0.0</td>\n",
       "      <td>0.0</td>\n",
       "      <td>0.0</td>\n",
       "    </tr>\n",
       "    <tr>\n",
       "      <th>4</th>\n",
       "      <td>10001.0</td>\n",
       "      <td>THE Movie Streamer</td>\n",
       "      <td>games_video</td>\n",
       "      <td>operating</td>\n",
       "      <td>2008-07-26</td>\n",
       "      <td>NaT</td>\n",
       "      <td>themoviestreamer.com</td>\n",
       "      <td>NaN</td>\n",
       "      <td>NaN</td>\n",
       "      <td>0.0</td>\n",
       "      <td>0.0</td>\n",
       "      <td>0.0</td>\n",
       "      <td>0.0</td>\n",
       "    </tr>\n",
       "    <tr>\n",
       "      <th>...</th>\n",
       "      <td>...</td>\n",
       "      <td>...</td>\n",
       "      <td>...</td>\n",
       "      <td>...</td>\n",
       "      <td>...</td>\n",
       "      <td>...</td>\n",
       "      <td>...</td>\n",
       "      <td>...</td>\n",
       "      <td>...</td>\n",
       "      <td>...</td>\n",
       "      <td>...</td>\n",
       "      <td>...</td>\n",
       "      <td>...</td>\n",
       "    </tr>\n",
       "    <tr>\n",
       "      <th>196549</th>\n",
       "      <td>3429.0</td>\n",
       "      <td>Zend Technologies</td>\n",
       "      <td>software</td>\n",
       "      <td>operating</td>\n",
       "      <td>1999-01-01</td>\n",
       "      <td>NaT</td>\n",
       "      <td>zend.com</td>\n",
       "      <td>networkzend</td>\n",
       "      <td>USA</td>\n",
       "      <td>0.0</td>\n",
       "      <td>4.0</td>\n",
       "      <td>44000000.0</td>\n",
       "      <td>6.0</td>\n",
       "    </tr>\n",
       "    <tr>\n",
       "      <th>196550</th>\n",
       "      <td>7748.0</td>\n",
       "      <td>Flowgram</td>\n",
       "      <td>web</td>\n",
       "      <td>closed</td>\n",
       "      <td>2007-06-01</td>\n",
       "      <td>2008-06-11</td>\n",
       "      <td>flowgram.com</td>\n",
       "      <td>network</td>\n",
       "      <td>USA</td>\n",
       "      <td>0.0</td>\n",
       "      <td>1.0</td>\n",
       "      <td>1300000.0</td>\n",
       "      <td>3.0</td>\n",
       "    </tr>\n",
       "    <tr>\n",
       "      <th>196551</th>\n",
       "      <td>174536.0</td>\n",
       "      <td>Pphotonet</td>\n",
       "      <td>games_video</td>\n",
       "      <td>operating</td>\n",
       "      <td>2012-05-01</td>\n",
       "      <td>NaT</td>\n",
       "      <td>pPhotonet.co</td>\n",
       "      <td>pPhotonet</td>\n",
       "      <td>NaN</td>\n",
       "      <td>0.0</td>\n",
       "      <td>0.0</td>\n",
       "      <td>0.0</td>\n",
       "      <td>0.0</td>\n",
       "    </tr>\n",
       "    <tr>\n",
       "      <th>196552</th>\n",
       "      <td>43233.0</td>\n",
       "      <td>Photonet</td>\n",
       "      <td>photo_video</td>\n",
       "      <td>acquired</td>\n",
       "      <td>2010-03-01</td>\n",
       "      <td>NaT</td>\n",
       "      <td>Photonet.com</td>\n",
       "      <td>Photonet</td>\n",
       "      <td>USA</td>\n",
       "      <td>0.0</td>\n",
       "      <td>3.0</td>\n",
       "      <td>57500000.0</td>\n",
       "      <td>3.0</td>\n",
       "    </tr>\n",
       "    <tr>\n",
       "      <th>196553</th>\n",
       "      <td>NaN</td>\n",
       "      <td>NaN</td>\n",
       "      <td>NaN</td>\n",
       "      <td>NaN</td>\n",
       "      <td>NaT</td>\n",
       "      <td>NaT</td>\n",
       "      <td>NaN</td>\n",
       "      <td>NaN</td>\n",
       "      <td>NaN</td>\n",
       "      <td>NaN</td>\n",
       "      <td>NaN</td>\n",
       "      <td>NaN</td>\n",
       "      <td>NaN</td>\n",
       "    </tr>\n",
       "  </tbody>\n",
       "</table>\n",
       "<p>196554 rows × 13 columns</p>\n",
       "</div>"
      ],
      "text/plain": [
       "        company_ID                name    category_code     status founded_at  \\\n",
       "0              1.0            Wetpaint              web  operating 2005-10-17   \n",
       "1             10.0             Flektor      games_video   acquired        NaT   \n",
       "2            100.0               There      games_video   acquired        NaT   \n",
       "3          10000.0             MYWEBBO  network_hosting  operating 2008-07-26   \n",
       "4          10001.0  THE Movie Streamer      games_video  operating 2008-07-26   \n",
       "...            ...                 ...              ...        ...        ...   \n",
       "196549      3429.0   Zend Technologies         software  operating 1999-01-01   \n",
       "196550      7748.0            Flowgram              web     closed 2007-06-01   \n",
       "196551    174536.0           Pphotonet      games_video  operating 2012-05-01   \n",
       "196552     43233.0            Photonet      photo_video   acquired 2010-03-01   \n",
       "196553         NaN                 NaN              NaN        NaN        NaT   \n",
       "\n",
       "        closed_at                domain network_username country_code  \\\n",
       "0             NaT      wetpaint-inc.com  BachelrWetpaint          USA   \n",
       "1             NaT           flektor.com              NaN          USA   \n",
       "2             NaT             there.com              NaN          USA   \n",
       "3             NaT           mywebbo.com              NaN          NaN   \n",
       "4             NaT  themoviestreamer.com              NaN          NaN   \n",
       "...           ...                   ...              ...          ...   \n",
       "196549        NaT              zend.com      networkzend          USA   \n",
       "196550 2008-06-11          flowgram.com          network          USA   \n",
       "196551        NaT          pPhotonet.co        pPhotonet          NaN   \n",
       "196552        NaT          Photonet.com         Photonet          USA   \n",
       "196553        NaT                   NaN              NaN          NaN   \n",
       "\n",
       "        investment_rounds  funding_rounds  funding_total  milestones  \n",
       "0                     0.0             3.0     39750000.0         5.0  \n",
       "1                     0.0             0.0            0.0         0.0  \n",
       "2                     0.0             0.0            0.0         4.0  \n",
       "3                     0.0             0.0            0.0         0.0  \n",
       "4                     0.0             0.0            0.0         0.0  \n",
       "...                   ...             ...            ...         ...  \n",
       "196549                0.0             4.0     44000000.0         6.0  \n",
       "196550                0.0             1.0      1300000.0         3.0  \n",
       "196551                0.0             0.0            0.0         0.0  \n",
       "196552                0.0             3.0     57500000.0         3.0  \n",
       "196553                NaN             NaN            NaN         NaN  \n",
       "\n",
       "[196554 rows x 13 columns]"
      ]
     },
     "metadata": {},
     "output_type": "display_data"
    },
    {
     "data": {
      "text/html": [
       "<div>\n",
       "<style scoped>\n",
       "    .dataframe tbody tr th:only-of-type {\n",
       "        vertical-align: middle;\n",
       "    }\n",
       "\n",
       "    .dataframe tbody tr th {\n",
       "        vertical-align: top;\n",
       "    }\n",
       "\n",
       "    .dataframe thead th {\n",
       "        text-align: right;\n",
       "    }\n",
       "</style>\n",
       "<table border=\"1\" class=\"dataframe\">\n",
       "  <thead>\n",
       "    <tr style=\"text-align: right;\">\n",
       "      <th></th>\n",
       "      <th>funding_round_id</th>\n",
       "      <th>company_id</th>\n",
       "      <th>funded_at</th>\n",
       "      <th>funding_round_type</th>\n",
       "      <th>raised_amount</th>\n",
       "      <th>pre_money_valuation</th>\n",
       "      <th>participants</th>\n",
       "      <th>is_first_round</th>\n",
       "      <th>is_last_round</th>\n",
       "    </tr>\n",
       "  </thead>\n",
       "  <tbody>\n",
       "    <tr>\n",
       "      <th>0</th>\n",
       "      <td>888.0</td>\n",
       "      <td>1.0</td>\n",
       "      <td>2005-10-01</td>\n",
       "      <td>series-a</td>\n",
       "      <td>5250000.0</td>\n",
       "      <td>0.0</td>\n",
       "      <td>2.0</td>\n",
       "      <td>0.0</td>\n",
       "      <td>1.0</td>\n",
       "    </tr>\n",
       "    <tr>\n",
       "      <th>1</th>\n",
       "      <td>NaN</td>\n",
       "      <td>NaN</td>\n",
       "      <td>NaT</td>\n",
       "      <td>NaN</td>\n",
       "      <td>NaN</td>\n",
       "      <td>NaN</td>\n",
       "      <td>NaN</td>\n",
       "      <td>NaN</td>\n",
       "      <td>NaN</td>\n",
       "    </tr>\n",
       "    <tr>\n",
       "      <th>2</th>\n",
       "      <td>1644.0</td>\n",
       "      <td>1001.0</td>\n",
       "      <td>2008-02-26</td>\n",
       "      <td>series-a</td>\n",
       "      <td>5000000.0</td>\n",
       "      <td>0.0</td>\n",
       "      <td>3.0</td>\n",
       "      <td>1.0</td>\n",
       "      <td>1.0</td>\n",
       "    </tr>\n",
       "    <tr>\n",
       "      <th>3</th>\n",
       "      <td>6682.0</td>\n",
       "      <td>10014.0</td>\n",
       "      <td>2008-09-01</td>\n",
       "      <td>angel</td>\n",
       "      <td>0.0</td>\n",
       "      <td>0.0</td>\n",
       "      <td>1.0</td>\n",
       "      <td>1.0</td>\n",
       "      <td>1.0</td>\n",
       "    </tr>\n",
       "    <tr>\n",
       "      <th>4</th>\n",
       "      <td>3619.0</td>\n",
       "      <td>10015.0</td>\n",
       "      <td>2008-10-10</td>\n",
       "      <td>series-a</td>\n",
       "      <td>2000000.0</td>\n",
       "      <td>0.0</td>\n",
       "      <td>2.0</td>\n",
       "      <td>0.0</td>\n",
       "      <td>1.0</td>\n",
       "    </tr>\n",
       "    <tr>\n",
       "      <th>...</th>\n",
       "      <td>...</td>\n",
       "      <td>...</td>\n",
       "      <td>...</td>\n",
       "      <td>...</td>\n",
       "      <td>...</td>\n",
       "      <td>...</td>\n",
       "      <td>...</td>\n",
       "      <td>...</td>\n",
       "      <td>...</td>\n",
       "    </tr>\n",
       "    <tr>\n",
       "      <th>31935</th>\n",
       "      <td>56184.0</td>\n",
       "      <td>146919.0</td>\n",
       "      <td>2013-11-06</td>\n",
       "      <td>other</td>\n",
       "      <td>4900000.0</td>\n",
       "      <td>0.0</td>\n",
       "      <td>0.0</td>\n",
       "      <td>1.0</td>\n",
       "      <td>1.0</td>\n",
       "    </tr>\n",
       "    <tr>\n",
       "      <th>31936</th>\n",
       "      <td>56454.0</td>\n",
       "      <td>282847.0</td>\n",
       "      <td>2011-01-31</td>\n",
       "      <td>other</td>\n",
       "      <td>5500000.0</td>\n",
       "      <td>0.0</td>\n",
       "      <td>0.0</td>\n",
       "      <td>1.0</td>\n",
       "      <td>1.0</td>\n",
       "    </tr>\n",
       "    <tr>\n",
       "      <th>31937</th>\n",
       "      <td>56542.0</td>\n",
       "      <td>55477.0</td>\n",
       "      <td>2011-01-13</td>\n",
       "      <td>venture</td>\n",
       "      <td>10633300.0</td>\n",
       "      <td>0.0</td>\n",
       "      <td>0.0</td>\n",
       "      <td>0.0</td>\n",
       "      <td>1.0</td>\n",
       "    </tr>\n",
       "    <tr>\n",
       "      <th>31938</th>\n",
       "      <td>56928.0</td>\n",
       "      <td>283492.0</td>\n",
       "      <td>2013-12-03</td>\n",
       "      <td>venture</td>\n",
       "      <td>3602480.0</td>\n",
       "      <td>0.0</td>\n",
       "      <td>5.0</td>\n",
       "      <td>1.0</td>\n",
       "      <td>1.0</td>\n",
       "    </tr>\n",
       "    <tr>\n",
       "      <th>31939</th>\n",
       "      <td>57063.0</td>\n",
       "      <td>284191.0</td>\n",
       "      <td>2013-12-04</td>\n",
       "      <td>venture</td>\n",
       "      <td>7000000.0</td>\n",
       "      <td>0.0</td>\n",
       "      <td>4.0</td>\n",
       "      <td>1.0</td>\n",
       "      <td>1.0</td>\n",
       "    </tr>\n",
       "  </tbody>\n",
       "</table>\n",
       "<p>31940 rows × 9 columns</p>\n",
       "</div>"
      ],
      "text/plain": [
       "       funding_round_id  company_id  funded_at funding_round_type  \\\n",
       "0                 888.0         1.0 2005-10-01           series-a   \n",
       "1                   NaN         NaN        NaT                NaN   \n",
       "2                1644.0      1001.0 2008-02-26           series-a   \n",
       "3                6682.0     10014.0 2008-09-01              angel   \n",
       "4                3619.0     10015.0 2008-10-10           series-a   \n",
       "...                 ...         ...        ...                ...   \n",
       "31935           56184.0    146919.0 2013-11-06              other   \n",
       "31936           56454.0    282847.0 2011-01-31              other   \n",
       "31937           56542.0     55477.0 2011-01-13            venture   \n",
       "31938           56928.0    283492.0 2013-12-03            venture   \n",
       "31939           57063.0    284191.0 2013-12-04            venture   \n",
       "\n",
       "       raised_amount  pre_money_valuation  participants  is_first_round  \\\n",
       "0          5250000.0                  0.0           2.0             0.0   \n",
       "1                NaN                  NaN           NaN             NaN   \n",
       "2          5000000.0                  0.0           3.0             1.0   \n",
       "3                0.0                  0.0           1.0             1.0   \n",
       "4          2000000.0                  0.0           2.0             0.0   \n",
       "...              ...                  ...           ...             ...   \n",
       "31935      4900000.0                  0.0           0.0             1.0   \n",
       "31936      5500000.0                  0.0           0.0             1.0   \n",
       "31937     10633300.0                  0.0           0.0             0.0   \n",
       "31938      3602480.0                  0.0           5.0             1.0   \n",
       "31939      7000000.0                  0.0           4.0             1.0   \n",
       "\n",
       "       is_last_round  \n",
       "0                1.0  \n",
       "1                NaN  \n",
       "2                1.0  \n",
       "3                1.0  \n",
       "4                1.0  \n",
       "...              ...  \n",
       "31935            1.0  \n",
       "31936            1.0  \n",
       "31937            1.0  \n",
       "31938            1.0  \n",
       "31939            1.0  \n",
       "\n",
       "[31940 rows x 9 columns]"
      ]
     },
     "metadata": {},
     "output_type": "display_data"
    }
   ],
   "source": [
    "display(companies)\n",
    "display(rounds)"
   ]
  },
  {
   "cell_type": "markdown",
   "metadata": {},
   "source": [
    "Так как таблица `company_and_rounds` была получена в результате объединения двух других таблиц, сложно сделать разделение ее на эти две таблицы, чтобы в одной(`companies`) была информация о компаниях, а в другой(`rounds`) информация о раундах финансирования."
   ]
  },
  {
   "cell_type": "markdown",
   "metadata": {},
   "source": [
    "<div class=\"alert alert-success\">\n",
    "<font size=\"5\"><b>Комментарий ревьюера</b></font>\n",
    "\n",
    "\n",
    "\n",
    "Успех 👍:\n",
    "\n",
    "\n",
    "\n",
    "- верное решение о разделении на две таблицы\n",
    "    \n",
    "    \n",
    "- дубликаты убраны\n",
    "    \n",
    "    \n",
    "- индексы сброшены    \n",
    " \n",
    "    \n",
    "    \n",
    "<div class=\"alert alert-warning\">\n",
    "\n",
    "\n",
    "Совет 🤔:\n",
    "\n",
    "\n",
    "  \n",
    "- можно найти 5-6 подсказок, указывающих что company_rounds  был слеплен из двух меньше таблиц. В этом случае твоё решение по разделению на 2 таблички будет более обоснованным и понятным      \n",
    "    \n",
    " \n",
    "     \n",
    "\t\n",
    "- Можно проанализировать какие нам данные понадобятся ниже, и убрать неунжные столбцы (заказчиком может смутить ненужная информации в данных)  \t\n",
    "\n",
    "\n",
    "\n",
    "- Дальнейшего анализа это не касается но не кажется тебе что `is_first_round` и `is_last_round` перепутаны местами?\n",
    "\n",
    " \n",
    "    "
   ]
  },
  {
   "cell_type": "markdown",
   "metadata": {},
   "source": [
    "\n",
    "<div class=\"alert alert-info\">\n",
    "<font size=\"5\"><b>Комментарий ревьюера</b></font>\n",
    "\n",
    "    \n",
    "Иван, у тебя старательно выполненная работа, всё чётко, осмысленно. Выводы присутствуют, они чёткие и подробные, графики оформлены аккуратно  \n",
    "\n",
    "    \n",
    "Нет проблем с комментированием кода, тем, кто будет работать с твоим кодом, будет понятен ход твоих мыслей и логика  \n",
    "\n",
    "Хорошая работа с данными, поддерживаю, что не стала использовать заглушку/заполнение данных там, где не нужно  \n",
    "\n",
    "Использовал оптимальные методы  \n",
    " \n",
    "    \n",
    "Я оставил небольшие советы и вопросы (если есть время и желание, можешь воспользоваться/ответить) \n",
    "    \n",
    "    \n",
    "    \n",
    "Жду вторую часть    \n",
    "    \n",
    "<div class=\"alert alert-warning\">\n",
    "\n",
    "Совет 🤔:\n",
    "\n",
    "    \n",
    "    \n",
    "И так как многие студенты ошибаются в трактовке (и пишут анализ не по тому датасету), сразу хочу указать для 1 пункта во второй части на подсказку в брифе: результатом \"Объединение данных\" должна быть таблица с 40.000 примеров (``funding_rounds`` > 0 ИЛИ ``investment_rounds`` > 0 ИЛИ ``status`` == acquired)  \n",
    "\n",
    "    \n",
    "    \n",
    "А также обрати внимание в брифе: \"Далее работайте только с этими данными\".  \n",
    "\n",
    "    \n",
    "Это как раз об этом сорокатысячнике. Пишу, чтобы не оказалось, что будут сделаны выводы совсем по другому датасету"
   ]
  },
  {
   "cell_type": "markdown",
   "metadata": {
    "id": "bmVYhphNrJg2"
   },
   "source": [
    "\n",
    "## Шаг 3. Исследовательский анализ объединённых таблиц\n"
   ]
  },
  {
   "cell_type": "markdown",
   "metadata": {
    "id": "3Di6tCT3rJg2"
   },
   "source": [
    "\n",
    "### 3.1. Объединение данных\n",
    "\n",
    "Объедините данные для ответа на вопросы заказчика, которые касаются интересующих его компаний. Заказчика прежде всего интересуют те компании, которые меняли или готовы менять владельцев. Получение инвестиций или финансирования, по мнению заказчика, означает интерес к покупке или продаже компании.\n",
    "\n",
    "В качестве основы для объединённой таблицы возьмите данные из обработанного датасета `company_and_rounds.csv` — выберите только те компании, у которых указаны значения `funding_rounds` или `investment_rounds` больше нуля, или те, у которых в колонке `status` указано `acquired`. В результирующей таблице должно получиться порядка 40 тысяч компаний.\n",
    "\n",
    "Проверьте полноту и корректность получившейся таблицы. Далее работайте только с этими данными."
   ]
  },
  {
   "cell_type": "code",
   "execution_count": 115,
   "metadata": {
    "id": "kuV1b5MXFg3_"
   },
   "outputs": [
    {
     "data": {
      "text/html": [
       "<div>\n",
       "<style scoped>\n",
       "    .dataframe tbody tr th:only-of-type {\n",
       "        vertical-align: middle;\n",
       "    }\n",
       "\n",
       "    .dataframe tbody tr th {\n",
       "        vertical-align: top;\n",
       "    }\n",
       "\n",
       "    .dataframe thead th {\n",
       "        text-align: right;\n",
       "    }\n",
       "</style>\n",
       "<table border=\"1\" class=\"dataframe\">\n",
       "  <thead>\n",
       "    <tr style=\"text-align: right;\">\n",
       "      <th></th>\n",
       "      <th>company_ID</th>\n",
       "      <th>name</th>\n",
       "      <th>category_code</th>\n",
       "      <th>status</th>\n",
       "      <th>founded_at</th>\n",
       "      <th>closed_at</th>\n",
       "      <th>domain</th>\n",
       "      <th>network_username</th>\n",
       "      <th>country_code</th>\n",
       "      <th>investment_rounds</th>\n",
       "      <th>funding_rounds</th>\n",
       "      <th>funding_total</th>\n",
       "      <th>milestones</th>\n",
       "    </tr>\n",
       "  </thead>\n",
       "  <tbody>\n",
       "    <tr>\n",
       "      <th>0</th>\n",
       "      <td>1.0</td>\n",
       "      <td>Wetpaint</td>\n",
       "      <td>web</td>\n",
       "      <td>operating</td>\n",
       "      <td>2005-10-17</td>\n",
       "      <td>NaT</td>\n",
       "      <td>wetpaint-inc.com</td>\n",
       "      <td>BachelrWetpaint</td>\n",
       "      <td>USA</td>\n",
       "      <td>0.0</td>\n",
       "      <td>3.0</td>\n",
       "      <td>39750000.0</td>\n",
       "      <td>5.0</td>\n",
       "    </tr>\n",
       "    <tr>\n",
       "      <th>1</th>\n",
       "      <td>10.0</td>\n",
       "      <td>Flektor</td>\n",
       "      <td>games_video</td>\n",
       "      <td>acquired</td>\n",
       "      <td>NaT</td>\n",
       "      <td>NaT</td>\n",
       "      <td>flektor.com</td>\n",
       "      <td>NaN</td>\n",
       "      <td>USA</td>\n",
       "      <td>0.0</td>\n",
       "      <td>0.0</td>\n",
       "      <td>0.0</td>\n",
       "      <td>0.0</td>\n",
       "    </tr>\n",
       "    <tr>\n",
       "      <th>2</th>\n",
       "      <td>100.0</td>\n",
       "      <td>There</td>\n",
       "      <td>games_video</td>\n",
       "      <td>acquired</td>\n",
       "      <td>NaT</td>\n",
       "      <td>NaT</td>\n",
       "      <td>there.com</td>\n",
       "      <td>NaN</td>\n",
       "      <td>USA</td>\n",
       "      <td>0.0</td>\n",
       "      <td>0.0</td>\n",
       "      <td>0.0</td>\n",
       "      <td>4.0</td>\n",
       "    </tr>\n",
       "    <tr>\n",
       "      <th>13</th>\n",
       "      <td>1001.0</td>\n",
       "      <td>FriendFeed</td>\n",
       "      <td>web</td>\n",
       "      <td>acquired</td>\n",
       "      <td>2007-10-01</td>\n",
       "      <td>NaT</td>\n",
       "      <td>friendfeed.com</td>\n",
       "      <td>friendfeed</td>\n",
       "      <td>USA</td>\n",
       "      <td>0.0</td>\n",
       "      <td>1.0</td>\n",
       "      <td>5000000.0</td>\n",
       "      <td>3.0</td>\n",
       "    </tr>\n",
       "    <tr>\n",
       "      <th>18</th>\n",
       "      <td>10014.0</td>\n",
       "      <td>Mobclix</td>\n",
       "      <td>mobile</td>\n",
       "      <td>acquired</td>\n",
       "      <td>2008-03-01</td>\n",
       "      <td>NaT</td>\n",
       "      <td>mobclix.com</td>\n",
       "      <td>mobclix</td>\n",
       "      <td>USA</td>\n",
       "      <td>0.0</td>\n",
       "      <td>1.0</td>\n",
       "      <td>0.0</td>\n",
       "      <td>4.0</td>\n",
       "    </tr>\n",
       "    <tr>\n",
       "      <th>...</th>\n",
       "      <td>...</td>\n",
       "      <td>...</td>\n",
       "      <td>...</td>\n",
       "      <td>...</td>\n",
       "      <td>...</td>\n",
       "      <td>...</td>\n",
       "      <td>...</td>\n",
       "      <td>...</td>\n",
       "      <td>...</td>\n",
       "      <td>...</td>\n",
       "      <td>...</td>\n",
       "      <td>...</td>\n",
       "      <td>...</td>\n",
       "    </tr>\n",
       "    <tr>\n",
       "      <th>196544</th>\n",
       "      <td>1344.0</td>\n",
       "      <td>Vobile</td>\n",
       "      <td>web</td>\n",
       "      <td>operating</td>\n",
       "      <td>2005-01-01</td>\n",
       "      <td>NaT</td>\n",
       "      <td>vobileinc.com</td>\n",
       "      <td>networkmobile</td>\n",
       "      <td>USA</td>\n",
       "      <td>0.0</td>\n",
       "      <td>1.0</td>\n",
       "      <td>10000000.0</td>\n",
       "      <td>0.0</td>\n",
       "    </tr>\n",
       "    <tr>\n",
       "      <th>196545</th>\n",
       "      <td>142181.0</td>\n",
       "      <td>Stop Being Watched</td>\n",
       "      <td>software</td>\n",
       "      <td>operating</td>\n",
       "      <td>2010-06-10</td>\n",
       "      <td>NaT</td>\n",
       "      <td>stopbeingwatched.com</td>\n",
       "      <td>SBWinfonetwork</td>\n",
       "      <td>USA</td>\n",
       "      <td>0.0</td>\n",
       "      <td>1.0</td>\n",
       "      <td>500000.0</td>\n",
       "      <td>1.0</td>\n",
       "    </tr>\n",
       "    <tr>\n",
       "      <th>196549</th>\n",
       "      <td>3429.0</td>\n",
       "      <td>Zend Technologies</td>\n",
       "      <td>software</td>\n",
       "      <td>operating</td>\n",
       "      <td>1999-01-01</td>\n",
       "      <td>NaT</td>\n",
       "      <td>zend.com</td>\n",
       "      <td>networkzend</td>\n",
       "      <td>USA</td>\n",
       "      <td>0.0</td>\n",
       "      <td>4.0</td>\n",
       "      <td>44000000.0</td>\n",
       "      <td>6.0</td>\n",
       "    </tr>\n",
       "    <tr>\n",
       "      <th>196550</th>\n",
       "      <td>7748.0</td>\n",
       "      <td>Flowgram</td>\n",
       "      <td>web</td>\n",
       "      <td>closed</td>\n",
       "      <td>2007-06-01</td>\n",
       "      <td>2008-06-11</td>\n",
       "      <td>flowgram.com</td>\n",
       "      <td>network</td>\n",
       "      <td>USA</td>\n",
       "      <td>0.0</td>\n",
       "      <td>1.0</td>\n",
       "      <td>1300000.0</td>\n",
       "      <td>3.0</td>\n",
       "    </tr>\n",
       "    <tr>\n",
       "      <th>196552</th>\n",
       "      <td>43233.0</td>\n",
       "      <td>Photonet</td>\n",
       "      <td>photo_video</td>\n",
       "      <td>acquired</td>\n",
       "      <td>2010-03-01</td>\n",
       "      <td>NaT</td>\n",
       "      <td>Photonet.com</td>\n",
       "      <td>Photonet</td>\n",
       "      <td>USA</td>\n",
       "      <td>0.0</td>\n",
       "      <td>3.0</td>\n",
       "      <td>57500000.0</td>\n",
       "      <td>3.0</td>\n",
       "    </tr>\n",
       "  </tbody>\n",
       "</table>\n",
       "<p>40747 rows × 13 columns</p>\n",
       "</div>"
      ],
      "text/plain": [
       "        company_ID                name category_code     status founded_at  \\\n",
       "0              1.0            Wetpaint           web  operating 2005-10-17   \n",
       "1             10.0             Flektor   games_video   acquired        NaT   \n",
       "2            100.0               There   games_video   acquired        NaT   \n",
       "13          1001.0          FriendFeed           web   acquired 2007-10-01   \n",
       "18         10014.0             Mobclix        mobile   acquired 2008-03-01   \n",
       "...            ...                 ...           ...        ...        ...   \n",
       "196544      1344.0              Vobile           web  operating 2005-01-01   \n",
       "196545    142181.0  Stop Being Watched      software  operating 2010-06-10   \n",
       "196549      3429.0   Zend Technologies      software  operating 1999-01-01   \n",
       "196550      7748.0            Flowgram           web     closed 2007-06-01   \n",
       "196552     43233.0            Photonet   photo_video   acquired 2010-03-01   \n",
       "\n",
       "        closed_at                domain network_username country_code  \\\n",
       "0             NaT      wetpaint-inc.com  BachelrWetpaint          USA   \n",
       "1             NaT           flektor.com              NaN          USA   \n",
       "2             NaT             there.com              NaN          USA   \n",
       "13            NaT        friendfeed.com       friendfeed          USA   \n",
       "18            NaT           mobclix.com          mobclix          USA   \n",
       "...           ...                   ...              ...          ...   \n",
       "196544        NaT         vobileinc.com    networkmobile          USA   \n",
       "196545        NaT  stopbeingwatched.com   SBWinfonetwork          USA   \n",
       "196549        NaT              zend.com      networkzend          USA   \n",
       "196550 2008-06-11          flowgram.com          network          USA   \n",
       "196552        NaT          Photonet.com         Photonet          USA   \n",
       "\n",
       "        investment_rounds  funding_rounds  funding_total  milestones  \n",
       "0                     0.0             3.0     39750000.0         5.0  \n",
       "1                     0.0             0.0            0.0         0.0  \n",
       "2                     0.0             0.0            0.0         4.0  \n",
       "13                    0.0             1.0      5000000.0         3.0  \n",
       "18                    0.0             1.0            0.0         4.0  \n",
       "...                   ...             ...            ...         ...  \n",
       "196544                0.0             1.0     10000000.0         0.0  \n",
       "196545                0.0             1.0       500000.0         1.0  \n",
       "196549                0.0             4.0     44000000.0         6.0  \n",
       "196550                0.0             1.0      1300000.0         3.0  \n",
       "196552                0.0             3.0     57500000.0         3.0  \n",
       "\n",
       "[40747 rows x 13 columns]"
      ]
     },
     "execution_count": 115,
     "metadata": {},
     "output_type": "execute_result"
    }
   ],
   "source": [
    "# Отбираем нужные строки\n",
    "df_merged_3 = companies[(((~companies['funding_rounds'].isna()) & (companies['funding_rounds'] > 0)) | (companies['investment_rounds'] > 0)) | (companies['status'] == 'acquired')]\n",
    "df_merged_3"
   ]
  },
  {
   "cell_type": "markdown",
   "metadata": {},
   "source": [
    "<div class=\"alert alert-success\">\n",
    "<font size=\"5\"><b>Комментарий ревьюераV2</b></font>\n",
    "\n",
    "\n",
    "\n",
    "Успех 👍:\n",
    "\n",
    "\n",
    "\n",
    "  \n",
    "\n",
    "Как просили в проекте"
   ]
  },
  {
   "cell_type": "markdown",
   "metadata": {
    "id": "DFHINkV3rJg2"
   },
   "source": [
    "\n",
    "### 3.2. Анализ выбросов\n",
    "\n",
    "Заказчика интересует обычный для рассматриваемого периода размер средств, который предоставлялся компаниям.\n",
    "\n",
    "- По предобработанному столбцу `funding_total` графическим способом оцените, какой размер общего финансирования для одной компании будет типичным, а какой — выбивающимся.\n",
    "- В процессе расчёта значений обратите внимание, например, на показатели, возвращаемые методом `.describe()`, — объясните их. Применимы ли к таким данным обычные способы нахождения типичных значений?"
   ]
  },
  {
   "cell_type": "code",
   "execution_count": 132,
   "metadata": {
    "id": "8jm75fKXrJg2",
    "vscode": {
     "languageId": "plaintext"
    }
   },
   "outputs": [
    {
     "data": {
      "text/plain": [
       "count    4.074700e+04\n",
       "mean     1.013561e+07\n",
       "std      5.646436e+07\n",
       "min      0.000000e+00\n",
       "25%      0.000000e+00\n",
       "50%      6.000000e+05\n",
       "75%      5.650650e+06\n",
       "max      5.700000e+09\n",
       "Name: funding_total, dtype: float64"
      ]
     },
     "execution_count": 132,
     "metadata": {},
     "output_type": "execute_result"
    }
   ],
   "source": [
    "df_merged_3['funding_total'].describe()"
   ]
  },
  {
   "cell_type": "markdown",
   "metadata": {
    "id": "S1jrfr7rFhcw"
   },
   "source": [
    "Так как в данных слишком много выбросов, то при построении графиков в обычном формате, нельзя точно определить значения, поэтому построим графики в логарифмическом масштабе, чтобы более корректно увидеть распределение"
   ]
  },
  {
   "cell_type": "code",
   "execution_count": 117,
   "metadata": {},
   "outputs": [
    {
     "data": {
      "text/plain": [
       "<AxesSubplot:ylabel='log_funding'>"
      ]
     },
     "execution_count": 117,
     "metadata": {},
     "output_type": "execute_result"
    },
    {
     "data": {
      "image/png": "[encoded data removed]",
      "text/plain": [
       "<Figure size 432x288 with 1 Axes>"
      ]
     },
     "metadata": {
      "needs_background": "light"
     },
     "output_type": "display_data"
    }
   ],
   "source": [
    "df_merged_3 = df_merged_3.copy()  # Явно создаем копию\n",
    "# Переведем данные из столбца 'funding_total' в логарифм\n",
    "df_merged_3['log_funding'] = np.log1p(df_merged_3['funding_total'])  # log(1 + x), чтобы избежать log(0)\n",
    "# Посторим'скрипичный график'\n",
    "sns.violinplot(data=df_merged_3, y='log_funding')"
   ]
  },
  {
   "cell_type": "code",
   "execution_count": 118,
   "metadata": {},
   "outputs": [
    {
     "data": {
      "image/png": "[encoded data removed]",
      "text/plain": [
       "<Figure size 432x288 with 1 Axes>"
      ]
     },
     "metadata": {
      "needs_background": "light"
     },
     "output_type": "display_data"
    }
   ],
   "source": [
    "# Построим диаграмму 'ящик с усами'\n",
    "boxplot = df_merged_3.boxplot(column='log_funding',\n",
    "                     vert=False,\n",
    "                     figsize=(6, 4))"
   ]
  },
  {
   "cell_type": "code",
   "execution_count": 119,
   "metadata": {},
   "outputs": [
    {
     "data": {
      "text/plain": [
       "count    40747.000000\n",
       "mean         9.991200\n",
       "std          7.030065\n",
       "min          0.000000\n",
       "25%          0.000000\n",
       "50%         13.304687\n",
       "75%         15.547281\n",
       "max         22.463732\n",
       "Name: log_funding, dtype: float64"
      ]
     },
     "execution_count": 119,
     "metadata": {},
     "output_type": "execute_result"
    }
   ],
   "source": [
    "df_merged_3['log_funding'].describe()"
   ]
  },
  {
   "cell_type": "code",
   "execution_count": 120,
   "metadata": {},
   "outputs": [
    {
     "name": "stdout",
     "output_type": "stream",
     "text": [
      "Типичное финансирование: 597,195\n",
      "Нормальный диапазон: 0 - 5,666,033\n",
      "Выбросы начинаются от: 5,666,033\n"
     ]
    }
   ],
   "source": [
    "med_fund = np.expm1(13.3)  # Среднее\n",
    "low = np.expm1(0)  #25%\n",
    "up = np.expm1(15.55)  #75%\n",
    "gran = np.expm1(15.55)  # Граница\n",
    "\n",
    "print(f\"Типичное финансирование: {med_fund:,.0f}\")\n",
    "print(f\"Нормальный диапазон: {low:,.0f} - {up:,.0f}\")\n",
    "print(f\"Выбросы начинаются от: {gran:,.0f}\")"
   ]
  },
  {
   "cell_type": "markdown",
   "metadata": {},
   "source": [
    "- Типичный размер общего финансирования находится в диапазоне от 0 до 5,600,000.\n",
    "- Начиная с 5,600,000 размер финансирования будет выбивающимся для многих компаний"
   ]
  },
  {
   "cell_type": "markdown",
   "metadata": {},
   "source": [
    "\n",
    "<div class=\"alert alert-success\">\n",
    "<font size=\"5\"><b>Комментарий ревьюераV2</b></font>\n",
    "\n",
    "\n",
    "Успех 👍:\n",
    "\n",
    "\n",
    "\n",
    " \n",
    "Есть работа с графиками чтобы визуализировать выбросы и типичные значения \n",
    " \n",
    "\n",
    "    \n",
    "    \n",
    "    \n",
    "\n",
    "<div class=\"alert alert-warning\">\n",
    " \n",
    "\n",
    "Совет 🤔:\n",
    "\n",
    " \n",
    " \n",
    " \n",
    "- Стоит проанализировать describe, раз об этом прямо просят в проекте (в частности о чём говорит разница между средней и медианой). .describe(), при всей его простоте позволяет получить сводку основных статистических показателей    \n",
    "    \n",
    " \n",
    "    \n",
    " \n",
    "- Можно было   построить   еще один boxplot, отключив демонстрацию выбросов (showfliers=False у seaborn),  так будет лучше графически видны медиана и квантили     \n",
    " \n",
    "        \n",
    "    \n",
    "- Для определения зоны   начала выбросов, можно использовать гистограмму. Если данные имеют большой разброс, есть вариант добавить логарифмическую шкалу для гистограммы.  С логарифмической шкалой все значения (малые и большие) будут равномерно распределены на графике, что облегчит анализ, мы увидим данные которые могут быть скрыты из-за сильного перекоса,  и выбросы будут визуально лучше отделены от основной массы данных    \n",
    "    \n",
    " \n",
    "    # код ревьюера\n",
    "    (схема)    \n",
    "    plt.figure(figsize=(10, 6))\n",
    "    plt.hist(company_df['funding_total'], bins=50, color='skyblue', edgecolor='black', log=True)\n",
    "    plt.xscale('log')  # Логарифмическая шкала по оси X\n",
    "    plt.xlabel('Общее финансирование (логарифмическая шкала)')\n",
    "    plt.ylabel('Количество компаний')\n",
    "    plt.title('Распределение общего финансирования (логарифмическая шкала)')\n",
    "    plt.show()    \n",
    "    \n",
    "     \n",
    "    "
   ]
  },
  {
   "cell_type": "markdown",
   "metadata": {
    "id": "JqkRAQrIrJg2"
   },
   "source": [
    "\n",
    "### 3.3. Куплены забесплатно?\n",
    "\n",
    "- Исследуйте компании, которые были проданы за ноль или за один доллар, и при этом известно, что у них был ненулевой общий объём финансирования.\n",
    "\n",
    "- Рассчитайте аналитически верхнюю и нижнюю границу выбросов для столбца `funding_total` и укажите, каким процентилям границы соответствуют."
   ]
  },
  {
   "cell_type": "code",
   "execution_count": 121,
   "metadata": {
    "id": "wJHXCBwwrJg2",
    "vscode": {
     "languageId": "plaintext"
    }
   },
   "outputs": [
    {
     "data": {
      "text/html": [
       "<div>\n",
       "<style scoped>\n",
       "    .dataframe tbody tr th:only-of-type {\n",
       "        vertical-align: middle;\n",
       "    }\n",
       "\n",
       "    .dataframe tbody tr th {\n",
       "        vertical-align: top;\n",
       "    }\n",
       "\n",
       "    .dataframe thead th {\n",
       "        text-align: right;\n",
       "    }\n",
       "</style>\n",
       "<table border=\"1\" class=\"dataframe\">\n",
       "  <thead>\n",
       "    <tr style=\"text-align: right;\">\n",
       "      <th></th>\n",
       "      <th>id</th>\n",
       "      <th>acquiring_company_id</th>\n",
       "      <th>acquired_company_id</th>\n",
       "      <th>term_code</th>\n",
       "      <th>price_amount</th>\n",
       "      <th>acquired_at</th>\n",
       "      <th>company_ID</th>\n",
       "      <th>name</th>\n",
       "      <th>category_code</th>\n",
       "      <th>status</th>\n",
       "      <th>founded_at</th>\n",
       "      <th>closed_at</th>\n",
       "      <th>domain</th>\n",
       "      <th>network_username</th>\n",
       "      <th>country_code</th>\n",
       "      <th>investment_rounds</th>\n",
       "      <th>funding_rounds</th>\n",
       "      <th>funding_total</th>\n",
       "      <th>milestones</th>\n",
       "      <th>log_funding</th>\n",
       "    </tr>\n",
       "  </thead>\n",
       "  <tbody>\n",
       "    <tr>\n",
       "      <th>7</th>\n",
       "      <td>14</td>\n",
       "      <td>318</td>\n",
       "      <td>314</td>\n",
       "      <td>cash</td>\n",
       "      <td>0</td>\n",
       "      <td>2006-10-01</td>\n",
       "      <td>314.0</td>\n",
       "      <td>Reddit</td>\n",
       "      <td>web</td>\n",
       "      <td>acquired</td>\n",
       "      <td>2005-01-01</td>\n",
       "      <td>NaT</td>\n",
       "      <td>reddit.com</td>\n",
       "      <td>reddit</td>\n",
       "      <td>USA</td>\n",
       "      <td>0.0</td>\n",
       "      <td>1.0</td>\n",
       "      <td>100000.0</td>\n",
       "      <td>3.0</td>\n",
       "      <td>11.512935</td>\n",
       "    </tr>\n",
       "    <tr>\n",
       "      <th>49</th>\n",
       "      <td>65</td>\n",
       "      <td>146</td>\n",
       "      <td>698</td>\n",
       "      <td>cash</td>\n",
       "      <td>0</td>\n",
       "      <td>2007-08-01</td>\n",
       "      <td>698.0</td>\n",
       "      <td>Maya's Mom</td>\n",
       "      <td>web</td>\n",
       "      <td>acquired</td>\n",
       "      <td>NaT</td>\n",
       "      <td>NaT</td>\n",
       "      <td>mayasmom.com</td>\n",
       "      <td>NaN</td>\n",
       "      <td>USA</td>\n",
       "      <td>0.0</td>\n",
       "      <td>1.0</td>\n",
       "      <td>1000000.0</td>\n",
       "      <td>2.0</td>\n",
       "      <td>13.815512</td>\n",
       "    </tr>\n",
       "    <tr>\n",
       "      <th>51</th>\n",
       "      <td>67</td>\n",
       "      <td>156</td>\n",
       "      <td>718</td>\n",
       "      <td>cash</td>\n",
       "      <td>0</td>\n",
       "      <td>2007-08-01</td>\n",
       "      <td>718.0</td>\n",
       "      <td>Glimpse</td>\n",
       "      <td>ecommerce</td>\n",
       "      <td>acquired</td>\n",
       "      <td>NaT</td>\n",
       "      <td>NaT</td>\n",
       "      <td>glimpse.com</td>\n",
       "      <td>NaN</td>\n",
       "      <td>USA</td>\n",
       "      <td>0.0</td>\n",
       "      <td>1.0</td>\n",
       "      <td>4000000.0</td>\n",
       "      <td>0.0</td>\n",
       "      <td>15.201805</td>\n",
       "    </tr>\n",
       "    <tr>\n",
       "      <th>65</th>\n",
       "      <td>87</td>\n",
       "      <td>1035</td>\n",
       "      <td>175</td>\n",
       "      <td>cash</td>\n",
       "      <td>0</td>\n",
       "      <td>2007-10-01</td>\n",
       "      <td>175.0</td>\n",
       "      <td>Newsvine</td>\n",
       "      <td>web</td>\n",
       "      <td>acquired</td>\n",
       "      <td>2005-03-31</td>\n",
       "      <td>NaT</td>\n",
       "      <td>newsvine.com</td>\n",
       "      <td>NaN</td>\n",
       "      <td>USA</td>\n",
       "      <td>0.0</td>\n",
       "      <td>1.0</td>\n",
       "      <td>1250000.0</td>\n",
       "      <td>0.0</td>\n",
       "      <td>14.038655</td>\n",
       "    </tr>\n",
       "    <tr>\n",
       "      <th>85</th>\n",
       "      <td>115</td>\n",
       "      <td>396</td>\n",
       "      <td>1582</td>\n",
       "      <td>cash</td>\n",
       "      <td>0</td>\n",
       "      <td>2007-12-01</td>\n",
       "      <td>1582.0</td>\n",
       "      <td>BeliefNet</td>\n",
       "      <td>web</td>\n",
       "      <td>acquired</td>\n",
       "      <td>2008-01-01</td>\n",
       "      <td>NaT</td>\n",
       "      <td>beliefnet.com</td>\n",
       "      <td>eliefnet</td>\n",
       "      <td>USA</td>\n",
       "      <td>0.0</td>\n",
       "      <td>1.0</td>\n",
       "      <td>7000000.0</td>\n",
       "      <td>3.0</td>\n",
       "      <td>15.761421</td>\n",
       "    </tr>\n",
       "    <tr>\n",
       "      <th>...</th>\n",
       "      <td>...</td>\n",
       "      <td>...</td>\n",
       "      <td>...</td>\n",
       "      <td>...</td>\n",
       "      <td>...</td>\n",
       "      <td>...</td>\n",
       "      <td>...</td>\n",
       "      <td>...</td>\n",
       "      <td>...</td>\n",
       "      <td>...</td>\n",
       "      <td>...</td>\n",
       "      <td>...</td>\n",
       "      <td>...</td>\n",
       "      <td>...</td>\n",
       "      <td>...</td>\n",
       "      <td>...</td>\n",
       "      <td>...</td>\n",
       "      <td>...</td>\n",
       "      <td>...</td>\n",
       "      <td>...</td>\n",
       "    </tr>\n",
       "    <tr>\n",
       "      <th>9363</th>\n",
       "      <td>10481</td>\n",
       "      <td>29</td>\n",
       "      <td>165128</td>\n",
       "      <td>NaN</td>\n",
       "      <td>0</td>\n",
       "      <td>2013-12-06</td>\n",
       "      <td>165128.0</td>\n",
       "      <td>EvntLive</td>\n",
       "      <td>music</td>\n",
       "      <td>acquired</td>\n",
       "      <td>NaT</td>\n",
       "      <td>NaT</td>\n",
       "      <td>evntliveinc.com</td>\n",
       "      <td>EVNTLIVE</td>\n",
       "      <td>USA</td>\n",
       "      <td>0.0</td>\n",
       "      <td>1.0</td>\n",
       "      <td>2300000.0</td>\n",
       "      <td>2.0</td>\n",
       "      <td>14.648420</td>\n",
       "    </tr>\n",
       "    <tr>\n",
       "      <th>9382</th>\n",
       "      <td>10500</td>\n",
       "      <td>42365</td>\n",
       "      <td>79582</td>\n",
       "      <td>NaN</td>\n",
       "      <td>0</td>\n",
       "      <td>2013-12-10</td>\n",
       "      <td>79582.0</td>\n",
       "      <td>lucierna</td>\n",
       "      <td>software</td>\n",
       "      <td>acquired</td>\n",
       "      <td>2009-05-22</td>\n",
       "      <td>NaT</td>\n",
       "      <td>lucierna.com</td>\n",
       "      <td>lucierna_inc</td>\n",
       "      <td>ESP</td>\n",
       "      <td>0.0</td>\n",
       "      <td>1.0</td>\n",
       "      <td>2106600.0</td>\n",
       "      <td>0.0</td>\n",
       "      <td>14.560586</td>\n",
       "    </tr>\n",
       "    <tr>\n",
       "      <th>9385</th>\n",
       "      <td>10503</td>\n",
       "      <td>1434</td>\n",
       "      <td>60436</td>\n",
       "      <td>NaN</td>\n",
       "      <td>0</td>\n",
       "      <td>2013-12-10</td>\n",
       "      <td>60436.0</td>\n",
       "      <td>Cloudmeter</td>\n",
       "      <td>enterprise</td>\n",
       "      <td>acquired</td>\n",
       "      <td>2007-04-01</td>\n",
       "      <td>NaT</td>\n",
       "      <td>cloudmeter.com</td>\n",
       "      <td>cloudmeter</td>\n",
       "      <td>USA</td>\n",
       "      <td>0.0</td>\n",
       "      <td>1.0</td>\n",
       "      <td>5000000.0</td>\n",
       "      <td>2.0</td>\n",
       "      <td>15.424949</td>\n",
       "    </tr>\n",
       "    <tr>\n",
       "      <th>9388</th>\n",
       "      <td>10507</td>\n",
       "      <td>29</td>\n",
       "      <td>169154</td>\n",
       "      <td>NaN</td>\n",
       "      <td>0</td>\n",
       "      <td>2013-12-09</td>\n",
       "      <td>169154.0</td>\n",
       "      <td>Quik.io</td>\n",
       "      <td>software</td>\n",
       "      <td>acquired</td>\n",
       "      <td>2011-02-03</td>\n",
       "      <td>NaT</td>\n",
       "      <td>quik.io</td>\n",
       "      <td>quik_io</td>\n",
       "      <td>USA</td>\n",
       "      <td>0.0</td>\n",
       "      <td>2.0</td>\n",
       "      <td>1280000.0</td>\n",
       "      <td>2.0</td>\n",
       "      <td>14.062371</td>\n",
       "    </tr>\n",
       "    <tr>\n",
       "      <th>9391</th>\n",
       "      <td>10513</td>\n",
       "      <td>43761</td>\n",
       "      <td>43761</td>\n",
       "      <td>NaN</td>\n",
       "      <td>0</td>\n",
       "      <td>2011-11-22</td>\n",
       "      <td>43761.0</td>\n",
       "      <td>Excaliard Pharmaceuticals</td>\n",
       "      <td>biotech</td>\n",
       "      <td>acquired</td>\n",
       "      <td>NaT</td>\n",
       "      <td>NaT</td>\n",
       "      <td>excaliard.com</td>\n",
       "      <td>NaN</td>\n",
       "      <td>USA</td>\n",
       "      <td>0.0</td>\n",
       "      <td>1.0</td>\n",
       "      <td>15500000.0</td>\n",
       "      <td>0.0</td>\n",
       "      <td>16.556351</td>\n",
       "    </tr>\n",
       "  </tbody>\n",
       "</table>\n",
       "<p>1618 rows × 20 columns</p>\n",
       "</div>"
      ],
      "text/plain": [
       "         id  acquiring_company_id  acquired_company_id term_code  \\\n",
       "7        14                   318                  314      cash   \n",
       "49       65                   146                  698      cash   \n",
       "51       67                   156                  718      cash   \n",
       "65       87                  1035                  175      cash   \n",
       "85      115                   396                 1582      cash   \n",
       "...     ...                   ...                  ...       ...   \n",
       "9363  10481                    29               165128       NaN   \n",
       "9382  10500                 42365                79582       NaN   \n",
       "9385  10503                  1434                60436       NaN   \n",
       "9388  10507                    29               169154       NaN   \n",
       "9391  10513                 43761                43761       NaN   \n",
       "\n",
       "      price_amount acquired_at  company_ID                       name  \\\n",
       "7                0  2006-10-01       314.0                     Reddit   \n",
       "49               0  2007-08-01       698.0                 Maya's Mom   \n",
       "51               0  2007-08-01       718.0                    Glimpse   \n",
       "65               0  2007-10-01       175.0                   Newsvine   \n",
       "85               0  2007-12-01      1582.0                  BeliefNet   \n",
       "...            ...         ...         ...                        ...   \n",
       "9363             0  2013-12-06    165128.0                   EvntLive   \n",
       "9382             0  2013-12-10     79582.0                   lucierna   \n",
       "9385             0  2013-12-10     60436.0                 Cloudmeter   \n",
       "9388             0  2013-12-09    169154.0                    Quik.io   \n",
       "9391             0  2011-11-22     43761.0  Excaliard Pharmaceuticals   \n",
       "\n",
       "     category_code    status founded_at closed_at           domain  \\\n",
       "7              web  acquired 2005-01-01       NaT       reddit.com   \n",
       "49             web  acquired        NaT       NaT     mayasmom.com   \n",
       "51       ecommerce  acquired        NaT       NaT      glimpse.com   \n",
       "65             web  acquired 2005-03-31       NaT     newsvine.com   \n",
       "85             web  acquired 2008-01-01       NaT    beliefnet.com   \n",
       "...            ...       ...        ...       ...              ...   \n",
       "9363         music  acquired        NaT       NaT  evntliveinc.com   \n",
       "9382      software  acquired 2009-05-22       NaT     lucierna.com   \n",
       "9385    enterprise  acquired 2007-04-01       NaT   cloudmeter.com   \n",
       "9388      software  acquired 2011-02-03       NaT          quik.io   \n",
       "9391       biotech  acquired        NaT       NaT    excaliard.com   \n",
       "\n",
       "     network_username country_code  investment_rounds  funding_rounds  \\\n",
       "7              reddit          USA                0.0             1.0   \n",
       "49                NaN          USA                0.0             1.0   \n",
       "51                NaN          USA                0.0             1.0   \n",
       "65                NaN          USA                0.0             1.0   \n",
       "85           eliefnet          USA                0.0             1.0   \n",
       "...               ...          ...                ...             ...   \n",
       "9363         EVNTLIVE          USA                0.0             1.0   \n",
       "9382     lucierna_inc          ESP                0.0             1.0   \n",
       "9385       cloudmeter          USA                0.0             1.0   \n",
       "9388          quik_io          USA                0.0             2.0   \n",
       "9391              NaN          USA                0.0             1.0   \n",
       "\n",
       "      funding_total  milestones  log_funding  \n",
       "7          100000.0         3.0    11.512935  \n",
       "49        1000000.0         2.0    13.815512  \n",
       "51        4000000.0         0.0    15.201805  \n",
       "65        1250000.0         0.0    14.038655  \n",
       "85        7000000.0         3.0    15.761421  \n",
       "...             ...         ...          ...  \n",
       "9363      2300000.0         2.0    14.648420  \n",
       "9382      2106600.0         0.0    14.560586  \n",
       "9385      5000000.0         2.0    15.424949  \n",
       "9388      1280000.0         2.0    14.062371  \n",
       "9391     15500000.0         0.0    16.556351  \n",
       "\n",
       "[1618 rows x 20 columns]"
      ]
     },
     "execution_count": 121,
     "metadata": {},
     "output_type": "execute_result"
    }
   ],
   "source": [
    "# Объединим таблицы 'acquisition' и 'df_merged_3'\n",
    "df_merged_ac = acquisition.merge(df_merged_3, left_on = 'acquired_company_id', right_on = 'company_ID', how = 'left')\n",
    "# Выделим таблицу, согласно условию\n",
    "df_merged_ac_3 = df_merged_ac[((df_merged_ac['price_amount'] == 1) | (df_merged_ac['price_amount'] == 0)) & (df_merged_ac['funding_total'] > 0)]\n",
    "df_merged_ac_3"
   ]
  },
  {
   "cell_type": "markdown",
   "metadata": {},
   "source": [
    " \n",
    "<div class=\"alert alert-warning\">\n",
    "<font size=\"5\"><b>Комментарий ревьюераV2</b></font>\n",
    "\n",
    "\n",
    "\n",
    "Совет 🤔:\n",
    "\n",
    "\n",
    "Объединение проведено правильно (acquired_company_id)\n",
    "    \n",
    "Но посоветую сделать проверку на дубликаты по company_id, и дать объяснение откуда они   могли взяться,  и обосновать стоит их удалять  или нет\n",
    "\n",
    "\n",
    " "
   ]
  },
  {
   "cell_type": "code",
   "execution_count": 122,
   "metadata": {
    "id": "9IDTHfYQFhuX"
   },
   "outputs": [
    {
     "name": "stdout",
     "output_type": "stream",
     "text": [
      "Нижняя граница выбросов: -18,250,000\n",
      "Верхняя граница выбросов: 35,750,000\n"
     ]
    }
   ],
   "source": [
    "# Рассчитаем верхнюю и нижнюю границу с помощью IQR\n",
    "# Вычислим квартили Q1 и Q3\n",
    "Q1 = df_merged_ac_3['funding_total'].quantile(0.25)\n",
    "Q3 = df_merged_ac_3['funding_total'].quantile(0.75)\n",
    "# Вычислим IQR\n",
    "IQR = Q3 - Q1\n",
    "up_bound = Q3 + 1.5*IQR\n",
    "low_bound = Q1 - 1.5*IQR\n",
    "print(f\"Нижняя граница выбросов: {low_bound:,.0f}\")\n",
    "print(f\"Верхняя граница выбросов: {up_bound:,.0f}\")"
   ]
  },
  {
   "cell_type": "code",
   "execution_count": 123,
   "metadata": {},
   "outputs": [
    {
     "name": "stdout",
     "output_type": "stream",
     "text": [
      "Нижняя граница выбросов (-18,250,000.00) соответствует приблизительно 0.00-му процентилю\n",
      "Верхняя граница выбросов (35,750,000.00) соответствует приблизительно 90.91-му процентилю\n"
     ]
    }
   ],
   "source": [
    "# С помощью функции percentileofscore вычислим каким перцентилям соответствуют рассчитанные значения\n",
    "low_per = percentileofscore(df_merged_ac_3['funding_total'], low_bound, kind='rank')\n",
    "up_per = percentileofscore(df_merged_ac_3['funding_total'], up_bound, kind='rank')\n",
    "\n",
    "print(f\"Нижняя граница выбросов ({low_bound:,.2f}) соответствует приблизительно {low_per:.2f}-му процентилю\")\n",
    "print(f\"Верхняя граница выбросов ({up_bound:,.2f}) соответствует приблизительно {up_per:.2f}-му процентилю\")"
   ]
  },
  {
   "cell_type": "code",
   "execution_count": 124,
   "metadata": {},
   "outputs": [
    {
     "data": {
      "text/plain": [
       "count    1.618000e+03\n",
       "mean     1.815296e+07\n",
       "std      1.445030e+08\n",
       "min      3.750000e+03\n",
       "25%      2.000000e+06\n",
       "50%      6.000000e+06\n",
       "75%      1.550000e+07\n",
       "max      5.700000e+09\n",
       "Name: funding_total, dtype: float64"
      ]
     },
     "execution_count": 124,
     "metadata": {},
     "output_type": "execute_result"
    }
   ],
   "source": [
    "df_merged_ac_3['funding_total'].describe()"
   ]
  },
  {
   "cell_type": "markdown",
   "metadata": {},
   "source": [
    "- Значения, рассчитанные по перцентилям будут лучше подходить для рассматриваемых данных\n",
    "\n",
    "Так как в данных присутствует большое количество выбросов, а также сильный разброс значений(стандартное отклонение 144 млн), то границы рассчитанные с помощью метода IQR не совсем корректны (нижняя граница получилась отрицательной). Поэтому взять значения, рассчитанные по перцентилям будет более правильным решением."
   ]
  },
  {
   "cell_type": "markdown",
   "metadata": {},
   "source": [
    " \n",
    "<div class=\"alert alert-success\">\n",
    "<font size=\"5\"><b>Комментарий ревьюераV2</b></font>\n",
    "\n",
    "\n",
    "\n",
    "Успех 👍:\n",
    "\n",
    "\n",
    "\n",
    "- Верно обращено внимание на невозможность отрицательного числа  (Тут стоило поступить аналитически сделать замену на ноль)  \n",
    "    \n",
    "    \n",
    "- Прецентили подсчитаны верно\n",
    "\n",
    "\n",
    "- Проблема не только в отрицательном числе но и в том что IQR Предполагает нормальное распределение и отсутствие сильных выбросов\n",
    "                                                                 \n",
    "                                                                 \n",
    "                                                                 \n",
    "     \n",
    "\n",
    "     "
   ]
  },
  {
   "cell_type": "markdown",
   "metadata": {
    "id": "mEiWpROjrJg2"
   },
   "source": [
    "\n",
    "### 3.4. Цены стартапов по категориям\n",
    "\n",
    "Категории стартапов с типично высокими ценами покупки стартапов и значительным разбросом цен могут быть привлекательными для крупных инвесторов, которые готовы к высоким рискам ради потенциально больших доходов. Среди категорий стартапов выделите категории стартапов, характеризующиеся:\n",
    "\n",
    "- типично высокими ценами;\n",
    "- и наибольшим разбросом цен за стартап.\n",
    "\n",
    "Объясните, почему решили составить топ именно из такого числа категорий и почему рассчитывали именно так."
   ]
  },
  {
   "cell_type": "code",
   "execution_count": 126,
   "metadata": {
    "id": "jQ09dYUWrJg2",
    "vscode": {
     "languageId": "plaintext"
    }
   },
   "outputs": [],
   "source": [
    "# Сгрупируем данные по 'category_code' и найдем 'mean', 'std', 'count'\n",
    "df_group_cat = df_merged_ac.groupby('category_code')['price_amount'].agg(['median', 'std', 'count']).reset_index()\n",
    "\n",
    "# Отфильтруем категории, в которых больше 5 сделок\n",
    "df_group_cat = df_group_cat[(df_group_cat['count'] > 5) & (df_group_cat['category_code'] != 'other')]\n",
    "top_price = df_group_cat[['category_code', 'median']].sort_values(ascending = False, by = 'median').head(5)\n",
    "top_std = df_group_cat[['category_code', 'std']].sort_values(ascending = False, by = 'std').head(5)"
   ]
  },
  {
   "cell_type": "code",
   "execution_count": 127,
   "metadata": {
    "id": "eF1aULm5FjfY"
   },
   "outputs": [],
   "source": [
    "# people и company_rounds\n",
    "top_price_t = set(top_price['category_code'])\n",
    "top_std_t = set(top_std['category_code'])\n",
    "in_set = top_price_t & top_std_t\n",
    "\n",
    "#Создание таблица для пересечения\n",
    "in_df = df_group_cat[df_group_cat['category_code'].isin(in_set)][['category_code', 'median', 'std']]"
   ]
  },
  {
   "cell_type": "code",
   "execution_count": 128,
   "metadata": {},
   "outputs": [
    {
     "name": "stdout",
     "output_type": "stream",
     "text": [
      "Категории с высокой средней ценой (ТОП-5):\n"
     ]
    },
    {
     "data": {
      "text/html": [
       "<div>\n",
       "<style scoped>\n",
       "    .dataframe tbody tr th:only-of-type {\n",
       "        vertical-align: middle;\n",
       "    }\n",
       "\n",
       "    .dataframe tbody tr th {\n",
       "        vertical-align: top;\n",
       "    }\n",
       "\n",
       "    .dataframe thead th {\n",
       "        text-align: right;\n",
       "    }\n",
       "</style>\n",
       "<table border=\"1\" class=\"dataframe\">\n",
       "  <thead>\n",
       "    <tr style=\"text-align: right;\">\n",
       "      <th></th>\n",
       "      <th>category_code</th>\n",
       "      <th>median</th>\n",
       "    </tr>\n",
       "  </thead>\n",
       "  <tbody>\n",
       "    <tr>\n",
       "      <th>18</th>\n",
       "      <td>manufacturing</td>\n",
       "      <td>72000000</td>\n",
       "    </tr>\n",
       "    <tr>\n",
       "      <th>30</th>\n",
       "      <td>real_estate</td>\n",
       "      <td>50000000</td>\n",
       "    </tr>\n",
       "    <tr>\n",
       "      <th>3</th>\n",
       "      <td>biotech</td>\n",
       "      <td>13200000</td>\n",
       "    </tr>\n",
       "    <tr>\n",
       "      <th>15</th>\n",
       "      <td>hospitality</td>\n",
       "      <td>12500000</td>\n",
       "    </tr>\n",
       "    <tr>\n",
       "      <th>11</th>\n",
       "      <td>finance</td>\n",
       "      <td>600000</td>\n",
       "    </tr>\n",
       "  </tbody>\n",
       "</table>\n",
       "</div>"
      ],
      "text/plain": [
       "    category_code    median\n",
       "18  manufacturing  72000000\n",
       "30    real_estate  50000000\n",
       "3         biotech  13200000\n",
       "15    hospitality  12500000\n",
       "11        finance    600000"
      ]
     },
     "metadata": {},
     "output_type": "display_data"
    },
    {
     "name": "stdout",
     "output_type": "stream",
     "text": [
      "\n",
      "Категории с высоким разбросом цен (ТОП-5):\n"
     ]
    },
    {
     "data": {
      "text/html": [
       "<div>\n",
       "<style scoped>\n",
       "    .dataframe tbody tr th:only-of-type {\n",
       "        vertical-align: middle;\n",
       "    }\n",
       "\n",
       "    .dataframe tbody tr th {\n",
       "        vertical-align: top;\n",
       "    }\n",
       "\n",
       "    .dataframe thead th {\n",
       "        text-align: right;\n",
       "    }\n",
       "</style>\n",
       "<table border=\"1\" class=\"dataframe\">\n",
       "  <thead>\n",
       "    <tr style=\"text-align: right;\">\n",
       "      <th></th>\n",
       "      <th>category_code</th>\n",
       "      <th>std</th>\n",
       "    </tr>\n",
       "  </thead>\n",
       "  <tbody>\n",
       "    <tr>\n",
       "      <th>9</th>\n",
       "      <td>enterprise</td>\n",
       "      <td>1.280882e+11</td>\n",
       "    </tr>\n",
       "    <tr>\n",
       "      <th>29</th>\n",
       "      <td>public_relations</td>\n",
       "      <td>4.059244e+09</td>\n",
       "    </tr>\n",
       "    <tr>\n",
       "      <th>30</th>\n",
       "      <td>real_estate</td>\n",
       "      <td>2.505123e+09</td>\n",
       "    </tr>\n",
       "    <tr>\n",
       "      <th>3</th>\n",
       "      <td>biotech</td>\n",
       "      <td>1.540374e+09</td>\n",
       "    </tr>\n",
       "    <tr>\n",
       "      <th>14</th>\n",
       "      <td>health</td>\n",
       "      <td>1.249084e+09</td>\n",
       "    </tr>\n",
       "  </tbody>\n",
       "</table>\n",
       "</div>"
      ],
      "text/plain": [
       "       category_code           std\n",
       "9         enterprise  1.280882e+11\n",
       "29  public_relations  4.059244e+09\n",
       "30       real_estate  2.505123e+09\n",
       "3            biotech  1.540374e+09\n",
       "14            health  1.249084e+09"
      ]
     },
     "metadata": {},
     "output_type": "display_data"
    },
    {
     "name": "stdout",
     "output_type": "stream",
     "text": [
      "\n",
      "Категории, которые попали в оба списка (и высокая средняя, и высокий std):\n"
     ]
    },
    {
     "data": {
      "text/html": [
       "<div>\n",
       "<style scoped>\n",
       "    .dataframe tbody tr th:only-of-type {\n",
       "        vertical-align: middle;\n",
       "    }\n",
       "\n",
       "    .dataframe tbody tr th {\n",
       "        vertical-align: top;\n",
       "    }\n",
       "\n",
       "    .dataframe thead th {\n",
       "        text-align: right;\n",
       "    }\n",
       "</style>\n",
       "<table border=\"1\" class=\"dataframe\">\n",
       "  <thead>\n",
       "    <tr style=\"text-align: right;\">\n",
       "      <th></th>\n",
       "      <th>category_code</th>\n",
       "      <th>median</th>\n",
       "      <th>std</th>\n",
       "    </tr>\n",
       "  </thead>\n",
       "  <tbody>\n",
       "    <tr>\n",
       "      <th>3</th>\n",
       "      <td>biotech</td>\n",
       "      <td>13200000</td>\n",
       "      <td>1.540374e+09</td>\n",
       "    </tr>\n",
       "    <tr>\n",
       "      <th>30</th>\n",
       "      <td>real_estate</td>\n",
       "      <td>50000000</td>\n",
       "      <td>2.505123e+09</td>\n",
       "    </tr>\n",
       "  </tbody>\n",
       "</table>\n",
       "</div>"
      ],
      "text/plain": [
       "   category_code    median           std\n",
       "3        biotech  13200000  1.540374e+09\n",
       "30   real_estate  50000000  2.505123e+09"
      ]
     },
     "metadata": {},
     "output_type": "display_data"
    },
    {
     "data": {
      "image/png": "[encoded data removed]",
      "text/plain": [
       "<Figure size 432x288 with 1 Axes>"
      ]
     },
     "metadata": {},
     "output_type": "display_data"
    }
   ],
   "source": [
    "print(\"Категории с высокой средней ценой (ТОП-5):\")\n",
    "display(top_price)\n",
    "\n",
    "print(\"\\nКатегории с высоким разбросом цен (ТОП-5):\")\n",
    "display(top_std)\n",
    "\n",
    "print(\"\\nКатегории, которые попали в оба списка (и высокая средняя, и высокий std):\")\n",
    "display(in_df)\n",
    "\n",
    "# Псотроим график\n",
    "venn2([top_price_t, top_std_t], set_labels=('Высокая цена', 'Высокий разброс'))\n",
    "plt.title(\"Пересечение ТОП-5 категорий по цене и разбросу цен\")\n",
    "plt.show()"
   ]
  },
  {
   "cell_type": "markdown",
   "metadata": {},
   "source": [
    "- Было выбрано топ-5 категорий, так как данное количество является оптимальным, медиана показывет в каких категориях самая высокая цена на стартапы, а стандартное отклонение показывает разброс цен.\n",
    "- Были исключены категории с менее чем 5 сделками, так как расчитанные median и std могли быть некорректны и исказить анализ.\n",
    "- Была создана дополнительная таблица с пересечением, чтобы выделить наиболее привлекательные категории по обоим пунктам"
   ]
  },
  {
   "cell_type": "markdown",
   "metadata": {},
   "source": [
    "\n",
    "<div class=\"alert alert-success\">\n",
    "<font size=\"5\"><b>Комментарий ревьюераV3</b></font>\n",
    "\n",
    "\n",
    "\n",
    "Успех 👍:\n",
    "\n",
    " \n",
    "    \n",
    "- Использована медиана \n",
    " \n",
    "- Есть оценка разброса    \n",
    "\n",
    "- Верно что обращено внимание на количество, и проведена   фильтрация \n",
    "\n",
    " \n",
    "    \n",
    "<div class=\"alert alert-warning\">\n",
    " \n",
    "\n",
    "\n",
    "Совет 🤔:\n",
    "\n",
    "    \n",
    "    \n",
    "    \n",
    "Можно было построить график поинтереснее, а именно   scatter где в разбивке по категориям по одной оси показатель типичной цены,  по другой разброс показатель разброса цен, а еще можно размером кружочка указать сколько стартапов в кто\t или иной категории (Это можно задать с помощью аргумента s). И лучше нанести названия категорий прямо на точки\n",
    "\n",
    "\n",
    " \n",
    " \n",
    "\n",
    "\n",
    "\n",
    " "
   ]
  },
  {
   "cell_type": "markdown",
   "metadata": {
    "id": "ADOfyVY_rJg3"
   },
   "source": [
    "\n",
    "### 3.5. Сколько раундов продержится стартап перед покупкой\n",
    "\n",
    "- Необходимо проанализировать столбец `funding_rounds`. Исследуйте значения столбца. Заказчика интересует типичное значение количества раундов для каждого возможного статуса стартапа.\n",
    "- Постройте график, который отображает, сколько в среднем раундов финансирования проходило для стартапов из каждой группы. Сделайте выводы."
   ]
  },
  {
   "cell_type": "code",
   "execution_count": 129,
   "metadata": {
    "id": "hgXMPC4WrJg3",
    "vscode": {
     "languageId": "plaintext"
    }
   },
   "outputs": [
    {
     "data": {
      "text/plain": [
       "count    40747.000000\n",
       "mean         1.291531\n",
       "std          1.264604\n",
       "min          0.000000\n",
       "25%          1.000000\n",
       "50%          1.000000\n",
       "75%          2.000000\n",
       "max         15.000000\n",
       "Name: funding_rounds, dtype: float64"
      ]
     },
     "execution_count": 129,
     "metadata": {},
     "output_type": "execute_result"
    }
   ],
   "source": [
    "df_merged_3['funding_rounds'].describe()"
   ]
  },
  {
   "cell_type": "code",
   "execution_count": 130,
   "metadata": {
    "id": "pV3e7kw5Fj1Y"
   },
   "outputs": [],
   "source": [
    "df_group_st = df_merged_3.groupby('status')['funding_rounds'].mean().reset_index()"
   ]
  },
  {
   "cell_type": "code",
   "execution_count": 131,
   "metadata": {},
   "outputs": [
    {
     "data": {
      "text/plain": [
       "<Figure size 576x432 with 0 Axes>"
      ]
     },
     "metadata": {},
     "output_type": "display_data"
    },
    {
     "data": {
      "image/png": "[encoded data removed]",
      "text/plain": [
       "<Figure size 432x288 with 1 Axes>"
      ]
     },
     "metadata": {
      "needs_background": "light"
     },
     "output_type": "display_data"
    },
    {
     "data": {
      "text/html": [
       "<div>\n",
       "<style scoped>\n",
       "    .dataframe tbody tr th:only-of-type {\n",
       "        vertical-align: middle;\n",
       "    }\n",
       "\n",
       "    .dataframe tbody tr th {\n",
       "        vertical-align: top;\n",
       "    }\n",
       "\n",
       "    .dataframe thead th {\n",
       "        text-align: right;\n",
       "    }\n",
       "</style>\n",
       "<table border=\"1\" class=\"dataframe\">\n",
       "  <thead>\n",
       "    <tr style=\"text-align: right;\">\n",
       "      <th></th>\n",
       "      <th>status</th>\n",
       "      <th>funding_rounds</th>\n",
       "    </tr>\n",
       "  </thead>\n",
       "  <tbody>\n",
       "    <tr>\n",
       "      <th>0</th>\n",
       "      <td>acquired</td>\n",
       "      <td>0.523526</td>\n",
       "    </tr>\n",
       "    <tr>\n",
       "      <th>1</th>\n",
       "      <td>closed</td>\n",
       "      <td>1.381453</td>\n",
       "    </tr>\n",
       "    <tr>\n",
       "      <th>2</th>\n",
       "      <td>ipo</td>\n",
       "      <td>1.934375</td>\n",
       "    </tr>\n",
       "    <tr>\n",
       "      <th>3</th>\n",
       "      <td>operating</td>\n",
       "      <td>1.522658</td>\n",
       "    </tr>\n",
       "  </tbody>\n",
       "</table>\n",
       "</div>"
      ],
      "text/plain": [
       "      status  funding_rounds\n",
       "0   acquired        0.523526\n",
       "1     closed        1.381453\n",
       "2        ipo        1.934375\n",
       "3  operating        1.522658"
      ]
     },
     "execution_count": 131,
     "metadata": {},
     "output_type": "execute_result"
    }
   ],
   "source": [
    "plt.figure(figsize=(8, 6))\n",
    "df_group_st.sort_values(ascending = False, by = 'funding_rounds').plot(kind='bar', x='status', y='funding_rounds', legend=False, color='lightgreen')\n",
    "\n",
    "# Добавляем заголовок, подписи осей\n",
    "plt.title('Среднее количество раундов по статусам стартапов', fontsize=14)\n",
    "plt.xlabel('Статус стартапа', fontsize=12)\n",
    "plt.ylabel('Среднее количество раундов', fontsize=12)\n",
    "\n",
    "# Разворачиваем подписи для лучшей читаемости\n",
    "plt.xticks(rotation=45, ha='right')\n",
    "\n",
    "# Показываем график\n",
    "plt.show()\n",
    "\n",
    "df_group_st"
   ]
  },
  {
   "cell_type": "markdown",
   "metadata": {},
   "source": [
    "- IPO-компании проходят больше всего раундов (1.93), а приобретенные — меньше всех (0.52).\n",
    "- Это может говорить о том, что успешные стартапы проходят больше раундов перед выходом на IPO, а приобретенные компании продаются на ранних стадиях."
   ]
  },
  {
   "cell_type": "markdown",
   "metadata": {},
   "source": [
    "\n",
    "<div class=\"alert alert-success\">\n",
    "<font size=\"5\"><b>Комментарий ревьюераV2</b></font>\n",
    "\n",
    "\n",
    "\n",
    "Успех 👍:\n",
    "\n",
    "\n",
    "\n",
    "правдоподобные предположения\n",
    "    \n",
    "    \n",
    "    \n",
    "<div class=\"alert alert-warning\">\n",
    " \n",
    "\n",
    "\n",
    "Совет 🤔:\n",
    "\n",
    "\n",
    "   \n",
    "- Можно ещё построить  график, который иллюстрирует кумулятивную вероятность приобретения стартапа в зависимости от количества проведенных раундов финансирования. Анализ такого графика поможет   понять, как количество раундов финансирования связано с вероятностью того, что стартап будет приобретен. Например, если вероятность резко возрастает после 1-2 раундов, это может указывать, что большинство успешных стартапов покупаются на ранних стадиях\n",
    "     "
   ]
  },
  {
   "cell_type": "markdown",
   "metadata": {
    "id": "VAFEZ2HBrJg3"
   },
   "source": [
    "\n",
    "## Шаг 4. Итоговый вывод и рекомендации\n",
    "\n",
    "Опишите, что было сделано в проекте, какие были сделаны выводы, подкрепляют ли они друг друга или заставляют сомневаться в полученных результатах."
   ]
  },
  {
   "cell_type": "markdown",
   "metadata": {},
   "source": [
    "В ходе анализа данных для финансовой компании, планирующей инвестировать в стартапы, были получены важные выводы для принятия инвестиционных решений."
   ]
  },
  {
   "cell_type": "markdown",
   "metadata": {},
   "source": [
    "## Основные выводы:"
   ]
  },
  {
   "cell_type": "markdown",
   "metadata": {},
   "source": [
    "**1. Анализ раундов финансирования**\n",
    "   - Максимальные размеры средств в одном раунде наблюдались в 2005 году.\n",
    "   - В 2013 году наблюдается рост числа раундов и размеров финансирования, что указывает на больший интерес инвесторов.\n",
    "   - Общее количество раундов финансирования увеличивалось с годами, что подтверждает тенденцию роста рынка.\n",
    "\n",
    "\n",
    "**2. Информация о сотрудниках**\n",
    "   - Образование сотрудников недостаточно полно, особенно в крупных компаниях.\n",
    "\n",
    "\n",
    "**3. Объединение данных**\n",
    "   - Анализ показал, что столбец `network_username` не подходит для объединения данных.\n",
    "\n",
    "\n",
    "**4. Анализ выбросов**\n",
    "   - Были выявлены выбросы в размерах общего финансирования, для которых использовались перцентильные значения, так как из-за большого количества выбросов метод IQR раюотает некорректно.\n",
    "   - Типичные суммы финансирования варьируются от 0 до 5,6 миллионов.\n",
    "\n",
    "\n",
    "**5. Цены стартапов по категориям:**\n",
    "   - Самыми привлекательными для инвесторов являются стартапы с высокими ценами и значительным разбросом цен: `biotech` и `real_estate`.\n",
    "\n",
    "\n",
    "**6. Количество раундов для разных статусов стартапов:**\n",
    "   - Стартапы, прошедшие IPO, в среднем проходят больше раундов (1.93), в отличие от приобретенных стартапов (0.52)."
   ]
  },
  {
   "cell_type": "markdown",
   "metadata": {},
   "source": [
    "## Рекомендации:\n",
    "- Инвесторы должны обратить внимание на стартапы с несколькими раундами финансирования и подготовкой к IPO, так как они могут иметь больше шансов на успешное развитие.\n",
    "- Важно учитывать выбросы в финансировании, используя перцентильные значения для более точной оценки стартапов."
   ]
  },
  {
   "cell_type": "markdown",
   "metadata": {},
   "source": [
    "## Заключение:\n",
    "Анализ показал, что успешные стартапы проходят больше раундов и имеют высокие шансы на успешное завершение IPO. Стартапы, приобретенные на ранних стадиях, обычно проходят меньше раундов."
   ]
  },
  {
   "cell_type": "markdown",
   "metadata": {},
   "source": [
    "\n",
    "<div class=\"alert alert-info\">\n",
    "<font size=\"5\"><b>Комментарий ревьюераV2</b></font>\n",
    "\n",
    " \n",
    "  \n",
    "Отличная работа Иван,  хорошее оформление,   выводы на месте.    Во второй части тоже критических ошибок нет, но оставил парочку советов.\n",
    "    \n",
    "    \n",
    "Проект принимаю, желаю успехов в дальнейшей учебе!\n",
    "\n",
    " \n",
    "\n",
    "</div>"
   ]
  }
 ],
 "metadata": {
  "ExecuteTimeLog": [
   {
    "duration": 3331,
    "start_time": "2025-07-02T12:31:58.472Z"
   },
   {
    "duration": 1429,
    "start_time": "2025-07-02T12:32:09.570Z"
   },
   {
    "duration": 4353,
    "start_time": "2025-07-02T12:33:53.752Z"
   },
   {
    "duration": 3505,
    "start_time": "2025-07-02T12:34:28.944Z"
   },
   {
    "duration": 5,
    "start_time": "2025-07-02T12:35:20.232Z"
   },
   {
    "duration": 106,
    "start_time": "2025-07-02T12:36:02.360Z"
   },
   {
    "duration": 1792,
    "start_time": "2025-07-02T12:37:22.479Z"
   },
   {
    "duration": 5,
    "start_time": "2025-07-02T12:37:24.273Z"
   },
   {
    "duration": 31,
    "start_time": "2025-07-02T12:55:46.043Z"
   },
   {
    "duration": 24,
    "start_time": "2025-07-02T12:56:10.610Z"
   },
   {
    "duration": 4,
    "start_time": "2025-07-02T12:59:13.705Z"
   },
   {
    "duration": 9,
    "start_time": "2025-07-02T12:59:47.186Z"
   },
   {
    "duration": 3,
    "start_time": "2025-07-02T13:00:05.898Z"
   },
   {
    "duration": 17,
    "start_time": "2025-07-02T13:00:55.433Z"
   },
   {
    "duration": 9,
    "start_time": "2025-07-02T13:00:56.874Z"
   },
   {
    "duration": 4,
    "start_time": "2025-07-02T13:01:08.159Z"
   },
   {
    "duration": 3507,
    "start_time": "2025-07-05T13:13:10.017Z"
   },
   {
    "duration": 1406,
    "start_time": "2025-07-05T13:13:13.527Z"
   },
   {
    "duration": 2664,
    "start_time": "2025-07-05T13:13:21.439Z"
   },
   {
    "duration": 6,
    "start_time": "2025-07-05T13:13:24.105Z"
   },
   {
    "duration": 48,
    "start_time": "2025-07-05T13:13:33.560Z"
   },
   {
    "duration": 4,
    "start_time": "2025-07-05T13:13:38.143Z"
   },
   {
    "duration": 52,
    "start_time": "2025-07-05T13:14:51.144Z"
   },
   {
    "duration": 9,
    "start_time": "2025-07-05T13:14:52.592Z"
   },
   {
    "duration": 2543,
    "start_time": "2025-07-05T13:14:57.280Z"
   },
   {
    "duration": 4,
    "start_time": "2025-07-05T13:14:59.825Z"
   },
   {
    "duration": 2477,
    "start_time": "2025-07-05T13:14:59.830Z"
   },
   {
    "duration": 25,
    "start_time": "2025-07-05T13:15:02.309Z"
   },
   {
    "duration": 42,
    "start_time": "2025-07-05T13:15:02.335Z"
   },
   {
    "duration": 4,
    "start_time": "2025-07-05T13:15:03.344Z"
   },
   {
    "duration": 7,
    "start_time": "2025-07-05T13:15:46.378Z"
   },
   {
    "duration": 103,
    "start_time": "2025-07-05T13:17:04.482Z"
   },
   {
    "duration": 9,
    "start_time": "2025-07-05T13:17:29.378Z"
   },
   {
    "duration": 40,
    "start_time": "2025-07-05T13:17:41.081Z"
   },
   {
    "duration": 50,
    "start_time": "2025-07-05T13:17:47.506Z"
   },
   {
    "duration": 10,
    "start_time": "2025-07-05T13:18:51.715Z"
   },
   {
    "duration": 10,
    "start_time": "2025-07-05T13:19:09.779Z"
   },
   {
    "duration": 10026,
    "start_time": "2025-07-05T13:20:12.787Z"
   },
   {
    "duration": 25,
    "start_time": "2025-07-05T13:20:34.484Z"
   },
   {
    "duration": 1960,
    "start_time": "2025-07-05T13:20:40.595Z"
   },
   {
    "duration": 24,
    "start_time": "2025-07-05T13:20:42.558Z"
   },
   {
    "duration": 32,
    "start_time": "2025-07-05T13:20:46.836Z"
   },
   {
    "duration": 4,
    "start_time": "2025-07-05T13:20:52.499Z"
   },
   {
    "duration": 149,
    "start_time": "2025-07-05T13:20:52.915Z"
   },
   {
    "duration": 15,
    "start_time": "2025-07-05T13:22:59.093Z"
   },
   {
    "duration": 229,
    "start_time": "2025-07-05T13:23:26.933Z"
   },
   {
    "duration": 166,
    "start_time": "2025-07-05T13:29:38.048Z"
   },
   {
    "duration": 10,
    "start_time": "2025-07-05T13:30:29.034Z"
   },
   {
    "duration": 381,
    "start_time": "2025-07-05T13:30:48.840Z"
   },
   {
    "duration": 303,
    "start_time": "2025-07-05T13:45:07.953Z"
   },
   {
    "duration": 289,
    "start_time": "2025-07-05T13:48:05.722Z"
   },
   {
    "duration": 3,
    "start_time": "2025-07-05T13:52:47.733Z"
   },
   {
    "duration": 2255,
    "start_time": "2025-07-05T13:52:48.085Z"
   },
   {
    "duration": 6,
    "start_time": "2025-07-05T13:52:50.342Z"
   },
   {
    "duration": 26,
    "start_time": "2025-07-05T13:53:03.829Z"
   },
   {
    "duration": 4,
    "start_time": "2025-07-05T13:53:16.613Z"
   },
   {
    "duration": 131,
    "start_time": "2025-07-05T13:53:26.342Z"
   },
   {
    "duration": 205,
    "start_time": "2025-07-05T13:53:34.535Z"
   },
   {
    "duration": 170,
    "start_time": "2025-07-05T13:54:02.470Z"
   },
   {
    "duration": 408,
    "start_time": "2025-07-05T13:54:07.782Z"
   },
   {
    "duration": 306,
    "start_time": "2025-07-05T13:54:32.759Z"
   },
   {
    "duration": 285,
    "start_time": "2025-07-05T13:54:41.190Z"
   },
   {
    "duration": 32,
    "start_time": "2025-07-05T13:55:09.807Z"
   },
   {
    "duration": 28,
    "start_time": "2025-07-05T13:56:25.312Z"
   },
   {
    "duration": 249,
    "start_time": "2025-07-05T13:57:52.441Z"
   },
   {
    "duration": 161,
    "start_time": "2025-07-05T13:58:15.337Z"
   },
   {
    "duration": 243,
    "start_time": "2025-07-05T14:19:15.183Z"
   },
   {
    "duration": 152,
    "start_time": "2025-07-05T14:20:10.175Z"
   },
   {
    "duration": 20,
    "start_time": "2025-07-05T14:20:37.224Z"
   },
   {
    "duration": 149,
    "start_time": "2025-07-05T14:21:07.824Z"
   },
   {
    "duration": 29,
    "start_time": "2025-07-05T14:21:42.728Z"
   },
   {
    "duration": 6,
    "start_time": "2025-07-05T14:22:15.721Z"
   },
   {
    "duration": 6,
    "start_time": "2025-07-05T14:22:40.311Z"
   },
   {
    "duration": 7,
    "start_time": "2025-07-05T14:22:58.896Z"
   },
   {
    "duration": 109,
    "start_time": "2025-07-05T14:25:35.554Z"
   },
   {
    "duration": 82,
    "start_time": "2025-07-05T14:26:29.483Z"
   },
   {
    "duration": 222,
    "start_time": "2025-07-05T14:27:09.964Z"
   },
   {
    "duration": 259,
    "start_time": "2025-07-05T14:27:29.204Z"
   },
   {
    "duration": 45,
    "start_time": "2025-07-05T14:28:06.428Z"
   },
   {
    "duration": 366,
    "start_time": "2025-07-05T14:29:15.149Z"
   },
   {
    "duration": 56,
    "start_time": "2025-07-05T14:33:00.446Z"
   },
   {
    "duration": 71,
    "start_time": "2025-07-05T14:34:12.375Z"
   },
   {
    "duration": 10,
    "start_time": "2025-07-05T14:34:25.479Z"
   },
   {
    "duration": 35,
    "start_time": "2025-07-05T14:34:53.887Z"
   },
   {
    "duration": 8717,
    "start_time": "2025-07-05T17:12:02.902Z"
   },
   {
    "duration": 2440,
    "start_time": "2025-07-05T17:12:13.140Z"
   },
   {
    "duration": 83,
    "start_time": "2025-07-05T17:13:10.389Z"
   },
   {
    "duration": 2410,
    "start_time": "2025-07-05T17:15:51.910Z"
   },
   {
    "duration": 51,
    "start_time": "2025-07-06T08:53:20.512Z"
   },
   {
    "duration": 8636,
    "start_time": "2025-07-06T08:53:34.738Z"
   },
   {
    "duration": 1414,
    "start_time": "2025-07-06T08:53:47.395Z"
   },
   {
    "duration": 1986,
    "start_time": "2025-07-06T08:53:50.003Z"
   },
   {
    "duration": 5,
    "start_time": "2025-07-06T08:53:51.991Z"
   },
   {
    "duration": 84,
    "start_time": "2025-07-06T08:53:51.997Z"
   },
   {
    "duration": 6,
    "start_time": "2025-07-06T08:53:55.219Z"
   },
   {
    "duration": 154,
    "start_time": "2025-07-06T08:53:55.431Z"
   },
   {
    "duration": 237,
    "start_time": "2025-07-06T08:53:56.296Z"
   },
   {
    "duration": 172,
    "start_time": "2025-07-06T08:53:57.571Z"
   },
   {
    "duration": 412,
    "start_time": "2025-07-06T08:53:58.203Z"
   },
   {
    "duration": 351,
    "start_time": "2025-07-06T08:53:58.739Z"
   },
   {
    "duration": 36,
    "start_time": "2025-07-06T08:54:00.095Z"
   },
   {
    "duration": 30,
    "start_time": "2025-07-06T08:54:00.296Z"
   },
   {
    "duration": 176,
    "start_time": "2025-07-06T08:54:00.568Z"
   },
   {
    "duration": 282,
    "start_time": "2025-07-06T08:54:01.537Z"
   },
   {
    "duration": 172,
    "start_time": "2025-07-06T08:54:01.922Z"
   },
   {
    "duration": 22,
    "start_time": "2025-07-06T08:54:02.097Z"
   },
   {
    "duration": 151,
    "start_time": "2025-07-06T08:54:02.266Z"
   },
   {
    "duration": 28,
    "start_time": "2025-07-06T08:54:02.594Z"
   },
   {
    "duration": 8,
    "start_time": "2025-07-06T08:54:02.778Z"
   },
   {
    "duration": 8,
    "start_time": "2025-07-06T08:54:03.122Z"
   },
   {
    "duration": 7,
    "start_time": "2025-07-06T08:54:03.618Z"
   },
   {
    "duration": 79,
    "start_time": "2025-07-06T08:54:05.891Z"
   },
   {
    "duration": 92,
    "start_time": "2025-07-06T08:54:06.387Z"
   },
   {
    "duration": 221,
    "start_time": "2025-07-06T08:54:07.251Z"
   },
   {
    "duration": 303,
    "start_time": "2025-07-06T08:54:08.058Z"
   },
   {
    "duration": 54,
    "start_time": "2025-07-06T08:54:09.962Z"
   },
   {
    "duration": 510,
    "start_time": "2025-07-06T08:54:10.655Z"
   },
   {
    "duration": 58,
    "start_time": "2025-07-06T08:54:13.391Z"
   },
   {
    "duration": 76,
    "start_time": "2025-07-06T08:54:13.667Z"
   },
   {
    "duration": 39,
    "start_time": "2025-07-06T08:54:13.843Z"
   },
   {
    "duration": 74,
    "start_time": "2025-07-06T08:54:16.580Z"
   },
   {
    "duration": 43,
    "start_time": "2025-07-06T08:54:25.910Z"
   },
   {
    "duration": 10,
    "start_time": "2025-07-06T08:55:22.360Z"
   },
   {
    "duration": 14,
    "start_time": "2025-07-06T08:57:46.191Z"
   },
   {
    "duration": 1260,
    "start_time": "2025-07-06T09:04:11.602Z"
   },
   {
    "duration": 308,
    "start_time": "2025-07-06T09:05:01.930Z"
   },
   {
    "duration": 546,
    "start_time": "2025-07-06T09:05:21.054Z"
   },
   {
    "duration": 132,
    "start_time": "2025-07-06T09:05:27.954Z"
   },
   {
    "duration": 12,
    "start_time": "2025-07-06T09:06:32.298Z"
   },
   {
    "duration": 9,
    "start_time": "2025-07-06T09:07:36.633Z"
   },
   {
    "duration": 135,
    "start_time": "2025-07-06T09:08:31.738Z"
   },
   {
    "duration": 3,
    "start_time": "2025-07-06T09:09:23.722Z"
   },
   {
    "duration": 2362,
    "start_time": "2025-07-06T09:09:24.218Z"
   },
   {
    "duration": 10,
    "start_time": "2025-07-06T09:09:26.583Z"
   },
   {
    "duration": 35,
    "start_time": "2025-07-06T09:09:26.595Z"
   },
   {
    "duration": 6,
    "start_time": "2025-07-06T09:09:26.632Z"
   },
   {
    "duration": 172,
    "start_time": "2025-07-06T09:09:26.661Z"
   },
   {
    "duration": 274,
    "start_time": "2025-07-06T09:09:26.835Z"
   },
   {
    "duration": 207,
    "start_time": "2025-07-06T09:09:27.111Z"
   },
   {
    "duration": 419,
    "start_time": "2025-07-06T09:09:27.462Z"
   },
   {
    "duration": 344,
    "start_time": "2025-07-06T09:09:27.937Z"
   },
   {
    "duration": 36,
    "start_time": "2025-07-06T09:09:28.901Z"
   },
   {
    "duration": 36,
    "start_time": "2025-07-06T09:09:29.062Z"
   },
   {
    "duration": 201,
    "start_time": "2025-07-06T09:09:29.238Z"
   },
   {
    "duration": 274,
    "start_time": "2025-07-06T09:09:29.901Z"
   },
   {
    "duration": 186,
    "start_time": "2025-07-06T09:09:30.262Z"
   },
   {
    "duration": 28,
    "start_time": "2025-07-06T09:09:30.450Z"
   },
   {
    "duration": 161,
    "start_time": "2025-07-06T09:09:30.602Z"
   },
   {
    "duration": 31,
    "start_time": "2025-07-06T09:09:30.981Z"
   },
   {
    "duration": 8,
    "start_time": "2025-07-06T09:09:31.158Z"
   },
   {
    "duration": 8,
    "start_time": "2025-07-06T09:09:31.342Z"
   },
   {
    "duration": 9,
    "start_time": "2025-07-06T09:09:31.557Z"
   },
   {
    "duration": 53,
    "start_time": "2025-07-06T09:09:32.974Z"
   },
   {
    "duration": 123,
    "start_time": "2025-07-06T09:09:33.258Z"
   },
   {
    "duration": 237,
    "start_time": "2025-07-06T09:09:33.541Z"
   },
   {
    "duration": 342,
    "start_time": "2025-07-06T09:09:33.837Z"
   },
   {
    "duration": 92,
    "start_time": "2025-07-06T09:09:34.182Z"
   },
   {
    "duration": 557,
    "start_time": "2025-07-06T09:09:34.613Z"
   },
   {
    "duration": 70,
    "start_time": "2025-07-06T09:09:35.621Z"
   },
   {
    "duration": 78,
    "start_time": "2025-07-06T09:09:35.945Z"
   },
   {
    "duration": 42,
    "start_time": "2025-07-06T09:09:36.205Z"
   },
   {
    "duration": 382,
    "start_time": "2025-07-06T09:10:08.233Z"
   },
   {
    "duration": 11,
    "start_time": "2025-07-06T09:10:21.669Z"
   },
   {
    "duration": 6,
    "start_time": "2025-07-06T09:10:51.931Z"
   },
   {
    "duration": 8786,
    "start_time": "2025-07-07T13:35:52.760Z"
   },
   {
    "duration": 1401,
    "start_time": "2025-07-07T13:36:01.549Z"
   },
   {
    "duration": 2331,
    "start_time": "2025-07-07T13:36:02.952Z"
   },
   {
    "duration": 5,
    "start_time": "2025-07-07T13:36:05.285Z"
   },
   {
    "duration": 66,
    "start_time": "2025-07-07T13:36:15.007Z"
   },
   {
    "duration": 6,
    "start_time": "2025-07-07T13:36:17.014Z"
   },
   {
    "duration": 151,
    "start_time": "2025-07-07T13:36:17.470Z"
   },
   {
    "duration": 236,
    "start_time": "2025-07-07T13:36:19.976Z"
   },
   {
    "duration": 180,
    "start_time": "2025-07-07T13:36:22.240Z"
   },
   {
    "duration": 413,
    "start_time": "2025-07-07T13:36:23.902Z"
   },
   {
    "duration": 339,
    "start_time": "2025-07-07T13:36:26.223Z"
   },
   {
    "duration": 36,
    "start_time": "2025-07-07T13:36:32.894Z"
   },
   {
    "duration": 29,
    "start_time": "2025-07-07T13:36:33.255Z"
   },
   {
    "duration": 176,
    "start_time": "2025-07-07T13:36:34.055Z"
   },
   {
    "duration": 256,
    "start_time": "2025-07-07T13:36:36.360Z"
   },
   {
    "duration": 168,
    "start_time": "2025-07-07T13:36:36.726Z"
   },
   {
    "duration": 22,
    "start_time": "2025-07-07T13:36:36.941Z"
   },
   {
    "duration": 144,
    "start_time": "2025-07-07T13:39:29.616Z"
   },
   {
    "duration": 30,
    "start_time": "2025-07-07T13:39:30.206Z"
   },
   {
    "duration": 6,
    "start_time": "2025-07-07T13:39:30.558Z"
   },
   {
    "duration": 7,
    "start_time": "2025-07-07T13:39:30.736Z"
   },
   {
    "duration": 7,
    "start_time": "2025-07-07T13:39:30.917Z"
   },
   {
    "duration": 116,
    "start_time": "2025-07-07T13:39:32.198Z"
   },
   {
    "duration": 88,
    "start_time": "2025-07-07T13:39:32.537Z"
   },
   {
    "duration": 214,
    "start_time": "2025-07-07T13:39:32.798Z"
   },
   {
    "duration": 278,
    "start_time": "2025-07-07T13:39:33.176Z"
   },
   {
    "duration": 49,
    "start_time": "2025-07-07T13:39:33.582Z"
   },
   {
    "duration": 509,
    "start_time": "2025-07-07T13:39:34.270Z"
   },
   {
    "duration": 61,
    "start_time": "2025-07-07T13:39:35.302Z"
   },
   {
    "duration": 90,
    "start_time": "2025-07-07T13:39:35.462Z"
   },
   {
    "duration": 38,
    "start_time": "2025-07-07T13:39:35.626Z"
   },
   {
    "duration": 40,
    "start_time": "2025-07-07T13:39:37.687Z"
   },
   {
    "duration": 9,
    "start_time": "2025-07-07T13:39:39.118Z"
   },
   {
    "duration": 341,
    "start_time": "2025-07-07T13:39:40.845Z"
   },
   {
    "duration": 111,
    "start_time": "2025-07-07T13:39:45.606Z"
   },
   {
    "duration": 9,
    "start_time": "2025-07-07T13:39:46.941Z"
   },
   {
    "duration": 4,
    "start_time": "2025-07-07T13:39:50.477Z"
   },
   {
    "duration": 61,
    "start_time": "2025-07-07T13:41:43.069Z"
   },
   {
    "duration": 7,
    "start_time": "2025-07-07T13:42:36.102Z"
   },
   {
    "duration": 129,
    "start_time": "2025-07-07T13:43:05.462Z"
   },
   {
    "duration": 3,
    "start_time": "2025-07-07T13:44:35.213Z"
   },
   {
    "duration": 2796,
    "start_time": "2025-07-07T13:44:36.796Z"
   },
   {
    "duration": 8,
    "start_time": "2025-07-07T13:44:39.594Z"
   },
   {
    "duration": 42,
    "start_time": "2025-07-07T13:44:39.603Z"
   },
   {
    "duration": 4,
    "start_time": "2025-07-07T13:44:39.647Z"
   },
   {
    "duration": 202,
    "start_time": "2025-07-07T13:44:39.652Z"
   },
   {
    "duration": 229,
    "start_time": "2025-07-07T13:44:53.910Z"
   },
   {
    "duration": 164,
    "start_time": "2025-07-07T13:44:54.700Z"
   },
   {
    "duration": 448,
    "start_time": "2025-07-07T13:44:55.204Z"
   },
   {
    "duration": 331,
    "start_time": "2025-07-07T13:44:55.701Z"
   },
   {
    "duration": 37,
    "start_time": "2025-07-07T13:44:56.700Z"
   },
   {
    "duration": 31,
    "start_time": "2025-07-07T13:44:56.885Z"
   },
   {
    "duration": 180,
    "start_time": "2025-07-07T13:44:57.053Z"
   },
   {
    "duration": 238,
    "start_time": "2025-07-07T13:44:57.719Z"
   },
   {
    "duration": 161,
    "start_time": "2025-07-07T13:44:58.205Z"
   },
   {
    "duration": 22,
    "start_time": "2025-07-07T13:44:58.372Z"
   },
   {
    "duration": 139,
    "start_time": "2025-07-07T13:44:58.564Z"
   },
   {
    "duration": 28,
    "start_time": "2025-07-07T13:44:58.914Z"
   },
   {
    "duration": 7,
    "start_time": "2025-07-07T13:44:59.101Z"
   },
   {
    "duration": 7,
    "start_time": "2025-07-07T13:44:59.278Z"
   },
   {
    "duration": 9,
    "start_time": "2025-07-07T13:44:59.469Z"
   },
   {
    "duration": 79,
    "start_time": "2025-07-07T13:45:00.492Z"
   },
   {
    "duration": 88,
    "start_time": "2025-07-07T13:45:00.718Z"
   },
   {
    "duration": 205,
    "start_time": "2025-07-07T13:45:00.950Z"
   },
   {
    "duration": 326,
    "start_time": "2025-07-07T13:45:01.159Z"
   },
   {
    "duration": 56,
    "start_time": "2025-07-07T13:45:02.059Z"
   },
   {
    "duration": 406,
    "start_time": "2025-07-07T13:45:02.485Z"
   },
   {
    "duration": 60,
    "start_time": "2025-07-07T13:45:03.620Z"
   },
   {
    "duration": 76,
    "start_time": "2025-07-07T13:45:03.813Z"
   },
   {
    "duration": 42,
    "start_time": "2025-07-07T13:45:03.958Z"
   },
   {
    "duration": 44,
    "start_time": "2025-07-07T13:45:04.853Z"
   },
   {
    "duration": 10,
    "start_time": "2025-07-07T13:45:05.420Z"
   },
   {
    "duration": 447,
    "start_time": "2025-07-07T13:45:06.044Z"
   },
   {
    "duration": 139,
    "start_time": "2025-07-07T13:45:06.493Z"
   },
   {
    "duration": 10,
    "start_time": "2025-07-07T13:45:06.765Z"
   },
   {
    "duration": 5,
    "start_time": "2025-07-07T13:45:07.509Z"
   },
   {
    "duration": 56,
    "start_time": "2025-07-07T13:45:08.758Z"
   },
   {
    "duration": 6,
    "start_time": "2025-07-07T13:45:09.286Z"
   },
   {
    "duration": 5,
    "start_time": "2025-07-07T13:45:10.325Z"
   },
   {
    "duration": 9,
    "start_time": "2025-07-07T13:45:37.067Z"
   },
   {
    "duration": 12,
    "start_time": "2025-07-07T13:49:46.691Z"
   },
   {
    "duration": 300,
    "start_time": "2025-07-07T13:50:04.123Z"
   },
   {
    "duration": 11,
    "start_time": "2025-07-07T13:50:12.484Z"
   },
   {
    "duration": 2474,
    "start_time": "2025-07-07T13:50:22.547Z"
   },
   {
    "duration": 4,
    "start_time": "2025-07-07T13:50:25.024Z"
   },
   {
    "duration": 3156,
    "start_time": "2025-07-07T13:50:25.029Z"
   },
   {
    "duration": 11,
    "start_time": "2025-07-07T13:50:28.187Z"
   },
   {
    "duration": 25,
    "start_time": "2025-07-07T13:50:28.200Z"
   },
   {
    "duration": 5,
    "start_time": "2025-07-07T13:50:28.227Z"
   },
   {
    "duration": 185,
    "start_time": "2025-07-07T13:50:28.233Z"
   },
   {
    "duration": 259,
    "start_time": "2025-07-07T13:50:28.419Z"
   },
   {
    "duration": 164,
    "start_time": "2025-07-07T13:50:28.680Z"
   },
   {
    "duration": 434,
    "start_time": "2025-07-07T13:50:28.846Z"
   },
   {
    "duration": 340,
    "start_time": "2025-07-07T13:50:29.281Z"
   },
   {
    "duration": 35,
    "start_time": "2025-07-07T13:50:29.623Z"
   },
   {
    "duration": 29,
    "start_time": "2025-07-07T13:50:29.672Z"
   },
   {
    "duration": 190,
    "start_time": "2025-07-07T13:50:29.703Z"
   },
   {
    "duration": 249,
    "start_time": "2025-07-07T13:50:29.895Z"
   },
   {
    "duration": 165,
    "start_time": "2025-07-07T13:50:30.146Z"
   },
   {
    "duration": 22,
    "start_time": "2025-07-07T13:50:30.313Z"
   },
   {
    "duration": 164,
    "start_time": "2025-07-07T13:50:30.337Z"
   },
   {
    "duration": 28,
    "start_time": "2025-07-07T13:50:30.621Z"
   },
   {
    "duration": 7,
    "start_time": "2025-07-07T13:50:30.814Z"
   },
   {
    "duration": 8,
    "start_time": "2025-07-07T13:50:30.963Z"
   },
   {
    "duration": 7,
    "start_time": "2025-07-07T13:50:31.147Z"
   },
   {
    "duration": 295,
    "start_time": "2025-07-07T13:50:31.985Z"
   },
   {
    "duration": 106,
    "start_time": "2025-07-07T13:50:32.282Z"
   },
   {
    "duration": 208,
    "start_time": "2025-07-07T13:50:32.515Z"
   },
   {
    "duration": 281,
    "start_time": "2025-07-07T13:50:32.781Z"
   },
   {
    "duration": 55,
    "start_time": "2025-07-07T13:50:33.072Z"
   },
   {
    "duration": 424,
    "start_time": "2025-07-07T13:50:33.442Z"
   },
   {
    "duration": 73,
    "start_time": "2025-07-07T13:50:34.940Z"
   },
   {
    "duration": 62,
    "start_time": "2025-07-07T13:50:35.250Z"
   },
   {
    "duration": 47,
    "start_time": "2025-07-07T13:50:35.453Z"
   },
   {
    "duration": 40,
    "start_time": "2025-07-07T13:50:36.813Z"
   },
   {
    "duration": 10,
    "start_time": "2025-07-07T13:50:37.947Z"
   },
   {
    "duration": 342,
    "start_time": "2025-07-07T13:50:38.755Z"
   },
   {
    "duration": 210,
    "start_time": "2025-07-07T13:50:39.796Z"
   },
   {
    "duration": 10,
    "start_time": "2025-07-07T13:50:40.706Z"
   },
   {
    "duration": 4,
    "start_time": "2025-07-07T13:50:41.227Z"
   },
   {
    "duration": 53,
    "start_time": "2025-07-07T13:50:59.661Z"
   },
   {
    "duration": 7,
    "start_time": "2025-07-07T13:51:00.035Z"
   },
   {
    "duration": 5,
    "start_time": "2025-07-07T13:51:00.234Z"
   },
   {
    "duration": 7,
    "start_time": "2025-07-07T13:51:00.410Z"
   },
   {
    "duration": 97,
    "start_time": "2025-07-07T13:51:00.595Z"
   },
   {
    "duration": 11,
    "start_time": "2025-07-07T13:52:32.160Z"
   },
   {
    "duration": 7,
    "start_time": "2025-07-07T13:52:58.427Z"
   },
   {
    "duration": 88,
    "start_time": "2025-07-07T13:53:16.995Z"
   },
   {
    "duration": 11,
    "start_time": "2025-07-07T13:54:05.635Z"
   },
   {
    "duration": 7,
    "start_time": "2025-07-07T13:54:18.538Z"
   },
   {
    "duration": 156,
    "start_time": "2025-07-07T13:54:33.282Z"
   },
   {
    "duration": 10,
    "start_time": "2025-07-07T14:14:10.159Z"
   }
  ],
  "colab": {
   "provenance": []
  },
  "kernelspec": {
   "display_name": "Python 3 (ipykernel)",
   "language": "python",
   "name": "python3"
  },
  "language_info": {
   "codemirror_mode": {
    "name": "ipython",
    "version": 3
   },
   "file_extension": ".py",
   "mimetype": "text/x-python",
   "name": "python",
   "nbconvert_exporter": "python",
   "pygments_lexer": "ipython3",
   "version": "3.9.5"
  },
  "toc": {
   "base_numbering": 1,
   "nav_menu": {},
   "number_sections": false,
   "sideBar": true,
   "skip_h1_title": true,
   "title_cell": "Table of Contents",
   "title_sidebar": "Contents",
   "toc_cell": false,
   "toc_position": {},
   "toc_section_display": true,
   "toc_window_display": true
  }
 },
 "nbformat": 4,
 "nbformat_minor": 1
}
