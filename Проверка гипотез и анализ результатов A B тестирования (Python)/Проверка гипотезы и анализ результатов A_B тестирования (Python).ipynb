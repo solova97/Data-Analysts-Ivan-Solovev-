{
 "cells": [
  {
   "cell_type": "markdown",
   "id": "bf23e5fa",
   "metadata": {},
   "source": [
    "<div style=\"border:solid green 2px; padding: 20px\"> <h1 style=\"color:green; margin-bottom:20px\">Комментарий ревьюера v1</h1>\n",
    "\n",
    "Иван привет! Меня зовут Дмитрий Пышненко, и я буду проверять твой проект. Предлагаю общаться на «ты» если ты не против 😊 Но если нет, то дай знать, и мы перейдем на \"вы\". \n",
    "    \n",
    "Для своих комментариев я буду использовать цветовую разметку:\n",
    "\n",
    "<div class=\"alert alert-success\">\n",
    "    <b>Успех:</b> все сделано правильно.\n",
    "</div>\n",
    "<div class=\"alert alert-warning\">\n",
    "    <b>Есть замечания:</b> так выделены небольшие замечания которые не критичны, но было бы здорово исправить. Если таких замечаний немного, то такой проект может быть принят.\n",
    "</div>\n",
    "<div class=\"alert alert-danger\">\n",
    "    <b>Нужно переделать:</b> есть замечания которые необходимо исправить или доделать для сдачи проекта.\n",
    "</div>\n",
    "    \n",
    "Я буду поддерживать версионность комментариев, и при следующих итерациях я буду оставлять ячейки с новой версией v2 (v3 и.т.д.)\"\n",
    "    \n",
    "Если у тебя есть вопросы, замечания или отвечаешь на комментарии — пиши об этом. Мне будет легче отследить изменения, если ты выделишь свои комментарии: \n",
    "<div class=\"alert alert-info\"> <b>Комментарий студента:</b>"
   ]
  },
  {
   "cell_type": "markdown",
   "id": "649e0e18",
   "metadata": {},
   "source": [
    "<div style=\"border:solid green 2px; padding: 20px\">\n",
    "<b>Комментарий ревьюера v1:</b>\n",
    "    \n",
    "<b>Общее впечатление:</b> \n",
    " \n",
    "- Хорошая работа по анализу A/B-тестирования! Проект выполнен структурировано, проведена проверка гипотез для обеих частей задания, применены статистические тесты. Особенно радует, что ты проверяешь предпосылки для выбора подходящего теста и делаешь обоснованные выводы. Твои визуализации также помогают описать доступные для нас данные.\n",
    "- Осталось исправить следующие моменты для сдачи проекта (буду также рад исправлениям желтых:):\n",
    "    - Добавить графики распределений.\n",
    "    - Проверить данные на дубликаты.\n",
    "    - Добавить решение по пользователям, попавшим сразу в несколько тестов. Поправить фильтрацию данных.\n",
    "    - Добавить расчет относительного (на сколько процентов улучшилась метрика) изменения конверсии\n",
    "    - Поправить ошибку в коде\n",
    "    - Сформулировать гипотезы для второго теста.\n",
    "\n",
    "Буду ждать новую версию на повторную проверку 😇 Успехов!\n",
    "\n",
    "</div>"
   ]
  },
  {
   "cell_type": "markdown",
   "id": "d2170532",
   "metadata": {},
   "source": [
    "<div style=\"border:solid green 2px; padding: 20px\">\n",
    "<b>Комментарий ревьюера v2:</b>\n",
    "    \n",
    "Очень здорово, что дополнительно поработал над проектом и внес улучшения на комментарии 😇\n",
    "    \n",
    "Остались совсем небольшие опечатки в коде. Посмотришь пожалуйста? \n",
    "    \n",
    "Буду ждать новую версию на повторную проверку. Успехов!"
   ]
  },
  {
   "cell_type": "markdown",
   "id": "8232b9d7",
   "metadata": {},
   "source": [
    "<div style=\"border:solid green 2px; padding: 20px\">\n",
    "<b>Комментарий ревьюера v3:</b>\n",
    "    \n",
    "Иван привет!  Критических замечаний нет. Проект принят 🎉\n",
    "\n",
    "Было интересно его проверять и осталось только пожелать тебе успехов на следующих спринтах 🍀"
   ]
  },
  {
   "cell_type": "markdown",
   "id": "_E41Wr5fqnFT",
   "metadata": {
    "id": "_E41Wr5fqnFT"
   },
   "source": [
    "# Часть 1. Проверка гипотезы в Python и составление аналитической записки"
   ]
  },
  {
   "cell_type": "markdown",
   "id": "Z5_6nf-FrY7o",
   "metadata": {
    "id": "Z5_6nf-FrY7o"
   },
   "source": [
    "Вы предобработали данные в SQL, и теперь они готовы для проверки гипотезы в Python. Загрузите данные пользователей из Москвы и Санкт-Петербурга c суммой часов их активности из файла `yandex_knigi_data.csv`. Если работаете локально, скачать файл можно по ссылке.\n",
    "\n",
    "Проверьте наличие дубликатов в идентификаторах пользователей. Сравните размеры групп, их статистики и распределение.\n",
    "\n",
    "Напомним, как выглядит гипотеза: пользователи из Санкт-Петербурга проводят в среднем больше времени за чтением и прослушиванием книг в приложении, чем пользователи из Москвы. Попробуйте статистически это доказать, используя одностороннюю проверку гипотезы с двумя выборками:\n",
    "\n",
    "Нулевая гипотеза $H_0: \\mu_{\\text{СПб}} \\leq \\mu_{\\text{Москва}}$ <br> Среднее время активности пользователей в Санкт-Петербурге не больше, чем в Москве.\n",
    "\n",
    "Альтернативная гипотеза $H_1: \\mu_{\\text{СПб}} > \\mu_{\\text{Москва}}$ <br> Среднее время активности пользователей в Санкт-Петербурге больше, и это различие статистически значимо.\n",
    "\n",
    "По результатам анализа данных подготовьте аналитическую записку, в которой опишите:\n",
    "\n",
    "Выбранный тип t-теста и уровень статистической значимости.\n",
    "\n",
    "Результат теста, или p-value.\n",
    "\n",
    "Вывод на основе полученного p-value, то есть интерпретацию результатов.\n",
    "\n",
    "Одну или две возможные причины, объясняющие полученные результаты."
   ]
  },
  {
   "cell_type": "markdown",
   "id": "e06910dd",
   "metadata": {
    "id": "e06910dd"
   },
   "source": [
    "## Проверка гипотез в Python и составление аналитической записки на основании данных сервиса \"Яндекс Книги\"\n",
    "\n",
    "- Автор: Соловьев Иван\n",
    "- Дата: 01.09.2025"
   ]
  },
  {
   "cell_type": "markdown",
   "id": "4149134c",
   "metadata": {
    "id": "4149134c"
   },
   "source": [
    "## Цели и задачи проекта\n",
    "\n",
    "Проверить наличие дубликатов в идентификаторах пользователей. Сравнить размеры групп, их статистики и распределение.\n",
    "\n",
    "Гипотезы: пользователи из Санкт-Петербурга проводят в среднем больше времени за чтением и прослушиванием книг в приложении, чем пользователи из Москвы:\n",
    "\n",
    "Нулевая гипотеза $H_0: \\mu_{\\text{СПб}} \\leq \\mu_{\\text{Москва}}$ <br> Среднее время активности пользователей в Санкт-Петербурге не больше, чем в Москве.\n",
    "\n",
    "Альтернативная гипотеза $H_1: \\mu_{\\text{СПб}} > \\mu_{\\text{Москва}}$ <br> Среднее время активности пользователей в Санкт-Петербурге больше, и это различие статистически значимо.\n",
    "\n",
    "По результатам анализа данных подготовить аналитическую записку, в которой будут описаны:\n",
    "\n",
    "- Выбранный тип t-теста и уровень статистической значимости.\n",
    "\n",
    "- Результат теста, или p-value.\n",
    "\n",
    "- Вывод на основе полученного p-value, то есть интерпретацию результатов.\n",
    "\n",
    "- Одну или две возможные причины, объясняющие полученные результаты."
   ]
  },
  {
   "cell_type": "markdown",
   "id": "728986ea",
   "metadata": {
    "id": "728986ea"
   },
   "source": [
    "## Описание данных\n",
    "Таблицы этого проекта содержат данные о чтении и прослушивании контента в сервисе Яндекс Книги, которые включают информацию о пользователях, платформах, времени, длительности сессий и типах контента. Данные представлены за период с 1 сентября по 11 декабря 2024 года. В вашем распоряжении будет несколько таблиц.\n",
    "\n",
    "Таблица `bookmate.audition` содержит данные об активности пользователей и состоит из следующих полей:\n",
    "- `audition_id` — уникальный идентификатор сессии чтения или прослушивания;\n",
    "- `puid` — идентификатор пользователя;\n",
    "- `usage_platform_ru` — название платформы, с помощью которой пользователь слушал контент;\n",
    "- `msk_business_dt_str` — дата события в формате строки (московское время);\n",
    "- `app_version` — версия приложения, которая использовалась для чтения или прослушивания;\n",
    "- `adult_content_flg` — был ли это контент для взрослых: True или False;\n",
    "- `hours` — длительность чтения или прослушивания в часах;\n",
    "- `hours_sessions_long` — продолжительность длинных сессий чтения или прослушивания в часах;\n",
    "- `kids_content_flg` — был ли это детский контент: True или False;\n",
    "- `main_content_id` — идентификатор основного контента;\n",
    "- `usage_geo_id` — идентификатор географического местоположения.\n",
    "\n",
    "Таблица `bookmate.content` содержит данные о контенте и состоит из следующих полей:\n",
    "- `main_content_id` — идентификатор основного контента;\n",
    "- `main_author_id` — идентификатор основного автора контента;\n",
    "- `main_content_type` — тип контента;\n",
    "- `main_content_name` — название контента;\n",
    "- `main_content_duration_hours` — длительность контента в часах;\n",
    "- `published_topic_title_list` — список жанров контента.\n",
    "\n",
    "Таблица `bookmate.author` содержит данные об авторах контента и состоит из следующих полей:\n",
    "- `main_author_id` — идентификатор основного автора контента;\n",
    "- `main_author_name` — имя основного автора контента.\n",
    "\n",
    "Таблица `bookmate.geo` содержит данные о местоположении и состоит из следующих полей:\n",
    "- `usage_geo_id` — идентификатор географического положения;\n",
    "- `usage_geo_id_name` — город или регион географического положения;\n",
    "- `usage_country_name` — страна географического положения."
   ]
  },
  {
   "cell_type": "markdown",
   "id": "4fecaf95",
   "metadata": {
    "id": "4fecaf95"
   },
   "source": [
    "## Содержимое проекта\n",
    "\n",
    "1. Загрузка данных и знакомство с ними.\n",
    "2. Проверка гипотезы в Python.\n",
    "3. Аналитическая записка.\n",
    "\n",
    "---"
   ]
  },
  {
   "cell_type": "markdown",
   "id": "d971a5e3",
   "metadata": {},
   "source": [
    "<div style=\"background-color: #d4edda; color: #155724; padding: 15px; border-radius: 4px; border: 1px solid #c3e6cb;\">\n",
    "\n",
    "<b>Комментарий ревьюера v1:</b>\n",
    "\n",
    "Отличная вводная часть проекта! Работа четко структурирована, основные задачи выделены правильно, а гипотезы сформулированы корректно."
   ]
  },
  {
   "cell_type": "markdown",
   "id": "c5151b2d",
   "metadata": {
    "id": "6f7d21d6"
   },
   "source": [
    "## 1. Загрузка данных и знакомство с ними\n",
    "\n",
    "Загрузите данные пользователей из Москвы и Санкт-Петербурга c их активностью (суммой часов чтения и прослушивания) из файла `/datasets/yandex_knigi_data.csv`."
   ]
  },
  {
   "cell_type": "code",
   "execution_count": 1,
   "id": "f68a7419",
   "metadata": {
    "id": "f68a7419"
   },
   "outputs": [],
   "source": [
    "# Импортируем необходимые библиотеки\n",
    "import pandas as pd\n",
    "import numpy as np\n",
    "import scipy.stats as st\n",
    "import matplotlib.pyplot as plt\n",
    "import math\n",
    "from statsmodels.stats.power import NormalIndPower\n",
    "from statsmodels.stats.proportion import proportion_effectsize\n",
    "from statsmodels.stats.proportion import proportions_ztest"
   ]
  },
  {
   "cell_type": "code",
   "execution_count": 2,
   "id": "28418783",
   "metadata": {},
   "outputs": [],
   "source": [
    "df = pd.read_csv('https://code.s3.yandex.net/datasets/yandex_knigi_data.csv')"
   ]
  },
  {
   "cell_type": "code",
   "execution_count": 3,
   "id": "2aead011",
   "metadata": {},
   "outputs": [
    {
     "data": {
      "text/html": [
       "<div>\n",
       "<style scoped>\n",
       "    .dataframe tbody tr th:only-of-type {\n",
       "        vertical-align: middle;\n",
       "    }\n",
       "\n",
       "    .dataframe tbody tr th {\n",
       "        vertical-align: top;\n",
       "    }\n",
       "\n",
       "    .dataframe thead th {\n",
       "        text-align: right;\n",
       "    }\n",
       "</style>\n",
       "<table border=\"1\" class=\"dataframe\">\n",
       "  <thead>\n",
       "    <tr style=\"text-align: right;\">\n",
       "      <th></th>\n",
       "      <th>Unnamed: 0</th>\n",
       "      <th>city</th>\n",
       "      <th>puid</th>\n",
       "      <th>hours</th>\n",
       "    </tr>\n",
       "  </thead>\n",
       "  <tbody>\n",
       "    <tr>\n",
       "      <th>0</th>\n",
       "      <td>0</td>\n",
       "      <td>Москва</td>\n",
       "      <td>9668</td>\n",
       "      <td>26.167776</td>\n",
       "    </tr>\n",
       "    <tr>\n",
       "      <th>1</th>\n",
       "      <td>1</td>\n",
       "      <td>Москва</td>\n",
       "      <td>16598</td>\n",
       "      <td>82.111217</td>\n",
       "    </tr>\n",
       "    <tr>\n",
       "      <th>2</th>\n",
       "      <td>2</td>\n",
       "      <td>Москва</td>\n",
       "      <td>80401</td>\n",
       "      <td>4.656906</td>\n",
       "    </tr>\n",
       "    <tr>\n",
       "      <th>3</th>\n",
       "      <td>3</td>\n",
       "      <td>Москва</td>\n",
       "      <td>140205</td>\n",
       "      <td>1.840556</td>\n",
       "    </tr>\n",
       "    <tr>\n",
       "      <th>4</th>\n",
       "      <td>4</td>\n",
       "      <td>Москва</td>\n",
       "      <td>248755</td>\n",
       "      <td>151.326434</td>\n",
       "    </tr>\n",
       "  </tbody>\n",
       "</table>\n",
       "</div>"
      ],
      "text/plain": [
       "   Unnamed: 0    city    puid       hours\n",
       "0           0  Москва    9668   26.167776\n",
       "1           1  Москва   16598   82.111217\n",
       "2           2  Москва   80401    4.656906\n",
       "3           3  Москва  140205    1.840556\n",
       "4           4  Москва  248755  151.326434"
      ]
     },
     "execution_count": 3,
     "metadata": {},
     "output_type": "execute_result"
    }
   ],
   "source": [
    "df.head()"
   ]
  },
  {
   "cell_type": "markdown",
   "id": "ce5f3948",
   "metadata": {},
   "source": [
    "<div style=\"background-color: #fff3cd; color: #856404; padding: 15px; border-radius: 4px; border: 1px solid #ffeeba;\">\n",
    "    \n",
    "<b>Комментарий ревьюера v1:</b>\n",
    "\n",
    "Ненужный столбец можно сразу было удалить с помощью `index_col=0`."
   ]
  },
  {
   "cell_type": "code",
   "execution_count": 4,
   "id": "c0f75a4b",
   "metadata": {},
   "outputs": [
    {
     "name": "stdout",
     "output_type": "stream",
     "text": [
      "<class 'pandas.core.frame.DataFrame'>\n",
      "RangeIndex: 8784 entries, 0 to 8783\n",
      "Data columns (total 4 columns):\n",
      " #   Column      Non-Null Count  Dtype  \n",
      "---  ------      --------------  -----  \n",
      " 0   Unnamed: 0  8784 non-null   int64  \n",
      " 1   city        8784 non-null   object \n",
      " 2   puid        8784 non-null   int64  \n",
      " 3   hours       8784 non-null   float64\n",
      "dtypes: float64(1), int64(2), object(1)\n",
      "memory usage: 274.6+ KB\n"
     ]
    }
   ],
   "source": [
    "df.info()"
   ]
  },
  {
   "cell_type": "code",
   "execution_count": 5,
   "id": "14f3c6d3",
   "metadata": {},
   "outputs": [],
   "source": [
    "# Удаляем колонку \"Unnamed\"\n",
    "df = df.drop(columns = ['Unnamed: 0'])"
   ]
  },
  {
   "cell_type": "code",
   "execution_count": 6,
   "id": "aaa27e28",
   "metadata": {},
   "outputs": [
    {
     "data": {
      "text/html": [
       "<div>\n",
       "<style scoped>\n",
       "    .dataframe tbody tr th:only-of-type {\n",
       "        vertical-align: middle;\n",
       "    }\n",
       "\n",
       "    .dataframe tbody tr th {\n",
       "        vertical-align: top;\n",
       "    }\n",
       "\n",
       "    .dataframe thead th {\n",
       "        text-align: right;\n",
       "    }\n",
       "</style>\n",
       "<table border=\"1\" class=\"dataframe\">\n",
       "  <thead>\n",
       "    <tr style=\"text-align: right;\">\n",
       "      <th></th>\n",
       "      <th>city</th>\n",
       "      <th>puid</th>\n",
       "      <th>hours</th>\n",
       "    </tr>\n",
       "  </thead>\n",
       "  <tbody>\n",
       "    <tr>\n",
       "      <th>0</th>\n",
       "      <td>Москва</td>\n",
       "      <td>9668</td>\n",
       "      <td>26.167776</td>\n",
       "    </tr>\n",
       "    <tr>\n",
       "      <th>1</th>\n",
       "      <td>Москва</td>\n",
       "      <td>16598</td>\n",
       "      <td>82.111217</td>\n",
       "    </tr>\n",
       "    <tr>\n",
       "      <th>2</th>\n",
       "      <td>Москва</td>\n",
       "      <td>80401</td>\n",
       "      <td>4.656906</td>\n",
       "    </tr>\n",
       "    <tr>\n",
       "      <th>3</th>\n",
       "      <td>Москва</td>\n",
       "      <td>140205</td>\n",
       "      <td>1.840556</td>\n",
       "    </tr>\n",
       "    <tr>\n",
       "      <th>4</th>\n",
       "      <td>Москва</td>\n",
       "      <td>248755</td>\n",
       "      <td>151.326434</td>\n",
       "    </tr>\n",
       "  </tbody>\n",
       "</table>\n",
       "</div>"
      ],
      "text/plain": [
       "     city    puid       hours\n",
       "0  Москва    9668   26.167776\n",
       "1  Москва   16598   82.111217\n",
       "2  Москва   80401    4.656906\n",
       "3  Москва  140205    1.840556\n",
       "4  Москва  248755  151.326434"
      ]
     },
     "execution_count": 6,
     "metadata": {},
     "output_type": "execute_result"
    }
   ],
   "source": [
    "df.head()"
   ]
  },
  {
   "cell_type": "code",
   "execution_count": 7,
   "id": "6ca62066",
   "metadata": {},
   "outputs": [
    {
     "name": "stdout",
     "output_type": "stream",
     "text": [
      "Количество дубликатов 244\n"
     ]
    }
   ],
   "source": [
    "# Считаем дубликаты в датафрейме\n",
    "duplicates = df.duplicated(subset=['puid']).sum()\n",
    "print(f\"Количество дубликатов {duplicates}\")"
   ]
  },
  {
   "cell_type": "code",
   "execution_count": 8,
   "id": "1096019f",
   "metadata": {},
   "outputs": [],
   "source": [
    "# Удаляем дубликаты\n",
    "df = df.drop_duplicates(subset = ['puid'])"
   ]
  },
  {
   "cell_type": "markdown",
   "id": "2d9de88a",
   "metadata": {},
   "source": [
    "В процессе предобработки данных были удалены колонка `Unnamed` и 244 `дубликата`."
   ]
  },
  {
   "cell_type": "code",
   "execution_count": 9,
   "id": "fd04e473",
   "metadata": {},
   "outputs": [
    {
     "name": "stdout",
     "output_type": "stream",
     "text": [
      "Размер группы Москва: 6234\n",
      "Размер группы  Санкт-Петербург: 2306\n"
     ]
    }
   ],
   "source": [
    "#Делим на группы\n",
    "moscow = df[df['city'] == 'Москва']['hours']\n",
    "spb = df[df['city'] == 'Санкт-Петербург']['hours']\n",
    "\n",
    "print(f\"Размер группы Москва: {moscow.shape[0]}\")\n",
    "print(f\"Размер группы  Санкт-Петербург: {spb.shape[0]}\")"
   ]
  },
  {
   "cell_type": "code",
   "execution_count": 10,
   "id": "5f51a62e",
   "metadata": {},
   "outputs": [
    {
     "name": "stdout",
     "output_type": "stream",
     "text": [
      "Статистики для Москвы:\n",
      "count    6234.000000\n",
      "mean       10.881092\n",
      "std        36.851683\n",
      "min         0.000018\n",
      "25%         0.059903\n",
      "50%         0.924498\n",
      "75%         5.939972\n",
      "max       857.209373\n",
      "Name: hours, dtype: float64\n",
      "\n",
      "Медиана для Москвы: 0.92\n"
     ]
    }
   ],
   "source": [
    "# Ключевые статистики для Москвы\n",
    "print(\"Статистики для Москвы:\")\n",
    "print(moscow.describe())\n",
    "print(f\"\\nМедиана для Москвы: {moscow.median():.2f}\")"
   ]
  },
  {
   "cell_type": "code",
   "execution_count": 11,
   "id": "0f1278b8",
   "metadata": {},
   "outputs": [
    {
     "name": "stdout",
     "output_type": "stream",
     "text": [
      "\n",
      "Статистики для Санкт-Петербурга:\n",
      "count    2306.000000\n",
      "mean       11.264433\n",
      "std        39.831755\n",
      "min         0.000025\n",
      "25%         0.060173\n",
      "50%         0.875355\n",
      "75%         6.138424\n",
      "max       978.764775\n",
      "Name: hours, dtype: float64\n",
      "\n",
      "Медиана для Санкт-Петербурга: 0.88\n"
     ]
    }
   ],
   "source": [
    "# Ключевые статистики для Санкт-Петербурга\n",
    "print(\"\\nСтатистики для Санкт-Петербурга:\")\n",
    "print(spb.describe())\n",
    "print(f\"\\nМедиана для Санкт-Петербурга: {spb.median():.2f}\")"
   ]
  },
  {
   "cell_type": "code",
   "execution_count": 12,
   "id": "57fd015c",
   "metadata": {},
   "outputs": [
    {
     "name": "stdout",
     "output_type": "stream",
     "text": [
      "\n",
      "Сравнение:\n",
      "Москва: среднее = 10.88, медиана = 0.92\n",
      "СПб: среднее = 11.26, медиана = 0.88\n"
     ]
    }
   ],
   "source": [
    "# Сравнение среднего и медианы\n",
    "print(f\"\\nСравнение:\")\n",
    "print(f\"Москва: среднее = {moscow.mean():.2f}, медиана = {moscow.median():.2f}\")\n",
    "print(f\"СПб: среднее = {spb.mean():.2f}, медиана = {spb.median():.2f}\")"
   ]
  },
  {
   "cell_type": "code",
   "execution_count": 13,
   "id": "3856be1f",
   "metadata": {},
   "outputs": [
    {
     "data": {
      "image/png": "[encoded data removed]",
      "text/plain": [
       "<Figure size 864x432 with 2 Axes>"
      ]
     },
     "metadata": {
      "needs_background": "light"
     },
     "output_type": "display_data"
    },
    {
     "name": "stdout",
     "output_type": "stream",
     "text": [
      "\n",
      "Анализ выбросов для Москвы:\n",
      "Границы выбросов: [-8.76, 14.76]\n",
      "Количество выбросов: 900\n",
      "Процент выбросов: 14.44%\n",
      "Максимальное значение выброса: 857.2093727777777\n",
      "\n",
      "Анализ выбросов для Санкт-Петербурга:\n",
      "Границы выбросов: [-9.06, 15.26]\n",
      "Количество выбросов: 346\n",
      "Процент выбросов: 15.00%\n",
      "Максимальное значение выброса: 978.7647747474748\n",
      "\n",
      "==================================================\n",
      "РЕШЕНИЕ ПО ВЫБРОСАМ:\n",
      "==================================================\n",
      "Выбросы не удаляются, так как:\n",
      "1. Составляют значительную часть данных (реальное поведение пользователей)\n",
      "2. Не являются ошибками измерения\n",
      "3. Для анализа будет использован t-тест с поправкой Уэлча (Welch's t-test)\n",
      "   который более устойчив к нарушениям предположений о нормальности\n",
      "4. Дополнительно будет рассчитана статистическая мощность теста\n"
     ]
    }
   ],
   "source": [
    "# Визуализируем распределения\n",
    "plt.figure(figsize=(12, 6))\n",
    "\n",
    "# Гистограммы распределений\n",
    "plt.subplot(1, 2, 1)\n",
    "plt.hist(moscow, bins=50, alpha=0.7, color='blue', label='Москва')\n",
    "plt.hist(spb, bins=50, alpha=0.7, color='green', label='СПб')\n",
    "plt.xlabel('Часы активности')\n",
    "plt.ylabel('Частота')\n",
    "plt.title('Распределение времени активности')\n",
    "plt.legend()\n",
    "plt.yscale('log')  # Логарифмическая шкала для лучшей визуализации\n",
    "\n",
    "# Boxplot для визуализации выбросов\n",
    "plt.subplot(1, 2, 2)\n",
    "data_to_plot = [moscow, spb]\n",
    "plt.boxplot(data_to_plot, labels=['Москва', 'СПб'])\n",
    "plt.title('Boxplot времени активности')\n",
    "plt.ylabel('Часы активности')\n",
    "\n",
    "plt.tight_layout()\n",
    "plt.show()\n",
    "\n",
    "# Анализ выбросов с использованием IQR метода\n",
    "def analyze_outliers(data, city_name):\n",
    "    Q1 = data.quantile(0.25)\n",
    "    Q3 = data.quantile(0.75)\n",
    "    IQR = Q3 - Q1\n",
    "    lower_bound = Q1 - 1.5 * IQR\n",
    "    upper_bound = Q3 + 1.5 * IQR\n",
    "    \n",
    "    outliers = data[(data < lower_bound) | (data > upper_bound)]\n",
    "    print(f\"\\nАнализ выбросов для {city_name}:\")\n",
    "    print(f\"Границы выбросов: [{lower_bound:.2f}, {upper_bound:.2f}]\")\n",
    "    print(f\"Количество выбросов: {len(outliers)}\")\n",
    "    print(f\"Процент выбросов: {len(outliers)/len(data)*100:.2f}%\")\n",
    "    print(f\"Максимальное значение выброса: {outliers.max() if len(outliers) > 0 else 'Нет выбросов'}\")\n",
    "    \n",
    "    return outliers\n",
    "\n",
    "# Анализируем выбросы для обеих групп\n",
    "outliers_moscow = analyze_outliers(moscow, \"Москвы\")\n",
    "outliers_spb = analyze_outliers(spb, \"Санкт-Петербурга\")\n",
    "\n",
    "# Принимаем решение о обработке выбросов\n",
    "print(\"\\n\" + \"=\"*50)\n",
    "print(\"РЕШЕНИЕ ПО ВЫБРОСАМ:\")\n",
    "print(\"=\"*50)\n",
    "\n",
    "# Поскольку выбросы составляют значительную часть данных (более 5%) \n",
    "# и представляют реальное поведение пользователей (не ошибки измерения),\n",
    "# мы НЕ будем удалять их, а используем тест, устойчивый к выбросам\n",
    "\n",
    "print(\"Выбросы не удаляются, так как:\")\n",
    "print(\"1. Составляют значительную часть данных (реальное поведение пользователей)\")\n",
    "print(\"2. Не являются ошибками измерения\")\n",
    "print(\"3. Для анализа будет использован t-тест с поправкой Уэлча (Welch's t-test)\")\n",
    "print(\"   который более устойчив к нарушениям предположений о нормальности\")\n",
    "print(\"4. Дополнительно будет рассчитана статистическая мощность теста\")"
   ]
  },
  {
   "cell_type": "markdown",
   "id": "2b97f930",
   "metadata": {},
   "source": [
    "<div style=\"background-color: #f8d7da; color: #721c24; padding: 15px; border-radius: 4px; border: 1px solid #f5c6cb;\">\n",
    "\n",
    "<b>Комментарий ревьюера v2:</b>\n",
    "\n",
    "Здесь, к сожалению, появились ошибки в коде. Поправишь, пожалуйста? \n",
    "\n",
    "Советую всегда запускать проект еще раз на платформе Практикума перед отправкой работы, чтобы избежать возможных ошибок. Можно сделать это, используя: Kernel -> Restart & Run All "
   ]
  },
  {
   "cell_type": "markdown",
   "id": "73ae11df",
   "metadata": {},
   "source": [
    "<div class=\"alert alert-info\"> <b>Комментарий студента v1:</b>\n",
    "    Код исправлен"
   ]
  },
  {
   "cell_type": "markdown",
   "id": "3e586c72",
   "metadata": {},
   "source": [
    "<div style=\"background-color: #d4edda; color: #155724; padding: 15px; border-radius: 4px; border: 1px solid #c3e6cb;\">\n",
    "\n",
    "<b>Комментарий ревьюера v3:</b>\n",
    "\n",
    "Отлично! Здорово, что поправил 👏"
   ]
  },
  {
   "cell_type": "markdown",
   "id": "657f747b",
   "metadata": {},
   "source": [
    "### **Выводы по анализу данных:**\n",
    "\n",
    "1. **Ключевые статистики** показывают, что распределения в обеих группах имеют положительную асимметрию (среднее > медиана)\n",
    "\n",
    "\n",
    "2. **Гистограммы** визуализируют, что данные имеют правостороннее распределение с длинным хвостом\n",
    "\n",
    "\n",
    "3. **Анализ выбросов** показывает, что в обеих группах присутствует значительное количество выбросов (более 5% данных), которые представляют реальное поведение пользователей с очень высокой активностью\n",
    "\n",
    "\n",
    "4. **Решение:** Поскольку выбросы являются законной частью данных и не являются ошибками измерения, мы не будем их удалять. Вместо этого используем:\n",
    "\n",
    " - Welch's t-test (более устойчив к нарушениям предположений)\n",
    "\n",
    " - Непараметрические тесты для дополнительной проверки\n",
    "\n",
    " - Анализ статистической мощности"
   ]
  },
  {
   "cell_type": "markdown",
   "id": "c9ca8c78",
   "metadata": {},
   "source": [
    "<div style=\"background-color: #d4edda; color: #155724; padding: 15px; border-radius: 4px; border: 1px solid #c3e6cb;\">\n",
    "\n",
    "<b>Комментарий ревьюера v1:</b>\n",
    "    \n",
    "Правильно найдены и удалены дубликаты пользователей."
   ]
  },
  {
   "cell_type": "markdown",
   "id": "40bb1a19",
   "metadata": {},
   "source": [
    "<div style=\"background-color: #f8d7da; color: #721c24; padding: 15px; border-radius: 4px; border: 1px solid #f5c6cb;\">\n",
    "\n",
    "<b>Комментарий ревьюера v1:</b>\n",
    "\n",
    "Можешь, пожалуйста, построить ключевые статистики для каждого города в таблице (среднее/медиана), сделать вывод о выбросах в данных и принять решение что с ними делать?\n",
    " \n",
    "Также было бы полезно построить гистограммы по городу, чтобы проанализировать распределения."
   ]
  },
  {
   "cell_type": "markdown",
   "id": "6cd57ece",
   "metadata": {},
   "source": [
    "<div class=\"alert alert-info\"> <b>Комментарий студента v1:</b>\n",
    "    Необходимые визуализации и выводы добавлены"
   ]
  },
  {
   "cell_type": "markdown",
   "id": "956e82e2",
   "metadata": {
    "id": "956e82e2"
   },
   "source": [
    "## 2. Проверка гипотезы в Python\n",
    "\n",
    "Гипотеза звучит так: пользователи из Санкт-Петербурга проводят в среднем больше времени за чтением и прослушиванием книг в приложении, чем пользователи из Москвы. Попробуйте статистически это доказать, используя одностороннюю проверку гипотезы с двумя выборками:\n",
    "\n",
    "- Нулевая гипотеза H₀: Средняя активность пользователей в часах в двух группах (Москва и Санкт-Петербург) не различается.\n",
    "\n",
    "- Альтернативная гипотеза H₁: Средняя активность пользователей в Санкт-Петербурге больше, и это различие статистически значимо."
   ]
  },
  {
   "cell_type": "markdown",
   "id": "c1fab1ea",
   "metadata": {},
   "source": [
    "<div style=\"background-color: #d4edda; color: #155724; padding: 15px; border-radius: 4px; border: 1px solid #c3e6cb;\">\n",
    "\n",
    "<b>Комментарий ревьюера v1:</b>\n",
    "    \n",
    "Гипотезы сформулированы верно! "
   ]
  },
  {
   "cell_type": "code",
   "execution_count": 14,
   "id": "43dadb9d",
   "metadata": {},
   "outputs": [
    {
     "name": "stdout",
     "output_type": "stream",
     "text": [
      "Размер группы Москва: 6234\n",
      "Размер группы  Санкт-Петербург: 2306\n",
      "Общий размер групп: 8540\n"
     ]
    }
   ],
   "source": [
    "#Делим на группы\n",
    "moscow = df[df['city'] == 'Москва']['hours']\n",
    "spb = df[df['city'] == 'Санкт-Петербург']['hours']\n",
    "total_group = moscow.shape[0] + spb.shape[0]\n",
    "\n",
    "print(f\"Размер группы Москва: {moscow.shape[0]}\")\n",
    "print(f\"Размер группы  Санкт-Петербург: {spb.shape[0]}\")\n",
    "print(f\"Общий размер групп: {total_group}\")"
   ]
  },
  {
   "cell_type": "code",
   "execution_count": 15,
   "id": "10c7d6b0",
   "metadata": {},
   "outputs": [
    {
     "name": "stdout",
     "output_type": "stream",
     "text": [
      "Результаты Welch's t-test:\n",
      "t-статистика: 0.4028\n",
      "p-value: 0.3436\n",
      "Степени свободы: 3852.89\n",
      "Полученное значение p_value=0.3435708118766314 больше критического уровня alpha=0.05. Опровергнуть нулевую гипотезу нельзя.\n",
      "\n",
      "Результаты теста Манна-Уитни:\n",
      "U-статистика: 7157178.5\n",
      "p-value: 0.6190\n",
      "\n",
      "Статистическая мощность теста: 0.063\n",
      "\n",
      "Среднее время активности пользователей в Москве: 10.88\n",
      "Среднее время активности пользователей в Санкт-Петербурге: 11.26\n",
      "Разница в средних: 0.38 часа\n"
     ]
    }
   ],
   "source": [
    "# Проверка гипотез с использованием Welch's t-test (более устойчив к выбросам)\n",
    "alpha = 0.05\n",
    "results = st.ttest_ind(spb, moscow, alternative='greater', equal_var=False)\n",
    "p_value = results.pvalue\n",
    "\n",
    "print(f\"Результаты Welch's t-test:\")\n",
    "print(f\"t-статистика: {results.statistic:.4f}\")\n",
    "print(f\"p-value: {p_value:.4f}\")\n",
    "\n",
    "# Расчет степеней свободы для Welch's t-test\n",
    "s1 = spb.var(ddof=1)\n",
    "s2 = moscow.var(ddof=1)\n",
    "n1 = len(spb)\n",
    "n2 = len(moscow)\n",
    "\n",
    "df = (s1/n1 + s2/n2)**2 / ((s1/n1)**2/(n1-1) + (s2/n2)**2/(n2-1))\n",
    "print(f\"Степени свободы: {df:.2f}\")\n",
    "\n",
    "if p_value < alpha:\n",
    "    print(f'Полученное значение p_value={p_value} меньше критического уровня alpha={alpha}. Принимаем альтернативную гипотезу.')\n",
    "else:\n",
    "    print(f'Полученное значение p_value={p_value} больше критического уровня alpha={alpha}. Опровергнуть нулевую гипотезу нельзя.')\n",
    "\n",
    "# Дополнительная проверка с помощью непараметрического теста Манна-Уитни\n",
    "mannwhitney_result = st.mannwhitneyu(spb, moscow, alternative='greater')\n",
    "print(f\"\\nРезультаты теста Манна-Уитни:\")\n",
    "print(f\"U-статистика: {mannwhitney_result.statistic}\")\n",
    "print(f\"p-value: {mannwhitney_result.pvalue:.4f}\")\n",
    "\n",
    "# Анализ статистической мощности\n",
    "effect_size = (spb.mean() - moscow.mean()) / np.sqrt((spb.std()**2 + moscow.std()**2)/2)\n",
    "power_analysis = NormalIndPower()\n",
    "power = power_analysis.solve_power(effect_size=effect_size, nobs1=len(spb), alpha=alpha)\n",
    "print(f\"\\nСтатистическая мощность теста: {power:.3f}\")\n",
    "\n",
    "moscow_mean = round(moscow.mean(),2)\n",
    "spb_mean = round(spb.mean(), 2)\n",
    "print(f'\\nСреднее время активности пользователей в Москве: {moscow_mean}')\n",
    "print(f'Среднее время активности пользователей в Санкт-Петербурге: {spb_mean}')\n",
    "print(f'Разница в средних: {spb_mean - moscow_mean:.2f} часа')"
   ]
  },
  {
   "cell_type": "markdown",
   "id": "2cd8bbcf",
   "metadata": {},
   "source": [
    "<div style=\"background-color: #f8d7da; color: #721c24; padding: 15px; border-radius: 4px; border: 1px solid #f5c6cb;\">\n",
    "\n",
    "<b>Комментарий ревьюера v1:</b>\n",
    "\n",
    "Тут закралась ошибка в коде. Поправишь, пожалуйста?"
   ]
  },
  {
   "cell_type": "markdown",
   "id": "9eb7fe06",
   "metadata": {},
   "source": [
    "<div class=\"alert alert-info\"> <b>Комментарий студента v1:</b>\n",
    "    Ошибка исправлена"
   ]
  },
  {
   "cell_type": "markdown",
   "id": "07143521",
   "metadata": {},
   "source": [
    "<div style=\"background-color: #d4edda; color: #155724; padding: 15px; border-radius: 4px; border: 1px solid #c3e6cb;\">\n",
    "\n",
    "<b>Комментарий ревьюера v2:</b>\n",
    "    \n",
    "Тест проведен верно!"
   ]
  },
  {
   "cell_type": "markdown",
   "id": "6953e84c",
   "metadata": {
    "id": "6953e84c"
   },
   "source": [
    "## 3. Аналитическая записка\n",
    "По результатам анализа данных подготовьте аналитическую записку, в которой опишете:\n",
    "\n",
    "- Выбранный тип t-теста и уровень статистической значимости.\n",
    "\n",
    "- Результат теста, или p-value.\n",
    "\n",
    "- Вывод на основе полученного p-value, то есть интерпретацию результатов.\n",
    "\n",
    "- Одну или две возможные причины, объясняющие полученные результаты.\n",
    "\n"
   ]
  },
  {
   "cell_type": "markdown",
   "id": "06fa95b1",
   "metadata": {},
   "source": [
    " **Выбранный метод статистического анализа**\n",
    "\n",
    "Для проверки гипотезы о различии среднего времени активности пользователей из Москвы и Санкт-Петербурга был применен **двухвыборочный Welch's t-test (он более устойчив к выбросам в данных)** с односторонней альтернативной гипотезой. Уровень статистической значимости (α) установлен на стандартном значении **0.05**.\n",
    "\n",
    "**Результаты теста**\n",
    "- **p-value** = **0.344**\n",
    "\n",
    "- **Среднее время активности в Москве:** `10.88` часов\n",
    "\n",
    "- **Среднее время активности в Санкт-Петербурге:** `11.26` часов\n",
    "\n",
    "- **Размер выборки:** `8540` пользователей\n",
    "\n",
    "**Интерпретация результатов**\n",
    "Полученное значение p-value (`0.344`) значительно превышает установленный уровень значимости α = `0.05`. Это означает, что **статистически значимых доказательств в пользу альтернативной гипотезы не обнаружено.**\n",
    "\n",
    "**Вывод:** Мы не можем отвергнуть нулевую гипотезу о том, что среднее время активности пользователей в Санкт-Петербурге не больше, чем в Москве. Хотя наблюдаемое различие в средних значениях (`11.26` vs `10.88` часов) указывает на большую активность пользователей из Санкт-Петербурга, это различие **не является статистически значимым.**\n",
    "\n",
    "**Возможные причины полученных результатов**\n",
    "\n",
    "1. **Недостаточная мощность теста** - несмотря на большой объем данных (`8540` пользователя), фактическая разница между группами может быть слишком мала для обнаружения с помощью выбранного статистического метода.\n",
    "\n",
    "2. **Высокая вариативность данных** - время активности пользователей могло сильно варьироваться внутри каждой группы (как в Москве, так и в Санкт-Петербурге), что затрудняет обнаружение статистически значимых различий между средними значениями.\n",
    "\n",
    "3. **Влияние внешних факторов** - различия в поведении пользователей могли быть обусловлены сезонными эффектами, маркетинговыми активностями или другими факторами, не учтенными в исследовании."
   ]
  },
  {
   "cell_type": "markdown",
   "id": "f197d7c6",
   "metadata": {},
   "source": [
    "<div style=\"background-color: #d4edda; color: #155724; padding: 15px; border-radius: 4px; border: 1px solid #c3e6cb;\">\n",
    "\n",
    "<b>Комментарий ревьюера v2:</b>\n",
    "    \n",
    "Корректные результаты и интерпретация t-теста. Аналитическая записка написана ясно, четко и по существу."
   ]
  },
  {
   "cell_type": "markdown",
   "id": "NqOUIYhbrIfC",
   "metadata": {
    "id": "NqOUIYhbrIfC"
   },
   "source": [
    "# Часть 2. Анализ результатов A/B-тестирования"
   ]
  },
  {
   "cell_type": "markdown",
   "id": "tDwMKFNGsClr",
   "metadata": {
    "id": "tDwMKFNGsClr"
   },
   "source": [
    "Теперь вам нужно проанализировать другие данные. Представьте, что к вам обратились представители интернет-магазина BitMotion Kit, в котором продаются геймифицированные товары для тех, кто ведёт здоровый образ жизни. У него есть своя целевая аудитория, даже появились хиты продаж: эспандер со счётчиком и напоминанием, так и подстольный велотренажёр с Bluetooth.\n",
    "\n",
    "В будущем компания хочет расширить ассортимент товаров. Но перед этим нужно решить одну проблему. Интерфейс онлайн-магазина слишком сложен для пользователей — об этом говорят отзывы.\n",
    "\n",
    "Чтобы привлечь новых клиентов и увеличить число продаж, владельцы магазина разработали новую версию сайта и протестировали его на части пользователей. По задумке, это решение доказуемо повысит количество пользователей, которые совершат покупку.\n",
    "\n",
    "Ваша задача — провести оценку результатов A/B-теста. В вашем распоряжении:\n",
    "\n",
    "* данные о действиях пользователей и распределении их на группы,\n",
    "\n",
    "* техническое задание.\n",
    "\n",
    "Оцените корректность проведения теста и проанализируйте его результаты."
   ]
  },
  {
   "cell_type": "markdown",
   "id": "UNXAAyF5r9Rk",
   "metadata": {
    "id": "UNXAAyF5r9Rk"
   },
   "source": [
    "## 1. Опишите цели исследования.\n",
    "\n"
   ]
  },
  {
   "cell_type": "markdown",
   "id": "kHx-51yES8bd",
   "metadata": {
    "id": "kHx-51yES8bd"
   },
   "source": [
    "**Цели исследования** - оценить корректность проведения A/B теста и проанализировать его результаты."
   ]
  },
  {
   "cell_type": "markdown",
   "id": "_CZryx2OsH-s",
   "metadata": {
    "id": "_CZryx2OsH-s"
   },
   "source": [
    "## 2. Загрузите данные, оцените их целостность.\n"
   ]
  },
  {
   "cell_type": "code",
   "execution_count": 16,
   "id": "DjFcJbeGsTIg",
   "metadata": {
    "id": "DjFcJbeGsTIg"
   },
   "outputs": [],
   "source": [
    "participants = pd.read_csv('https://code.s3.yandex.net/datasets/ab_test_participants.csv')\n",
    "events = pd.read_csv('https://code.s3.yandex.net/datasets/ab_test_events.zip',\n",
    "                     parse_dates=['event_dt'], low_memory=False)"
   ]
  },
  {
   "cell_type": "markdown",
   "id": "e5ba4c78",
   "metadata": {},
   "source": [
    "<div style=\"background-color: #d4edda; color: #155724; padding: 15px; border-radius: 4px; border: 1px solid #c3e6cb;\">\n",
    "\n",
    "<b>Комментарий ревьюера v1:</b>\n",
    "\n",
    "Отлично, что используешь `parse_dates` и `low_memory=False`!"
   ]
  },
  {
   "cell_type": "markdown",
   "id": "CnzA-efasUrk",
   "metadata": {
    "id": "CnzA-efasUrk"
   },
   "source": [
    "## 3. По таблице `ab_test_participants` оцените корректность проведения теста:\n",
    "\n",
    "   3\\.1 Выделите пользователей, участвующих в тесте, и проверьте:\n",
    "\n",
    "   - соответствие требованиям технического задания,\n",
    "\n",
    "   - равномерность распределения пользователей по группам теста,\n",
    "\n",
    "   - отсутствие пересечений с конкурирующим тестом (нет пользователей, участвующих одновременно в двух тестовых группах)."
   ]
  },
  {
   "cell_type": "code",
   "execution_count": 17,
   "id": "aNa3zHrKslEN",
   "metadata": {
    "id": "aNa3zHrKslEN"
   },
   "outputs": [
    {
     "name": "stdout",
     "output_type": "stream",
     "text": [
      "\n",
      "Первые 5 строк данных:\n"
     ]
    },
    {
     "data": {
      "text/html": [
       "<div>\n",
       "<style scoped>\n",
       "    .dataframe tbody tr th:only-of-type {\n",
       "        vertical-align: middle;\n",
       "    }\n",
       "\n",
       "    .dataframe tbody tr th {\n",
       "        vertical-align: top;\n",
       "    }\n",
       "\n",
       "    .dataframe thead th {\n",
       "        text-align: right;\n",
       "    }\n",
       "</style>\n",
       "<table border=\"1\" class=\"dataframe\">\n",
       "  <thead>\n",
       "    <tr style=\"text-align: right;\">\n",
       "      <th></th>\n",
       "      <th>user_id</th>\n",
       "      <th>group</th>\n",
       "      <th>ab_test</th>\n",
       "      <th>device</th>\n",
       "    </tr>\n",
       "  </thead>\n",
       "  <tbody>\n",
       "    <tr>\n",
       "      <th>0</th>\n",
       "      <td>0002CE61FF2C4011</td>\n",
       "      <td>B</td>\n",
       "      <td>interface_eu_test</td>\n",
       "      <td>Mac</td>\n",
       "    </tr>\n",
       "    <tr>\n",
       "      <th>1</th>\n",
       "      <td>001064FEAAB631A1</td>\n",
       "      <td>B</td>\n",
       "      <td>recommender_system_test</td>\n",
       "      <td>Android</td>\n",
       "    </tr>\n",
       "    <tr>\n",
       "      <th>2</th>\n",
       "      <td>001064FEAAB631A1</td>\n",
       "      <td>A</td>\n",
       "      <td>interface_eu_test</td>\n",
       "      <td>Android</td>\n",
       "    </tr>\n",
       "    <tr>\n",
       "      <th>3</th>\n",
       "      <td>0010A1C096941592</td>\n",
       "      <td>A</td>\n",
       "      <td>recommender_system_test</td>\n",
       "      <td>Android</td>\n",
       "    </tr>\n",
       "    <tr>\n",
       "      <th>4</th>\n",
       "      <td>001E72F50D1C48FA</td>\n",
       "      <td>A</td>\n",
       "      <td>interface_eu_test</td>\n",
       "      <td>Mac</td>\n",
       "    </tr>\n",
       "  </tbody>\n",
       "</table>\n",
       "</div>"
      ],
      "text/plain": [
       "            user_id group                  ab_test   device\n",
       "0  0002CE61FF2C4011     B        interface_eu_test      Mac\n",
       "1  001064FEAAB631A1     B  recommender_system_test  Android\n",
       "2  001064FEAAB631A1     A        interface_eu_test  Android\n",
       "3  0010A1C096941592     A  recommender_system_test  Android\n",
       "4  001E72F50D1C48FA     A        interface_eu_test      Mac"
      ]
     },
     "execution_count": 17,
     "metadata": {},
     "output_type": "execute_result"
    }
   ],
   "source": [
    "# Выводим информацию о данных\n",
    "print(\"\\nПервые 5 строк данных:\")\n",
    "participants.head()"
   ]
  },
  {
   "cell_type": "code",
   "execution_count": 18,
   "id": "33520a15",
   "metadata": {},
   "outputs": [
    {
     "name": "stdout",
     "output_type": "stream",
     "text": [
      "<class 'pandas.core.frame.DataFrame'>\n",
      "RangeIndex: 14525 entries, 0 to 14524\n",
      "Data columns (total 4 columns):\n",
      " #   Column   Non-Null Count  Dtype \n",
      "---  ------   --------------  ----- \n",
      " 0   user_id  14525 non-null  object\n",
      " 1   group    14525 non-null  object\n",
      " 2   ab_test  14525 non-null  object\n",
      " 3   device   14525 non-null  object\n",
      "dtypes: object(4)\n",
      "memory usage: 454.0+ KB\n"
     ]
    }
   ],
   "source": [
    "participants.info()"
   ]
  },
  {
   "cell_type": "code",
   "execution_count": 19,
   "id": "857e34ef",
   "metadata": {},
   "outputs": [
    {
     "name": "stdout",
     "output_type": "stream",
     "text": [
      "\n",
      "Количество уникальных пользователей по группам:\n",
      "group\n",
      "A    5383\n",
      "B    5467\n",
      "Name: user_id, dtype: int64\n"
     ]
    }
   ],
   "source": [
    "# Рассчитываем количество уникальных пользователей в каждой группе\n",
    "test_group = participants[participants['ab_test'] == 'interface_eu_test']\n",
    "unique_users_by_group = test_group.groupby('group')['user_id'].nunique()\n",
    "print(f\"\\nКоличество уникальных пользователей по группам:\\n{unique_users_by_group}\")"
   ]
  },
  {
   "cell_type": "code",
   "execution_count": 20,
   "id": "3d83d840",
   "metadata": {},
   "outputs": [],
   "source": [
    "# Выведем количество пользователей в группах A и B\n",
    "a_users = unique_users_by_group['A']\n",
    "b_users = unique_users_by_group['B']"
   ]
  },
  {
   "cell_type": "code",
   "execution_count": 21,
   "id": "46569e45",
   "metadata": {},
   "outputs": [
    {
     "name": "stdout",
     "output_type": "stream",
     "text": [
      "Процентная разница между группами A и B: 1.56%\n"
     ]
    }
   ],
   "source": [
    "# Рассчитываем процентную разницу\n",
    "percentage_diff = 100 * abs(a_users - b_users) / a_users\n",
    "print(f\"Процентная разница между группами A и B: {percentage_diff:.2f}%\")"
   ]
  },
  {
   "cell_type": "code",
   "execution_count": 22,
   "id": "d0834567",
   "metadata": {},
   "outputs": [
    {
     "data": {
      "image/png": "[encoded data removed]",
      "text/plain": [
       "<Figure size 720x432 with 2 Axes>"
      ]
     },
     "metadata": {
      "needs_background": "light"
     },
     "output_type": "display_data"
    }
   ],
   "source": [
    "#Визуализация распределения пользователей по группам\n",
    "plt.figure(figsize=(10, 6))\n",
    "\n",
    "# Столбчатая диаграмма\n",
    "plt.subplot(1, 2, 1)\n",
    "bars = plt.bar(unique_users_by_group.index, unique_users_by_group.values, color=['skyblue', 'lightcoral'])\n",
    "plt.title('Распределение пользователей по группам')\n",
    "plt.xlabel('Группа')\n",
    "plt.ylabel('Количество уникальных пользователей')\n",
    "\n",
    "# Добавляем значения на столбцы\n",
    "for bar in bars:\n",
    "    height = bar.get_height()\n",
    "    plt.text(bar.get_x() + bar.get_width()/2., height + 5,\n",
    "             f'{int(height)}', ha='center', va='bottom')\n",
    "\n",
    "# Круговая диаграмма\n",
    "plt.subplot(1, 2, 2)\n",
    "plt.pie(unique_users_by_group.values, labels=unique_users_by_group.index, \n",
    "        autopct='%1.1f%%', colors=['skyblue', 'lightcoral'])\n",
    "plt.title('Процентное распределение пользователей')\n",
    "\n",
    "plt.tight_layout()\n",
    "plt.show()"
   ]
  },
  {
   "cell_type": "code",
   "execution_count": 23,
   "id": "b9ead7ad",
   "metadata": {},
   "outputs": [
    {
     "name": "stdout",
     "output_type": "stream",
     "text": [
      "Количество пользователей в обеих группах: 0\n"
     ]
    }
   ],
   "source": [
    "# Выберем пользователей из групп А и В\n",
    "a_gr = test_group[test_group['group'] == 'A']['user_id']\n",
    "b_gr = test_group[test_group['group'] == 'B']['user_id']\n",
    "\n",
    "# Проверим пересечение пользователей в группах А и В\n",
    "intersection = list(set(a_gr) & set(b_gr))\n",
    "print(f'Количество пользователей в обеих группах: {len(intersection)}')"
   ]
  },
  {
   "cell_type": "markdown",
   "id": "GjulgSrlsqUU",
   "metadata": {
    "id": "GjulgSrlsqUU"
   },
   "source": [
    "3\\.2 Проанализируйте данные о пользовательской активности по таблице `ab_test_events`:\n",
    "\n",
    "- оставьте только события, связанные с участвующими в изучаемом тесте пользователями;"
   ]
  },
  {
   "cell_type": "code",
   "execution_count": 24,
   "id": "328b1ec4",
   "metadata": {},
   "outputs": [
    {
     "name": "stdout",
     "output_type": "stream",
     "text": [
      "Всего событий в исходных данных: 787286\n",
      "Всего событий после фильтрации: 79715\n",
      "Уникальных пользователей в тесте: 10850\n"
     ]
    }
   ],
   "source": [
    "# Отфильтруем только пользователей, участвующих в тесте interface_eu_test\n",
    "test_users = participants[participants['ab_test'] == 'interface_eu_test']['user_id']\n",
    "\n",
    "# Оставим только события, связанные с этими пользователями\n",
    "test_events = events[events['user_id'].isin(test_users)].copy()\n",
    "\n",
    "print(f\"Всего событий в исходных данных: {len(events)}\")\n",
    "print(f\"Всего событий после фильтрации: {len(test_events)}\")\n",
    "print(f\"Уникальных пользователей в тесте: {test_events['user_id'].nunique()}\")"
   ]
  },
  {
   "cell_type": "markdown",
   "id": "fBZ4DC2xswZJ",
   "metadata": {
    "id": "fBZ4DC2xswZJ"
   },
   "source": [
    "- определите горизонт анализа: рассчитайте время (лайфтайм) совершения события пользователем после регистрации и оставьте только те события, которые были выполнены в течение первых семи дней с момента регистрации;"
   ]
  },
  {
   "cell_type": "code",
   "execution_count": 25,
   "id": "sES4-dKts0Yb",
   "metadata": {
    "id": "sES4-dKts0Yb"
   },
   "outputs": [],
   "source": [
    "# Найдем время регистрации для каждого пользователя\n",
    "registration_times = test_events[test_events['event_name'] == 'registration'].groupby('user_id')['event_dt'].min()"
   ]
  },
  {
   "cell_type": "code",
   "execution_count": 26,
   "id": "eba4a177",
   "metadata": {},
   "outputs": [],
   "source": [
    "# Объединим с основными событиями чтобы получить время регистрации для каждого пользователя\n",
    "test_events = test_events.merge(registration_times.reset_index(), \n",
    "                               on='user_id', \n",
    "                               how='left',\n",
    "                               suffixes=('', '_registration'))"
   ]
  },
  {
   "cell_type": "code",
   "execution_count": 27,
   "id": "77580a5a",
   "metadata": {},
   "outputs": [
    {
     "name": "stdout",
     "output_type": "stream",
     "text": [
      "Событий после фильтрации по 7 дням: 53649\n",
      "Уникальных пользователей после фильтрации: 10714\n"
     ]
    }
   ],
   "source": [
    "# Переименуем колонки для ясности\n",
    "test_events.rename(columns={'event_dt_registration': 'registration_dt'}, inplace=True)\n",
    "\n",
    "# Рассчитаем лайфтайм (разницу между временем события и временем регистрации)\n",
    "test_events['lifetime'] = (test_events['event_dt'] - test_events['registration_dt']).dt.total_seconds() / 3600  # в часах\n",
    "\n",
    "# Оставим только события в течение первых 7 дней (строго больше 0 и меньше или равно 168 часов)\n",
    "test_events_7days = test_events[(test_events['lifetime'] > 0) & (test_events['lifetime'] < 168)].copy()\n",
    "\n",
    "print(f\"Событий после фильтрации по 7 дням: {len(test_events_7days)}\")\n",
    "print(f\"Уникальных пользователей после фильтрации: {test_events_7days['user_id'].nunique()}\")"
   ]
  },
  {
   "cell_type": "markdown",
   "id": "62dbe53f",
   "metadata": {},
   "source": [
    "<div style=\"background-color: #f8d7da; color: #721c24; padding: 15px; border-radius: 4px; border: 1px solid #f5c6cb;\">\n",
    "\n",
    "<b>Комментарий ревьюера v1:</b>\n",
    "\n",
    "Тут условие в коде lifetime <= 168 захватывает 8 дней (0, 1, 2, 3, 4, 5, 6, 7) вместо требуемых 7, поскольку lifetime = 0 — это день регистрации (первый день)."
   ]
  },
  {
   "cell_type": "markdown",
   "id": "2de64d6d",
   "metadata": {},
   "source": [
    "<div class=\"alert alert-info\"> <b>Комментарий студента v1:</b>\n",
    "    Фильтрация исправлена"
   ]
  },
  {
   "cell_type": "markdown",
   "id": "77f7f7ff",
   "metadata": {},
   "source": [
    "<div style=\"background-color: #d4edda; color: #155724; padding: 15px; border-radius: 4px; border: 1px solid #c3e6cb;\">\n",
    "\n",
    "<b>Комментарий ревьюера v2:</b>\n",
    " \n",
    "✅"
   ]
  },
  {
   "cell_type": "markdown",
   "id": "7cf1df48",
   "metadata": {},
   "source": [
    "Оцените достаточность выборки для получения статистически значимых результатов A/B-теста. Заданные параметры:\n",
    "\n",
    "- базовый показатель конверсии — 30%,\n",
    "\n",
    "- мощность теста — 80%,\n",
    "\n",
    "- достоверность теста — 95%."
   ]
  },
  {
   "cell_type": "code",
   "execution_count": 28,
   "id": "1777662b",
   "metadata": {},
   "outputs": [
    {
     "name": "stdout",
     "output_type": "stream",
     "text": [
      "Размер эффекта: -0.0646\n",
      "Необходимый размер выборки для КАЖДОЙ группы: 3762\n",
      "Общий необходимый размер выборки для эксперимента: 7524\n"
     ]
    }
   ],
   "source": [
    "# Задаём параметры\n",
    "alpha = 0.05 # Уровень значимости\n",
    "beta = 0.2  # Ошибка второго рода, часто 1 - мощность\n",
    "power = 1 - beta  # Мощность теста\n",
    "p1 = 0.3 # Базовый уровень доли\n",
    "p2 = 0.33  # Ожидаемая конверсия после увеличения на 3 п.п. (Тестовая группа)\n",
    "\n",
    "# Рассчитываем размер эффекта для пропорций\n",
    "effect_size = proportion_effectsize(p1, p2)\n",
    "\n",
    "# Инициализируем класс NormalIndPower\n",
    "power_analysis = NormalIndPower()\n",
    "\n",
    "# Рассчитываем размер выборки для КАЖДОЙ группы\n",
    "sample_size_per_group = power_analysis.solve_power(\n",
    "    effect_size=effect_size,\n",
    "    power=power,\n",
    "    alpha=alpha,\n",
    "    ratio=1  # Размеры групп равны\n",
    ")\n",
    "# Общий размер выборки для всего эксперимента\n",
    "total_sample_size = 2 * sample_size_per_group\n",
    "\n",
    "print(f\"Размер эффекта: {effect_size:.4f}\")\n",
    "print(f\"Необходимый размер выборки для КАЖДОЙ группы: {math.ceil(sample_size_per_group)}\")\n",
    "print(f\"Общий необходимый размер выборки для эксперимента: {math.ceil(total_sample_size)}\")"
   ]
  },
  {
   "cell_type": "markdown",
   "id": "d7b9da53",
   "metadata": {},
   "source": [
    "<div style=\"background-color: #d4edda; color: #155724; padding: 15px; border-radius: 4px; border: 1px solid #c3e6cb;\">\n",
    "\n",
    "<b>Комментарий ревьюера v1:</b>\n",
    "\n",
    "Необходимый размер выборки был рассчитан верно!"
   ]
  },
  {
   "cell_type": "markdown",
   "id": "f26ebfd7",
   "metadata": {},
   "source": [
    "В нашем случае общее кол-во пользователей в выборке - 10714 пользователей.Такая выборка достаточна для получения статистически значимых результатов A/B-теста."
   ]
  },
  {
   "cell_type": "markdown",
   "id": "SadyUDgZs0t3",
   "metadata": {
    "id": "SadyUDgZs0t3"
   },
   "source": [
    "- рассчитайте для каждой группы количество посетителей, сделавших покупку, и общее количество посетителей."
   ]
  },
  {
   "cell_type": "markdown",
   "id": "8de78688",
   "metadata": {},
   "source": [
    "Сначала найдем пользователей, которые участвуют одновременно в двух тестах (`interface_eu_test` и `recommender_system_test`), и исключим их из анализа."
   ]
  },
  {
   "cell_type": "code",
   "execution_count": 29,
   "id": "1783b679",
   "metadata": {},
   "outputs": [
    {
     "name": "stdout",
     "output_type": "stream",
     "text": [
      "Пользователей в interface_eu_test: 10850\n",
      "Пользователей в recommender_system_test: 3675\n",
      "Пользователей в обоих тестах одновременно: 887\n",
      "Процент пересечения: 8.18%\n"
     ]
    }
   ],
   "source": [
    "# Выделяем пользователей для каждого теста\n",
    "interface_users = set(participants[participants['ab_test'] == 'interface_eu_test']['user_id'])\n",
    "recommender_users = set(participants[participants['ab_test'] == 'recommender_system_test']['user_id'])\n",
    "\n",
    "# Находим пересечение\n",
    "overlapping_users = interface_users & recommender_users\n",
    "\n",
    "print(f\"Пользователей в interface_eu_test: {len(interface_users)}\")\n",
    "print(f\"Пользователей в recommender_system_test: {len(recommender_users)}\")\n",
    "print(f\"Пользователей в обоих тестах одновременно: {len(overlapping_users)}\")\n",
    "print(f\"Процент пересечения: {len(overlapping_users)/len(interface_users)*100:.2f}%\")"
   ]
  },
  {
   "cell_type": "markdown",
   "id": "ea4cb8b2",
   "metadata": {},
   "source": [
    "**Решение:** Поскольку пользователи не должны участвовать в нескольких тестах одновременно (это искажает результаты), нам нужно исключить этих пользователей из анализа."
   ]
  },
  {
   "cell_type": "code",
   "execution_count": 30,
   "id": "89f0e0dd",
   "metadata": {},
   "outputs": [
    {
     "name": "stdout",
     "output_type": "stream",
     "text": [
      "Обновленное распределение по группам после очистки:\n",
      "B    5011\n",
      "A    4952\n",
      "Name: group, dtype: int64\n",
      "Пересечение между группами A и B после очистки: 0\n"
     ]
    }
   ],
   "source": [
    "# Исключаем пользователей, участвующих в обоих тестах\n",
    "clean_interface_users = interface_users - overlapping_users\n",
    "\n",
    "# Фильтруем participants оставляя только чистых пользователей interface_eu_test\n",
    "clean_participants = participants[\n",
    "    (participants['ab_test'] == 'interface_eu_test') & \n",
    "    (participants['user_id'].isin(clean_interface_users))\n",
    "]\n",
    "\n",
    "# Пересчитываем распределение по группам\n",
    "clean_group_distribution = clean_participants['group'].value_counts()\n",
    "print(\"Обновленное распределение по группам после очистки:\")\n",
    "print(clean_group_distribution)\n",
    "\n",
    "# Проверяем пересечение между группами A и B\n",
    "clean_a_users = set(clean_participants[clean_participants['group'] == 'A']['user_id'])\n",
    "clean_b_users = set(clean_participants[clean_participants['group'] == 'B']['user_id'])\n",
    "clean_intersection = clean_a_users & clean_b_users\n",
    "print(f\"Пересечение между группами A и B после очистки: {len(clean_intersection)}\")"
   ]
  },
  {
   "cell_type": "code",
   "execution_count": 31,
   "id": "cb2cdb73",
   "metadata": {},
   "outputs": [
    {
     "data": {
      "image/png": "[encoded data removed]",
      "text/plain": [
       "<Figure size 720x432 with 2 Axes>"
      ]
     },
     "metadata": {
      "needs_background": "light"
     },
     "output_type": "display_data"
    }
   ],
   "source": [
    "#Визуализация обновленного распределения пользователей по группам\n",
    "plt.figure(figsize=(10, 6))\n",
    "\n",
    "# Столбчатая диаграмма\n",
    "plt.subplot(1, 2, 1)\n",
    "bars = plt.bar(clean_group_distribution.index, clean_group_distribution, color=['skyblue', 'lightcoral'])\n",
    "plt.title('Обновленное распределение пользователей по группам')\n",
    "plt.xlabel('Группа')\n",
    "plt.ylabel('Количество уникальных пользователей')\n",
    "\n",
    "# Добавляем значения на столбцы\n",
    "for bar in bars:\n",
    "    height = bar.get_height()\n",
    "    plt.text(bar.get_x() + bar.get_width()/2., height + 5,\n",
    "             f'{int(height)}', ha='center', va='bottom')\n",
    "\n",
    "# Круговая диаграмма\n",
    "plt.subplot(1, 2, 2)\n",
    "plt.pie(clean_group_distribution, labels=unique_users_by_group.index, \n",
    "        autopct='%1.1f%%', colors=['skyblue', 'lightcoral'])\n",
    "plt.title('Процентное распределение пользователей')\n",
    "\n",
    "plt.tight_layout()\n",
    "plt.show()"
   ]
  },
  {
   "cell_type": "markdown",
   "id": "9f2e0a69",
   "metadata": {},
   "source": [
    "Проверим дубликаты в таблице `events`"
   ]
  },
  {
   "cell_type": "code",
   "execution_count": 32,
   "id": "a8417c27",
   "metadata": {},
   "outputs": [
    {
     "name": "stdout",
     "output_type": "stream",
     "text": [
      "Полных дубликатов событий: 36318\n",
      "Дубликатов по ключевым полям: 39510\n",
      "Удалено дубликатов: 39510\n"
     ]
    }
   ],
   "source": [
    "# Проверяем наличие полных дубликатов строк\n",
    "duplicate_events = events.duplicated().sum()\n",
    "print(f\"Полных дубликатов событий: {duplicate_events}\")\n",
    "\n",
    "# Проверяем дубликаты по ключевым полям (user_id + event_dt + event_name)\n",
    "key_columns = ['user_id', 'event_dt', 'event_name']\n",
    "duplicate_events_by_key = events.duplicated(subset=key_columns).sum()\n",
    "print(f\"Дубликатов по ключевым полям: {duplicate_events_by_key}\")\n",
    "\n",
    "# Если есть дубликаты, удаляем их\n",
    "if duplicate_events_by_key > 0:\n",
    "    events = events.drop_duplicates(subset=key_columns)\n",
    "    print(f\"Удалено дубликатов: {duplicate_events_by_key}\")"
   ]
  },
  {
   "cell_type": "markdown",
   "id": "da6204f4",
   "metadata": {},
   "source": [
    "Из таблицы `events` было удалено `39510` дубликатов."
   ]
  },
  {
   "cell_type": "code",
   "execution_count": 33,
   "id": "4264eb31",
   "metadata": {},
   "outputs": [
    {
     "data": {
      "text/html": [
       "<div>\n",
       "<style scoped>\n",
       "    .dataframe tbody tr th:only-of-type {\n",
       "        vertical-align: middle;\n",
       "    }\n",
       "\n",
       "    .dataframe tbody tr th {\n",
       "        vertical-align: top;\n",
       "    }\n",
       "\n",
       "    .dataframe thead th {\n",
       "        text-align: right;\n",
       "    }\n",
       "</style>\n",
       "<table border=\"1\" class=\"dataframe\">\n",
       "  <thead>\n",
       "    <tr style=\"text-align: right;\">\n",
       "      <th></th>\n",
       "      <th>user_id</th>\n",
       "      <th>event_dt</th>\n",
       "      <th>event_name</th>\n",
       "      <th>details</th>\n",
       "    </tr>\n",
       "  </thead>\n",
       "  <tbody>\n",
       "    <tr>\n",
       "      <th>64672</th>\n",
       "      <td>5F506CEBEDC05D30</td>\n",
       "      <td>2020-12-06 14:10:01</td>\n",
       "      <td>registration</td>\n",
       "      <td>0.0</td>\n",
       "    </tr>\n",
       "    <tr>\n",
       "      <th>64946</th>\n",
       "      <td>51278A006E918D97</td>\n",
       "      <td>2020-12-06 14:37:25</td>\n",
       "      <td>registration</td>\n",
       "      <td>-3.8</td>\n",
       "    </tr>\n",
       "    <tr>\n",
       "      <th>66585</th>\n",
       "      <td>A0C1E8EFAD874D8B</td>\n",
       "      <td>2020-12-06 17:20:22</td>\n",
       "      <td>registration</td>\n",
       "      <td>-3.32</td>\n",
       "    </tr>\n",
       "    <tr>\n",
       "      <th>67873</th>\n",
       "      <td>275A8D6254ACF530</td>\n",
       "      <td>2020-12-06 19:36:54</td>\n",
       "      <td>registration</td>\n",
       "      <td>-0.48</td>\n",
       "    </tr>\n",
       "    <tr>\n",
       "      <th>67930</th>\n",
       "      <td>0B704EB2DC7FCA4B</td>\n",
       "      <td>2020-12-06 19:42:20</td>\n",
       "      <td>registration</td>\n",
       "      <td>0.0</td>\n",
       "    </tr>\n",
       "  </tbody>\n",
       "</table>\n",
       "</div>"
      ],
      "text/plain": [
       "                user_id            event_dt    event_name details\n",
       "64672  5F506CEBEDC05D30 2020-12-06 14:10:01  registration     0.0\n",
       "64946  51278A006E918D97 2020-12-06 14:37:25  registration    -3.8\n",
       "66585  A0C1E8EFAD874D8B 2020-12-06 17:20:22  registration   -3.32\n",
       "67873  275A8D6254ACF530 2020-12-06 19:36:54  registration   -0.48\n",
       "67930  0B704EB2DC7FCA4B 2020-12-06 19:42:20  registration     0.0"
      ]
     },
     "execution_count": 33,
     "metadata": {},
     "output_type": "execute_result"
    }
   ],
   "source": [
    "# Фильтруем события только для чистых пользователей\n",
    "clean_test_events = events[events['user_id'].isin(clean_interface_users)].copy()\n",
    "clean_test_events.head()"
   ]
  },
  {
   "cell_type": "markdown",
   "id": "3b6aa6d3",
   "metadata": {},
   "source": [
    "<div style=\"background-color: #f8d7da; color: #721c24; padding: 15px; border-radius: 4px; border: 1px solid #f5c6cb;\">\n",
    "\n",
    "<b>Комментарий ревьюера v1:</b>\n",
    "\n",
    "Можешь, пожалуйста проверить пересечение пользователей в двух конкурирующих тестах (interface_eu_test и recommender_system_test) и принять решение что с ними делать?\n",
    "    \n",
    "После этого можно еще раз проверить новое распределение пользователей для данного теста.\n",
    "    \n",
    "    \n",
    "А также можешь проверить дубликаты в таблице `events`?"
   ]
  },
  {
   "cell_type": "markdown",
   "id": "036169ad",
   "metadata": {},
   "source": [
    "<div class=\"alert alert-info\"> <b>Комментарий студента v1:</b>\n",
    "    Добавлена вся необходимая информация"
   ]
  },
  {
   "cell_type": "markdown",
   "id": "1ef97634",
   "metadata": {},
   "source": [
    "<div style=\"background-color: #d4edda; color: #155724; padding: 15px; border-radius: 4px; border: 1px solid #c3e6cb;\">\n",
    "\n",
    "<b>Комментарий ревьюера v2:</b>\n",
    "\n",
    "✅"
   ]
  },
  {
   "cell_type": "code",
   "execution_count": 34,
   "id": "6bc18d44",
   "metadata": {},
   "outputs": [
    {
     "data": {
      "text/html": [
       "<div>\n",
       "<style scoped>\n",
       "    .dataframe tbody tr th:only-of-type {\n",
       "        vertical-align: middle;\n",
       "    }\n",
       "\n",
       "    .dataframe tbody tr th {\n",
       "        vertical-align: top;\n",
       "    }\n",
       "\n",
       "    .dataframe thead th {\n",
       "        text-align: right;\n",
       "    }\n",
       "</style>\n",
       "<table border=\"1\" class=\"dataframe\">\n",
       "  <thead>\n",
       "    <tr style=\"text-align: right;\">\n",
       "      <th></th>\n",
       "      <th>user_id</th>\n",
       "      <th>event_dt</th>\n",
       "      <th>event_name</th>\n",
       "      <th>details</th>\n",
       "      <th>event_dt_registration</th>\n",
       "    </tr>\n",
       "  </thead>\n",
       "  <tbody>\n",
       "    <tr>\n",
       "      <th>0</th>\n",
       "      <td>5F506CEBEDC05D30</td>\n",
       "      <td>2020-12-06 14:10:01</td>\n",
       "      <td>registration</td>\n",
       "      <td>0.0</td>\n",
       "      <td>2020-12-06 14:10:01</td>\n",
       "    </tr>\n",
       "    <tr>\n",
       "      <th>1</th>\n",
       "      <td>51278A006E918D97</td>\n",
       "      <td>2020-12-06 14:37:25</td>\n",
       "      <td>registration</td>\n",
       "      <td>-3.8</td>\n",
       "      <td>2020-12-06 14:37:25</td>\n",
       "    </tr>\n",
       "    <tr>\n",
       "      <th>2</th>\n",
       "      <td>A0C1E8EFAD874D8B</td>\n",
       "      <td>2020-12-06 17:20:22</td>\n",
       "      <td>registration</td>\n",
       "      <td>-3.32</td>\n",
       "      <td>2020-12-06 17:20:22</td>\n",
       "    </tr>\n",
       "    <tr>\n",
       "      <th>3</th>\n",
       "      <td>275A8D6254ACF530</td>\n",
       "      <td>2020-12-06 19:36:54</td>\n",
       "      <td>registration</td>\n",
       "      <td>-0.48</td>\n",
       "      <td>2020-12-06 19:36:54</td>\n",
       "    </tr>\n",
       "    <tr>\n",
       "      <th>4</th>\n",
       "      <td>0B704EB2DC7FCA4B</td>\n",
       "      <td>2020-12-06 19:42:20</td>\n",
       "      <td>registration</td>\n",
       "      <td>0.0</td>\n",
       "      <td>2020-12-06 19:42:20</td>\n",
       "    </tr>\n",
       "  </tbody>\n",
       "</table>\n",
       "</div>"
      ],
      "text/plain": [
       "            user_id            event_dt    event_name details  \\\n",
       "0  5F506CEBEDC05D30 2020-12-06 14:10:01  registration     0.0   \n",
       "1  51278A006E918D97 2020-12-06 14:37:25  registration    -3.8   \n",
       "2  A0C1E8EFAD874D8B 2020-12-06 17:20:22  registration   -3.32   \n",
       "3  275A8D6254ACF530 2020-12-06 19:36:54  registration   -0.48   \n",
       "4  0B704EB2DC7FCA4B 2020-12-06 19:42:20  registration     0.0   \n",
       "\n",
       "  event_dt_registration  \n",
       "0   2020-12-06 14:10:01  \n",
       "1   2020-12-06 14:37:25  \n",
       "2   2020-12-06 17:20:22  \n",
       "3   2020-12-06 19:36:54  \n",
       "4   2020-12-06 19:42:20  "
      ]
     },
     "execution_count": 34,
     "metadata": {},
     "output_type": "execute_result"
    }
   ],
   "source": [
    "# Создаем новый датафрейм событий с очищенными данными\n",
    "clean_test_events = clean_test_events.merge(registration_times.reset_index(), \n",
    "                               on='user_id', \n",
    "                               how='left',\n",
    "                               suffixes=('', '_registration'))\n",
    "clean_test_events.head()"
   ]
  },
  {
   "cell_type": "code",
   "execution_count": 35,
   "id": "4274c35e",
   "metadata": {},
   "outputs": [
    {
     "data": {
      "text/html": [
       "<div>\n",
       "<style scoped>\n",
       "    .dataframe tbody tr th:only-of-type {\n",
       "        vertical-align: middle;\n",
       "    }\n",
       "\n",
       "    .dataframe tbody tr th {\n",
       "        vertical-align: top;\n",
       "    }\n",
       "\n",
       "    .dataframe thead th {\n",
       "        text-align: right;\n",
       "    }\n",
       "</style>\n",
       "<table border=\"1\" class=\"dataframe\">\n",
       "  <thead>\n",
       "    <tr style=\"text-align: right;\">\n",
       "      <th></th>\n",
       "      <th>user_id</th>\n",
       "      <th>event_dt</th>\n",
       "      <th>event_name</th>\n",
       "      <th>details</th>\n",
       "      <th>registration_dt</th>\n",
       "      <th>lifetime</th>\n",
       "    </tr>\n",
       "  </thead>\n",
       "  <tbody>\n",
       "    <tr>\n",
       "      <th>0</th>\n",
       "      <td>5F506CEBEDC05D30</td>\n",
       "      <td>2020-12-06 14:10:01</td>\n",
       "      <td>registration</td>\n",
       "      <td>0.0</td>\n",
       "      <td>2020-12-06 14:10:01</td>\n",
       "      <td>0.0</td>\n",
       "    </tr>\n",
       "    <tr>\n",
       "      <th>1</th>\n",
       "      <td>51278A006E918D97</td>\n",
       "      <td>2020-12-06 14:37:25</td>\n",
       "      <td>registration</td>\n",
       "      <td>-3.8</td>\n",
       "      <td>2020-12-06 14:37:25</td>\n",
       "      <td>0.0</td>\n",
       "    </tr>\n",
       "    <tr>\n",
       "      <th>2</th>\n",
       "      <td>A0C1E8EFAD874D8B</td>\n",
       "      <td>2020-12-06 17:20:22</td>\n",
       "      <td>registration</td>\n",
       "      <td>-3.32</td>\n",
       "      <td>2020-12-06 17:20:22</td>\n",
       "      <td>0.0</td>\n",
       "    </tr>\n",
       "    <tr>\n",
       "      <th>3</th>\n",
       "      <td>275A8D6254ACF530</td>\n",
       "      <td>2020-12-06 19:36:54</td>\n",
       "      <td>registration</td>\n",
       "      <td>-0.48</td>\n",
       "      <td>2020-12-06 19:36:54</td>\n",
       "      <td>0.0</td>\n",
       "    </tr>\n",
       "    <tr>\n",
       "      <th>4</th>\n",
       "      <td>0B704EB2DC7FCA4B</td>\n",
       "      <td>2020-12-06 19:42:20</td>\n",
       "      <td>registration</td>\n",
       "      <td>0.0</td>\n",
       "      <td>2020-12-06 19:42:20</td>\n",
       "      <td>0.0</td>\n",
       "    </tr>\n",
       "  </tbody>\n",
       "</table>\n",
       "</div>"
      ],
      "text/plain": [
       "            user_id            event_dt    event_name details  \\\n",
       "0  5F506CEBEDC05D30 2020-12-06 14:10:01  registration     0.0   \n",
       "1  51278A006E918D97 2020-12-06 14:37:25  registration    -3.8   \n",
       "2  A0C1E8EFAD874D8B 2020-12-06 17:20:22  registration   -3.32   \n",
       "3  275A8D6254ACF530 2020-12-06 19:36:54  registration   -0.48   \n",
       "4  0B704EB2DC7FCA4B 2020-12-06 19:42:20  registration     0.0   \n",
       "\n",
       "      registration_dt  lifetime  \n",
       "0 2020-12-06 14:10:01       0.0  \n",
       "1 2020-12-06 14:37:25       0.0  \n",
       "2 2020-12-06 17:20:22       0.0  \n",
       "3 2020-12-06 19:36:54       0.0  \n",
       "4 2020-12-06 19:42:20       0.0  "
      ]
     },
     "execution_count": 35,
     "metadata": {},
     "output_type": "execute_result"
    }
   ],
   "source": [
    "# Переименуем колонки для ясности\n",
    "clean_test_events.rename(columns={'event_dt_registration': 'registration_dt'}, inplace=True)\n",
    "\n",
    "# Рассчитаем лайфтайм в обновленном датафрейме (разницу между временем события и временем регистрации)\n",
    "clean_test_events['lifetime'] = (clean_test_events['event_dt'] - clean_test_events['registration_dt']).dt.total_seconds() / 3600  # в часах\n",
    "clean_test_events.head()"
   ]
  },
  {
   "cell_type": "code",
   "execution_count": 36,
   "id": "54bc7e59",
   "metadata": {},
   "outputs": [
    {
     "name": "stdout",
     "output_type": "stream",
     "text": [
      "Событий после фильтрации по 7 дням: 45795\n",
      "Уникальных пользователей после фильтрации: 9835\n"
     ]
    }
   ],
   "source": [
    "# Оставим только события в течение первых 7 дней (строго больше 0 и меньше или равно 168 часов)\n",
    "clean_test_events_7days = clean_test_events[(clean_test_events['lifetime'] > 0) & (clean_test_events['lifetime'] <= 168)].copy()\n",
    "\n",
    "print(f\"Событий после фильтрации по 7 дням: {len(clean_test_events_7days)}\")\n",
    "print(f\"Уникальных пользователей после фильтрации: {clean_test_events_7days['user_id'].nunique()}\")"
   ]
  },
  {
   "cell_type": "code",
   "execution_count": 37,
   "id": "7ph853Xks4sy",
   "metadata": {
    "id": "7ph853Xks4sy"
   },
   "outputs": [
    {
     "name": "stdout",
     "output_type": "stream",
     "text": [
      "Данные по конверсии:\n",
      "       total_users  purchased_users  conversion_rate\n",
      "group                                               \n",
      "A             4892             1352            27.64\n",
      "B             4943             1445            29.23\n",
      "Абсолютное изменение конверсии: 1.59 процентных пункта\n",
      "Относительное изменение конверсии: 5.75%\n"
     ]
    }
   ],
   "source": [
    "# Фильтруем события покупок\n",
    "purchase_events = clean_test_events_7days[clean_test_events_7days['event_name'] == 'purchase']\n",
    "\n",
    "# Объединяем с информацией о группах пользователей\n",
    "purchase_users = purchase_events.merge(\n",
    "    clean_participants[clean_participants['ab_test'] == 'interface_eu_test'][['user_id', 'group']], \n",
    "    on='user_id', \n",
    "    how='left'\n",
    ")\n",
    "\n",
    "# Уникальные пользователи, совершившие покупку в каждой группе\n",
    "purchase_counts = purchase_users.groupby('group')['user_id'].nunique()\n",
    "\n",
    "# Общее количество уникальных пользователей в каждой группе\n",
    "total_users = clean_test_events_7days.merge(\n",
    "    clean_participants[clean_participants['ab_test'] == 'interface_eu_test'][['user_id', 'group']], \n",
    "    on='user_id', \n",
    "    how='left'\n",
    ").groupby('group')['user_id'].nunique()\n",
    "\n",
    "# Создаем DataFrame с результатами\n",
    "conversion_data = pd.DataFrame({\n",
    "    'total_users': total_users,\n",
    "    'purchased_users': purchase_counts\n",
    "})\n",
    "\n",
    "# Заполняем возможные пропуски нулями\n",
    "conversion_data['purchased_users'] = conversion_data['purchased_users'].fillna(0)\n",
    "\n",
    "# Рассчитываем конверсию\n",
    "conversion_data['conversion_rate'] = (conversion_data['purchased_users'] / conversion_data['total_users'] * 100).round(2)\n",
    "\n",
    "# Расчет абсолютного и относительного изменения конверсии\n",
    "conversion_A = conversion_data.loc['A', 'conversion_rate']\n",
    "conversion_B = conversion_data.loc['B', 'conversion_rate']\n",
    "\n",
    "relative_change = ((conversion_B - conversion_A) / conversion_A * 100).round(2)\n",
    "absolute_change = (conversion_B - conversion_A).round(2)\n",
    "\n",
    "print(\"Данные по конверсии:\")\n",
    "print(conversion_data)\n",
    "print(f\"Абсолютное изменение конверсии: {absolute_change} процентных пункта\")\n",
    "print(f\"Относительное изменение конверсии: {relative_change}%\")"
   ]
  },
  {
   "cell_type": "markdown",
   "id": "sh1JpGvAs5E3",
   "metadata": {
    "id": "sh1JpGvAs5E3"
   },
   "source": [
    "- сделайте предварительный общий вывод об изменении пользовательской активности в тестовой группе по сравнению с контрольной."
   ]
  },
  {
   "cell_type": "markdown",
   "id": "8911a12e",
   "metadata": {
    "id": "hHTHPkJYs8mE"
   },
   "source": [
    "**Предварительный общий вывод об изменении пользовательской активности в тестовой группе по сравнению с контрольной**\n",
    "\n",
    "На основе анализа данных о конверсии пользователей в тестовой (группа `B`) и контрольной (группа `A`) группах можно сделать следующие предварительные выводы:\n",
    "\n",
    "**1.\tРазмеры групп:**\n",
    "   - Группа `A (контрольная)`: `4892` пользователя\n",
    "   - Группа `B (тестовая)`: `4943` пользователей\n",
    "Группы практически равны по размеру (разница всего `1.59%`), что соответствует требованиям корректного проведения A/B-теста.\n",
    "\n",
    "**2.\tКонверсия в покупки:**\n",
    "   - В группе `A` совершили покупку `1352` пользователей (конверсия `27.64%`).\n",
    "   - В группе `B` совершили покупку `1445` пользователей (конверсия `29.23%`).\n",
    "\n",
    "**Разница в конверсии между группами составляет `1.59` процентных пункта в пользу тестовой группы. Относительное изменение конверсии составляет - `5.75 %`**\n",
    "\n",
    "**3.\tИнтерпретация:**\n",
    "   - Тестовая группа (`B`) показала более высокую конверсию по сравнению с контрольной группой (`A`).\n",
    "   - Это может свидетельствовать о положительном влиянии нового интерфейса на поведение пользователей, так как больше пользователей в тестовой группе совершили покупку.\n",
    "\n"
   ]
  },
  {
   "cell_type": "markdown",
   "id": "0a722f5f",
   "metadata": {},
   "source": [
    "<div style=\"background-color: #f8d7da; color: #721c24; padding: 15px; border-radius: 4px; border: 1px solid #f5c6cb;\">\n",
    "\n",
    "<b>Комментарий ревьюера v1:</b>\n",
    "\n",
    "Добавь, пожалуйста, расчет относительного (на сколько процентов улучшилась метрика) изменения конверсии."
   ]
  },
  {
   "cell_type": "markdown",
   "id": "3f634508",
   "metadata": {},
   "source": [
    "<div class=\"alert alert-info\"> <b>Комментарий студента v1:</b>\n",
    "    Добавлен расчет относительного изменения конверсии"
   ]
  },
  {
   "cell_type": "markdown",
   "id": "138bfbf7",
   "metadata": {},
   "source": [
    "<div style=\"background-color: #d4edda; color: #155724; padding: 15px; border-radius: 4px; border: 1px solid #c3e6cb;\">\n",
    "\n",
    "<b>Комментарий ревьюера v2:</b>\n",
    "\n",
    "Все шаги выполнены верно 👏"
   ]
  },
  {
   "cell_type": "markdown",
   "id": "IKZ1Oo3Ws919",
   "metadata": {
    "id": "IKZ1Oo3Ws919"
   },
   "source": [
    "## 4. Проведите оценку результатов A/B-тестирования:"
   ]
  },
  {
   "cell_type": "markdown",
   "id": "dcUdBSmvtC-E",
   "metadata": {
    "id": "dcUdBSmvtC-E"
   },
   "source": [
    "- Проверьте изменение конверсии подходящим статистическим тестом, учитывая все этапы проверки гипотез."
   ]
  },
  {
   "cell_type": "markdown",
   "id": "213edb5a",
   "metadata": {},
   "source": [
    "**Сформулируем гипотезы:**\n",
    "\n",
    "**- Нулевая гипотеза (H₀):** Конверсия в тестовой группе B равна конверсии в контрольной группе A.\n",
    "`p_B - p_A = 0`\n",
    "\n",
    "**- Альтернативная гипотеза (H₁):** Конверсия в тестовой группе B больше конверсии в контрольной группе A. (Мы ожидаем положительного эффекта от нового интерфейса).\n",
    "`p_B - p_A > 0`"
   ]
  },
  {
   "cell_type": "markdown",
   "id": "7a4f5947",
   "metadata": {},
   "source": [
    "<div style=\"background-color: #f8d7da; color: #721c24; padding: 15px; border-radius: 4px; border: 1px solid #f5c6cb;\">\n",
    "\n",
    "<b>Комментарий ревьюера v1:</b>\n",
    "\n",
    "Можешь, пожалуйста сформулировать гипотезы для теста?"
   ]
  },
  {
   "cell_type": "markdown",
   "id": "af6287f6",
   "metadata": {},
   "source": [
    "<div class=\"alert alert-info\"> <b>Комментарий студента v1:</b>\n",
    "    Гипотезы сформулированы"
   ]
  },
  {
   "cell_type": "markdown",
   "id": "fabc4921",
   "metadata": {},
   "source": [
    "<div style=\"background-color: #d4edda; color: #155724; padding: 15px; border-radius: 4px; border: 1px solid #c3e6cb;\">\n",
    "\n",
    "<b>Комментарий ревьюера v2:</b>\n",
    "\n",
    "Гипотезы (правосторонний критерий) сформулированы верно! "
   ]
  },
  {
   "cell_type": "code",
   "execution_count": 38,
   "id": "l_KOziBQtL3t",
   "metadata": {
    "id": "l_KOziBQtL3t"
   },
   "outputs": [
    {
     "name": "stdout",
     "output_type": "stream",
     "text": [
      "Z-статистика: 1.7546\n",
      "p-value: 0.0397\n",
      "\n",
      "Уровень значимости (α): 0.05\n",
      "Отвергаем нулевую гипотезу. Разница в конверсиях между группами СТАТИСТИЧЕСКИ ЗНАЧИМА.\n",
      "Результаты теста свидетельствуют о том, что конверсия в группе B (с новым интерфейсом) значимо выше.\n"
     ]
    }
   ],
   "source": [
    "# Данные из таблицы conversion_data\n",
    "success_A = conversion_data.loc['A', 'purchased_users'] # количество успехов (покупок) в группе A\n",
    "success_B = conversion_data.loc['B', 'purchased_users']  # количество успехов (покупок) в группе B     \n",
    "count = [success_B, success_A]\n",
    "\n",
    "size_A = conversion_data.loc['A', 'total_users']\n",
    "size_B = conversion_data.loc['B', 'total_users']\n",
    "nobs = [size_B, size_A] # размеры групп\n",
    "\n",
    "# Выполняем z-тест для двух пропорций.\n",
    "z_stat, p_value = proportions_ztest(count, nobs, alternative='larger')\n",
    "\n",
    "print(f'Z-статистика: {z_stat:.4f}')\n",
    "print(f'p-value: {p_value:.4f}')\n",
    "\n",
    "# Интерпретация результата\n",
    "alpha = 0.05\n",
    "print(f\"\\nУровень значимости (α): {alpha}\")\n",
    "\n",
    "if p_value < alpha:\n",
    "    print(\"Отвергаем нулевую гипотезу. Разница в конверсиях между группами СТАТИСТИЧЕСКИ ЗНАЧИМА.\")\n",
    "    print(\"Результаты теста свидетельствуют о том, что конверсия в группе B (с новым интерфейсом) значимо выше.\")\n",
    "else:\n",
    "    print(\"Не получилось отвергнуть нулевую гипотезу. Нет оснований считать, что разница в конверсиях статистически значима.\")\n",
    "    print(\"Новый интерфейс не показал статистически значимого улучшения конверсии.\")"
   ]
  },
  {
   "cell_type": "markdown",
   "id": "bd5d8b15",
   "metadata": {},
   "source": [
    "<div style=\"background-color: #f8d7da; color: #721c24; padding: 15px; border-radius: 4px; border: 1px solid #f5c6cb;\">\n",
    "\n",
    "<b>Комментарий ревьюера v1:</b>\n",
    "    \n",
    "Можешь, пожалуйста, вместо числовых значений для теста использовать переменные, рассчитанные на основе данных? Например, вот так:\n",
    "    \n",
    "```python\n",
    "# Возможный пример кода\n",
    "success_A = test_result.loc['A','purchase']\n",
    "...\n",
    "counts = [success_A, success_B]\n",
    "```"
   ]
  },
  {
   "cell_type": "markdown",
   "id": "e89921e4",
   "metadata": {},
   "source": [
    "<div class=\"alert alert-info\"> <b>Комментарий студента v1:</b>\n",
    "    Числовые значения заменены на переменные"
   ]
  },
  {
   "cell_type": "markdown",
   "id": "fcdec22e",
   "metadata": {},
   "source": [
    "<div style=\"background-color: #f8d7da; color: #721c24; padding: 15px; border-radius: 4px; border: 1px solid #f5c6cb;\">\n",
    "\n",
    "<b>Комментарий ревьюера v1:</b>\n",
    "\n",
    "Тут, ставя параметр `larger` ты по сути проверяешь противоположную гипотезу, что в группе А выше доля. \n",
    "\n",
    "C такой формулировкой `alternative = larger` в списке аргументов первой должна быть группа В. Другой вариант изменить параметр на `alternative = smaller`.\n",
    "    \n",
    "    \n",
    "Также важно следить за формулировкой гипотез, в случае одностороннего теста нулевая гипотеза уже не будет про равенство, а скорее утверждает, что одна доля не превышает вторую. Т.е.\n",
    "\n",
    "H0 — Доля успешных действий в группе В не выше, чем в группе А\n",
    "\n",
    "H1 — Доля успешных действий в группе В выше, чем в группе А"
   ]
  },
  {
   "cell_type": "markdown",
   "id": "f48d02ba",
   "metadata": {},
   "source": [
    "<div class=\"alert alert-info\"> <b>Комментарий студента v1:</b>\n",
    "    Поменял местами аргументы"
   ]
  },
  {
   "cell_type": "markdown",
   "id": "60bf0bd7",
   "metadata": {},
   "source": [
    "<div style=\"background-color: #d4edda; color: #155724; padding: 15px; border-radius: 4px; border: 1px solid #c3e6cb;\">\n",
    "\n",
    "<b>Комментарий ревьюера v2:</b>\n",
    "\n",
    "Тест выполнен верно! "
   ]
  },
  {
   "cell_type": "markdown",
   "id": "9jkyKOjgtGoc",
   "metadata": {
    "id": "9jkyKOjgtGoc"
   },
   "source": [
    "- Опишите выводы по проведённой оценке результатов A/B-тестирования. Что можно сказать про результаты A/B-тестирования? Был ли достигнут ожидаемый эффект в изменении конверсии?"
   ]
  },
  {
   "cell_type": "markdown",
   "id": "a7f0c6dc",
   "metadata": {},
   "source": [
    "Основываясь на проведенном анализе, можно сделать следующие выводы:\n",
    "\n",
    "**1. Результат теста является статистически значимым.**\n",
    "\n",
    "  - **p-value (`0.0397`)** < **Уровня значимости α (`0.05`)**. Это означает, что вероятность получить наблюдаемую разницу в конверсиях между группами (или более экстремальную) при условии, что нулевая гипотеза верна (т.е. реальной разницы нет), составляет менее `4%`.\n",
    "  - Это является статистически значимым результатом, что дает нам основание **отвергнуть нулевую гипотезу (H₀)** о том, что конверсии в группах A и B равны.\n",
    "  - Мы **принимаем альтернативную гипотезу (H₁)**: конверсия в группе B (с новым интерфейсом) статистически значимо выше, чем в группе A (со старым интерфейсом).\n",
    "\n",
    "**2. Ожидаемый эффект БЫЛ достигнут.**\n",
    "\n",
    "- **Абсолютный прирост конверсии**: Конверсия в группе B составила `29.23%`, что на `1.59` процентных пункта выше, чем конверсия в группе A (`27.64%`).\n",
    "\n",
    "- **Относительное изменение конверсии**: Это представляет собой **увеличение конверсии `5.75 %`**, что является очень существенным улучшением.\n",
    "\n",
    "- Целью теста было увеличение конверсии на `3` процентных пункта (с `30%` до `33%`). Хотя абсолютный прирост (`1.59 п.п.`) не достиг запланированного значения, **относительный рост на `5.75 %` значительно превосходит ожидания** и с коммерческой точки зрения является крайне успешным результатом.\n",
    "\n",
    "**3. Эффективность нового интерфейса подтверждена.**\n",
    "Результаты теста свидетельствуют о том, что изменения, внесенные в интерфейс интернет-магазина, оказали сильное положительное влияние на пользовательское поведение. Упрощение интерфейса, вероятно, сделало процесс покупки более интуитивным и легким, что привело к значительному увеличению доли пользователей, совершающих целевое действие — покупку.\n",
    "\n",
    "**Итоговое решение:** Учитывая статистическую значимость и высокую практическую значимость результата (рост конверсии на `5.75%`), **новый интерфейс (вариант B) можно считать успешным**. Рекомендуется его полномасштабное внедрение для всех пользователей интернет-магазина BitMotion Kit."
   ]
  },
  {
   "cell_type": "markdown",
   "id": "6e907dfc",
   "metadata": {},
   "source": [
    "<div style=\"background-color: #d4edda; color: #155724; padding: 15px; border-radius: 4px; border: 1px solid #c3e6cb;\">\n",
    "\n",
    "<b>Комментарий ревьюера v2:</b>\n",
    "\n",
    "Верные выводы 👏 Здорово, что есть сравнение с целевыми показателями и четкая бизнес рекомендация.\n",
    "\n",
    "В целом если guardrail метрики (защитные метрики) в норме (нет статистически значимого ухудшения), а целевые метрики улучшаются либо как минимум не падают — можно внедрять изменение, но действительно желательно изучить сегменты пользователей и повторить тест при сомнительных результатах или аномальных периодах."
   ]
  }
 ],
 "metadata": {
  "ExecuteTimeLog": [
   {
    "duration": 416,
    "start_time": "2025-09-01T11:15:13.970Z"
   },
   {
    "duration": 444,
    "start_time": "2025-09-01T11:18:18.004Z"
   },
   {
    "duration": 61,
    "start_time": "2025-09-01T11:19:11.964Z"
   },
   {
    "duration": 13,
    "start_time": "2025-09-01T11:19:34.354Z"
   },
   {
    "duration": 11,
    "start_time": "2025-09-01T11:19:51.083Z"
   },
   {
    "duration": 5,
    "start_time": "2025-09-01T11:24:26.129Z"
   },
   {
    "duration": 6,
    "start_time": "2025-09-01T11:25:18.889Z"
   },
   {
    "duration": 4,
    "start_time": "2025-09-01T11:25:58.074Z"
   },
   {
    "duration": 5,
    "start_time": "2025-09-01T11:27:06.013Z"
   },
   {
    "duration": 7,
    "start_time": "2025-09-01T11:36:39.656Z"
   },
   {
    "duration": 2,
    "start_time": "2025-09-01T11:36:55.696Z"
   },
   {
    "duration": 77,
    "start_time": "2025-09-01T11:36:55.903Z"
   },
   {
    "duration": 8,
    "start_time": "2025-09-01T11:36:56.173Z"
   },
   {
    "duration": 10,
    "start_time": "2025-09-01T11:36:56.588Z"
   },
   {
    "duration": 5,
    "start_time": "2025-09-01T11:36:57.671Z"
   },
   {
    "duration": 4,
    "start_time": "2025-09-01T11:36:58.080Z"
   },
   {
    "duration": 5,
    "start_time": "2025-09-01T11:36:58.592Z"
   },
   {
    "duration": 5,
    "start_time": "2025-09-01T11:37:08.031Z"
   },
   {
    "duration": 5,
    "start_time": "2025-09-01T11:37:53.259Z"
   },
   {
    "duration": 5,
    "start_time": "2025-09-01T11:37:56.143Z"
   },
   {
    "duration": 4,
    "start_time": "2025-09-01T11:37:56.382Z"
   },
   {
    "duration": 5,
    "start_time": "2025-09-01T11:37:56.769Z"
   },
   {
    "duration": 7,
    "start_time": "2025-09-01T11:41:53.679Z"
   },
   {
    "duration": 5,
    "start_time": "2025-09-01T11:42:14.175Z"
   },
   {
    "duration": 7,
    "start_time": "2025-09-01T11:42:26.702Z"
   },
   {
    "duration": 8,
    "start_time": "2025-09-01T11:50:20.573Z"
   },
   {
    "duration": 7,
    "start_time": "2025-09-01T11:50:33.112Z"
   },
   {
    "duration": 7,
    "start_time": "2025-09-01T11:50:39.654Z"
   },
   {
    "duration": 8,
    "start_time": "2025-09-01T11:51:28.261Z"
   },
   {
    "duration": 7,
    "start_time": "2025-09-01T11:53:12.759Z"
   },
   {
    "duration": 7,
    "start_time": "2025-09-01T11:54:54.541Z"
   },
   {
    "duration": 8,
    "start_time": "2025-09-01T11:55:46.110Z"
   },
   {
    "duration": 7,
    "start_time": "2025-09-01T11:57:13.606Z"
   },
   {
    "duration": 5,
    "start_time": "2025-09-01T11:57:29.438Z"
   },
   {
    "duration": 5,
    "start_time": "2025-09-01T11:57:29.668Z"
   },
   {
    "duration": 8,
    "start_time": "2025-09-01T11:57:30.366Z"
   },
   {
    "duration": 83,
    "start_time": "2025-09-01T13:12:22.738Z"
   },
   {
    "duration": 1437,
    "start_time": "2025-09-01T13:12:33.202Z"
   },
   {
    "duration": 8,
    "start_time": "2025-09-01T13:12:34.641Z"
   },
   {
    "duration": 8,
    "start_time": "2025-09-01T13:12:53.338Z"
   },
   {
    "duration": 8,
    "start_time": "2025-09-01T13:13:08.737Z"
   },
   {
    "duration": 13,
    "start_time": "2025-09-01T13:13:17.586Z"
   },
   {
    "duration": 12,
    "start_time": "2025-09-01T13:13:32.658Z"
   },
   {
    "duration": 8,
    "start_time": "2025-09-01T13:14:44.746Z"
   },
   {
    "duration": 9,
    "start_time": "2025-09-01T13:15:31.452Z"
   },
   {
    "duration": 3,
    "start_time": "2025-09-01T13:21:41.290Z"
   },
   {
    "duration": 3,
    "start_time": "2025-09-01T13:21:52.746Z"
   },
   {
    "duration": 10,
    "start_time": "2025-09-01T13:22:47.377Z"
   },
   {
    "duration": 82,
    "start_time": "2025-09-01T13:23:02.864Z"
   },
   {
    "duration": 88,
    "start_time": "2025-09-01T13:23:03.225Z"
   },
   {
    "duration": 8,
    "start_time": "2025-09-01T13:23:03.610Z"
   },
   {
    "duration": 20,
    "start_time": "2025-09-01T13:23:03.787Z"
   },
   {
    "duration": 7,
    "start_time": "2025-09-01T13:23:04.684Z"
   },
   {
    "duration": 4,
    "start_time": "2025-09-01T13:23:04.843Z"
   },
   {
    "duration": 12,
    "start_time": "2025-09-01T13:23:04.993Z"
   },
   {
    "duration": 1529,
    "start_time": "2025-09-01T13:23:40.770Z"
   },
   {
    "duration": 8,
    "start_time": "2025-09-01T13:23:44.208Z"
   },
   {
    "duration": 11,
    "start_time": "2025-09-01T13:23:44.617Z"
   },
   {
    "duration": 9,
    "start_time": "2025-09-01T13:23:46.195Z"
   },
   {
    "duration": 3,
    "start_time": "2025-09-01T13:23:46.545Z"
   },
   {
    "duration": 3,
    "start_time": "2025-09-01T13:23:48.522Z"
   },
   {
    "duration": 10,
    "start_time": "2025-09-01T13:23:48.745Z"
   },
   {
    "duration": 390,
    "start_time": "2025-09-01T13:25:51.595Z"
   },
   {
    "duration": 50,
    "start_time": "2025-09-01T13:25:51.988Z"
   },
   {
    "duration": 12,
    "start_time": "2025-09-01T13:25:52.040Z"
   },
   {
    "duration": 11,
    "start_time": "2025-09-01T13:25:52.120Z"
   },
   {
    "duration": 5,
    "start_time": "2025-09-01T13:25:52.706Z"
   },
   {
    "duration": 7,
    "start_time": "2025-09-01T13:25:52.882Z"
   },
   {
    "duration": 7,
    "start_time": "2025-09-01T13:25:53.041Z"
   },
   {
    "duration": 1596,
    "start_time": "2025-09-01T13:25:55.152Z"
   },
   {
    "duration": 8,
    "start_time": "2025-09-01T13:25:56.750Z"
   },
   {
    "duration": 29,
    "start_time": "2025-09-01T13:25:56.759Z"
   },
   {
    "duration": 13,
    "start_time": "2025-09-01T13:25:56.792Z"
   },
   {
    "duration": 4,
    "start_time": "2025-09-01T13:26:00.400Z"
   },
   {
    "duration": 4,
    "start_time": "2025-09-01T13:26:00.561Z"
   },
   {
    "duration": 414,
    "start_time": "2025-09-01T13:26:01.013Z"
   },
   {
    "duration": 11,
    "start_time": "2025-09-01T14:29:31.888Z"
   },
   {
    "duration": 11,
    "start_time": "2025-09-01T14:33:57.767Z"
   },
   {
    "duration": 1302,
    "start_time": "2025-09-02T10:46:40.318Z"
   },
   {
    "duration": 115,
    "start_time": "2025-09-02T10:46:42.574Z"
   },
   {
    "duration": 12,
    "start_time": "2025-09-02T10:46:42.915Z"
   },
   {
    "duration": 14,
    "start_time": "2025-09-02T10:46:45.717Z"
   },
   {
    "duration": 6,
    "start_time": "2025-09-02T10:46:49.309Z"
   },
   {
    "duration": 5,
    "start_time": "2025-09-02T10:46:49.492Z"
   },
   {
    "duration": 7,
    "start_time": "2025-09-02T10:46:49.664Z"
   },
   {
    "duration": 1573,
    "start_time": "2025-09-02T10:46:53.662Z"
   },
   {
    "duration": 9,
    "start_time": "2025-09-02T10:46:55.239Z"
   },
   {
    "duration": 12,
    "start_time": "2025-09-02T10:47:03.285Z"
   },
   {
    "duration": 10,
    "start_time": "2025-09-02T10:47:03.502Z"
   },
   {
    "duration": 3,
    "start_time": "2025-09-02T10:47:03.998Z"
   },
   {
    "duration": 4,
    "start_time": "2025-09-02T10:47:07.389Z"
   },
   {
    "duration": 432,
    "start_time": "2025-09-02T10:47:07.549Z"
   },
   {
    "duration": 10,
    "start_time": "2025-09-02T10:47:07.983Z"
   },
   {
    "duration": 7,
    "start_time": "2025-09-02T10:58:10.757Z"
   },
   {
    "duration": 74,
    "start_time": "2025-09-02T10:58:56.524Z"
   },
   {
    "duration": 26,
    "start_time": "2025-09-02T10:59:16.252Z"
   },
   {
    "duration": 23,
    "start_time": "2025-09-02T11:07:48.179Z"
   },
   {
    "duration": 27,
    "start_time": "2025-09-02T11:08:13.261Z"
   },
   {
    "duration": 29,
    "start_time": "2025-09-02T11:08:53.834Z"
   },
   {
    "duration": 106,
    "start_time": "2025-09-02T11:17:55.657Z"
   },
   {
    "duration": 14,
    "start_time": "2025-09-02T11:18:38.817Z"
   },
   {
    "duration": 11,
    "start_time": "2025-09-02T11:28:17.409Z"
   },
   {
    "duration": 17,
    "start_time": "2025-09-02T11:28:41.364Z"
   },
   {
    "duration": 3,
    "start_time": "2025-09-02T13:21:00.604Z"
   },
   {
    "duration": 114,
    "start_time": "2025-09-02T13:21:00.986Z"
   },
   {
    "duration": 9,
    "start_time": "2025-09-02T13:21:01.149Z"
   },
   {
    "duration": 11,
    "start_time": "2025-09-02T13:21:01.277Z"
   },
   {
    "duration": 7,
    "start_time": "2025-09-02T13:21:01.795Z"
   },
   {
    "duration": 5,
    "start_time": "2025-09-02T13:21:01.962Z"
   },
   {
    "duration": 8,
    "start_time": "2025-09-02T13:21:02.130Z"
   },
   {
    "duration": 1598,
    "start_time": "2025-09-02T13:21:03.883Z"
   },
   {
    "duration": 10,
    "start_time": "2025-09-02T13:21:05.483Z"
   },
   {
    "duration": 24,
    "start_time": "2025-09-02T13:21:05.495Z"
   },
   {
    "duration": 22,
    "start_time": "2025-09-02T13:21:05.521Z"
   },
   {
    "duration": 2,
    "start_time": "2025-09-02T13:21:05.545Z"
   },
   {
    "duration": 31,
    "start_time": "2025-09-02T13:21:05.549Z"
   },
   {
    "duration": 358,
    "start_time": "2025-09-02T13:21:05.581Z"
   },
   {
    "duration": 13,
    "start_time": "2025-09-02T13:21:05.941Z"
   },
   {
    "duration": 7,
    "start_time": "2025-09-02T13:21:06.699Z"
   },
   {
    "duration": 81,
    "start_time": "2025-09-02T13:21:07.066Z"
   },
   {
    "duration": 26,
    "start_time": "2025-09-02T13:21:07.475Z"
   },
   {
    "duration": 25,
    "start_time": "2025-09-02T13:21:08.435Z"
   },
   {
    "duration": 33,
    "start_time": "2025-09-02T13:21:08.462Z"
   },
   {
    "duration": 29,
    "start_time": "2025-09-02T13:21:08.603Z"
   },
   {
    "duration": 9,
    "start_time": "2025-09-02T13:22:10.268Z"
   },
   {
    "duration": 27,
    "start_time": "2025-09-02T13:23:50.058Z"
   },
   {
    "duration": 22,
    "start_time": "2025-09-02T13:24:09.699Z"
   },
   {
    "duration": 18,
    "start_time": "2025-09-02T13:25:27.954Z"
   },
   {
    "duration": 80,
    "start_time": "2025-09-02T13:32:42.017Z"
   },
   {
    "duration": 82,
    "start_time": "2025-09-02T13:43:01.206Z"
   },
   {
    "duration": 27,
    "start_time": "2025-09-02T14:32:51.168Z"
   },
   {
    "duration": 26,
    "start_time": "2025-09-02T14:33:05.272Z"
   },
   {
    "duration": 27,
    "start_time": "2025-09-02T14:34:42.113Z"
   },
   {
    "duration": 3,
    "start_time": "2025-09-03T15:00:45.000Z"
   },
   {
    "duration": 53,
    "start_time": "2025-09-03T15:00:45.582Z"
   },
   {
    "duration": 8,
    "start_time": "2025-09-03T15:00:45.790Z"
   },
   {
    "duration": 11,
    "start_time": "2025-09-03T15:00:46.128Z"
   },
   {
    "duration": 5,
    "start_time": "2025-09-03T15:00:46.598Z"
   },
   {
    "duration": 5,
    "start_time": "2025-09-03T15:00:46.991Z"
   },
   {
    "duration": 8,
    "start_time": "2025-09-03T15:00:47.214Z"
   },
   {
    "duration": 1444,
    "start_time": "2025-09-03T15:00:49.358Z"
   },
   {
    "duration": 9,
    "start_time": "2025-09-03T15:00:50.803Z"
   },
   {
    "duration": 12,
    "start_time": "2025-09-03T15:00:54.590Z"
   },
   {
    "duration": 10,
    "start_time": "2025-09-03T15:00:55.654Z"
   },
   {
    "duration": 2,
    "start_time": "2025-09-03T15:00:55.975Z"
   },
   {
    "duration": 4,
    "start_time": "2025-09-03T15:00:56.630Z"
   },
   {
    "duration": 339,
    "start_time": "2025-09-03T15:00:56.814Z"
   },
   {
    "duration": 11,
    "start_time": "2025-09-03T15:00:57.155Z"
   },
   {
    "duration": 7,
    "start_time": "2025-09-03T15:00:58.015Z"
   },
   {
    "duration": 80,
    "start_time": "2025-09-03T15:00:58.318Z"
   },
   {
    "duration": 24,
    "start_time": "2025-09-03T15:00:58.574Z"
   },
   {
    "duration": 22,
    "start_time": "2025-09-03T15:00:59.198Z"
   },
   {
    "duration": 28,
    "start_time": "2025-09-03T15:01:00.167Z"
   },
   {
    "duration": 29,
    "start_time": "2025-09-03T15:01:00.493Z"
   },
   {
    "duration": 14,
    "start_time": "2025-09-03T15:01:01.191Z"
   },
   {
    "duration": 64,
    "start_time": "2025-09-03T15:05:04.383Z"
   },
   {
    "duration": 13,
    "start_time": "2025-09-03T15:23:23.572Z"
   },
   {
    "duration": 11,
    "start_time": "2025-09-03T15:23:35.404Z"
   },
   {
    "duration": 4,
    "start_time": "2025-09-04T08:09:08.274Z"
   },
   {
    "duration": 65,
    "start_time": "2025-09-04T08:09:08.449Z"
   },
   {
    "duration": 8,
    "start_time": "2025-09-04T08:09:08.914Z"
   },
   {
    "duration": 13,
    "start_time": "2025-09-04T08:09:09.121Z"
   },
   {
    "duration": 5,
    "start_time": "2025-09-04T08:09:09.499Z"
   },
   {
    "duration": 5,
    "start_time": "2025-09-04T08:09:09.656Z"
   },
   {
    "duration": 8,
    "start_time": "2025-09-04T08:09:09.840Z"
   },
   {
    "duration": 1413,
    "start_time": "2025-09-04T08:09:11.385Z"
   },
   {
    "duration": 9,
    "start_time": "2025-09-04T08:09:12.799Z"
   },
   {
    "duration": 35,
    "start_time": "2025-09-04T08:09:12.809Z"
   },
   {
    "duration": 34,
    "start_time": "2025-09-04T08:09:12.847Z"
   },
   {
    "duration": 22,
    "start_time": "2025-09-04T08:09:12.882Z"
   },
   {
    "duration": 20,
    "start_time": "2025-09-04T08:09:12.905Z"
   },
   {
    "duration": 319,
    "start_time": "2025-09-04T08:09:12.926Z"
   },
   {
    "duration": 11,
    "start_time": "2025-09-04T08:09:13.247Z"
   },
   {
    "duration": 9,
    "start_time": "2025-09-04T08:09:23.241Z"
   },
   {
    "duration": 9,
    "start_time": "2025-09-04T08:10:21.121Z"
   },
   {
    "duration": 78,
    "start_time": "2025-09-04T08:10:21.769Z"
   },
   {
    "duration": 24,
    "start_time": "2025-09-04T08:10:23.401Z"
   },
   {
    "duration": 22,
    "start_time": "2025-09-04T08:10:53.960Z"
   },
   {
    "duration": 27,
    "start_time": "2025-09-04T08:10:54.537Z"
   },
   {
    "duration": 26,
    "start_time": "2025-09-04T08:10:58.097Z"
   },
   {
    "duration": 15,
    "start_time": "2025-09-04T08:11:39.858Z"
   },
   {
    "duration": 12,
    "start_time": "2025-09-04T08:22:13.748Z"
   },
   {
    "duration": 76,
    "start_time": "2025-09-04T08:22:15.142Z"
   },
   {
    "duration": 43,
    "start_time": "2025-09-04T08:24:12.520Z"
   },
   {
    "duration": 177,
    "start_time": "2025-09-04T08:25:19.790Z"
   },
   {
    "duration": 12,
    "start_time": "2025-09-04T08:25:29.902Z"
   },
   {
    "duration": 15,
    "start_time": "2025-09-04T08:25:37.054Z"
   },
   {
    "duration": 42,
    "start_time": "2025-09-04T08:25:37.728Z"
   },
   {
    "duration": 4,
    "start_time": "2025-09-04T08:25:42.767Z"
   },
   {
    "duration": 42,
    "start_time": "2025-09-04T08:27:19.942Z"
   },
   {
    "duration": 5,
    "start_time": "2025-09-04T08:27:20.312Z"
   },
   {
    "duration": 67,
    "start_time": "2025-09-04T08:29:24.133Z"
   },
   {
    "duration": 48,
    "start_time": "2025-09-04T08:30:13.472Z"
   },
   {
    "duration": 4,
    "start_time": "2025-09-04T08:30:14.678Z"
   },
   {
    "duration": 68,
    "start_time": "2025-09-04T08:30:58.965Z"
   },
   {
    "duration": 1354,
    "start_time": "2025-09-04T08:31:06.717Z"
   },
   {
    "duration": 3,
    "start_time": "2025-09-04T08:31:33.798Z"
   },
   {
    "duration": 40,
    "start_time": "2025-09-04T08:31:33.980Z"
   },
   {
    "duration": 8,
    "start_time": "2025-09-04T08:31:34.341Z"
   },
   {
    "duration": 11,
    "start_time": "2025-09-04T08:31:34.646Z"
   },
   {
    "duration": 5,
    "start_time": "2025-09-04T08:31:35.141Z"
   },
   {
    "duration": 5,
    "start_time": "2025-09-04T08:31:35.374Z"
   },
   {
    "duration": 8,
    "start_time": "2025-09-04T08:31:35.551Z"
   },
   {
    "duration": 1398,
    "start_time": "2025-09-04T08:31:37.855Z"
   },
   {
    "duration": 8,
    "start_time": "2025-09-04T08:31:39.255Z"
   },
   {
    "duration": 17,
    "start_time": "2025-09-04T08:31:39.264Z"
   },
   {
    "duration": 8,
    "start_time": "2025-09-04T08:31:40.131Z"
   },
   {
    "duration": 3,
    "start_time": "2025-09-04T08:31:40.445Z"
   },
   {
    "duration": 4,
    "start_time": "2025-09-04T08:31:40.742Z"
   },
   {
    "duration": 318,
    "start_time": "2025-09-04T08:31:41.221Z"
   },
   {
    "duration": 11,
    "start_time": "2025-09-04T08:31:42.510Z"
   },
   {
    "duration": 10,
    "start_time": "2025-09-04T08:31:45.293Z"
   },
   {
    "duration": 7,
    "start_time": "2025-09-04T08:31:46.801Z"
   },
   {
    "duration": 78,
    "start_time": "2025-09-04T08:31:47.094Z"
   },
   {
    "duration": 30,
    "start_time": "2025-09-04T08:31:47.582Z"
   },
   {
    "duration": 21,
    "start_time": "2025-09-04T08:31:59.454Z"
   },
   {
    "duration": 26,
    "start_time": "2025-09-04T08:32:01.600Z"
   },
   {
    "duration": 26,
    "start_time": "2025-09-04T08:32:04.591Z"
   },
   {
    "duration": 18,
    "start_time": "2025-09-04T08:32:09.600Z"
   },
   {
    "duration": 43,
    "start_time": "2025-09-04T08:32:13.021Z"
   },
   {
    "duration": 4,
    "start_time": "2025-09-04T08:32:14.599Z"
   },
   {
    "duration": 66,
    "start_time": "2025-09-04T08:32:42.559Z"
   },
   {
    "duration": 18,
    "start_time": "2025-09-04T08:33:54.128Z"
   },
   {
    "duration": 45,
    "start_time": "2025-09-04T08:33:54.558Z"
   },
   {
    "duration": 4,
    "start_time": "2025-09-04T08:33:54.758Z"
   },
   {
    "duration": 71,
    "start_time": "2025-09-04T08:33:55.261Z"
   },
   {
    "duration": 3,
    "start_time": "2025-09-04T08:38:30.917Z"
   },
   {
    "duration": 40,
    "start_time": "2025-09-04T08:38:31.563Z"
   },
   {
    "duration": 8,
    "start_time": "2025-09-04T08:38:33.192Z"
   },
   {
    "duration": 4,
    "start_time": "2025-09-04T08:39:07.110Z"
   },
   {
    "duration": 8,
    "start_time": "2025-09-04T08:39:40.411Z"
   },
   {
    "duration": 9,
    "start_time": "2025-09-04T08:40:05.132Z"
   },
   {
    "duration": 5,
    "start_time": "2025-09-04T08:40:10.332Z"
   },
   {
    "duration": 5,
    "start_time": "2025-09-04T08:40:38.643Z"
   },
   {
    "duration": 9,
    "start_time": "2025-09-04T08:42:56.264Z"
   },
   {
    "duration": 8,
    "start_time": "2025-09-04T08:43:11.691Z"
   },
   {
    "duration": 9,
    "start_time": "2025-09-04T08:43:50.612Z"
   },
   {
    "duration": 9,
    "start_time": "2025-09-04T08:44:24.596Z"
   },
   {
    "duration": 16,
    "start_time": "2025-09-04T08:45:06.995Z"
   },
   {
    "duration": 3,
    "start_time": "2025-09-04T08:45:17.035Z"
   },
   {
    "duration": 42,
    "start_time": "2025-09-04T08:45:17.340Z"
   },
   {
    "duration": 8,
    "start_time": "2025-09-04T08:45:17.932Z"
   },
   {
    "duration": 13,
    "start_time": "2025-09-04T08:45:18.427Z"
   },
   {
    "duration": 4,
    "start_time": "2025-09-04T08:45:19.236Z"
   },
   {
    "duration": 8,
    "start_time": "2025-09-04T08:45:20.745Z"
   },
   {
    "duration": 6,
    "start_time": "2025-09-04T08:45:21.603Z"
   },
   {
    "duration": 5,
    "start_time": "2025-09-04T08:45:23.859Z"
   },
   {
    "duration": 6,
    "start_time": "2025-09-04T08:45:24.733Z"
   },
   {
    "duration": 8,
    "start_time": "2025-09-04T08:45:25.027Z"
   },
   {
    "duration": 7,
    "start_time": "2025-09-04T08:45:25.284Z"
   },
   {
    "duration": 8,
    "start_time": "2025-09-04T09:00:52.489Z"
   },
   {
    "duration": 8,
    "start_time": "2025-09-04T09:02:49.825Z"
   },
   {
    "duration": 10,
    "start_time": "2025-09-04T09:02:50.384Z"
   },
   {
    "duration": 8,
    "start_time": "2025-09-04T09:03:33.961Z"
   },
   {
    "duration": 9,
    "start_time": "2025-09-04T09:03:46.448Z"
   },
   {
    "duration": 10,
    "start_time": "2025-09-04T09:03:46.881Z"
   },
   {
    "duration": 3,
    "start_time": "2025-09-04T09:03:47.859Z"
   },
   {
    "duration": 4,
    "start_time": "2025-09-04T09:03:49.898Z"
   },
   {
    "duration": 309,
    "start_time": "2025-09-04T09:03:53.241Z"
   },
   {
    "duration": 11,
    "start_time": "2025-09-04T09:03:57.684Z"
   },
   {
    "duration": 10,
    "start_time": "2025-09-04T09:04:03.304Z"
   },
   {
    "duration": 3,
    "start_time": "2025-09-04T09:04:24.113Z"
   },
   {
    "duration": 76,
    "start_time": "2025-09-04T09:04:24.320Z"
   },
   {
    "duration": 8,
    "start_time": "2025-09-04T09:04:24.505Z"
   },
   {
    "duration": 11,
    "start_time": "2025-09-04T09:04:24.713Z"
   },
   {
    "duration": 4,
    "start_time": "2025-09-04T09:04:25.104Z"
   },
   {
    "duration": 8,
    "start_time": "2025-09-04T09:04:25.400Z"
   },
   {
    "duration": 6,
    "start_time": "2025-09-04T09:04:25.713Z"
   },
   {
    "duration": 5,
    "start_time": "2025-09-04T09:04:26.009Z"
   },
   {
    "duration": 6,
    "start_time": "2025-09-04T09:04:27.137Z"
   },
   {
    "duration": 8,
    "start_time": "2025-09-04T09:04:27.423Z"
   },
   {
    "duration": 8,
    "start_time": "2025-09-04T09:04:27.737Z"
   },
   {
    "duration": 1814,
    "start_time": "2025-09-04T09:04:30.752Z"
   },
   {
    "duration": 9,
    "start_time": "2025-09-04T09:04:33.704Z"
   },
   {
    "duration": 13,
    "start_time": "2025-09-04T09:04:34.128Z"
   },
   {
    "duration": 8,
    "start_time": "2025-09-04T09:04:36.801Z"
   },
   {
    "duration": 8,
    "start_time": "2025-09-04T09:04:37.307Z"
   },
   {
    "duration": 10,
    "start_time": "2025-09-04T09:04:37.731Z"
   },
   {
    "duration": 3,
    "start_time": "2025-09-04T09:04:45.761Z"
   },
   {
    "duration": 5,
    "start_time": "2025-09-04T09:04:46.080Z"
   },
   {
    "duration": 349,
    "start_time": "2025-09-04T09:04:46.945Z"
   },
   {
    "duration": 11,
    "start_time": "2025-09-04T09:04:51.385Z"
   },
   {
    "duration": 8,
    "start_time": "2025-09-04T09:04:56.409Z"
   },
   {
    "duration": 8,
    "start_time": "2025-09-04T09:05:04.961Z"
   },
   {
    "duration": 82,
    "start_time": "2025-09-04T09:05:05.440Z"
   },
   {
    "duration": 23,
    "start_time": "2025-09-04T09:05:05.817Z"
   },
   {
    "duration": 21,
    "start_time": "2025-09-04T09:05:09.200Z"
   },
   {
    "duration": 26,
    "start_time": "2025-09-04T09:05:09.497Z"
   },
   {
    "duration": 28,
    "start_time": "2025-09-04T09:05:09.773Z"
   },
   {
    "duration": 14,
    "start_time": "2025-09-04T09:05:11.057Z"
   },
   {
    "duration": 9,
    "start_time": "2025-09-04T09:06:03.737Z"
   },
   {
    "duration": 18,
    "start_time": "2025-09-04T09:06:03.912Z"
   },
   {
    "duration": 8,
    "start_time": "2025-09-04T09:06:04.081Z"
   },
   {
    "duration": 8,
    "start_time": "2025-09-04T09:06:04.377Z"
   },
   {
    "duration": 10,
    "start_time": "2025-09-04T09:06:04.688Z"
   },
   {
    "duration": 3,
    "start_time": "2025-09-04T09:06:05.377Z"
   },
   {
    "duration": 4,
    "start_time": "2025-09-04T09:06:07.968Z"
   },
   {
    "duration": 322,
    "start_time": "2025-09-04T09:06:08.505Z"
   },
   {
    "duration": 10,
    "start_time": "2025-09-04T09:06:10.688Z"
   },
   {
    "duration": 3,
    "start_time": "2025-09-04T09:06:52.048Z"
   },
   {
    "duration": 41,
    "start_time": "2025-09-04T09:06:52.464Z"
   },
   {
    "duration": 9,
    "start_time": "2025-09-04T09:06:52.657Z"
   },
   {
    "duration": 12,
    "start_time": "2025-09-04T09:06:52.825Z"
   },
   {
    "duration": 4,
    "start_time": "2025-09-04T09:06:53.000Z"
   },
   {
    "duration": 7,
    "start_time": "2025-09-04T09:06:53.147Z"
   },
   {
    "duration": 6,
    "start_time": "2025-09-04T09:06:53.320Z"
   },
   {
    "duration": 6,
    "start_time": "2025-09-04T09:06:53.481Z"
   },
   {
    "duration": 6,
    "start_time": "2025-09-04T09:06:54.880Z"
   },
   {
    "duration": 7,
    "start_time": "2025-09-04T09:06:55.145Z"
   },
   {
    "duration": 7,
    "start_time": "2025-09-04T09:06:55.601Z"
   },
   {
    "duration": 1632,
    "start_time": "2025-09-04T09:07:00.409Z"
   },
   {
    "duration": 10,
    "start_time": "2025-09-04T09:07:04.434Z"
   },
   {
    "duration": 13,
    "start_time": "2025-09-04T09:07:04.815Z"
   },
   {
    "duration": 13,
    "start_time": "2025-09-04T09:07:07.599Z"
   },
   {
    "duration": 3,
    "start_time": "2025-09-04T09:07:10.338Z"
   },
   {
    "duration": 4,
    "start_time": "2025-09-04T09:07:10.688Z"
   },
   {
    "duration": 338,
    "start_time": "2025-09-04T09:07:12.944Z"
   },
   {
    "duration": 14,
    "start_time": "2025-09-04T09:07:18.328Z"
   },
   {
    "duration": 11,
    "start_time": "2025-09-04T09:07:22.559Z"
   },
   {
    "duration": 6,
    "start_time": "2025-09-04T09:08:03.994Z"
   },
   {
    "duration": 73,
    "start_time": "2025-09-04T09:09:26.951Z"
   },
   {
    "duration": 6,
    "start_time": "2025-09-04T09:09:36.084Z"
   },
   {
    "duration": 4,
    "start_time": "2025-09-04T09:10:01.993Z"
   },
   {
    "duration": 12,
    "start_time": "2025-09-04T09:10:29.920Z"
   },
   {
    "duration": 10,
    "start_time": "2025-09-04T09:10:31.720Z"
   },
   {
    "duration": 4,
    "start_time": "2025-09-04T09:10:32.120Z"
   },
   {
    "duration": 3,
    "start_time": "2025-09-04T09:10:38.200Z"
   },
   {
    "duration": 49,
    "start_time": "2025-09-04T09:10:38.401Z"
   },
   {
    "duration": 12,
    "start_time": "2025-09-04T09:10:38.577Z"
   },
   {
    "duration": 13,
    "start_time": "2025-09-04T09:10:38.769Z"
   },
   {
    "duration": 4,
    "start_time": "2025-09-04T09:10:38.952Z"
   },
   {
    "duration": 8,
    "start_time": "2025-09-04T09:10:39.120Z"
   },
   {
    "duration": 7,
    "start_time": "2025-09-04T09:10:39.296Z"
   },
   {
    "duration": 7,
    "start_time": "2025-09-04T09:10:39.463Z"
   },
   {
    "duration": 7,
    "start_time": "2025-09-04T09:10:40.020Z"
   },
   {
    "duration": 11,
    "start_time": "2025-09-04T09:10:40.216Z"
   },
   {
    "duration": 10,
    "start_time": "2025-09-04T09:10:40.411Z"
   },
   {
    "duration": 1487,
    "start_time": "2025-09-04T09:10:42.441Z"
   },
   {
    "duration": 9,
    "start_time": "2025-09-04T09:10:44.640Z"
   },
   {
    "duration": 13,
    "start_time": "2025-09-04T09:10:45.151Z"
   },
   {
    "duration": 9,
    "start_time": "2025-09-04T09:10:45.480Z"
   },
   {
    "duration": 3,
    "start_time": "2025-09-04T09:10:45.800Z"
   },
   {
    "duration": 3,
    "start_time": "2025-09-04T09:10:46.154Z"
   },
   {
    "duration": 408,
    "start_time": "2025-09-04T09:10:46.536Z"
   },
   {
    "duration": 15,
    "start_time": "2025-09-04T09:10:47.552Z"
   },
   {
    "duration": 14,
    "start_time": "2025-09-04T09:10:50.025Z"
   },
   {
    "duration": 4,
    "start_time": "2025-09-04T09:10:50.600Z"
   },
   {
    "duration": 11,
    "start_time": "2025-09-04T09:12:37.006Z"
   },
   {
    "duration": 10,
    "start_time": "2025-09-04T09:12:46.178Z"
   },
   {
    "duration": 10,
    "start_time": "2025-09-04T09:23:20.247Z"
   },
   {
    "duration": 95,
    "start_time": "2025-09-04T09:23:24.126Z"
   },
   {
    "duration": 25,
    "start_time": "2025-09-04T09:23:24.899Z"
   },
   {
    "duration": 26,
    "start_time": "2025-09-04T09:23:37.989Z"
   },
   {
    "duration": 26,
    "start_time": "2025-09-04T09:23:38.277Z"
   },
   {
    "duration": 29,
    "start_time": "2025-09-04T09:23:38.703Z"
   },
   {
    "duration": 16,
    "start_time": "2025-09-04T09:23:39.846Z"
   },
   {
    "duration": 44,
    "start_time": "2025-09-04T09:23:41.321Z"
   },
   {
    "duration": 4,
    "start_time": "2025-09-04T09:23:42.327Z"
   },
   {
    "duration": 72,
    "start_time": "2025-09-04T09:23:45.814Z"
   },
   {
    "duration": 12,
    "start_time": "2025-09-04T09:39:14.023Z"
   },
   {
    "duration": 3,
    "start_time": "2025-09-04T09:39:28.773Z"
   },
   {
    "duration": 5,
    "start_time": "2025-09-04T09:39:30.915Z"
   },
   {
    "duration": 339,
    "start_time": "2025-09-04T09:39:32.076Z"
   },
   {
    "duration": 10,
    "start_time": "2025-09-04T09:39:37.067Z"
   },
   {
    "duration": 10,
    "start_time": "2025-09-04T09:39:50.080Z"
   },
   {
    "duration": 10,
    "start_time": "2025-09-04T09:40:33.756Z"
   },
   {
    "duration": 4,
    "start_time": "2025-09-04T09:40:38.635Z"
   },
   {
    "duration": 4,
    "start_time": "2025-09-04T09:40:39.843Z"
   },
   {
    "duration": 323,
    "start_time": "2025-09-04T09:40:41.091Z"
   },
   {
    "duration": 10,
    "start_time": "2025-09-04T09:40:49.275Z"
   },
   {
    "duration": 22,
    "start_time": "2025-09-04T09:41:27.555Z"
   },
   {
    "duration": 10,
    "start_time": "2025-09-04T09:41:33.277Z"
   },
   {
    "duration": 3,
    "start_time": "2025-09-04T09:41:34.642Z"
   },
   {
    "duration": 4,
    "start_time": "2025-09-04T09:41:34.820Z"
   },
   {
    "duration": 326,
    "start_time": "2025-09-04T09:41:34.987Z"
   },
   {
    "duration": 10,
    "start_time": "2025-09-04T09:41:35.315Z"
   },
   {
    "duration": 7,
    "start_time": "2025-09-04T09:41:35.780Z"
   },
   {
    "duration": 80,
    "start_time": "2025-09-04T09:41:38.069Z"
   },
   {
    "duration": 24,
    "start_time": "2025-09-04T09:41:38.393Z"
   },
   {
    "duration": 78,
    "start_time": "2025-09-04T09:41:59.674Z"
   },
   {
    "duration": 25,
    "start_time": "2025-09-04T09:42:00.340Z"
   },
   {
    "duration": 80,
    "start_time": "2025-09-04T09:42:36.691Z"
   },
   {
    "duration": 25,
    "start_time": "2025-09-04T09:42:38.669Z"
   },
   {
    "duration": 3,
    "start_time": "2025-09-04T09:42:46.411Z"
   },
   {
    "duration": 43,
    "start_time": "2025-09-04T09:42:46.668Z"
   },
   {
    "duration": 9,
    "start_time": "2025-09-04T09:42:47.051Z"
   },
   {
    "duration": 11,
    "start_time": "2025-09-04T09:42:47.283Z"
   },
   {
    "duration": 4,
    "start_time": "2025-09-04T09:42:47.449Z"
   },
   {
    "duration": 8,
    "start_time": "2025-09-04T09:42:47.635Z"
   },
   {
    "duration": 6,
    "start_time": "2025-09-04T09:42:47.810Z"
   },
   {
    "duration": 5,
    "start_time": "2025-09-04T09:42:48.075Z"
   },
   {
    "duration": 5,
    "start_time": "2025-09-04T09:42:48.922Z"
   },
   {
    "duration": 7,
    "start_time": "2025-09-04T09:42:49.219Z"
   },
   {
    "duration": 7,
    "start_time": "2025-09-04T09:42:49.539Z"
   },
   {
    "duration": 1845,
    "start_time": "2025-09-04T09:42:52.715Z"
   },
   {
    "duration": 9,
    "start_time": "2025-09-04T09:42:55.051Z"
   },
   {
    "duration": 12,
    "start_time": "2025-09-04T09:42:55.468Z"
   },
   {
    "duration": 10,
    "start_time": "2025-09-04T09:42:57.228Z"
   },
   {
    "duration": 4,
    "start_time": "2025-09-04T09:42:57.603Z"
   },
   {
    "duration": 3,
    "start_time": "2025-09-04T09:43:00.611Z"
   },
   {
    "duration": 315,
    "start_time": "2025-09-04T09:43:01.835Z"
   },
   {
    "duration": 11,
    "start_time": "2025-09-04T09:43:12.947Z"
   },
   {
    "duration": 43,
    "start_time": "2025-09-04T09:43:20.211Z"
   },
   {
    "duration": 8,
    "start_time": "2025-09-04T09:43:26.739Z"
   },
   {
    "duration": 14,
    "start_time": "2025-09-04T09:44:12.276Z"
   },
   {
    "duration": 14,
    "start_time": "2025-09-04T09:44:25.347Z"
   },
   {
    "duration": 16,
    "start_time": "2025-09-04T09:45:22.235Z"
   },
   {
    "duration": 14,
    "start_time": "2025-09-04T09:47:00.547Z"
   },
   {
    "duration": 59,
    "start_time": "2025-09-04T09:47:36.619Z"
   },
   {
    "duration": 8,
    "start_time": "2025-09-04T09:47:36.932Z"
   },
   {
    "duration": 4,
    "start_time": "2025-09-04T09:47:53.732Z"
   },
   {
    "duration": 63,
    "start_time": "2025-09-04T09:47:53.905Z"
   },
   {
    "duration": 8,
    "start_time": "2025-09-04T09:47:54.051Z"
   },
   {
    "duration": 12,
    "start_time": "2025-09-04T09:47:54.201Z"
   },
   {
    "duration": 4,
    "start_time": "2025-09-04T09:47:54.361Z"
   },
   {
    "duration": 7,
    "start_time": "2025-09-04T09:47:54.539Z"
   },
   {
    "duration": 6,
    "start_time": "2025-09-04T09:47:54.731Z"
   },
   {
    "duration": 5,
    "start_time": "2025-09-04T09:47:54.907Z"
   },
   {
    "duration": 12,
    "start_time": "2025-09-04T09:47:55.401Z"
   },
   {
    "duration": 10,
    "start_time": "2025-09-04T09:47:55.561Z"
   },
   {
    "duration": 10,
    "start_time": "2025-09-04T09:47:55.732Z"
   },
   {
    "duration": 1388,
    "start_time": "2025-09-04T09:47:58.297Z"
   },
   {
    "duration": 10,
    "start_time": "2025-09-04T09:47:59.687Z"
   },
   {
    "duration": 11,
    "start_time": "2025-09-04T09:47:59.699Z"
   },
   {
    "duration": 32,
    "start_time": "2025-09-04T09:47:59.712Z"
   },
   {
    "duration": 3,
    "start_time": "2025-09-04T09:48:03.177Z"
   },
   {
    "duration": 4,
    "start_time": "2025-09-04T09:48:03.601Z"
   },
   {
    "duration": 318,
    "start_time": "2025-09-04T09:48:04.195Z"
   },
   {
    "duration": 12,
    "start_time": "2025-09-04T09:48:05.033Z"
   },
   {
    "duration": 43,
    "start_time": "2025-09-04T09:48:07.657Z"
   },
   {
    "duration": 9,
    "start_time": "2025-09-04T09:48:08.602Z"
   },
   {
    "duration": 15,
    "start_time": "2025-09-04T09:49:17.650Z"
   },
   {
    "duration": 12,
    "start_time": "2025-09-04T09:49:47.386Z"
   },
   {
    "duration": 10,
    "start_time": "2025-09-04T09:50:03.779Z"
   },
   {
    "duration": 11,
    "start_time": "2025-09-04T09:51:34.467Z"
   },
   {
    "duration": 3,
    "start_time": "2025-09-04T09:51:34.761Z"
   },
   {
    "duration": 3,
    "start_time": "2025-09-04T09:51:35.017Z"
   },
   {
    "duration": 343,
    "start_time": "2025-09-04T09:51:35.273Z"
   },
   {
    "duration": 10,
    "start_time": "2025-09-04T09:51:35.618Z"
   },
   {
    "duration": 37,
    "start_time": "2025-09-04T09:51:36.307Z"
   },
   {
    "duration": 10,
    "start_time": "2025-09-04T09:51:36.529Z"
   },
   {
    "duration": 37,
    "start_time": "2025-09-04T09:51:52.809Z"
   },
   {
    "duration": 8,
    "start_time": "2025-09-04T09:51:53.227Z"
   },
   {
    "duration": 3,
    "start_time": "2025-09-04T09:52:00.913Z"
   },
   {
    "duration": 44,
    "start_time": "2025-09-04T09:52:01.106Z"
   },
   {
    "duration": 8,
    "start_time": "2025-09-04T09:52:01.283Z"
   },
   {
    "duration": 11,
    "start_time": "2025-09-04T09:52:01.473Z"
   },
   {
    "duration": 4,
    "start_time": "2025-09-04T09:52:01.753Z"
   },
   {
    "duration": 9,
    "start_time": "2025-09-04T09:52:02.009Z"
   },
   {
    "duration": 6,
    "start_time": "2025-09-04T09:52:02.417Z"
   },
   {
    "duration": 6,
    "start_time": "2025-09-04T09:52:02.601Z"
   },
   {
    "duration": 5,
    "start_time": "2025-09-04T09:52:03.120Z"
   },
   {
    "duration": 8,
    "start_time": "2025-09-04T09:52:03.289Z"
   },
   {
    "duration": 8,
    "start_time": "2025-09-04T09:52:03.466Z"
   },
   {
    "duration": 1527,
    "start_time": "2025-09-04T09:52:05.489Z"
   },
   {
    "duration": 21,
    "start_time": "2025-09-04T09:52:07.018Z"
   },
   {
    "duration": 46,
    "start_time": "2025-09-04T09:52:07.041Z"
   },
   {
    "duration": 16,
    "start_time": "2025-09-04T09:52:07.089Z"
   },
   {
    "duration": 3,
    "start_time": "2025-09-04T09:52:14.353Z"
   },
   {
    "duration": 4,
    "start_time": "2025-09-04T09:52:14.720Z"
   },
   {
    "duration": 332,
    "start_time": "2025-09-04T09:52:14.883Z"
   },
   {
    "duration": 22,
    "start_time": "2025-09-04T09:52:15.217Z"
   },
   {
    "duration": 44,
    "start_time": "2025-09-04T09:52:15.697Z"
   },
   {
    "duration": 8,
    "start_time": "2025-09-04T09:52:16.041Z"
   },
   {
    "duration": 11,
    "start_time": "2025-09-04T09:53:07.737Z"
   },
   {
    "duration": 11,
    "start_time": "2025-09-04T09:53:14.176Z"
   },
   {
    "duration": 37,
    "start_time": "2025-09-04T09:53:15.649Z"
   },
   {
    "duration": 9,
    "start_time": "2025-09-04T09:53:17.265Z"
   },
   {
    "duration": 11,
    "start_time": "2025-09-04T09:56:01.563Z"
   },
   {
    "duration": 3,
    "start_time": "2025-09-04T09:56:02.011Z"
   },
   {
    "duration": 3,
    "start_time": "2025-09-04T09:56:02.257Z"
   },
   {
    "duration": 313,
    "start_time": "2025-09-04T09:56:02.818Z"
   },
   {
    "duration": 12,
    "start_time": "2025-09-04T09:56:35.651Z"
   },
   {
    "duration": 103,
    "start_time": "2025-09-04T09:56:53.617Z"
   },
   {
    "duration": 98,
    "start_time": "2025-09-04T09:57:08.426Z"
   },
   {
    "duration": 23,
    "start_time": "2025-09-04T09:57:11.185Z"
   },
   {
    "duration": 30,
    "start_time": "2025-09-04T09:57:11.675Z"
   },
   {
    "duration": 41,
    "start_time": "2025-09-04T09:57:13.529Z"
   },
   {
    "duration": 24,
    "start_time": "2025-09-04T09:57:37.970Z"
   },
   {
    "duration": 66,
    "start_time": "2025-09-04T09:57:45.385Z"
   },
   {
    "duration": 4,
    "start_time": "2025-09-04T09:57:46.459Z"
   },
   {
    "duration": 68,
    "start_time": "2025-09-04T09:58:47.329Z"
   },
   {
    "duration": 68,
    "start_time": "2025-09-04T10:00:09.346Z"
   },
   {
    "duration": 42,
    "start_time": "2025-09-04T10:03:52.547Z"
   },
   {
    "duration": 16,
    "start_time": "2025-09-04T10:04:23.856Z"
   },
   {
    "duration": 15,
    "start_time": "2025-09-04T10:04:43.752Z"
   },
   {
    "duration": 65,
    "start_time": "2025-09-04T10:04:52.071Z"
   },
   {
    "duration": 12,
    "start_time": "2025-09-04T10:04:59.433Z"
   },
   {
    "duration": 865,
    "start_time": "2025-09-04T10:05:12.600Z"
   },
   {
    "duration": 11,
    "start_time": "2025-09-04T10:06:14.693Z"
   },
   {
    "duration": 10,
    "start_time": "2025-09-04T10:06:22.551Z"
   },
   {
    "duration": 3,
    "start_time": "2025-09-04T10:06:22.968Z"
   },
   {
    "duration": 3,
    "start_time": "2025-09-04T10:06:24.848Z"
   },
   {
    "duration": 341,
    "start_time": "2025-09-04T10:06:25.691Z"
   },
   {
    "duration": 10,
    "start_time": "2025-09-04T10:06:26.855Z"
   },
   {
    "duration": 40,
    "start_time": "2025-09-04T10:06:27.959Z"
   },
   {
    "duration": 97,
    "start_time": "2025-09-04T10:06:38.018Z"
   },
   {
    "duration": 23,
    "start_time": "2025-09-04T10:06:42.080Z"
   },
   {
    "duration": 27,
    "start_time": "2025-09-04T10:06:43.937Z"
   },
   {
    "duration": 29,
    "start_time": "2025-09-04T10:06:44.071Z"
   },
   {
    "duration": 17,
    "start_time": "2025-09-04T10:06:48.121Z"
   },
   {
    "duration": 71,
    "start_time": "2025-09-04T10:06:52.321Z"
   },
   {
    "duration": 10,
    "start_time": "2025-09-04T11:11:13.327Z"
   },
   {
    "duration": 3,
    "start_time": "2025-09-04T11:12:32.910Z"
   },
   {
    "duration": 46,
    "start_time": "2025-09-04T11:12:33.413Z"
   },
   {
    "duration": 9,
    "start_time": "2025-09-04T11:12:34.094Z"
   },
   {
    "duration": 12,
    "start_time": "2025-09-04T11:12:34.286Z"
   },
   {
    "duration": 4,
    "start_time": "2025-09-04T11:12:34.869Z"
   },
   {
    "duration": 15,
    "start_time": "2025-09-04T11:12:34.875Z"
   },
   {
    "duration": 5,
    "start_time": "2025-09-04T11:12:34.943Z"
   },
   {
    "duration": 5,
    "start_time": "2025-09-04T11:12:35.286Z"
   },
   {
    "duration": 6,
    "start_time": "2025-09-04T11:12:36.606Z"
   },
   {
    "duration": 7,
    "start_time": "2025-09-04T11:12:36.799Z"
   },
   {
    "duration": 8,
    "start_time": "2025-09-04T11:12:37.045Z"
   },
   {
    "duration": 1451,
    "start_time": "2025-09-04T11:12:39.716Z"
   },
   {
    "duration": 9,
    "start_time": "2025-09-04T11:12:41.169Z"
   },
   {
    "duration": 12,
    "start_time": "2025-09-04T11:12:41.180Z"
   },
   {
    "duration": 10,
    "start_time": "2025-09-04T11:12:41.204Z"
   },
   {
    "duration": 3,
    "start_time": "2025-09-04T11:12:41.573Z"
   },
   {
    "duration": 4,
    "start_time": "2025-09-04T11:12:43.629Z"
   },
   {
    "duration": 316,
    "start_time": "2025-09-04T11:12:43.797Z"
   },
   {
    "duration": 10,
    "start_time": "2025-09-04T11:12:44.188Z"
   },
   {
    "duration": 96,
    "start_time": "2025-09-04T11:12:47.605Z"
   },
   {
    "duration": 22,
    "start_time": "2025-09-04T11:12:48.077Z"
   },
   {
    "duration": 27,
    "start_time": "2025-09-04T11:12:48.374Z"
   },
   {
    "duration": 28,
    "start_time": "2025-09-04T11:12:48.677Z"
   },
   {
    "duration": 15,
    "start_time": "2025-09-04T11:12:53.718Z"
   },
   {
    "duration": 156,
    "start_time": "2025-09-04T11:12:56.798Z"
   },
   {
    "duration": 6,
    "start_time": "2025-09-04T11:13:48.661Z"
   },
   {
    "duration": 6,
    "start_time": "2025-09-04T11:41:28.402Z"
   },
   {
    "duration": 3,
    "start_time": "2025-09-04T11:41:44.235Z"
   },
   {
    "duration": 44,
    "start_time": "2025-09-04T11:41:44.416Z"
   },
   {
    "duration": 8,
    "start_time": "2025-09-04T11:41:44.570Z"
   },
   {
    "duration": 10,
    "start_time": "2025-09-04T11:41:44.739Z"
   },
   {
    "duration": 4,
    "start_time": "2025-09-04T11:41:44.930Z"
   },
   {
    "duration": 9,
    "start_time": "2025-09-04T11:41:45.129Z"
   },
   {
    "duration": 6,
    "start_time": "2025-09-04T11:41:45.289Z"
   },
   {
    "duration": 5,
    "start_time": "2025-09-04T11:41:45.465Z"
   },
   {
    "duration": 5,
    "start_time": "2025-09-04T11:41:45.961Z"
   },
   {
    "duration": 8,
    "start_time": "2025-09-04T11:41:46.128Z"
   },
   {
    "duration": 7,
    "start_time": "2025-09-04T11:41:46.297Z"
   },
   {
    "duration": 1523,
    "start_time": "2025-09-04T11:41:47.649Z"
   },
   {
    "duration": 8,
    "start_time": "2025-09-04T11:41:49.175Z"
   },
   {
    "duration": 16,
    "start_time": "2025-09-04T11:41:49.185Z"
   },
   {
    "duration": 16,
    "start_time": "2025-09-04T11:41:49.203Z"
   },
   {
    "duration": 19,
    "start_time": "2025-09-04T11:41:49.220Z"
   },
   {
    "duration": 5,
    "start_time": "2025-09-04T11:41:49.240Z"
   },
   {
    "duration": 299,
    "start_time": "2025-09-04T11:41:49.247Z"
   },
   {
    "duration": 10,
    "start_time": "2025-09-04T11:41:49.548Z"
   },
   {
    "duration": 99,
    "start_time": "2025-09-04T11:41:49.640Z"
   },
   {
    "duration": 23,
    "start_time": "2025-09-04T11:41:50.169Z"
   },
   {
    "duration": 29,
    "start_time": "2025-09-04T11:41:50.401Z"
   },
   {
    "duration": 29,
    "start_time": "2025-09-04T11:41:50.577Z"
   },
   {
    "duration": 16,
    "start_time": "2025-09-04T11:41:50.916Z"
   },
   {
    "duration": 73,
    "start_time": "2025-09-04T11:41:51.536Z"
   },
   {
    "duration": 7,
    "start_time": "2025-09-04T11:41:53.498Z"
   },
   {
    "duration": 7,
    "start_time": "2025-09-04T11:42:47.008Z"
   },
   {
    "duration": 3,
    "start_time": "2025-09-04T14:26:59.294Z"
   },
   {
    "duration": 41,
    "start_time": "2025-09-04T14:26:59.702Z"
   },
   {
    "duration": 8,
    "start_time": "2025-09-04T14:26:59.862Z"
   },
   {
    "duration": 11,
    "start_time": "2025-09-04T14:27:00.021Z"
   },
   {
    "duration": 4,
    "start_time": "2025-09-04T14:27:00.173Z"
   },
   {
    "duration": 8,
    "start_time": "2025-09-04T14:27:00.382Z"
   },
   {
    "duration": 5,
    "start_time": "2025-09-04T14:27:00.622Z"
   },
   {
    "duration": 5,
    "start_time": "2025-09-04T14:27:00.814Z"
   },
   {
    "duration": 5,
    "start_time": "2025-09-04T14:27:01.368Z"
   },
   {
    "duration": 7,
    "start_time": "2025-09-04T14:27:01.543Z"
   },
   {
    "duration": 7,
    "start_time": "2025-09-04T14:27:01.726Z"
   },
   {
    "duration": 1564,
    "start_time": "2025-09-04T14:27:03.109Z"
   },
   {
    "duration": 9,
    "start_time": "2025-09-04T14:27:04.675Z"
   },
   {
    "duration": 50,
    "start_time": "2025-09-04T14:27:04.685Z"
   },
   {
    "duration": 10,
    "start_time": "2025-09-04T14:27:04.737Z"
   },
   {
    "duration": 14,
    "start_time": "2025-09-04T14:27:04.749Z"
   },
   {
    "duration": 16,
    "start_time": "2025-09-04T14:27:04.764Z"
   },
   {
    "duration": 333,
    "start_time": "2025-09-04T14:27:04.781Z"
   },
   {
    "duration": 10,
    "start_time": "2025-09-04T14:27:05.115Z"
   },
   {
    "duration": 136,
    "start_time": "2025-09-04T14:27:05.140Z"
   },
   {
    "duration": 23,
    "start_time": "2025-09-04T14:27:05.278Z"
   },
   {
    "duration": 41,
    "start_time": "2025-09-04T14:27:05.302Z"
   },
   {
    "duration": 27,
    "start_time": "2025-09-04T14:27:05.456Z"
   },
   {
    "duration": 15,
    "start_time": "2025-09-04T14:27:05.824Z"
   },
   {
    "duration": 67,
    "start_time": "2025-09-04T14:27:06.365Z"
   },
   {
    "duration": 6,
    "start_time": "2025-09-04T14:27:42.399Z"
   },
   {
    "duration": 3,
    "start_time": "2025-09-04T14:28:13.005Z"
   },
   {
    "duration": 36,
    "start_time": "2025-09-04T14:28:13.391Z"
   },
   {
    "duration": 8,
    "start_time": "2025-09-04T14:28:13.790Z"
   },
   {
    "duration": 11,
    "start_time": "2025-09-04T14:28:13.998Z"
   },
   {
    "duration": 4,
    "start_time": "2025-09-04T14:28:14.212Z"
   },
   {
    "duration": 8,
    "start_time": "2025-09-04T14:28:14.397Z"
   },
   {
    "duration": 5,
    "start_time": "2025-09-04T14:28:14.583Z"
   },
   {
    "duration": 5,
    "start_time": "2025-09-04T14:28:14.759Z"
   },
   {
    "duration": 5,
    "start_time": "2025-09-04T14:28:15.261Z"
   },
   {
    "duration": 7,
    "start_time": "2025-09-04T14:28:15.424Z"
   },
   {
    "duration": 7,
    "start_time": "2025-09-04T14:28:15.568Z"
   },
   {
    "duration": 1570,
    "start_time": "2025-09-04T14:28:16.869Z"
   },
   {
    "duration": 9,
    "start_time": "2025-09-04T14:28:18.441Z"
   },
   {
    "duration": 13,
    "start_time": "2025-09-04T14:28:18.451Z"
   },
   {
    "duration": 17,
    "start_time": "2025-09-04T14:28:18.466Z"
   },
   {
    "duration": 3,
    "start_time": "2025-09-04T14:28:18.485Z"
   },
   {
    "duration": 5,
    "start_time": "2025-09-04T14:28:18.489Z"
   },
   {
    "duration": 346,
    "start_time": "2025-09-04T14:28:18.496Z"
   },
   {
    "duration": 12,
    "start_time": "2025-09-04T14:28:18.844Z"
   },
   {
    "duration": 115,
    "start_time": "2025-09-04T14:28:18.858Z"
   },
   {
    "duration": 22,
    "start_time": "2025-09-04T14:28:18.975Z"
   },
   {
    "duration": 26,
    "start_time": "2025-09-04T14:28:19.040Z"
   },
   {
    "duration": 28,
    "start_time": "2025-09-04T14:28:19.208Z"
   },
   {
    "duration": 15,
    "start_time": "2025-09-04T14:28:19.581Z"
   },
   {
    "duration": 69,
    "start_time": "2025-09-04T14:28:20.648Z"
   },
   {
    "duration": 6,
    "start_time": "2025-09-04T14:28:26.808Z"
   },
   {
    "duration": 6,
    "start_time": "2025-09-04T14:37:27.605Z"
   },
   {
    "duration": 5,
    "start_time": "2025-09-04T14:37:44.526Z"
   },
   {
    "duration": 5,
    "start_time": "2025-09-04T14:37:54.676Z"
   },
   {
    "duration": 7,
    "start_time": "2025-09-04T14:37:54.852Z"
   },
   {
    "duration": 8,
    "start_time": "2025-09-04T14:37:55.212Z"
   },
   {
    "duration": 1481,
    "start_time": "2025-09-04T14:37:56.516Z"
   },
   {
    "duration": 9,
    "start_time": "2025-09-04T14:37:57.999Z"
   },
   {
    "duration": 16,
    "start_time": "2025-09-04T14:37:58.009Z"
   },
   {
    "duration": 10,
    "start_time": "2025-09-04T14:37:58.038Z"
   },
   {
    "duration": 4,
    "start_time": "2025-09-04T14:37:58.049Z"
   },
   {
    "duration": 5,
    "start_time": "2025-09-04T14:37:58.054Z"
   },
   {
    "duration": 359,
    "start_time": "2025-09-04T14:37:58.060Z"
   },
   {
    "duration": 24,
    "start_time": "2025-09-04T14:37:58.421Z"
   },
   {
    "duration": 107,
    "start_time": "2025-09-04T14:37:58.447Z"
   },
   {
    "duration": 21,
    "start_time": "2025-09-04T14:37:58.556Z"
   },
   {
    "duration": 27,
    "start_time": "2025-09-04T14:37:58.707Z"
   },
   {
    "duration": 27,
    "start_time": "2025-09-04T14:37:58.868Z"
   },
   {
    "duration": 14,
    "start_time": "2025-09-04T14:37:59.215Z"
   },
   {
    "duration": 68,
    "start_time": "2025-09-04T14:37:59.700Z"
   },
   {
    "duration": 7,
    "start_time": "2025-09-04T14:38:01.165Z"
   },
   {
    "duration": 1039,
    "start_time": "2025-09-04T19:57:27.577Z"
   },
   {
    "duration": 42,
    "start_time": "2025-09-04T19:57:28.618Z"
   },
   {
    "duration": 12,
    "start_time": "2025-09-04T19:57:28.661Z"
   },
   {
    "duration": 20,
    "start_time": "2025-09-04T19:57:28.676Z"
   },
   {
    "duration": 4,
    "start_time": "2025-09-04T19:57:28.698Z"
   },
   {
    "duration": 15,
    "start_time": "2025-09-04T19:57:28.704Z"
   },
   {
    "duration": 5,
    "start_time": "2025-09-04T19:57:28.720Z"
   },
   {
    "duration": 17,
    "start_time": "2025-09-04T19:57:28.726Z"
   },
   {
    "duration": 35,
    "start_time": "2025-09-04T19:57:28.744Z"
   },
   {
    "duration": 36,
    "start_time": "2025-09-04T19:57:28.782Z"
   },
   {
    "duration": 120,
    "start_time": "2025-09-04T19:57:28.820Z"
   },
   {
    "duration": 0,
    "start_time": "2025-09-04T19:57:28.942Z"
   },
   {
    "duration": 0,
    "start_time": "2025-09-04T19:57:28.943Z"
   },
   {
    "duration": 0,
    "start_time": "2025-09-04T19:57:28.944Z"
   },
   {
    "duration": 0,
    "start_time": "2025-09-04T19:57:28.945Z"
   },
   {
    "duration": 0,
    "start_time": "2025-09-04T19:57:28.946Z"
   },
   {
    "duration": 0,
    "start_time": "2025-09-04T19:57:28.947Z"
   },
   {
    "duration": 0,
    "start_time": "2025-09-04T19:57:28.948Z"
   },
   {
    "duration": 0,
    "start_time": "2025-09-04T19:57:28.949Z"
   },
   {
    "duration": 0,
    "start_time": "2025-09-04T19:57:28.950Z"
   },
   {
    "duration": 0,
    "start_time": "2025-09-04T19:57:28.951Z"
   },
   {
    "duration": 0,
    "start_time": "2025-09-04T19:57:28.952Z"
   },
   {
    "duration": 0,
    "start_time": "2025-09-04T19:57:28.953Z"
   },
   {
    "duration": 0,
    "start_time": "2025-09-04T19:57:28.972Z"
   },
   {
    "duration": 0,
    "start_time": "2025-09-04T19:57:28.973Z"
   },
   {
    "duration": 0,
    "start_time": "2025-09-04T19:57:28.975Z"
   },
   {
    "duration": 1530,
    "start_time": "2025-09-04T20:00:16.430Z"
   },
   {
    "duration": 8,
    "start_time": "2025-09-04T20:00:28.519Z"
   },
   {
    "duration": 12,
    "start_time": "2025-09-04T20:00:28.835Z"
   },
   {
    "duration": 9,
    "start_time": "2025-09-04T20:00:29.021Z"
   },
   {
    "duration": 3,
    "start_time": "2025-09-04T20:00:29.193Z"
   },
   {
    "duration": 3,
    "start_time": "2025-09-04T20:00:29.359Z"
   },
   {
    "duration": 294,
    "start_time": "2025-09-04T20:00:29.546Z"
   },
   {
    "duration": 10,
    "start_time": "2025-09-04T20:00:29.842Z"
   },
   {
    "duration": 81,
    "start_time": "2025-09-04T20:00:30.314Z"
   },
   {
    "duration": 19,
    "start_time": "2025-09-04T20:00:30.640Z"
   },
   {
    "duration": 24,
    "start_time": "2025-09-04T20:00:30.828Z"
   },
   {
    "duration": 26,
    "start_time": "2025-09-04T20:00:30.996Z"
   },
   {
    "duration": 13,
    "start_time": "2025-09-04T20:00:31.323Z"
   },
   {
    "duration": 65,
    "start_time": "2025-09-04T20:00:31.819Z"
   },
   {
    "duration": 5,
    "start_time": "2025-09-04T20:00:32.856Z"
   },
   {
    "duration": 19,
    "start_time": "2025-09-04T20:02:02.230Z"
   },
   {
    "duration": 13,
    "start_time": "2025-09-04T20:02:28.701Z"
   },
   {
    "duration": 8,
    "start_time": "2025-09-04T20:02:46.732Z"
   },
   {
    "duration": 13,
    "start_time": "2025-09-04T20:03:12.809Z"
   },
   {
    "duration": 31,
    "start_time": "2025-09-04T20:03:18.907Z"
   },
   {
    "duration": 5,
    "start_time": "2025-09-04T20:04:46.702Z"
   },
   {
    "duration": 5,
    "start_time": "2025-09-04T20:04:50.851Z"
   },
   {
    "duration": 1315,
    "start_time": "2025-09-05T06:56:34.457Z"
   },
   {
    "duration": 106,
    "start_time": "2025-09-05T06:56:35.774Z"
   },
   {
    "duration": 13,
    "start_time": "2025-09-05T06:56:37.985Z"
   },
   {
    "duration": 11,
    "start_time": "2025-09-05T06:56:41.025Z"
   },
   {
    "duration": 3,
    "start_time": "2025-09-05T06:56:43.481Z"
   },
   {
    "duration": 8,
    "start_time": "2025-09-05T06:56:43.825Z"
   },
   {
    "duration": 5,
    "start_time": "2025-09-05T06:56:44.760Z"
   },
   {
    "duration": 5,
    "start_time": "2025-09-05T06:56:47.450Z"
   },
   {
    "duration": 5,
    "start_time": "2025-09-05T06:57:00.930Z"
   },
   {
    "duration": 7,
    "start_time": "2025-09-05T06:57:01.265Z"
   },
   {
    "duration": 1010,
    "start_time": "2025-09-05T06:57:02.984Z"
   },
   {
    "duration": 7,
    "start_time": "2025-09-05T06:58:04.945Z"
   },
   {
    "duration": 8,
    "start_time": "2025-09-05T07:04:08.624Z"
   },
   {
    "duration": 8,
    "start_time": "2025-09-05T07:04:27.400Z"
   },
   {
    "duration": 5,
    "start_time": "2025-09-05T07:04:43.287Z"
   },
   {
    "duration": 384,
    "start_time": "2025-09-05T07:07:24.887Z"
   },
   {
    "duration": 370,
    "start_time": "2025-09-05T07:07:45.431Z"
   },
   {
    "duration": 991,
    "start_time": "2025-09-05T07:08:42.438Z"
   },
   {
    "duration": 1154,
    "start_time": "2025-09-05T07:15:28.542Z"
   },
   {
    "duration": 15,
    "start_time": "2025-09-05T07:18:27.933Z"
   },
   {
    "duration": 8,
    "start_time": "2025-09-05T07:19:00.845Z"
   },
   {
    "duration": 14,
    "start_time": "2025-09-05T07:19:44.774Z"
   },
   {
    "duration": 3,
    "start_time": "2025-09-05T07:20:25.191Z"
   },
   {
    "duration": 76,
    "start_time": "2025-09-05T07:20:25.492Z"
   },
   {
    "duration": 8,
    "start_time": "2025-09-05T07:20:25.933Z"
   },
   {
    "duration": 12,
    "start_time": "2025-09-05T07:20:26.749Z"
   },
   {
    "duration": 4,
    "start_time": "2025-09-05T07:20:29.973Z"
   },
   {
    "duration": 8,
    "start_time": "2025-09-05T07:20:30.390Z"
   },
   {
    "duration": 6,
    "start_time": "2025-09-05T07:20:33.190Z"
   },
   {
    "duration": 5,
    "start_time": "2025-09-05T07:20:33.621Z"
   },
   {
    "duration": 8,
    "start_time": "2025-09-05T07:20:34.455Z"
   },
   {
    "duration": 7,
    "start_time": "2025-09-05T07:20:36.229Z"
   },
   {
    "duration": 5,
    "start_time": "2025-09-05T07:20:36.565Z"
   },
   {
    "duration": 895,
    "start_time": "2025-09-05T07:20:37.121Z"
   },
   {
    "duration": 8,
    "start_time": "2025-09-05T07:20:47.701Z"
   },
   {
    "duration": 14,
    "start_time": "2025-09-05T07:20:49.559Z"
   },
   {
    "duration": 27,
    "start_time": "2025-09-05T07:23:33.885Z"
   },
   {
    "duration": 3,
    "start_time": "2025-09-05T07:24:12.468Z"
   },
   {
    "duration": 68,
    "start_time": "2025-09-05T07:24:12.955Z"
   },
   {
    "duration": 9,
    "start_time": "2025-09-05T07:24:14.724Z"
   },
   {
    "duration": 12,
    "start_time": "2025-09-05T07:24:15.500Z"
   },
   {
    "duration": 4,
    "start_time": "2025-09-05T07:24:17.309Z"
   },
   {
    "duration": 9,
    "start_time": "2025-09-05T07:24:17.574Z"
   },
   {
    "duration": 6,
    "start_time": "2025-09-05T07:24:18.016Z"
   },
   {
    "duration": 5,
    "start_time": "2025-09-05T07:24:18.588Z"
   },
   {
    "duration": 9,
    "start_time": "2025-09-05T07:24:20.388Z"
   },
   {
    "duration": 8,
    "start_time": "2025-09-05T07:24:20.564Z"
   },
   {
    "duration": 6,
    "start_time": "2025-09-05T07:24:22.678Z"
   },
   {
    "duration": 1055,
    "start_time": "2025-09-05T07:24:22.884Z"
   },
   {
    "duration": 8,
    "start_time": "2025-09-05T07:24:31.334Z"
   },
   {
    "duration": 21,
    "start_time": "2025-09-05T07:24:35.029Z"
   },
   {
    "duration": 992,
    "start_time": "2025-09-05T07:26:30.542Z"
   },
   {
    "duration": 10,
    "start_time": "2025-09-05T07:26:40.123Z"
   },
   {
    "duration": 22,
    "start_time": "2025-09-05T07:26:40.803Z"
   },
   {
    "duration": 11,
    "start_time": "2025-09-05T07:27:04.220Z"
   },
   {
    "duration": 4,
    "start_time": "2025-09-05T07:27:20.555Z"
   },
   {
    "duration": 77,
    "start_time": "2025-09-05T07:27:20.915Z"
   },
   {
    "duration": 8,
    "start_time": "2025-09-05T07:27:21.155Z"
   },
   {
    "duration": 12,
    "start_time": "2025-09-05T07:27:21.492Z"
   },
   {
    "duration": 4,
    "start_time": "2025-09-05T07:27:21.875Z"
   },
   {
    "duration": 8,
    "start_time": "2025-09-05T07:27:22.147Z"
   },
   {
    "duration": 5,
    "start_time": "2025-09-05T07:27:22.429Z"
   },
   {
    "duration": 5,
    "start_time": "2025-09-05T07:27:22.875Z"
   },
   {
    "duration": 8,
    "start_time": "2025-09-05T07:27:23.490Z"
   },
   {
    "duration": 9,
    "start_time": "2025-09-05T07:27:29.579Z"
   },
   {
    "duration": 5,
    "start_time": "2025-09-05T07:27:30.036Z"
   },
   {
    "duration": 1065,
    "start_time": "2025-09-05T07:27:33.163Z"
   },
   {
    "duration": 7,
    "start_time": "2025-09-05T07:27:38.931Z"
   },
   {
    "duration": 21,
    "start_time": "2025-09-05T07:27:45.741Z"
   },
   {
    "duration": 10,
    "start_time": "2025-09-05T07:32:16.146Z"
   },
   {
    "duration": 10,
    "start_time": "2025-09-05T07:33:06.682Z"
   },
   {
    "duration": 10,
    "start_time": "2025-09-05T07:33:17.434Z"
   },
   {
    "duration": 10,
    "start_time": "2025-09-05T07:34:33.147Z"
   },
   {
    "duration": 4,
    "start_time": "2025-09-05T07:34:39.793Z"
   },
   {
    "duration": 71,
    "start_time": "2025-09-05T07:34:39.993Z"
   },
   {
    "duration": 9,
    "start_time": "2025-09-05T07:34:40.506Z"
   },
   {
    "duration": 11,
    "start_time": "2025-09-05T07:34:40.785Z"
   },
   {
    "duration": 4,
    "start_time": "2025-09-05T07:34:40.929Z"
   },
   {
    "duration": 8,
    "start_time": "2025-09-05T07:34:41.082Z"
   },
   {
    "duration": 5,
    "start_time": "2025-09-05T07:34:41.237Z"
   },
   {
    "duration": 5,
    "start_time": "2025-09-05T07:34:41.410Z"
   },
   {
    "duration": 11,
    "start_time": "2025-09-05T07:34:41.977Z"
   },
   {
    "duration": 8,
    "start_time": "2025-09-05T07:34:42.305Z"
   },
   {
    "duration": 5,
    "start_time": "2025-09-05T07:34:42.714Z"
   },
   {
    "duration": 949,
    "start_time": "2025-09-05T07:34:43.202Z"
   },
   {
    "duration": 9,
    "start_time": "2025-09-05T07:34:50.340Z"
   },
   {
    "duration": 22,
    "start_time": "2025-09-05T07:35:08.930Z"
   },
   {
    "duration": 10,
    "start_time": "2025-09-05T08:58:38.530Z"
   },
   {
    "duration": 4,
    "start_time": "2025-09-05T08:58:46.939Z"
   },
   {
    "duration": 86,
    "start_time": "2025-09-05T08:58:47.276Z"
   },
   {
    "duration": 8,
    "start_time": "2025-09-05T08:58:47.491Z"
   },
   {
    "duration": 11,
    "start_time": "2025-09-05T08:58:47.812Z"
   },
   {
    "duration": 4,
    "start_time": "2025-09-05T08:58:47.970Z"
   },
   {
    "duration": 8,
    "start_time": "2025-09-05T08:58:48.132Z"
   },
   {
    "duration": 6,
    "start_time": "2025-09-05T08:58:48.306Z"
   },
   {
    "duration": 6,
    "start_time": "2025-09-05T08:58:48.473Z"
   },
   {
    "duration": 9,
    "start_time": "2025-09-05T08:58:48.971Z"
   },
   {
    "duration": 9,
    "start_time": "2025-09-05T08:58:49.185Z"
   },
   {
    "duration": 6,
    "start_time": "2025-09-05T08:58:49.450Z"
   },
   {
    "duration": 962,
    "start_time": "2025-09-05T08:58:49.739Z"
   },
   {
    "duration": 9,
    "start_time": "2025-09-05T08:58:52.386Z"
   },
   {
    "duration": 123,
    "start_time": "2025-09-05T08:58:52.575Z"
   },
   {
    "duration": 1593,
    "start_time": "2025-09-05T08:59:02.426Z"
   },
   {
    "duration": 13,
    "start_time": "2025-09-05T08:59:04.022Z"
   },
   {
    "duration": 26,
    "start_time": "2025-09-05T08:59:04.037Z"
   },
   {
    "duration": 24,
    "start_time": "2025-09-05T08:59:04.066Z"
   },
   {
    "duration": 3,
    "start_time": "2025-09-05T08:59:04.093Z"
   },
   {
    "duration": 3,
    "start_time": "2025-09-05T08:59:04.170Z"
   },
   {
    "duration": 304,
    "start_time": "2025-09-05T08:59:04.683Z"
   },
   {
    "duration": 10,
    "start_time": "2025-09-05T08:59:05.441Z"
   },
   {
    "duration": 104,
    "start_time": "2025-09-05T08:59:06.570Z"
   },
   {
    "duration": 22,
    "start_time": "2025-09-05T08:59:10.349Z"
   },
   {
    "duration": 29,
    "start_time": "2025-09-05T08:59:11.143Z"
   },
   {
    "duration": 26,
    "start_time": "2025-09-05T08:59:11.891Z"
   },
   {
    "duration": 22,
    "start_time": "2025-09-05T08:59:35.869Z"
   },
   {
    "duration": 14,
    "start_time": "2025-09-05T08:59:40.523Z"
   },
   {
    "duration": 17,
    "start_time": "2025-09-05T09:00:46.090Z"
   },
   {
    "duration": 1352,
    "start_time": "2025-09-05T09:04:17.801Z"
   },
   {
    "duration": 71,
    "start_time": "2025-09-05T09:04:45.576Z"
   },
   {
    "duration": 66,
    "start_time": "2025-09-05T09:05:27.819Z"
   },
   {
    "duration": 59,
    "start_time": "2025-09-05T09:06:14.768Z"
   },
   {
    "duration": 65,
    "start_time": "2025-09-05T09:11:48.032Z"
   },
   {
    "duration": 60,
    "start_time": "2025-09-05T09:15:19.318Z"
   },
   {
    "duration": 81,
    "start_time": "2025-09-05T09:21:05.758Z"
   },
   {
    "duration": 12,
    "start_time": "2025-09-05T09:24:05.342Z"
   },
   {
    "duration": 11,
    "start_time": "2025-09-05T09:26:47.565Z"
   },
   {
    "duration": 11,
    "start_time": "2025-09-05T09:34:17.964Z"
   },
   {
    "duration": 17,
    "start_time": "2025-09-05T09:35:43.374Z"
   },
   {
    "duration": 943,
    "start_time": "2025-09-05T09:36:51.320Z"
   },
   {
    "duration": 541,
    "start_time": "2025-09-05T09:37:30.101Z"
   },
   {
    "duration": 3,
    "start_time": "2025-09-05T09:38:16.408Z"
   },
   {
    "duration": 69,
    "start_time": "2025-09-05T09:38:16.789Z"
   },
   {
    "duration": 11,
    "start_time": "2025-09-05T09:38:16.972Z"
   },
   {
    "duration": 13,
    "start_time": "2025-09-05T09:38:17.340Z"
   },
   {
    "duration": 4,
    "start_time": "2025-09-05T09:38:17.518Z"
   },
   {
    "duration": 8,
    "start_time": "2025-09-05T09:38:17.709Z"
   },
   {
    "duration": 5,
    "start_time": "2025-09-05T09:38:17.902Z"
   },
   {
    "duration": 6,
    "start_time": "2025-09-05T09:38:18.067Z"
   },
   {
    "duration": 8,
    "start_time": "2025-09-05T09:38:18.444Z"
   },
   {
    "duration": 8,
    "start_time": "2025-09-05T09:38:18.668Z"
   },
   {
    "duration": 6,
    "start_time": "2025-09-05T09:38:18.878Z"
   },
   {
    "duration": 941,
    "start_time": "2025-09-05T09:38:19.052Z"
   },
   {
    "duration": 9,
    "start_time": "2025-09-05T09:38:20.598Z"
   },
   {
    "duration": 22,
    "start_time": "2025-09-05T09:38:20.820Z"
   },
   {
    "duration": 1493,
    "start_time": "2025-09-05T09:38:24.259Z"
   },
   {
    "duration": 10,
    "start_time": "2025-09-05T09:38:25.754Z"
   },
   {
    "duration": 29,
    "start_time": "2025-09-05T09:38:25.765Z"
   },
   {
    "duration": 10,
    "start_time": "2025-09-05T09:38:25.796Z"
   },
   {
    "duration": 4,
    "start_time": "2025-09-05T09:38:28.277Z"
   },
   {
    "duration": 4,
    "start_time": "2025-09-05T09:38:28.732Z"
   },
   {
    "duration": 324,
    "start_time": "2025-09-05T09:38:29.381Z"
   },
   {
    "duration": 10,
    "start_time": "2025-09-05T09:38:43.268Z"
   },
   {
    "duration": 91,
    "start_time": "2025-09-05T09:38:44.773Z"
   },
   {
    "duration": 25,
    "start_time": "2025-09-05T09:38:45.860Z"
   },
   {
    "duration": 26,
    "start_time": "2025-09-05T09:38:46.260Z"
   },
   {
    "duration": 26,
    "start_time": "2025-09-05T09:38:48.764Z"
   },
   {
    "duration": 15,
    "start_time": "2025-09-05T09:38:53.562Z"
   },
   {
    "duration": 11,
    "start_time": "2025-09-05T09:38:57.717Z"
   },
   {
    "duration": 17,
    "start_time": "2025-09-05T09:38:58.437Z"
   },
   {
    "duration": 753,
    "start_time": "2025-09-05T09:39:03.260Z"
   },
   {
    "duration": 351,
    "start_time": "2025-09-05T09:44:38.509Z"
   },
   {
    "duration": 366,
    "start_time": "2025-09-05T09:45:16.340Z"
   },
   {
    "duration": 550,
    "start_time": "2025-09-05T09:45:17.875Z"
   },
   {
    "duration": 97,
    "start_time": "2025-09-05T09:46:02.198Z"
   },
   {
    "duration": 64,
    "start_time": "2025-09-05T10:32:20.050Z"
   },
   {
    "duration": 63,
    "start_time": "2025-09-05T10:32:21.329Z"
   },
   {
    "duration": 1292,
    "start_time": "2025-09-05T10:34:16.748Z"
   },
   {
    "duration": 92,
    "start_time": "2025-09-05T10:34:39.193Z"
   },
   {
    "duration": 1195,
    "start_time": "2025-09-05T10:36:34.682Z"
   },
   {
    "duration": 39,
    "start_time": "2025-09-05T10:37:02.657Z"
   },
   {
    "duration": 30,
    "start_time": "2025-09-05T10:37:13.448Z"
   },
   {
    "duration": 349,
    "start_time": "2025-09-05T10:37:14.498Z"
   },
   {
    "duration": 349,
    "start_time": "2025-09-05T10:38:00.082Z"
   },
   {
    "duration": 345,
    "start_time": "2025-09-05T10:38:30.762Z"
   },
   {
    "duration": 328,
    "start_time": "2025-09-05T10:38:58.898Z"
   },
   {
    "duration": 4,
    "start_time": "2025-09-05T10:39:19.720Z"
   },
   {
    "duration": 111,
    "start_time": "2025-09-05T10:39:19.937Z"
   },
   {
    "duration": 11,
    "start_time": "2025-09-05T10:39:20.537Z"
   },
   {
    "duration": 12,
    "start_time": "2025-09-05T10:39:20.857Z"
   },
   {
    "duration": 4,
    "start_time": "2025-09-05T10:39:21.025Z"
   },
   {
    "duration": 8,
    "start_time": "2025-09-05T10:39:21.203Z"
   },
   {
    "duration": 6,
    "start_time": "2025-09-05T10:39:21.377Z"
   },
   {
    "duration": 5,
    "start_time": "2025-09-05T10:39:21.580Z"
   },
   {
    "duration": 10,
    "start_time": "2025-09-05T10:39:22.081Z"
   },
   {
    "duration": 10,
    "start_time": "2025-09-05T10:39:22.528Z"
   },
   {
    "duration": 5,
    "start_time": "2025-09-05T10:39:22.737Z"
   },
   {
    "duration": 1085,
    "start_time": "2025-09-05T10:39:22.929Z"
   },
   {
    "duration": 8,
    "start_time": "2025-09-05T10:39:24.121Z"
   },
   {
    "duration": 21,
    "start_time": "2025-09-05T10:39:24.290Z"
   },
   {
    "duration": 1474,
    "start_time": "2025-09-05T10:39:26.008Z"
   },
   {
    "duration": 9,
    "start_time": "2025-09-05T10:39:27.488Z"
   },
   {
    "duration": 17,
    "start_time": "2025-09-05T10:39:27.498Z"
   },
   {
    "duration": 12,
    "start_time": "2025-09-05T10:39:27.714Z"
   },
   {
    "duration": 3,
    "start_time": "2025-09-05T10:39:28.337Z"
   },
   {
    "duration": 3,
    "start_time": "2025-09-05T10:39:28.674Z"
   },
   {
    "duration": 313,
    "start_time": "2025-09-05T10:39:29.474Z"
   },
   {
    "duration": 11,
    "start_time": "2025-09-05T10:39:37.866Z"
   },
   {
    "duration": 92,
    "start_time": "2025-09-05T10:39:39.784Z"
   },
   {
    "duration": 23,
    "start_time": "2025-09-05T10:39:43.200Z"
   },
   {
    "duration": 30,
    "start_time": "2025-09-05T10:39:43.720Z"
   },
   {
    "duration": 25,
    "start_time": "2025-09-05T10:39:44.684Z"
   },
   {
    "duration": 25,
    "start_time": "2025-09-05T10:39:51.029Z"
   },
   {
    "duration": 12,
    "start_time": "2025-09-05T10:39:52.784Z"
   },
   {
    "duration": 19,
    "start_time": "2025-09-05T10:39:58.233Z"
   },
   {
    "duration": 331,
    "start_time": "2025-09-05T10:40:00.785Z"
   },
   {
    "duration": 758,
    "start_time": "2025-09-05T10:40:04.448Z"
   },
   {
    "duration": 72,
    "start_time": "2025-09-05T10:40:07.584Z"
   },
   {
    "duration": 32,
    "start_time": "2025-09-05T10:40:10.805Z"
   },
   {
    "duration": 15,
    "start_time": "2025-09-05T10:40:12.593Z"
   },
   {
    "duration": 22,
    "start_time": "2025-09-05T10:40:32.050Z"
   },
   {
    "duration": 57,
    "start_time": "2025-09-05T10:45:00.949Z"
   },
   {
    "duration": 103,
    "start_time": "2025-09-05T10:47:04.017Z"
   },
   {
    "duration": 34,
    "start_time": "2025-09-05T10:47:41.096Z"
   },
   {
    "duration": 350,
    "start_time": "2025-09-05T10:47:48.608Z"
   },
   {
    "duration": 4,
    "start_time": "2025-09-05T10:48:00.864Z"
   },
   {
    "duration": 62,
    "start_time": "2025-09-05T10:48:01.060Z"
   },
   {
    "duration": 9,
    "start_time": "2025-09-05T10:48:01.200Z"
   },
   {
    "duration": 17,
    "start_time": "2025-09-05T10:48:01.816Z"
   },
   {
    "duration": 5,
    "start_time": "2025-09-05T10:48:02.104Z"
   },
   {
    "duration": 10,
    "start_time": "2025-09-05T10:48:02.304Z"
   },
   {
    "duration": 7,
    "start_time": "2025-09-05T10:48:02.488Z"
   },
   {
    "duration": 7,
    "start_time": "2025-09-05T10:48:02.688Z"
   },
   {
    "duration": 9,
    "start_time": "2025-09-05T10:48:03.040Z"
   },
   {
    "duration": 10,
    "start_time": "2025-09-05T10:48:03.216Z"
   },
   {
    "duration": 7,
    "start_time": "2025-09-05T10:48:03.394Z"
   },
   {
    "duration": 1057,
    "start_time": "2025-09-05T10:48:03.571Z"
   },
   {
    "duration": 8,
    "start_time": "2025-09-05T10:48:05.008Z"
   },
   {
    "duration": 122,
    "start_time": "2025-09-05T10:48:05.207Z"
   },
   {
    "duration": 1650,
    "start_time": "2025-09-05T10:48:08.487Z"
   },
   {
    "duration": 9,
    "start_time": "2025-09-05T10:48:10.139Z"
   },
   {
    "duration": 16,
    "start_time": "2025-09-05T10:48:10.150Z"
   },
   {
    "duration": 33,
    "start_time": "2025-09-05T10:48:10.168Z"
   },
   {
    "duration": 3,
    "start_time": "2025-09-05T10:48:10.793Z"
   },
   {
    "duration": 4,
    "start_time": "2025-09-05T10:48:11.215Z"
   },
   {
    "duration": 325,
    "start_time": "2025-09-05T10:48:11.744Z"
   },
   {
    "duration": 10,
    "start_time": "2025-09-05T10:48:12.520Z"
   },
   {
    "duration": 98,
    "start_time": "2025-09-05T10:48:13.376Z"
   },
   {
    "duration": 24,
    "start_time": "2025-09-05T10:48:14.623Z"
   },
   {
    "duration": 30,
    "start_time": "2025-09-05T10:48:15.073Z"
   },
   {
    "duration": 28,
    "start_time": "2025-09-05T10:48:16.016Z"
   },
   {
    "duration": 17,
    "start_time": "2025-09-05T10:48:17.993Z"
   },
   {
    "duration": 12,
    "start_time": "2025-09-05T10:48:22.079Z"
   },
   {
    "duration": 19,
    "start_time": "2025-09-05T10:48:24.914Z"
   },
   {
    "duration": 327,
    "start_time": "2025-09-05T10:48:26.456Z"
   },
   {
    "duration": 815,
    "start_time": "2025-09-05T10:48:29.916Z"
   },
   {
    "duration": 79,
    "start_time": "2025-09-05T10:48:32.416Z"
   },
   {
    "duration": 33,
    "start_time": "2025-09-05T10:48:35.296Z"
   },
   {
    "duration": 15,
    "start_time": "2025-09-05T10:48:38.419Z"
   },
   {
    "duration": 21,
    "start_time": "2025-09-05T10:48:41.872Z"
   },
   {
    "duration": 62,
    "start_time": "2025-09-05T10:48:45.488Z"
   },
   {
    "duration": 60,
    "start_time": "2025-09-05T10:53:55.217Z"
   },
   {
    "duration": 61,
    "start_time": "2025-09-05T10:54:14.785Z"
   },
   {
    "duration": 73,
    "start_time": "2025-09-05T10:56:13.847Z"
   },
   {
    "duration": 12,
    "start_time": "2025-09-05T11:08:51.838Z"
   },
   {
    "duration": 9,
    "start_time": "2025-09-05T11:08:58.015Z"
   },
   {
    "duration": 7,
    "start_time": "2025-09-05T11:09:40.677Z"
   },
   {
    "duration": 82,
    "start_time": "2025-09-05T11:10:20.095Z"
   },
   {
    "duration": 8,
    "start_time": "2025-09-05T11:11:01.705Z"
   },
   {
    "duration": 7,
    "start_time": "2025-09-05T11:13:07.197Z"
   },
   {
    "duration": 7,
    "start_time": "2025-09-05T11:14:48.478Z"
   },
   {
    "duration": 4,
    "start_time": "2025-09-05T11:15:02.341Z"
   },
   {
    "duration": 73,
    "start_time": "2025-09-05T11:15:02.582Z"
   },
   {
    "duration": 9,
    "start_time": "2025-09-05T11:15:02.982Z"
   },
   {
    "duration": 11,
    "start_time": "2025-09-05T11:15:03.309Z"
   },
   {
    "duration": 4,
    "start_time": "2025-09-05T11:15:03.458Z"
   },
   {
    "duration": 8,
    "start_time": "2025-09-05T11:15:03.599Z"
   },
   {
    "duration": 5,
    "start_time": "2025-09-05T11:15:03.773Z"
   },
   {
    "duration": 5,
    "start_time": "2025-09-05T11:15:03.949Z"
   },
   {
    "duration": 8,
    "start_time": "2025-09-05T11:15:04.271Z"
   },
   {
    "duration": 8,
    "start_time": "2025-09-05T11:15:04.420Z"
   },
   {
    "duration": 5,
    "start_time": "2025-09-05T11:15:04.599Z"
   },
   {
    "duration": 950,
    "start_time": "2025-09-05T11:15:04.765Z"
   },
   {
    "duration": 8,
    "start_time": "2025-09-05T11:15:06.389Z"
   },
   {
    "duration": 22,
    "start_time": "2025-09-05T11:15:06.566Z"
   },
   {
    "duration": 1632,
    "start_time": "2025-09-05T11:15:08.263Z"
   },
   {
    "duration": 9,
    "start_time": "2025-09-05T11:15:09.897Z"
   },
   {
    "duration": 32,
    "start_time": "2025-09-05T11:15:09.907Z"
   },
   {
    "duration": 13,
    "start_time": "2025-09-05T11:15:09.940Z"
   },
   {
    "duration": 15,
    "start_time": "2025-09-05T11:15:09.955Z"
   },
   {
    "duration": 10,
    "start_time": "2025-09-05T11:15:09.971Z"
   },
   {
    "duration": 341,
    "start_time": "2025-09-05T11:15:10.046Z"
   },
   {
    "duration": 11,
    "start_time": "2025-09-05T11:15:10.389Z"
   },
   {
    "duration": 99,
    "start_time": "2025-09-05T11:15:10.693Z"
   },
   {
    "duration": 23,
    "start_time": "2025-09-05T11:15:11.039Z"
   },
   {
    "duration": 27,
    "start_time": "2025-09-05T11:15:11.200Z"
   },
   {
    "duration": 25,
    "start_time": "2025-09-05T11:15:11.382Z"
   },
   {
    "duration": 15,
    "start_time": "2025-09-05T11:15:12.710Z"
   },
   {
    "duration": 17,
    "start_time": "2025-09-05T11:15:14.822Z"
   },
   {
    "duration": 20,
    "start_time": "2025-09-05T11:15:15.701Z"
   },
   {
    "duration": 327,
    "start_time": "2025-09-05T11:15:16.253Z"
   },
   {
    "duration": 789,
    "start_time": "2025-09-05T11:15:17.045Z"
   },
   {
    "duration": 73,
    "start_time": "2025-09-05T11:15:17.989Z"
   },
   {
    "duration": 32,
    "start_time": "2025-09-05T11:15:19.805Z"
   },
   {
    "duration": 16,
    "start_time": "2025-09-05T11:15:19.965Z"
   },
   {
    "duration": 20,
    "start_time": "2025-09-05T11:15:20.141Z"
   },
   {
    "duration": 62,
    "start_time": "2025-09-05T11:15:20.301Z"
   },
   {
    "duration": 7,
    "start_time": "2025-09-05T11:15:23.486Z"
   },
   {
    "duration": 7,
    "start_time": "2025-09-05T11:15:49.878Z"
   },
   {
    "duration": 81,
    "start_time": "2025-09-05T11:16:35.262Z"
   },
   {
    "duration": 7,
    "start_time": "2025-09-05T11:25:04.789Z"
   },
   {
    "duration": 7,
    "start_time": "2025-09-05T11:25:17.438Z"
   },
   {
    "duration": 7,
    "start_time": "2025-09-05T11:35:32.627Z"
   },
   {
    "duration": 1103,
    "start_time": "2025-09-05T20:36:33.595Z"
   },
   {
    "duration": 102,
    "start_time": "2025-09-05T20:36:34.700Z"
   },
   {
    "duration": 12,
    "start_time": "2025-09-05T20:36:34.804Z"
   },
   {
    "duration": 12,
    "start_time": "2025-09-05T20:36:34.818Z"
   },
   {
    "duration": 4,
    "start_time": "2025-09-05T20:36:34.832Z"
   },
   {
    "duration": 13,
    "start_time": "2025-09-05T20:36:34.837Z"
   },
   {
    "duration": 7,
    "start_time": "2025-09-05T20:36:34.851Z"
   },
   {
    "duration": 12,
    "start_time": "2025-09-05T20:36:34.859Z"
   },
   {
    "duration": 100,
    "start_time": "2025-09-05T20:36:34.873Z"
   },
   {
    "duration": 0,
    "start_time": "2025-09-05T20:36:34.976Z"
   },
   {
    "duration": 0,
    "start_time": "2025-09-05T20:36:34.977Z"
   },
   {
    "duration": 0,
    "start_time": "2025-09-05T20:36:34.978Z"
   },
   {
    "duration": 0,
    "start_time": "2025-09-05T20:36:34.979Z"
   },
   {
    "duration": 0,
    "start_time": "2025-09-05T20:36:34.980Z"
   },
   {
    "duration": 0,
    "start_time": "2025-09-05T20:36:34.981Z"
   },
   {
    "duration": 0,
    "start_time": "2025-09-05T20:36:34.982Z"
   },
   {
    "duration": 0,
    "start_time": "2025-09-05T20:36:34.983Z"
   },
   {
    "duration": 0,
    "start_time": "2025-09-05T20:36:34.984Z"
   },
   {
    "duration": 0,
    "start_time": "2025-09-05T20:36:34.985Z"
   },
   {
    "duration": 0,
    "start_time": "2025-09-05T20:36:34.986Z"
   },
   {
    "duration": 0,
    "start_time": "2025-09-05T20:36:34.987Z"
   },
   {
    "duration": 0,
    "start_time": "2025-09-05T20:36:34.988Z"
   },
   {
    "duration": 0,
    "start_time": "2025-09-05T20:36:34.990Z"
   },
   {
    "duration": 0,
    "start_time": "2025-09-05T20:36:34.991Z"
   },
   {
    "duration": 0,
    "start_time": "2025-09-05T20:36:34.992Z"
   },
   {
    "duration": 0,
    "start_time": "2025-09-05T20:36:34.993Z"
   },
   {
    "duration": 0,
    "start_time": "2025-09-05T20:36:34.994Z"
   },
   {
    "duration": 0,
    "start_time": "2025-09-05T20:36:34.994Z"
   },
   {
    "duration": 0,
    "start_time": "2025-09-05T20:36:34.995Z"
   },
   {
    "duration": 0,
    "start_time": "2025-09-05T20:36:34.997Z"
   },
   {
    "duration": 0,
    "start_time": "2025-09-05T20:36:34.998Z"
   },
   {
    "duration": 0,
    "start_time": "2025-09-05T20:36:34.999Z"
   },
   {
    "duration": 0,
    "start_time": "2025-09-05T20:36:35.000Z"
   },
   {
    "duration": 0,
    "start_time": "2025-09-05T20:36:35.001Z"
   },
   {
    "duration": 0,
    "start_time": "2025-09-05T20:36:35.003Z"
   },
   {
    "duration": 0,
    "start_time": "2025-09-05T20:36:35.004Z"
   },
   {
    "duration": 0,
    "start_time": "2025-09-05T20:36:35.005Z"
   },
   {
    "duration": 9,
    "start_time": "2025-09-05T20:36:56.985Z"
   },
   {
    "duration": 9,
    "start_time": "2025-09-05T20:36:57.583Z"
   },
   {
    "duration": 119,
    "start_time": "2025-09-05T20:36:59.929Z"
   },
   {
    "duration": 14,
    "start_time": "2025-09-05T20:37:45.563Z"
   },
   {
    "duration": 8,
    "start_time": "2025-09-05T20:37:49.212Z"
   },
   {
    "duration": 21,
    "start_time": "2025-09-05T20:37:49.633Z"
   },
   {
    "duration": 1502,
    "start_time": "2025-09-05T20:38:29.548Z"
   },
   {
    "duration": 9,
    "start_time": "2025-09-05T20:38:31.052Z"
   },
   {
    "duration": 20,
    "start_time": "2025-09-05T20:38:31.062Z"
   },
   {
    "duration": 9,
    "start_time": "2025-09-05T20:38:31.084Z"
   },
   {
    "duration": 3,
    "start_time": "2025-09-05T20:38:31.094Z"
   },
   {
    "duration": 3,
    "start_time": "2025-09-05T20:38:31.181Z"
   },
   {
    "duration": 344,
    "start_time": "2025-09-05T20:38:31.350Z"
   },
   {
    "duration": 13,
    "start_time": "2025-09-05T20:38:31.696Z"
   },
   {
    "duration": 94,
    "start_time": "2025-09-05T20:38:31.813Z"
   },
   {
    "duration": 25,
    "start_time": "2025-09-05T20:38:32.180Z"
   },
   {
    "duration": 28,
    "start_time": "2025-09-05T20:38:32.347Z"
   },
   {
    "duration": 29,
    "start_time": "2025-09-05T20:38:32.514Z"
   },
   {
    "duration": 15,
    "start_time": "2025-09-05T20:38:52.440Z"
   },
   {
    "duration": 10,
    "start_time": "2025-09-05T20:38:53.286Z"
   },
   {
    "duration": 24,
    "start_time": "2025-09-05T20:39:01.437Z"
   },
   {
    "duration": 11,
    "start_time": "2025-09-05T20:39:18.379Z"
   },
   {
    "duration": 18,
    "start_time": "2025-09-05T20:39:18.746Z"
   },
   {
    "duration": 286,
    "start_time": "2025-09-05T20:39:18.980Z"
   },
   {
    "duration": 848,
    "start_time": "2025-09-05T20:39:19.448Z"
   },
   {
    "duration": 74,
    "start_time": "2025-09-05T20:39:20.298Z"
   },
   {
    "duration": 30,
    "start_time": "2025-09-05T20:39:21.049Z"
   },
   {
    "duration": 14,
    "start_time": "2025-09-05T20:39:23.729Z"
   },
   {
    "duration": 18,
    "start_time": "2025-09-05T20:39:23.912Z"
   },
   {
    "duration": 51,
    "start_time": "2025-09-05T20:39:24.079Z"
   },
   {
    "duration": 9,
    "start_time": "2025-09-05T20:39:39.500Z"
   },
   {
    "duration": 5,
    "start_time": "2025-09-05T20:39:52.391Z"
   },
   {
    "duration": 15,
    "start_time": "2025-09-05T20:39:59.290Z"
   },
   {
    "duration": 11,
    "start_time": "2025-09-05T20:40:18.345Z"
   },
   {
    "duration": 6,
    "start_time": "2025-09-05T20:40:29.484Z"
   },
   {
    "duration": 1190,
    "start_time": "2025-09-06T07:16:40.702Z"
   },
   {
    "duration": 97,
    "start_time": "2025-09-06T07:16:41.894Z"
   },
   {
    "duration": 11,
    "start_time": "2025-09-06T07:16:42.573Z"
   },
   {
    "duration": 10,
    "start_time": "2025-09-06T07:16:44.838Z"
   },
   {
    "duration": 4,
    "start_time": "2025-09-06T07:16:45.677Z"
   },
   {
    "duration": 7,
    "start_time": "2025-09-06T07:16:49.186Z"
   },
   {
    "duration": 5,
    "start_time": "2025-09-06T07:16:49.917Z"
   },
   {
    "duration": 5,
    "start_time": "2025-09-06T07:16:50.285Z"
   },
   {
    "duration": 86,
    "start_time": "2025-09-06T07:16:51.126Z"
   },
   {
    "duration": 8,
    "start_time": "2025-09-06T07:19:46.877Z"
   },
   {
    "duration": 12,
    "start_time": "2025-09-06T07:20:03.974Z"
   },
   {
    "duration": 7,
    "start_time": "2025-09-06T07:20:05.449Z"
   },
   {
    "duration": 7,
    "start_time": "2025-09-06T07:20:09.053Z"
   },
   {
    "duration": 5,
    "start_time": "2025-09-06T07:20:09.645Z"
   },
   {
    "duration": 1022,
    "start_time": "2025-09-06T07:20:12.133Z"
   },
   {
    "duration": 43,
    "start_time": "2025-09-06T07:20:45.741Z"
   },
   {
    "duration": 7,
    "start_time": "2025-09-06T07:20:52.349Z"
   },
   {
    "duration": 19,
    "start_time": "2025-09-06T07:20:52.597Z"
   },
   {
    "duration": 1557,
    "start_time": "2025-09-06T07:20:55.561Z"
   },
   {
    "duration": 7,
    "start_time": "2025-09-06T07:20:57.120Z"
   },
   {
    "duration": 17,
    "start_time": "2025-09-06T07:20:57.128Z"
   },
   {
    "duration": 24,
    "start_time": "2025-09-06T07:20:57.146Z"
   },
   {
    "duration": 3,
    "start_time": "2025-09-06T07:20:57.173Z"
   },
   {
    "duration": 5,
    "start_time": "2025-09-06T07:20:57.179Z"
   },
   {
    "duration": 294,
    "start_time": "2025-09-06T07:20:57.297Z"
   },
   {
    "duration": 9,
    "start_time": "2025-09-06T07:20:57.594Z"
   },
   {
    "duration": 86,
    "start_time": "2025-09-06T07:20:58.365Z"
   },
   {
    "duration": 20,
    "start_time": "2025-09-06T07:20:58.942Z"
   },
   {
    "duration": 32,
    "start_time": "2025-09-06T07:20:59.278Z"
   },
   {
    "duration": 30,
    "start_time": "2025-09-06T07:20:59.653Z"
   },
   {
    "duration": 12,
    "start_time": "2025-09-06T07:21:00.706Z"
   },
   {
    "duration": 10,
    "start_time": "2025-09-06T07:21:01.593Z"
   },
   {
    "duration": 15,
    "start_time": "2025-09-06T07:21:01.933Z"
   },
   {
    "duration": 317,
    "start_time": "2025-09-06T07:21:02.097Z"
   },
   {
    "duration": 910,
    "start_time": "2025-09-06T07:21:02.489Z"
   },
   {
    "duration": 78,
    "start_time": "2025-09-06T07:21:03.401Z"
   },
   {
    "duration": 36,
    "start_time": "2025-09-06T07:21:04.053Z"
   },
   {
    "duration": 19,
    "start_time": "2025-09-06T07:21:07.365Z"
   },
   {
    "duration": 16,
    "start_time": "2025-09-06T07:21:07.613Z"
   },
   {
    "duration": 51,
    "start_time": "2025-09-06T07:21:07.797Z"
   },
   {
    "duration": 6,
    "start_time": "2025-09-06T07:21:17.245Z"
   },
   {
    "duration": 1433,
    "start_time": "2025-09-06T09:26:10.642Z"
   },
   {
    "duration": 50,
    "start_time": "2025-09-06T09:26:12.077Z"
   },
   {
    "duration": 15,
    "start_time": "2025-09-06T09:26:12.129Z"
   },
   {
    "duration": 22,
    "start_time": "2025-09-06T09:26:12.146Z"
   },
   {
    "duration": 5,
    "start_time": "2025-09-06T09:26:12.170Z"
   },
   {
    "duration": 13,
    "start_time": "2025-09-06T09:26:12.177Z"
   },
   {
    "duration": 13,
    "start_time": "2025-09-06T09:26:12.192Z"
   },
   {
    "duration": 16,
    "start_time": "2025-09-06T09:26:12.207Z"
   },
   {
    "duration": 10,
    "start_time": "2025-09-06T09:26:12.224Z"
   },
   {
    "duration": 30,
    "start_time": "2025-09-06T09:26:12.237Z"
   },
   {
    "duration": 8,
    "start_time": "2025-09-06T09:26:12.269Z"
   },
   {
    "duration": 6,
    "start_time": "2025-09-06T09:26:12.278Z"
   },
   {
    "duration": 1197,
    "start_time": "2025-09-06T09:26:12.286Z"
   },
   {
    "duration": 9,
    "start_time": "2025-09-06T09:26:13.485Z"
   },
   {
    "duration": 23,
    "start_time": "2025-09-06T09:26:13.496Z"
   },
   {
    "duration": 1758,
    "start_time": "2025-09-06T09:26:13.521Z"
   },
   {
    "duration": 11,
    "start_time": "2025-09-06T09:26:15.280Z"
   },
   {
    "duration": 135,
    "start_time": "2025-09-06T09:26:15.293Z"
   },
   {
    "duration": 49,
    "start_time": "2025-09-06T09:26:15.430Z"
   },
   {
    "duration": 3,
    "start_time": "2025-09-06T09:26:15.482Z"
   },
   {
    "duration": 19,
    "start_time": "2025-09-06T09:26:15.487Z"
   },
   {
    "duration": 374,
    "start_time": "2025-09-06T09:26:15.508Z"
   },
   {
    "duration": 10,
    "start_time": "2025-09-06T09:26:15.884Z"
   },
   {
    "duration": 118,
    "start_time": "2025-09-06T09:26:15.896Z"
   },
   {
    "duration": 25,
    "start_time": "2025-09-06T09:26:16.016Z"
   },
   {
    "duration": 42,
    "start_time": "2025-09-06T09:26:16.043Z"
   },
   {
    "duration": 29,
    "start_time": "2025-09-06T09:26:16.087Z"
   },
   {
    "duration": 16,
    "start_time": "2025-09-06T09:26:16.119Z"
   },
   {
    "duration": 12,
    "start_time": "2025-09-06T09:26:16.160Z"
   },
   {
    "duration": 19,
    "start_time": "2025-09-06T09:26:16.174Z"
   },
   {
    "duration": 373,
    "start_time": "2025-09-06T09:26:16.194Z"
   },
   {
    "duration": 1075,
    "start_time": "2025-09-06T09:26:16.568Z"
   },
   {
    "duration": 86,
    "start_time": "2025-09-06T09:26:17.645Z"
   },
   {
    "duration": 50,
    "start_time": "2025-09-06T09:26:17.733Z"
   },
   {
    "duration": 17,
    "start_time": "2025-09-06T09:26:17.785Z"
   },
   {
    "duration": 20,
    "start_time": "2025-09-06T09:26:17.804Z"
   },
   {
    "duration": 87,
    "start_time": "2025-09-06T09:26:17.826Z"
   },
   {
    "duration": 6,
    "start_time": "2025-09-06T09:26:17.916Z"
   },
   {
    "duration": 1198,
    "start_time": "2025-09-07T07:38:26.818Z"
   },
   {
    "duration": 91,
    "start_time": "2025-09-07T07:38:28.018Z"
   },
   {
    "duration": 11,
    "start_time": "2025-09-07T07:38:28.110Z"
   },
   {
    "duration": 18,
    "start_time": "2025-09-07T07:38:31.182Z"
   },
   {
    "duration": 3,
    "start_time": "2025-09-07T07:38:31.654Z"
   },
   {
    "duration": 9,
    "start_time": "2025-09-07T07:38:32.077Z"
   },
   {
    "duration": 5,
    "start_time": "2025-09-07T07:38:32.457Z"
   },
   {
    "duration": 5,
    "start_time": "2025-09-07T07:38:34.245Z"
   },
   {
    "duration": 7,
    "start_time": "2025-09-07T07:38:35.250Z"
   },
   {
    "duration": 7,
    "start_time": "2025-09-07T07:38:35.894Z"
   },
   {
    "duration": 8,
    "start_time": "2025-09-07T07:38:37.990Z"
   },
   {
    "duration": 7,
    "start_time": "2025-09-07T07:38:38.583Z"
   },
   {
    "duration": 1062,
    "start_time": "2025-09-07T07:38:39.570Z"
   },
   {
    "duration": 13,
    "start_time": "2025-09-07T07:39:12.069Z"
   },
   {
    "duration": 19,
    "start_time": "2025-09-07T07:39:12.701Z"
   }
  ],
  "colab": {
   "provenance": [],
   "toc_visible": true
  },
  "kernelspec": {
   "display_name": "Python 3 (ipykernel)",
   "language": "python",
   "name": "python3"
  },
  "language_info": {
   "codemirror_mode": {
    "name": "ipython",
    "version": 3
   },
   "file_extension": ".py",
   "mimetype": "text/x-python",
   "name": "python",
   "nbconvert_exporter": "python",
   "pygments_lexer": "ipython3",
   "version": "3.9.5"
  },
  "toc": {
   "base_numbering": 1,
   "nav_menu": {},
   "number_sections": false,
   "sideBar": true,
   "skip_h1_title": true,
   "title_cell": "Table of Contents",
   "title_sidebar": "Contents",
   "toc_cell": false,
   "toc_position": {},
   "toc_section_display": true,
   "toc_window_display": false
  }
 },
 "nbformat": 4,
 "nbformat_minor": 5
}
