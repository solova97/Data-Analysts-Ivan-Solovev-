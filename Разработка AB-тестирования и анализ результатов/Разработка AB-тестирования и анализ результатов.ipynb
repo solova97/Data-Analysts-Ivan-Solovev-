{
 "cells": [
  {
   "cell_type": "markdown",
   "metadata": {},
   "source": [
    "<span style=\"color:green\">**Поздравляю, твой проект принят!**</span>\n",
    "\n",
    "Иван, отличная работа, получился качественный аналитический отчет. Поставленные задачи были успешно выполнены! Недочёты исправлены! Надеюсь, ревью было полезным:) Желаю успехов в учебе и следующих проектах!\n",
    "\n",
    "Новые комментарии имеют метку `v2`.\n",
    "\n",
    "<span style=\"color:purple\">**Привет, Иван!**</span>\n",
    "\n",
    "Меня зовут **Василий** и я - ревьювер, буду проверять твой проект.\n",
    "\n",
    "Если не против, я буду обращаться к тебе на \"ТЫ\". Если это неприемлемо, обязательно напиши мне в комментариях – мы прейдем на \"ВЫ\".\n",
    "\n",
    "Спасибо, что прислал проект, вижу, что ты хорошо постарался над ним. В тетради ты сможешь найти мои комментарии. Пострайся учесть их в ходе исправления этого и выполнения дальнейших проектов.\n",
    "\n",
    "Обрати внимание, я буду выделять свои комментарии цветом, в зависимости от того, какие действия, важность и особенности тебя ждут в процессе проверки.\n",
    "\n",
    "<div class=\"alert alert-block alert-success\">\n",
    "\n",
    "**Комментарий ревьювера (все отлично)**\n",
    "    \n",
    "Такими комментариями я буду помечать хорошо проделаную работу, а так же хорошо проделаную работу над ошибками.\n",
    "</div>\n",
    "\n",
    "<div class=\"alert alert-block alert-warning\">\n",
    "\n",
    "**Комментарий ревьювера (что можно улучшить)**\n",
    "    \n",
    "После таких комментариев ничего исправлять не нужно, но я дам рекомендации на будущее и подскажу, что можно улучшить.\n",
    "</div>\n",
    "\n",
    "<div class=\"alert alert-block alert-danger\">\n",
    "    \n",
    "**Комментарий ревьювера (недочет, который нужно доработать)**\n",
    "    \n",
    "Если ты видишь такой комментарий, значит я указываю тебе на недочёт, его нужно исправить. Без такого исправления я не приму твою работу:)\n",
    "</div>\n",
    "\n",
    "**Пожалуста, не удаляй мои комментарии. При повторной проверке, я буду ориентироваться на них.**\n",
    "\n",
    "<span style=\"color:blue\"> Можешь под моими комментариями оставлять свои, в которых опиши свои исправления. Это облегчит процесс проверки и мне, и тебе:) Например, вот так:</span>\n",
    "\n",
    "<div class=\"alert alert-block alert-info\">\n",
    "<b>Комментарий студента:</b>\n",
    "</div>"
   ]
  },
  {
   "cell_type": "markdown",
   "metadata": {
    "id": "u98L9TgH0eMk"
   },
   "source": [
    "# Разработка A/B-тестирования и анализ результатов\n",
    "\n",
    "Вы работаете продуктовым аналитиком в компании, которая разрабатывает развлекательное приложение с функцией «бесконечной» ленты, как, например, в приложениях с короткими видео. В вашем приложении существует две модели монетизации: первая — ежемесячная платная подписка, которая позволяет пользователям смотреть ленту без рекламы, вторая — демонстрация рекламы для пользователей, которые ещё не оформили подписку.\n",
    "\n",
    "Команда разработчиков рекомендательных систем создала новый алгоритм рекомендаций, который, по их мнению, будет показывать более интересный контент для каждого пользователя. Вас, как аналитика, просят помочь рассчитать параметры A/B-теста, который позволит проверить эту гипотезу, и проанализировать его результаты."
   ]
  },
  {
   "cell_type": "markdown",
   "metadata": {
    "id": "LJBRALHs0eMf"
   },
   "source": [
    "## Описание данных\n",
    "\n",
    "Вы будете работать с тремя таблицами:\n",
    "\n",
    "- `sessions_project_history.csv` — таблица с историческими данными по сессиям пользователей на период с 2025-08-11 по 2025-09-23. Путь к файлу: `/datasets/sessions_project_history.csv`.\n",
    "\n",
    "- `sessions_project_test_part.csv` — таблица с данными за первый день проведения A/B-теста, то есть за 2025-10-14. Путь к файлу: `/datasets/sessions_project_test_part.csv`.\n",
    "\n",
    "- `sessions_project_test.csv` — таблица с данными за весь период проведения A/B-теста, то есть с 2025-10-14 по 2025-11-02. Путь к файлу: `/datasets/sessions_project_test.csv`.\n",
    "\n",
    "У этих таблиц почти совпадает структура и содержание колонок, различаются лишь периоды наблюдения.\n",
    "\n",
    "Поля таблиц `sessions_project_history.csv`, `sessions_project_test.csv`, `sessions_project_test_part.csv`:\n",
    "\n",
    "- `user_id` — идентификатор пользователя;\n",
    "\n",
    "- `session_id` — идентификатор сессии в приложении;\n",
    "\n",
    "- `session_date` — дата сессии;\n",
    "\n",
    "- `session_start_ts` — дата и время начала сессии;\n",
    "\n",
    "- `install_date` — дата установки приложения;\n",
    "\n",
    "- `session_number` — порядковый номер сессии для конкретного пользователя;\n",
    "\n",
    "- `registration_flag` — является ли пользователь зарегистрированным;\n",
    "\n",
    "- `page_counter` — количество просмотренных страниц во время сессии;\n",
    "\n",
    "- `region` — регион пользователя;\n",
    "\n",
    "- `device` — тип устройства пользователя;\n",
    "\n",
    "- `test_group` — тестовая группа (в таблице с историческими данными этого столбца нет).\n",
    "\n",
    "\n",
    "## Что нужно сделать\n",
    "Ваши задачи: рассчитать параметры теста, оценить корректность его проведения и проанализировать результаты эксперимента."
   ]
  },
  {
   "cell_type": "markdown",
   "metadata": {},
   "source": [
    "<div class=\"alert alert-block alert-success\">\n",
    "\n",
    "**Комментарий ревьювера (все отлично)**\n",
    "    \n",
    "Хорошее введение, понятно чему посвящен твой проект и какие этапы он содержит👍\n",
    "</div>"
   ]
  },
  {
   "cell_type": "markdown",
   "metadata": {
    "id": "UpOucjID0eMl"
   },
   "source": [
    "### 1. Работа с историческими данными (EDA)"
   ]
  },
  {
   "cell_type": "markdown",
   "metadata": {
    "id": "8iJMtL-30eMl"
   },
   "source": [
    "#### 1.1. Загрузка исторических данных\n",
    "На первом этапе поработайте с историческими данными приложения:\n",
    "\n",
    "- Импортируйте библиотеку pandas.\n",
    "\n",
    "- Считайте и сохраните в датафрейм `sessions_history` CSV-файл с историческими данными о сессиях пользователей `sessions_project_history.csv`.\n",
    "\n",
    "Выведите на экран первые пять строк полученного датафрейма."
   ]
  },
  {
   "cell_type": "code",
   "execution_count": 1,
   "metadata": {},
   "outputs": [],
   "source": [
    "import pandas as pd"
   ]
  },
  {
   "cell_type": "markdown",
   "metadata": {},
   "source": [
    "<div class=\"alert alert-block alert-warning\">\n",
    "\n",
    "**Комментарий ревьювера (что можно улучшить)**\n",
    "    \n",
    "Все используемые библиотеки лучше импортировать в первой ячейке согласно PEP8. Так твой коллега, запускающий работу, будет в курсе используемых в ней библиотек и сможет настроить свое окружение при необходимости.\n",
    "</div>"
   ]
  },
  {
   "cell_type": "code",
   "execution_count": 2,
   "metadata": {
    "id": "6TPR2-1RPboT"
   },
   "outputs": [],
   "source": [
    "sessions_history = pd.read_csv('https://code.s3.yandex.net/datasets/sessions_project_history.csv')"
   ]
  },
  {
   "cell_type": "code",
   "execution_count": 3,
   "metadata": {},
   "outputs": [
    {
     "data": {
      "text/html": [
       "<div>\n",
       "<style scoped>\n",
       "    .dataframe tbody tr th:only-of-type {\n",
       "        vertical-align: middle;\n",
       "    }\n",
       "\n",
       "    .dataframe tbody tr th {\n",
       "        vertical-align: top;\n",
       "    }\n",
       "\n",
       "    .dataframe thead th {\n",
       "        text-align: right;\n",
       "    }\n",
       "</style>\n",
       "<table border=\"1\" class=\"dataframe\">\n",
       "  <thead>\n",
       "    <tr style=\"text-align: right;\">\n",
       "      <th></th>\n",
       "      <th>user_id</th>\n",
       "      <th>session_id</th>\n",
       "      <th>session_date</th>\n",
       "      <th>session_start_ts</th>\n",
       "      <th>install_date</th>\n",
       "      <th>session_number</th>\n",
       "      <th>registration_flag</th>\n",
       "      <th>page_counter</th>\n",
       "      <th>region</th>\n",
       "      <th>device</th>\n",
       "    </tr>\n",
       "  </thead>\n",
       "  <tbody>\n",
       "    <tr>\n",
       "      <th>0</th>\n",
       "      <td>E302123B7000BFE4</td>\n",
       "      <td>F9AF61A0C2023832</td>\n",
       "      <td>2025-08-15</td>\n",
       "      <td>2025-08-15 17:47:35</td>\n",
       "      <td>2025-08-15</td>\n",
       "      <td>1</td>\n",
       "      <td>0</td>\n",
       "      <td>3</td>\n",
       "      <td>CIS</td>\n",
       "      <td>iPhone</td>\n",
       "    </tr>\n",
       "    <tr>\n",
       "      <th>1</th>\n",
       "      <td>2530F72E221829FB</td>\n",
       "      <td>85003A206CBDAC6F</td>\n",
       "      <td>2025-08-15</td>\n",
       "      <td>2025-08-15 16:42:14</td>\n",
       "      <td>2025-08-15</td>\n",
       "      <td>1</td>\n",
       "      <td>0</td>\n",
       "      <td>4</td>\n",
       "      <td>MENA</td>\n",
       "      <td>Android</td>\n",
       "    </tr>\n",
       "    <tr>\n",
       "      <th>2</th>\n",
       "      <td>876E020A4FC512F5</td>\n",
       "      <td>3677423E49D72DEE</td>\n",
       "      <td>2025-08-15</td>\n",
       "      <td>2025-08-15 12:30:00</td>\n",
       "      <td>2025-08-15</td>\n",
       "      <td>1</td>\n",
       "      <td>0</td>\n",
       "      <td>4</td>\n",
       "      <td>EU</td>\n",
       "      <td>PC</td>\n",
       "    </tr>\n",
       "    <tr>\n",
       "      <th>3</th>\n",
       "      <td>2640B349E1D81584</td>\n",
       "      <td>956B45F5915CA225</td>\n",
       "      <td>2025-08-15</td>\n",
       "      <td>2025-08-15 15:31:31</td>\n",
       "      <td>2025-08-15</td>\n",
       "      <td>1</td>\n",
       "      <td>0</td>\n",
       "      <td>4</td>\n",
       "      <td>CIS</td>\n",
       "      <td>Android</td>\n",
       "    </tr>\n",
       "    <tr>\n",
       "      <th>4</th>\n",
       "      <td>94E1CBFAEF1F5EE9</td>\n",
       "      <td>83BF0DA35F9F1F40</td>\n",
       "      <td>2025-08-15</td>\n",
       "      <td>2025-08-15 21:33:53</td>\n",
       "      <td>2025-08-15</td>\n",
       "      <td>1</td>\n",
       "      <td>0</td>\n",
       "      <td>3</td>\n",
       "      <td>CIS</td>\n",
       "      <td>Android</td>\n",
       "    </tr>\n",
       "  </tbody>\n",
       "</table>\n",
       "</div>"
      ],
      "text/plain": [
       "            user_id        session_id session_date     session_start_ts  \\\n",
       "0  E302123B7000BFE4  F9AF61A0C2023832   2025-08-15  2025-08-15 17:47:35   \n",
       "1  2530F72E221829FB  85003A206CBDAC6F   2025-08-15  2025-08-15 16:42:14   \n",
       "2  876E020A4FC512F5  3677423E49D72DEE   2025-08-15  2025-08-15 12:30:00   \n",
       "3  2640B349E1D81584  956B45F5915CA225   2025-08-15  2025-08-15 15:31:31   \n",
       "4  94E1CBFAEF1F5EE9  83BF0DA35F9F1F40   2025-08-15  2025-08-15 21:33:53   \n",
       "\n",
       "  install_date  session_number  registration_flag  page_counter region  \\\n",
       "0   2025-08-15               1                  0             3    CIS   \n",
       "1   2025-08-15               1                  0             4   MENA   \n",
       "2   2025-08-15               1                  0             4     EU   \n",
       "3   2025-08-15               1                  0             4    CIS   \n",
       "4   2025-08-15               1                  0             3    CIS   \n",
       "\n",
       "    device  \n",
       "0   iPhone  \n",
       "1  Android  \n",
       "2       PC  \n",
       "3  Android  \n",
       "4  Android  "
      ]
     },
     "execution_count": 3,
     "metadata": {},
     "output_type": "execute_result"
    }
   ],
   "source": [
    "sessions_history.head()"
   ]
  },
  {
   "cell_type": "markdown",
   "metadata": {
    "id": "qTDoiODz0eMo"
   },
   "source": [
    "#### 1.2. Знакомство с данными\n",
    "- Для каждого уникального пользователя `user_id` рассчитайте количество уникальных сессий `session_id`.\n",
    "\n",
    "- Выведите на экран все данные из таблицы `sessions_history` для одного пользователя с наибольшим количеством сессий. Если таких пользователей несколько, выберите любого из них.\n",
    "\n",
    "- Изучите таблицу для одного пользователя, чтобы лучше понять логику формирования каждого столбца данных.\n",
    "\n"
   ]
  },
  {
   "cell_type": "code",
   "execution_count": 4,
   "metadata": {
    "id": "PWZO9vTIPbPN"
   },
   "outputs": [],
   "source": [
    "session_count = sessions_history.groupby('user_id')['session_id'].nunique()"
   ]
  },
  {
   "cell_type": "code",
   "execution_count": 5,
   "metadata": {},
   "outputs": [
    {
     "name": "stdout",
     "output_type": "stream",
     "text": [
      "Пользователь с наибольшим количеством сессий: 10E0DEFC1ABDBBE0\n",
      "Количество сессий: 10\n",
      "\n",
      "==================================================\n",
      "\n",
      "Данные для пользователя 10E0DEFC1ABDBBE0:\n"
     ]
    },
    {
     "data": {
      "text/html": [
       "<div>\n",
       "<style scoped>\n",
       "    .dataframe tbody tr th:only-of-type {\n",
       "        vertical-align: middle;\n",
       "    }\n",
       "\n",
       "    .dataframe tbody tr th {\n",
       "        vertical-align: top;\n",
       "    }\n",
       "\n",
       "    .dataframe thead th {\n",
       "        text-align: right;\n",
       "    }\n",
       "</style>\n",
       "<table border=\"1\" class=\"dataframe\">\n",
       "  <thead>\n",
       "    <tr style=\"text-align: right;\">\n",
       "      <th></th>\n",
       "      <th>user_id</th>\n",
       "      <th>session_id</th>\n",
       "      <th>session_date</th>\n",
       "      <th>session_start_ts</th>\n",
       "      <th>install_date</th>\n",
       "      <th>session_number</th>\n",
       "      <th>registration_flag</th>\n",
       "      <th>page_counter</th>\n",
       "      <th>region</th>\n",
       "      <th>device</th>\n",
       "    </tr>\n",
       "  </thead>\n",
       "  <tbody>\n",
       "    <tr>\n",
       "      <th>115558</th>\n",
       "      <td>10E0DEFC1ABDBBE0</td>\n",
       "      <td>B8F0423BBFFCF5DC</td>\n",
       "      <td>2025-08-14</td>\n",
       "      <td>2025-08-14 13:57:39</td>\n",
       "      <td>2025-08-14</td>\n",
       "      <td>1</td>\n",
       "      <td>0</td>\n",
       "      <td>4</td>\n",
       "      <td>CIS</td>\n",
       "      <td>Android</td>\n",
       "    </tr>\n",
       "    <tr>\n",
       "      <th>191751</th>\n",
       "      <td>10E0DEFC1ABDBBE0</td>\n",
       "      <td>87CA2FA549473837</td>\n",
       "      <td>2025-08-15</td>\n",
       "      <td>2025-08-15 16:42:10</td>\n",
       "      <td>2025-08-14</td>\n",
       "      <td>2</td>\n",
       "      <td>0</td>\n",
       "      <td>3</td>\n",
       "      <td>CIS</td>\n",
       "      <td>Android</td>\n",
       "    </tr>\n",
       "    <tr>\n",
       "      <th>239370</th>\n",
       "      <td>10E0DEFC1ABDBBE0</td>\n",
       "      <td>4ADD8011DCDCE318</td>\n",
       "      <td>2025-08-16</td>\n",
       "      <td>2025-08-16 19:53:21</td>\n",
       "      <td>2025-08-14</td>\n",
       "      <td>3</td>\n",
       "      <td>0</td>\n",
       "      <td>3</td>\n",
       "      <td>CIS</td>\n",
       "      <td>Android</td>\n",
       "    </tr>\n",
       "    <tr>\n",
       "      <th>274629</th>\n",
       "      <td>10E0DEFC1ABDBBE0</td>\n",
       "      <td>DF0FD0E09BF1F3D7</td>\n",
       "      <td>2025-08-17</td>\n",
       "      <td>2025-08-17 15:03:43</td>\n",
       "      <td>2025-08-14</td>\n",
       "      <td>4</td>\n",
       "      <td>0</td>\n",
       "      <td>1</td>\n",
       "      <td>CIS</td>\n",
       "      <td>Android</td>\n",
       "    </tr>\n",
       "    <tr>\n",
       "      <th>302501</th>\n",
       "      <td>10E0DEFC1ABDBBE0</td>\n",
       "      <td>3C221774B4DE6885</td>\n",
       "      <td>2025-08-18</td>\n",
       "      <td>2025-08-18 17:29:14</td>\n",
       "      <td>2025-08-14</td>\n",
       "      <td>5</td>\n",
       "      <td>0</td>\n",
       "      <td>4</td>\n",
       "      <td>CIS</td>\n",
       "      <td>Android</td>\n",
       "    </tr>\n",
       "    <tr>\n",
       "      <th>325557</th>\n",
       "      <td>10E0DEFC1ABDBBE0</td>\n",
       "      <td>031BD7A67048105B</td>\n",
       "      <td>2025-08-19</td>\n",
       "      <td>2025-08-19 13:23:55</td>\n",
       "      <td>2025-08-14</td>\n",
       "      <td>6</td>\n",
       "      <td>0</td>\n",
       "      <td>2</td>\n",
       "      <td>CIS</td>\n",
       "      <td>Android</td>\n",
       "    </tr>\n",
       "    <tr>\n",
       "      <th>345336</th>\n",
       "      <td>10E0DEFC1ABDBBE0</td>\n",
       "      <td>FF4315CF4AD4B100</td>\n",
       "      <td>2025-08-20</td>\n",
       "      <td>2025-08-20 19:31:54</td>\n",
       "      <td>2025-08-14</td>\n",
       "      <td>7</td>\n",
       "      <td>0</td>\n",
       "      <td>2</td>\n",
       "      <td>CIS</td>\n",
       "      <td>Android</td>\n",
       "    </tr>\n",
       "    <tr>\n",
       "      <th>377532</th>\n",
       "      <td>10E0DEFC1ABDBBE0</td>\n",
       "      <td>4045FEA0747203B4</td>\n",
       "      <td>2025-08-22</td>\n",
       "      <td>2025-08-22 17:54:13</td>\n",
       "      <td>2025-08-14</td>\n",
       "      <td>8</td>\n",
       "      <td>0</td>\n",
       "      <td>2</td>\n",
       "      <td>CIS</td>\n",
       "      <td>Android</td>\n",
       "    </tr>\n",
       "    <tr>\n",
       "      <th>403538</th>\n",
       "      <td>10E0DEFC1ABDBBE0</td>\n",
       "      <td>344B086C421C7F37</td>\n",
       "      <td>2025-08-24</td>\n",
       "      <td>2025-08-24 14:46:13</td>\n",
       "      <td>2025-08-14</td>\n",
       "      <td>9</td>\n",
       "      <td>0</td>\n",
       "      <td>2</td>\n",
       "      <td>CIS</td>\n",
       "      <td>Android</td>\n",
       "    </tr>\n",
       "    <tr>\n",
       "      <th>414743</th>\n",
       "      <td>10E0DEFC1ABDBBE0</td>\n",
       "      <td>054F20BA371E4C9D</td>\n",
       "      <td>2025-08-25</td>\n",
       "      <td>2025-08-25 18:36:41</td>\n",
       "      <td>2025-08-14</td>\n",
       "      <td>10</td>\n",
       "      <td>0</td>\n",
       "      <td>3</td>\n",
       "      <td>CIS</td>\n",
       "      <td>Android</td>\n",
       "    </tr>\n",
       "  </tbody>\n",
       "</table>\n",
       "</div>"
      ],
      "text/plain": [
       "                 user_id        session_id session_date     session_start_ts  \\\n",
       "115558  10E0DEFC1ABDBBE0  B8F0423BBFFCF5DC   2025-08-14  2025-08-14 13:57:39   \n",
       "191751  10E0DEFC1ABDBBE0  87CA2FA549473837   2025-08-15  2025-08-15 16:42:10   \n",
       "239370  10E0DEFC1ABDBBE0  4ADD8011DCDCE318   2025-08-16  2025-08-16 19:53:21   \n",
       "274629  10E0DEFC1ABDBBE0  DF0FD0E09BF1F3D7   2025-08-17  2025-08-17 15:03:43   \n",
       "302501  10E0DEFC1ABDBBE0  3C221774B4DE6885   2025-08-18  2025-08-18 17:29:14   \n",
       "325557  10E0DEFC1ABDBBE0  031BD7A67048105B   2025-08-19  2025-08-19 13:23:55   \n",
       "345336  10E0DEFC1ABDBBE0  FF4315CF4AD4B100   2025-08-20  2025-08-20 19:31:54   \n",
       "377532  10E0DEFC1ABDBBE0  4045FEA0747203B4   2025-08-22  2025-08-22 17:54:13   \n",
       "403538  10E0DEFC1ABDBBE0  344B086C421C7F37   2025-08-24  2025-08-24 14:46:13   \n",
       "414743  10E0DEFC1ABDBBE0  054F20BA371E4C9D   2025-08-25  2025-08-25 18:36:41   \n",
       "\n",
       "       install_date  session_number  registration_flag  page_counter region  \\\n",
       "115558   2025-08-14               1                  0             4    CIS   \n",
       "191751   2025-08-14               2                  0             3    CIS   \n",
       "239370   2025-08-14               3                  0             3    CIS   \n",
       "274629   2025-08-14               4                  0             1    CIS   \n",
       "302501   2025-08-14               5                  0             4    CIS   \n",
       "325557   2025-08-14               6                  0             2    CIS   \n",
       "345336   2025-08-14               7                  0             2    CIS   \n",
       "377532   2025-08-14               8                  0             2    CIS   \n",
       "403538   2025-08-14               9                  0             2    CIS   \n",
       "414743   2025-08-14              10                  0             3    CIS   \n",
       "\n",
       "         device  \n",
       "115558  Android  \n",
       "191751  Android  \n",
       "239370  Android  \n",
       "274629  Android  \n",
       "302501  Android  \n",
       "325557  Android  \n",
       "345336  Android  \n",
       "377532  Android  \n",
       "403538  Android  \n",
       "414743  Android  "
      ]
     },
     "execution_count": 5,
     "metadata": {},
     "output_type": "execute_result"
    }
   ],
   "source": [
    "# Найдем пользователя с наибольшим количеством сессий\n",
    "max_sessions_user = session_count.idxmax()\n",
    "max_sessions_count = session_count.max()\n",
    "\n",
    "print(f\"Пользователь с наибольшим количеством сессий: {max_sessions_user}\")\n",
    "print(f\"Количество сессий: {max_sessions_count}\")\n",
    "print(\"\\n\" + \"=\"*50 + \"\\n\")\n",
    "\n",
    "# Выведем все данные для этого пользователя\n",
    "user_data = sessions_history[sessions_history['user_id'] == max_sessions_user]\n",
    "print(f\"Данные для пользователя {max_sessions_user}:\")\n",
    "user_data"
   ]
  },
  {
   "cell_type": "markdown",
   "metadata": {},
   "source": [
    "<div class=\"alert alert-block alert-success\">\n",
    "\n",
    "**Комментарий ревьювера (все отлично)**\n",
    "    \n",
    "Пользователь с наибольшим количеством сессий определен корректно, все сессии этого пользователя выведены на экран👍\n",
    "</div>"
   ]
  },
  {
   "cell_type": "markdown",
   "metadata": {
    "id": "CmcGpJTP0eMq"
   },
   "source": [
    "#### 1.3. Анализ числа регистраций\n",
    "Одна из важнейших метрик продукта — число зарегистрированных пользователей. Используя исторические данные, визуализируйте, как менялось число регистраций в приложении за время его существования.\n",
    "\n",
    "- Агрегируйте исторические данные и рассчитайте число уникальных пользователей и число зарегистрированных пользователей для каждого дня наблюдения. Для простоты считайте, что у пользователя в течение дня бывает одна сессия максимум и статус регистрации в течение одного дня не может измениться.\n",
    "\n",
    "- Постройте линейные графики общего числа пользователей и общего числа зарегистрированных пользователей по дням. Отобразите их на одном графике.\n",
    "\n",
    "- Постройте отдельный линейный график доли зарегистрированных пользователей от всех пользователей по дням.\n",
    "\n",
    "- На обоих графиках должны быть заголовок, подписанные оси X и Y, сетка и легенда."
   ]
  },
  {
   "cell_type": "code",
   "execution_count": 6,
   "metadata": {
    "id": "tN_6Ml3EPatS"
   },
   "outputs": [],
   "source": [
    "import matplotlib.pyplot as plt"
   ]
  },
  {
   "cell_type": "code",
   "execution_count": 7,
   "metadata": {},
   "outputs": [],
   "source": [
    "# Преобразуем даты в правильный формат\n",
    "sessions_history['session_date'] = pd.to_datetime(sessions_history['session_date'])\n",
    "sessions_history['install_date'] = pd.to_datetime(sessions_history['install_date'])"
   ]
  },
  {
   "cell_type": "code",
   "execution_count": 8,
   "metadata": {},
   "outputs": [],
   "source": [
    "# Агрегируем данные по дням\n",
    "df2 = sessions_history.groupby('session_date').agg({\n",
    "    'user_id': 'nunique',\n",
    "    'registration_flag': 'sum'\n",
    "}).sort_values(by='session_date',ascending=True).reset_index()"
   ]
  },
  {
   "cell_type": "code",
   "execution_count": 9,
   "metadata": {},
   "outputs": [
    {
     "name": "stdout",
     "output_type": "stream",
     "text": [
      "<class 'pandas.core.frame.DataFrame'>\n",
      "RangeIndex: 44 entries, 0 to 43\n",
      "Data columns (total 3 columns):\n",
      " #   Column             Non-Null Count  Dtype         \n",
      "---  ------             --------------  -----         \n",
      " 0   session_date       44 non-null     datetime64[ns]\n",
      " 1   user_id            44 non-null     int64         \n",
      " 2   registration_flag  44 non-null     int64         \n",
      "dtypes: datetime64[ns](1), int64(2)\n",
      "memory usage: 1.2 KB\n"
     ]
    }
   ],
   "source": [
    "#выводим первые 5 строк\n",
    "df2.head()\n",
    "df2.info()"
   ]
  },
  {
   "cell_type": "code",
   "execution_count": 10,
   "metadata": {},
   "outputs": [
    {
     "data": {
      "image/png": "[encoded data removed]",
      "text/plain": [
       "<Figure size 1152x576 with 2 Axes>"
      ]
     },
     "metadata": {
      "needs_background": "light"
     },
     "output_type": "display_data"
    }
   ],
   "source": [
    "#Строим визуализацию\n",
    "fig, ax1 = plt.subplots(figsize=(16, 8))\n",
    "ax2 = ax1.twinx()\n",
    "\n",
    "# сохраняем линии в переменные\n",
    "line1, = ax1.plot(df2['session_date'], df2['user_id'], color='green', label='Уникальные пользователи')\n",
    "line2, = ax2.plot(df2['session_date'], df2['registration_flag'], color='blue', label='Зарегистрированные пользователи')\n",
    "\n",
    "ax1.set_xlabel('Дата сессии')\n",
    "ax1.set_ylabel('Количество уникальных пользователей', color='green')\n",
    "ax2.set_ylabel('Количество зарегистрированных пользователей', color='blue')\n",
    "ax1.tick_params(axis='x', rotation=45)\n",
    "\n",
    "plt.title('Распределение количества уникальных и зарегистрированных пользователей')\n",
    "ax1.grid(axis='y')\n",
    "\n",
    "# теперь явно указываем линии в легенде\n",
    "fig.legend([line1, line2], ['Уникальные пользователи', 'Зарегистрированные пользователи'], loc='upper right')\n",
    "\n",
    "plt.show()"
   ]
  },
  {
   "cell_type": "code",
   "execution_count": 11,
   "metadata": {},
   "outputs": [],
   "source": [
    "# Рассчитываем долю зарегистрированных пользователей\n",
    "df2['registration_ratio'] = df2['registration_flag'] / df2['user_id']"
   ]
  },
  {
   "cell_type": "code",
   "execution_count": 12,
   "metadata": {},
   "outputs": [
    {
     "data": {
      "image/png": "[encoded data removed]",
      "text/plain": [
       "<Figure size 864x432 with 1 Axes>"
      ]
     },
     "metadata": {
      "needs_background": "light"
     },
     "output_type": "display_data"
    }
   ],
   "source": [
    "# Строим график доли зарегистрированных пользователей\n",
    "plt.figure(figsize=(12, 6))\n",
    "plt.plot(df2['session_date'], df2['registration_ratio'], \n",
    "         marker='o', linewidth=2, markersize=4)\n",
    "\n",
    "plt.title('Доля зарегистрированных пользователей по дням', fontsize=14)\n",
    "plt.xlabel('Дата', fontsize=12)\n",
    "plt.ylabel('Доля зарегистрированных пользователей', fontsize=12)\n",
    "plt.grid(True, alpha=0.3)\n",
    "plt.xticks(rotation=45)\n",
    "plt.tight_layout()"
   ]
  },
  {
   "cell_type": "markdown",
   "metadata": {},
   "source": [
    "<div class=\"alert alert-block alert-success\">\n",
    "\n",
    "**Комментарий ревьювера (все отлично)**\n",
    "    \n",
    "Отличные графики👍\n",
    "</div>"
   ]
  },
  {
   "cell_type": "markdown",
   "metadata": {
    "id": "UR7D7RhF0eMr"
   },
   "source": [
    "#### 1.4. Анализ числа просмотренных страниц\n",
    "Другая важная метрика продукта — число просмотренных страниц в приложении. Чем больше страниц просмотрено, тем сильнее пользователь увлечён контентом, а значит, выше шансы, что он зарегистрируется и оплатит подписку.\n",
    "\n",
    "- Найдите количество сессий для каждого значения количества просмотренных страниц. Например: одну страницу просмотрели в 29 160 сессиях, две страницы — в 105 536 сессиях и так далее.\n",
    "\n",
    "- Постройте столбчатую диаграмму, где по оси X будет число просмотренных страниц, по оси Y — количество сессий.\n",
    "\n",
    "- На диаграмме должны быть заголовок, подписанные оси X и Y."
   ]
  },
  {
   "cell_type": "code",
   "execution_count": 13,
   "metadata": {
    "id": "cb6hPlVzPaSf"
   },
   "outputs": [
    {
     "name": "stdout",
     "output_type": "stream",
     "text": [
      "Количество сессий для каждого значения page_counter:\n",
      "1     29160\n",
      "2    105536\n",
      "3    166690\n",
      "4    105569\n",
      "5     26288\n",
      "6      2589\n",
      "7        92\n",
      "Name: page_counter, dtype: int64\n"
     ]
    }
   ],
   "source": [
    "# Анализ числа просмотренных страниц\n",
    "page_counts = sessions_history['page_counter'].value_counts().sort_index()\n",
    "\n",
    "print(\"Количество сессий для каждого значения page_counter:\")\n",
    "print(page_counts)"
   ]
  },
  {
   "cell_type": "code",
   "execution_count": 14,
   "metadata": {},
   "outputs": [
    {
     "data": {
      "image/png": "[encoded data removed]",
      "text/plain": [
       "<Figure size 864x432 with 1 Axes>"
      ]
     },
     "metadata": {
      "needs_background": "light"
     },
     "output_type": "display_data"
    },
    {
     "name": "stdout",
     "output_type": "stream",
     "text": [
      "\n",
      "Общее количество сессий: 435924\n",
      "Медианное количество страниц в сессии: 3.0\n",
      "Среднее количество страниц в сессии: 3.01\n"
     ]
    }
   ],
   "source": [
    "# Построение столбчатой диаграммы\n",
    "plt.figure(figsize=(12, 6))\n",
    "plt.bar(page_counts.index, page_counts.values, color='skyblue', edgecolor='black')\n",
    "\n",
    "# Настройка оформления\n",
    "plt.title('Распределение количества просмотренных страниц в сессиях', fontsize=14, fontweight='bold')\n",
    "plt.xlabel('Количество просмотренных страниц', fontsize=12)\n",
    "plt.ylabel('Количество сессий', fontsize=12)\n",
    "plt.grid(axis='y', alpha=0.3)\n",
    "\n",
    "# Добавляем подписи значений над столбцами\n",
    "for i, v in enumerate(page_counts.values):\n",
    "    plt.text(page_counts.index[i], v + 1000, str(v), ha='center', va='bottom', fontsize=9)\n",
    "\n",
    "plt.xticks(page_counts.index)\n",
    "plt.tight_layout()\n",
    "plt.show()\n",
    "\n",
    "# Дополнительная информация о распределении\n",
    "print(f\"\\nОбщее количество сессий: {page_counts.sum()}\")\n",
    "print(f\"Медианное количество страниц в сессии: {sessions_history['page_counter'].median()}\")\n",
    "print(f\"Среднее количество страниц в сессии: {sessions_history['page_counter'].mean():.2f}\")"
   ]
  },
  {
   "cell_type": "markdown",
   "metadata": {},
   "source": [
    "<div class=\"alert alert-block alert-success\">\n",
    "\n",
    "**Комментарий ревьювера (все отлично)**\n",
    "    \n",
    "Данные собраны оптимальным способом, график наглядно демонстрирует распределение сессий в порядке количества просмотренных страниц👍\n",
    "    \n",
    "Здорово, что уделяешь внимание оформлению графиков.\n",
    "    \n",
    "Предлагаю изучить интересные методы по визуализации. Прикрепляю несколько интересных ссылок:\n",
    "   \n",
    "https://coderlessons.com/tutorials/python-technologies/izuchai-siborna/siborn-kratkoe-rukovodstvo\n",
    "\n",
    "https://tproger.ru/translations/python-data-vizualization/\n",
    "</div>\n",
    "</div>"
   ]
  },
  {
   "cell_type": "markdown",
   "metadata": {
    "id": "xDltSpVP0eMr"
   },
   "source": [
    "#### 1.5. Доля пользователей, просмотревших более четырёх страниц\n",
    "Продуктовая команда продукта считает, что сессии, в рамках которых пользователь просмотрел 4 и более страниц, говорят об удовлетворённости контентом и алгоритмами рекомендаций. Этот показатель является важной прокси-метрикой для продукта.\n",
    "\n",
    "- В датафрейме `sessions_history` создайте дополнительный столбец `good_session`. В него войдёт значение `1`, если за одну сессию было просмотрено 4 и более страниц, и значение `0`, если было просмотрено меньше.\n",
    "\n",
    "- Постройте график со средним значением доли успешных сессий от всех сессий по дням за весь период наблюдения."
   ]
  },
  {
   "cell_type": "code",
   "execution_count": 15,
   "metadata": {
    "id": "iygaPfixPYMW"
   },
   "outputs": [
    {
     "data": {
      "text/html": [
       "<div>\n",
       "<style scoped>\n",
       "    .dataframe tbody tr th:only-of-type {\n",
       "        vertical-align: middle;\n",
       "    }\n",
       "\n",
       "    .dataframe tbody tr th {\n",
       "        vertical-align: top;\n",
       "    }\n",
       "\n",
       "    .dataframe thead th {\n",
       "        text-align: right;\n",
       "    }\n",
       "</style>\n",
       "<table border=\"1\" class=\"dataframe\">\n",
       "  <thead>\n",
       "    <tr style=\"text-align: right;\">\n",
       "      <th></th>\n",
       "      <th>user_id</th>\n",
       "      <th>session_id</th>\n",
       "      <th>session_date</th>\n",
       "      <th>session_start_ts</th>\n",
       "      <th>install_date</th>\n",
       "      <th>session_number</th>\n",
       "      <th>registration_flag</th>\n",
       "      <th>page_counter</th>\n",
       "      <th>region</th>\n",
       "      <th>device</th>\n",
       "      <th>good_session</th>\n",
       "    </tr>\n",
       "  </thead>\n",
       "  <tbody>\n",
       "    <tr>\n",
       "      <th>0</th>\n",
       "      <td>E302123B7000BFE4</td>\n",
       "      <td>F9AF61A0C2023832</td>\n",
       "      <td>2025-08-15</td>\n",
       "      <td>2025-08-15 17:47:35</td>\n",
       "      <td>2025-08-15</td>\n",
       "      <td>1</td>\n",
       "      <td>0</td>\n",
       "      <td>3</td>\n",
       "      <td>CIS</td>\n",
       "      <td>iPhone</td>\n",
       "      <td>0</td>\n",
       "    </tr>\n",
       "    <tr>\n",
       "      <th>1</th>\n",
       "      <td>2530F72E221829FB</td>\n",
       "      <td>85003A206CBDAC6F</td>\n",
       "      <td>2025-08-15</td>\n",
       "      <td>2025-08-15 16:42:14</td>\n",
       "      <td>2025-08-15</td>\n",
       "      <td>1</td>\n",
       "      <td>0</td>\n",
       "      <td>4</td>\n",
       "      <td>MENA</td>\n",
       "      <td>Android</td>\n",
       "      <td>1</td>\n",
       "    </tr>\n",
       "    <tr>\n",
       "      <th>2</th>\n",
       "      <td>876E020A4FC512F5</td>\n",
       "      <td>3677423E49D72DEE</td>\n",
       "      <td>2025-08-15</td>\n",
       "      <td>2025-08-15 12:30:00</td>\n",
       "      <td>2025-08-15</td>\n",
       "      <td>1</td>\n",
       "      <td>0</td>\n",
       "      <td>4</td>\n",
       "      <td>EU</td>\n",
       "      <td>PC</td>\n",
       "      <td>1</td>\n",
       "    </tr>\n",
       "    <tr>\n",
       "      <th>3</th>\n",
       "      <td>2640B349E1D81584</td>\n",
       "      <td>956B45F5915CA225</td>\n",
       "      <td>2025-08-15</td>\n",
       "      <td>2025-08-15 15:31:31</td>\n",
       "      <td>2025-08-15</td>\n",
       "      <td>1</td>\n",
       "      <td>0</td>\n",
       "      <td>4</td>\n",
       "      <td>CIS</td>\n",
       "      <td>Android</td>\n",
       "      <td>1</td>\n",
       "    </tr>\n",
       "    <tr>\n",
       "      <th>4</th>\n",
       "      <td>94E1CBFAEF1F5EE9</td>\n",
       "      <td>83BF0DA35F9F1F40</td>\n",
       "      <td>2025-08-15</td>\n",
       "      <td>2025-08-15 21:33:53</td>\n",
       "      <td>2025-08-15</td>\n",
       "      <td>1</td>\n",
       "      <td>0</td>\n",
       "      <td>3</td>\n",
       "      <td>CIS</td>\n",
       "      <td>Android</td>\n",
       "      <td>0</td>\n",
       "    </tr>\n",
       "  </tbody>\n",
       "</table>\n",
       "</div>"
      ],
      "text/plain": [
       "            user_id        session_id session_date     session_start_ts  \\\n",
       "0  E302123B7000BFE4  F9AF61A0C2023832   2025-08-15  2025-08-15 17:47:35   \n",
       "1  2530F72E221829FB  85003A206CBDAC6F   2025-08-15  2025-08-15 16:42:14   \n",
       "2  876E020A4FC512F5  3677423E49D72DEE   2025-08-15  2025-08-15 12:30:00   \n",
       "3  2640B349E1D81584  956B45F5915CA225   2025-08-15  2025-08-15 15:31:31   \n",
       "4  94E1CBFAEF1F5EE9  83BF0DA35F9F1F40   2025-08-15  2025-08-15 21:33:53   \n",
       "\n",
       "  install_date  session_number  registration_flag  page_counter region  \\\n",
       "0   2025-08-15               1                  0             3    CIS   \n",
       "1   2025-08-15               1                  0             4   MENA   \n",
       "2   2025-08-15               1                  0             4     EU   \n",
       "3   2025-08-15               1                  0             4    CIS   \n",
       "4   2025-08-15               1                  0             3    CIS   \n",
       "\n",
       "    device  good_session  \n",
       "0   iPhone             0  \n",
       "1  Android             1  \n",
       "2       PC             1  \n",
       "3  Android             1  \n",
       "4  Android             0  "
      ]
     },
     "execution_count": 15,
     "metadata": {},
     "output_type": "execute_result"
    }
   ],
   "source": [
    "sessions_history['good_session'] = (sessions_history['page_counter'] >= 4).astype(int)\n",
    "sessions_history.head()"
   ]
  },
  {
   "cell_type": "code",
   "execution_count": 16,
   "metadata": {},
   "outputs": [
    {
     "data": {
      "image/png": "[encoded data removed]",
      "text/plain": [
       "<Figure size 864x432 with 1 Axes>"
      ]
     },
     "metadata": {
      "needs_background": "light"
     },
     "output_type": "display_data"
    },
    {
     "name": "stdout",
     "output_type": "stream",
     "text": [
      "Статистика по успешным сессиям:\n",
      "Общее количество сессий: 435924\n",
      "Количество успешных сессий: 134538\n",
      "Общая доля успешных сессий: 0.309\n"
     ]
    }
   ],
   "source": [
    "# Агрегируем данные по дням\n",
    "daily_stats = sessions_history.groupby('session_date').agg({\n",
    "    'session_id': 'count',  # общее количество сессий\n",
    "    'good_session': 'sum'   # количество успешных сессий\n",
    "}).reset_index()\n",
    "\n",
    "# Вычисляем долю успешных сессий\n",
    "daily_stats['success_rate'] = daily_stats['good_session'] / daily_stats['session_id']\n",
    "\n",
    "# Строим график\n",
    "plt.figure(figsize=(12, 6))\n",
    "plt.plot(daily_stats['session_date'], daily_stats['success_rate'], marker='o', linewidth=2)\n",
    "plt.title('Доля успешных сессий (4+ страниц) по дням')\n",
    "plt.xlabel('Дата')\n",
    "plt.ylabel('Доля успешных сессий')\n",
    "plt.grid(True, alpha=0.3)\n",
    "plt.xticks(rotation=45)\n",
    "plt.tight_layout()\n",
    "plt.show()\n",
    "\n",
    "# Выводим статистику\n",
    "print(\"Статистика по успешным сессиям:\")\n",
    "print(f\"Общее количество сессий: {len(sessions_history)}\")\n",
    "print(f\"Количество успешных сессий: {sessions_history['good_session'].sum()}\")\n",
    "print(f\"Общая доля успешных сессий: {sessions_history['good_session'].mean():.3f}\")"
   ]
  },
  {
   "cell_type": "markdown",
   "metadata": {},
   "source": [
    "<div class=\"alert alert-block alert-success\">\n",
    "\n",
    "**Комментарий ревьювера (все отлично)**\n",
    "    \n",
    "Всё верно👍\n",
    "</div>"
   ]
  },
  {
   "cell_type": "markdown",
   "metadata": {
    "id": "21JcG77Y0eMt"
   },
   "source": [
    "### 2. Подготовка к тесту\n",
    "При планировании теста необходимо проделать несколько важных шагов:\n",
    "\n",
    "- Сформулировать нулевую и альтернативную гипотезы\n",
    "\n",
    "- Определиться с целевой метрикой.\n",
    "\n",
    "- Рассчитать необходимый размер выборки.\n",
    "\n",
    "- Исходя из текущих значений трафика рассчитать необходимую длительность проведения теста."
   ]
  },
  {
   "cell_type": "markdown",
   "metadata": {
    "id": "kXdcwkjf859k"
   },
   "source": [
    "#### 2.1 Формулировка нулевой и альтернативной гипотез\n",
    "\n",
    "Перед тем как проводить А/B-тест, необходимо сформулировать нулевую и альтернативную гипотезы. Напомним изначальное условие: команда разработчиков рекомендательных систем создала новый алгоритм, который, по их мнению, будет показывать более интересный контент для каждого пользователя.\n",
    "\n",
    "О какой метрике идёт речь? Как она будет учтена в формулировке гипотез?"
   ]
  },
  {
   "cell_type": "markdown",
   "metadata": {
    "id": "RiKI8eT49h3F"
   },
   "source": [
    "Сформулируйте нулевую и альтернативную гипотезы:\n",
    "\n",
    "\n",
    "\n",
    "\n"
   ]
  },
  {
   "cell_type": "markdown",
   "metadata": {},
   "source": [
    "**Выбор метрики:**\n",
    "\n",
    "Наиболее релевантная метрика для оценки \"интересности контента\" — **количество просмотренных страниц за сессию (`page_counter`)**. Это прямо отражает вовлечённость пользователей: если новый алгоритм рекомендаций действительно лучше, пользователи будут просматривать больше страниц."
   ]
  },
  {
   "cell_type": "markdown",
   "metadata": {},
   "source": [
    "**Формулировка гипотез:**\n",
    "\n",
    "1) **Нулевая гипотеза (H₀):** \n",
    "\n",
    "Новый алгоритм рекомендаций **не влияет** на среднее количество просмотренных страниц за сессию.\n",
    "\n",
    "Математически:\n",
    "\n",
    "H₀ : μ1 = μ2,\n",
    "\n",
    "где μ1 — среднее количество страниц в контрольной группе (старый алгоритм),\n",
    "\n",
    "μ2  — среднее количество страниц в тестовой группе (новый алгоритм).\n",
    "\n",
    "2) **Альтернативная гипотеза (H₁)**:\n",
    "Новый алгоритм рекомендаций **увеличивает** среднее количество просмотренных страниц за сессию.\n",
    "\n",
    "Математически:\n",
    "\n",
    "H₁ : μ2 > μ1 (односторонняя гипотеза, так как ожидается улучшение)"
   ]
  },
  {
   "cell_type": "markdown",
   "metadata": {},
   "source": [
    "<div class=\"alert alert-block alert-warning\">\n",
    "\n",
    "**Комментарий ревьювера (что можно улучшить)**\n",
    "    \n",
    "Лучше взять за ключевую метрику долю успешных сессий.\n",
    "</div>"
   ]
  },
  {
   "cell_type": "markdown",
   "metadata": {},
   "source": [
    "**Обоснование:**\n",
    "- Метрика `page_counter` напрямую связана с вовлечённостью и интересом к контенту.\n",
    "\n",
    "- Односторонняя альтернативная гипотеза выбрана, так как команда ожидает именно улучшения (увеличения количества просмотренных страниц).\n",
    "\n",
    "- Для проверки гипотез будет использоваться статистический тест (например, t-тест для сравнения средних), а также учтены другие факторы (время проведения теста, корректность разделения на группы и т.д.)."
   ]
  },
  {
   "cell_type": "markdown",
   "metadata": {
    "id": "uzaeln270eMt"
   },
   "source": [
    "#### 2.2. Расчёт размера выборки\n",
    "В рамках курса вы уже рассчитывали размеры выборки и  использовали для этого онлайн-калькулятор. В этом задании предлагаем воспользоваться готовым кодом и рассчитать необходимое для вашего эксперимента количество пользователей.\n",
    "\n",
    "Для этого установите в коде ниже следующие параметры:\n",
    "\n",
    "- Уровень значимости — 0.05.\n",
    "\n",
    "- Вероятность ошибки второго рода — 0.2.\n",
    "\n",
    "- Мощность теста.\n",
    "\n",
    "- Минимальный детектируемый эффект, или MDE, — 3%. Обратите внимание, что здесь нужно указать десятичную дробь, а не процент.\n",
    "\n",
    "При расчёте размера выборки используйте метод `solve_power()` из класса `power.NormalIndPower` модуля `statsmodels.stats`.\n",
    "\n",
    "Запустите ячейку и изучите полученное значение."
   ]
  },
  {
   "cell_type": "code",
   "execution_count": 17,
   "metadata": {
    "id": "zSxJyPGPNdaI",
    "scrolled": true
   },
   "outputs": [
    {
     "name": "stdout",
     "output_type": "stream",
     "text": [
      "Необходимый размер выборки для каждой группы: 41040\n"
     ]
    }
   ],
   "source": [
    "from statsmodels.stats.power import NormalIndPower\n",
    "from statsmodels.stats.proportion import proportion_effectsize\n",
    "\n",
    "# Задаём параметры\n",
    "alpha = 0.05 # Уровень значимости\n",
    "beta = 0.2  # Ошибка второго рода, часто 1 - мощность\n",
    "power = 1 - beta  # Мощность теста\n",
    "p = 0.3 # Базовый уровень доли\n",
    "mde = 0.03 * p  # Минимальный детектируемый эффект\n",
    "effect_size = proportion_effectsize(p, p + mde)\n",
    "\n",
    "# Инициализируем класс NormalIndPower\n",
    "power_analysis = NormalIndPower()\n",
    "\n",
    "# Рассчитываем размер выборки\n",
    "sample_size = power_analysis.solve_power(\n",
    "    effect_size = effect_size,\n",
    "    power = power,\n",
    "    alpha = alpha,\n",
    "    ratio = 1 # Равномерное распределение выборок\n",
    ")\n",
    "\n",
    "print(f\"Необходимый размер выборки для каждой группы: {int(sample_size)}\")"
   ]
  },
  {
   "cell_type": "markdown",
   "metadata": {},
   "source": [
    "<div class=\"alert alert-block alert-danger\">\n",
    "    \n",
    "**Комментарий ревьювера (недочет, который нужно доработать)**\n",
    "    \n",
    "mde равен 3% от базового уровня доли, который равен 30%. Для расчёта размера выборки используй `proportion_effectsize(p, p + mde)`\n",
    "</div>"
   ]
  },
  {
   "cell_type": "markdown",
   "metadata": {},
   "source": [
    "<div class=\"alert alert-block alert-info\">\n",
    "<b>Комментарий студента:</b>\n",
    "    \n",
    "Замечание исправлено\n",
    "</div>"
   ]
  },
  {
   "cell_type": "markdown",
   "metadata": {},
   "source": [
    "<div class=\"alert alert-block alert-success\">\n",
    "\n",
    "**Комментарий ревьювера v2 (все отлично)**\n",
    "    \n",
    "Теперь все правильно👍\n",
    "</div>"
   ]
  },
  {
   "cell_type": "markdown",
   "metadata": {
    "id": "qLEv4RoV0eMu"
   },
   "source": [
    "#### 2.3. Расчёт длительности A/B-теста\n",
    "\n",
    "Используйте данные о количестве пользователей в каждой выборке и среднем количестве пользователей приложения. Рассчитайте длительность теста, разделив одно на другое.\n",
    "\n",
    "- Рассчитайте среднее количество уникальных пользователей приложения в день.\n",
    "\n",
    "- Определите длительность теста исходя из рассчитанного значения размера выборок и среднего дневного трафика приложения. Количество дней округлите в большую сторону."
   ]
  },
  {
   "cell_type": "code",
   "execution_count": 18,
   "metadata": {
    "id": "KZDRbryDOGHa"
   },
   "outputs": [
    {
     "name": "stdout",
     "output_type": "stream",
     "text": [
      "Рассчитанная длительность A/B-теста при текущем уровене трафика в 9907 пользователей в день составит 9 дней\n"
     ]
    }
   ],
   "source": [
    "from math import ceil\n",
    "\n",
    "# Среднее количество пользователей приложения в день по историческим данным\n",
    "avg_daily_users = round(sessions_history.groupby(\n",
    "    pd.to_datetime(sessions_history['session_date']))['user_id'].nunique().mean())   \n",
    "total_sample_size = sample_size * 2\n",
    "\n",
    "# Рассчитываем длительность теста в днях как отношение размера выборки к среднему числу пользователей\n",
    "test_duration = ceil(total_sample_size / avg_daily_users)\n",
    "\n",
    "print(f\"Рассчитанная длительность A/B-теста при текущем уровене трафика в {avg_daily_users} пользователей в день составит {test_duration} дней\")"
   ]
  },
  {
   "cell_type": "markdown",
   "metadata": {},
   "source": [
    "<div class=\"alert alert-block alert-success\">\n",
    "\n",
    "**Комментарий ревьювера v2 (все отлично)**\n",
    "    \n",
    "Тоже верно👍\n",
    "</div>"
   ]
  },
  {
   "cell_type": "markdown",
   "metadata": {
    "id": "ZuvtAdha0eMv"
   },
   "source": [
    "### 3. Мониторинг А/В-теста"
   ]
  },
  {
   "cell_type": "markdown",
   "metadata": {
    "id": "jq5sE3Ya0eMv"
   },
   "source": [
    "#### 3.1. Проверка распределения пользователей\n",
    "\n",
    "A/B-тест успешно запущен, и уже доступны данные за первые три дня. На этом этапе нужно убедиться, что всё идёт хорошо: пользователи разделены правильным образом, а интересующие вас метрики корректно считаются.\n",
    "\n",
    "- Считайте и сохраните в датафрейм `sessions_test_part` CSV-файл с историческими данными о сессиях пользователей `sessions_project_test_part.csv`.\n",
    "\n",
    "- Рассчитайте количество уникальных пользователей в каждой из экспериментальных групп для одного дня наблюдения.\n",
    "\n",
    "- Рассчитайте и выведите на экран процентную разницу в количестве пользователей в группах A и B. Постройте любую удобную визуализацию, на которой будет видно возможное различие двух групп.\n",
    "\n",
    "Для расчёта процентной разницы воспользуйтесь формулой:\n",
    "$$P = 100 \\cdot  \\frac{|A − B|}{A}$$"
   ]
  },
  {
   "cell_type": "code",
   "execution_count": 19,
   "metadata": {
    "id": "G1bqIzDJOUiz"
   },
   "outputs": [],
   "source": [
    "sessions_test_part = pd.read_csv('https://code.s3.yandex.net/datasets/sessions_project_test_part.csv')"
   ]
  },
  {
   "cell_type": "code",
   "execution_count": 20,
   "metadata": {},
   "outputs": [],
   "source": [
    "# Преобразуем дату в правильный формат\n",
    "sessions_test_part['session_date'] = pd.to_datetime(sessions_test_part['session_date'])"
   ]
  },
  {
   "cell_type": "code",
   "execution_count": 21,
   "metadata": {},
   "outputs": [
    {
     "name": "stdout",
     "output_type": "stream",
     "text": [
      "Информация о данных за первый день теста:\n",
      "<class 'pandas.core.frame.DataFrame'>\n",
      "RangeIndex: 3130 entries, 0 to 3129\n",
      "Data columns (total 11 columns):\n",
      " #   Column             Non-Null Count  Dtype         \n",
      "---  ------             --------------  -----         \n",
      " 0   user_id            3130 non-null   object        \n",
      " 1   session_id         3130 non-null   object        \n",
      " 2   session_date       3130 non-null   datetime64[ns]\n",
      " 3   session_start_ts   3130 non-null   object        \n",
      " 4   install_date       3130 non-null   object        \n",
      " 5   session_number     3130 non-null   int64         \n",
      " 6   registration_flag  3130 non-null   int64         \n",
      " 7   page_counter       3130 non-null   int64         \n",
      " 8   region             3130 non-null   object        \n",
      " 9   device             3130 non-null   object        \n",
      " 10  test_group         3130 non-null   object        \n",
      "dtypes: datetime64[ns](1), int64(3), object(7)\n",
      "memory usage: 269.1+ KB\n",
      "None\n",
      "\n",
      "Первые 5 строк данных:\n",
      "            user_id        session_id session_date     session_start_ts  \\\n",
      "0  3404844B53442747  B4901323BD537E45   2025-10-14  2025-10-14 19:28:49   \n",
      "1  3A2BF4D364E62D89  216FC619308F8788   2025-10-14  2025-10-14 21:11:04   \n",
      "2  79CDAE11E32B1597  EDFCE4AC1A504074   2025-10-14  2025-10-14 21:44:03   \n",
      "3  D6AF8D78297A931F  CF0AC0EEDE92C690   2025-10-14  2025-10-14 19:07:55   \n",
      "4  37E0CE723AE568E0  2E6ED45E8C86C4E9   2025-10-14  2025-10-14 15:39:44   \n",
      "\n",
      "  install_date  session_number  registration_flag  page_counter region  \\\n",
      "0   2025-10-14               1                  0             3    CIS   \n",
      "1   2025-10-14               1                  0             3   MENA   \n",
      "2   2025-10-14               1                  0             3    CIS   \n",
      "3   2025-10-14               1                  0             4    CIS   \n",
      "4   2025-10-14               1                  0             3    CIS   \n",
      "\n",
      "    device test_group  \n",
      "0  Android          B  \n",
      "1   iPhone          A  \n",
      "2   iPhone          A  \n",
      "3       PC          A  \n",
      "4      Mac          B  \n"
     ]
    }
   ],
   "source": [
    "# Выводим информацию о данных\n",
    "print(\"Информация о данных за первый день теста:\")\n",
    "print(sessions_test_part.info())\n",
    "print(\"\\nПервые 5 строк данных:\")\n",
    "print(sessions_test_part.head())"
   ]
  },
  {
   "cell_type": "code",
   "execution_count": 22,
   "metadata": {},
   "outputs": [
    {
     "name": "stdout",
     "output_type": "stream",
     "text": [
      "\n",
      "Количество уникальных пользователей по группам:\n",
      "test_group\n",
      "A    1477\n",
      "B    1466\n",
      "Name: user_id, dtype: int64\n"
     ]
    }
   ],
   "source": [
    "# Рассчитываем количество уникальных пользователей в каждой группе\n",
    "unique_users_by_group = sessions_test_part.groupby('test_group')['user_id'].nunique()\n",
    "print(f\"\\nКоличество уникальных пользователей по группам:\\n{unique_users_by_group}\")"
   ]
  },
  {
   "cell_type": "code",
   "execution_count": 23,
   "metadata": {},
   "outputs": [],
   "source": [
    "# Выведем количество пользователей в группах A и B\n",
    "a_users = unique_users_by_group['A']\n",
    "b_users = unique_users_by_group['B']"
   ]
  },
  {
   "cell_type": "code",
   "execution_count": 24,
   "metadata": {},
   "outputs": [
    {
     "name": "stdout",
     "output_type": "stream",
     "text": [
      "Процентная разница между группами A и B: 0.74%\n"
     ]
    }
   ],
   "source": [
    "# Рассчитываем процентную разницу\n",
    "percentage_diff = 100 * abs(a_users - b_users) / a_users\n",
    "print(f\"Процентная разница между группами A и B: {percentage_diff:.2f}%\")"
   ]
  },
  {
   "cell_type": "code",
   "execution_count": 25,
   "metadata": {},
   "outputs": [
    {
     "data": {
      "image/png": "[encoded data removed]",
      "text/plain": [
       "<Figure size 720x432 with 2 Axes>"
      ]
     },
     "metadata": {
      "needs_background": "light"
     },
     "output_type": "display_data"
    }
   ],
   "source": [
    "#Визуализация распределения пользователей по группам\n",
    "plt.figure(figsize=(10, 6))\n",
    "\n",
    "# Столбчатая диаграмма\n",
    "plt.subplot(1, 2, 1)\n",
    "bars = plt.bar(unique_users_by_group.index, unique_users_by_group.values, color=['skyblue', 'lightcoral'])\n",
    "plt.title('Распределение пользователей по группам')\n",
    "plt.xlabel('Группа')\n",
    "plt.ylabel('Количество уникальных пользователей')\n",
    "\n",
    "# Добавляем значения на столбцы\n",
    "for bar in bars:\n",
    "    height = bar.get_height()\n",
    "    plt.text(bar.get_x() + bar.get_width()/2., height + 5,\n",
    "             f'{int(height)}', ha='center', va='bottom')\n",
    "\n",
    "# Круговая диаграмма\n",
    "plt.subplot(1, 2, 2)\n",
    "plt.pie(unique_users_by_group.values, labels=unique_users_by_group.index, \n",
    "        autopct='%1.1f%%', colors=['skyblue', 'lightcoral'])\n",
    "plt.title('Процентное распределение пользователей')\n",
    "\n",
    "plt.tight_layout()\n",
    "plt.show()"
   ]
  },
  {
   "cell_type": "markdown",
   "metadata": {},
   "source": [
    "<div class=\"alert alert-block alert-success\">\n",
    "\n",
    "**Комментарий ревьювера (все отлично)**\n",
    "    \n",
    "Расчёт верный👍\n",
    "\n",
    "</div>"
   ]
  },
  {
   "cell_type": "markdown",
   "metadata": {
    "id": "sgpNY5bv0eM0"
   },
   "source": [
    "#### 3.2. Проверка пересечений пользователей\n",
    "Помимо проверки равенства количества пользователей в группах, полезно убедиться в том, что группы независимы. Для этого нужно убедиться, что никто из пользователей случайно не попал в обе группы одновременно.\n",
    "\n",
    "- Рассчитайте количество пользователей, которые встречаются одновременно в группах A и B, или убедитесь, что таких нет."
   ]
  },
  {
   "cell_type": "code",
   "execution_count": 26,
   "metadata": {
    "id": "E72ozN9FOX1u"
   },
   "outputs": [
    {
     "name": "stdout",
     "output_type": "stream",
     "text": [
      "Количество пользователей в обеих группах: 0\n"
     ]
    }
   ],
   "source": [
    "# Выберем пользователей из групп А и В\n",
    "a_gr = sessions_test_part[sessions_test_part['test_group'] == 'A']['user_id']\n",
    "b_gr = sessions_test_part[sessions_test_part['test_group'] == 'B']['user_id']\n",
    "\n",
    "# Проверим пересечение пользователей в группах А и В\n",
    "intersection = list(set(a_gr) & set(b_gr))\n",
    "print(f\"Количество пользователей в обеих группах: {len(intersection)}\")"
   ]
  },
  {
   "cell_type": "markdown",
   "metadata": {},
   "source": [
    "<div class=\"alert alert-block alert-success\">\n",
    "\n",
    "**Комментарий ревьювера (все отлично)**\n",
    "    \n",
    "Здорово, что проверил пересечение групп. Такая проверка была необходима, так как могут быть ошибки при логировании пользователей по группам. \n",
    "\n",
    "</div>"
   ]
  },
  {
   "cell_type": "markdown",
   "metadata": {},
   "source": [
    "<div class=\"alert alert-block alert-warning\">\n",
    "\n",
    "**Комментарий ревьювера (что можно улучшить)**\n",
    "    \n",
    "Проверку можно выполнить другим способом, посчитав количество уникальных групп на каждого пользователя. Если значение будет равно 2, то пользователь попал в обе группы.\n",
    "</div>"
   ]
  },
  {
   "cell_type": "markdown",
   "metadata": {
    "id": "6RvkNLrg0eM1"
   },
   "source": [
    "#### 3.3. Равномерность разделения пользователей по устройствам\n",
    "Полезно также убедиться в том, что пользователи равномерно распределены по всем доступным категориальным переменным — типам устройств и регионам.\n",
    "\n",
    "Постройте две диаграммы:\n",
    "\n",
    "- доля каждого типа устройства для пользователей из группы A,\n",
    "\n",
    "- доля каждого типа устройства для пользователей из группы B.\n",
    "\n",
    "Постарайтесь добавить на диаграммы все необходимые подписи, пояснения и заголовки, которые позволят сделать вывод о том, совпадает ли распределение устройств в группах A и B.\n"
   ]
  },
  {
   "cell_type": "code",
   "execution_count": 27,
   "metadata": {
    "id": "x_IP6PUNPWHC"
   },
   "outputs": [],
   "source": [
    "# Группируем данные по тестовой группе и типу устройства\n",
    "device_distribution = sessions_test_part.groupby(['test_group', 'device'])['user_id'].nunique().unstack()"
   ]
  },
  {
   "cell_type": "code",
   "execution_count": 28,
   "metadata": {},
   "outputs": [
    {
     "data": {
      "image/png": "[encoded data removed]",
      "text/plain": [
       "<Figure size 1008x504 with 2 Axes>"
      ]
     },
     "metadata": {},
     "output_type": "display_data"
    }
   ],
   "source": [
    "# Данные для групп A и B\n",
    "group_a_devices = device_distribution.loc['A']\n",
    "group_b_devices = device_distribution.loc['B']\n",
    "\n",
    "# Создаем график с двумя субплогами\n",
    "fig, (ax1, ax2) = plt.subplots(1, 2, figsize=(14, 7))\n",
    "fig.suptitle('Распределение типов устройств в группах A и B', fontsize=16)\n",
    "\n",
    "# Диаграмма для группы A\n",
    "ax1.pie(group_a_devices, labels=group_a_devices.index, autopct='%1.1f%%', startangle=90)\n",
    "ax1.set_title('Группа A', fontsize=14)\n",
    "\n",
    "# Диаграмма для группы B\n",
    "ax2.pie(group_b_devices, labels=group_b_devices.index, autopct='%1.1f%%', startangle=90)\n",
    "ax2.set_title('Группа B', fontsize=14)\n",
    "\n",
    "plt.tight_layout()\n",
    "plt.show()"
   ]
  },
  {
   "cell_type": "markdown",
   "metadata": {},
   "source": [
    "<div class=\"alert alert-block alert-success\">\n",
    "\n",
    "**Комментарий ревьювера (все отлично)**\n",
    "    \n",
    "Задание выполнено👍\n",
    "</div>"
   ]
  },
  {
   "cell_type": "markdown",
   "metadata": {
    "id": "gAgmP6vo0eM1"
   },
   "source": [
    "#### 3.4. Равномерность распределения пользователей по регионам\n",
    "Теперь убедитесь, что пользователи равномерно распределены по регионам.\n",
    "\n",
    "Постройте две диаграммы:\n",
    "\n",
    "- доля каждого региона для пользователей из группы A,\n",
    "\n",
    "- доля каждого региона для пользователей из группы B.\n",
    "\n",
    "Постарайтесь добавить на диаграммы все необходимые подписи, пояснения и заголовки, которые позволят сделать вывод о том, совпадает ли распределение регионов в группах A и B. Постарайтесь использовать другой тип диаграммы, не тот, что в прошлом задании.\n"
   ]
  },
  {
   "cell_type": "code",
   "execution_count": 29,
   "metadata": {
    "id": "3hAq-FG4OdYM"
   },
   "outputs": [],
   "source": [
    "# Группируем данные по тестовой группе и региону\n",
    "region_dist = sessions_test_part.groupby(['test_group', 'region'])['user_id'].nunique().unstack()"
   ]
  },
  {
   "cell_type": "code",
   "execution_count": 30,
   "metadata": {},
   "outputs": [
    {
     "data": {
      "image/png": "[encoded data removed]",
      "text/plain": [
       "<Figure size 1008x504 with 1 Axes>"
      ]
     },
     "metadata": {
      "needs_background": "light"
     },
     "output_type": "display_data"
    }
   ],
   "source": [
    "# Нормализуем данные для отображения долей\n",
    "region_dist_normalized = region_dist.div(region_dist.sum(axis=1), axis=0) * 100\n",
    "\n",
    "plt.figure(figsize=(14, 7))\n",
    "\n",
    "# Настройка позиций столбцов\n",
    "bar_width = 0.35\n",
    "x_pos = range(len(region_dist_normalized.columns))\n",
    "\n",
    "# Столбцы для группы A\n",
    "plt.bar([x - bar_width/2 for x in x_pos], \n",
    "        region_dist_normalized.loc['A'], \n",
    "        width=bar_width, \n",
    "        label='Группа A')\n",
    "\n",
    "# Столбцы для группы B\n",
    "plt.bar([x + bar_width/2 for x in x_pos], \n",
    "        region_dist_normalized.loc['B'], \n",
    "        width=bar_width, \n",
    "        label='Группа B')\n",
    "\n",
    "plt.title('Сравнение регионального распределения между группами A и B', fontsize=16, pad=20)\n",
    "plt.xlabel('Регион', fontsize=12)\n",
    "plt.ylabel('Доля пользователей (%)', fontsize=12)\n",
    "plt.xticks(x_pos, region_dist_normalized.columns, rotation=45)\n",
    "plt.legend()\n",
    "plt.grid(axis='y', linestyle='--', alpha=0.7)\n",
    "\n",
    "# Добавляем значения на столбцы\n",
    "for i, (a_val, b_val) in enumerate(zip(region_dist_normalized.loc['A'], region_dist_normalized.loc['B'])):\n",
    "    plt.text(i - bar_width/2, a_val + 1, f'{a_val:.1f}%', ha='center')\n",
    "    plt.text(i + bar_width/2, b_val + 1, f'{b_val:.1f}%', ha='center')\n",
    "\n",
    "plt.tight_layout()\n",
    "plt.show()"
   ]
  },
  {
   "cell_type": "markdown",
   "metadata": {},
   "source": [
    "<div class=\"alert alert-block alert-success\">\n",
    "\n",
    "**Комментарий ревьювера (все отлично)**\n",
    "    \n",
    "Расчёт корректный👍\n",
    "</div>"
   ]
  },
  {
   "cell_type": "markdown",
   "metadata": {
    "id": "X2WSZ-sDrSUi"
   },
   "source": [
    "#### 3.5. Вывод после проверки A/B-теста\n",
    "\n",
    "На основе проведённого анализа A/B-теста сформулируйте и запишите свои выводы. В выводе обязательно укажите:\n",
    "\n",
    "- Было ли обнаружено различие в количестве пользователей в двух группах.\n",
    "\n",
    "- Являются ли выборки независимыми. Было ли обнаружено пересечение пользователей из тестовой и контрольной групп.\n",
    "\n",
    "- Сохраняется ли равномерное распределение пользователей тестовой и контрольной групп по категориальным переменным: устройствам и регионам.\n",
    "\n",
    "Сделайте заключение: корректно ли проходит A/B-тест, или наблюдаются какие-либо нарушения."
   ]
  },
  {
   "cell_type": "markdown",
   "metadata": {
    "id": "dDELHlAcOi8d"
   },
   "source": []
  },
  {
   "cell_type": "markdown",
   "metadata": {},
   "source": [
    "- Различие статистически незначимо (менее 1% (0.74%)), что соответствует требованиям к равномерному распределению.\n",
    "- Выборки независимы, пользователи не повторяются между группами. Условие корректности A/B-теста соблюдено.\n",
    "- Распределение по устройствам и регионам равномерное.\n",
    "\n",
    "**Вывод:** A/B-тест организован правильно, обнаруженные различия между группами незначимы. Результаты теста можно считать достоверными."
   ]
  },
  {
   "cell_type": "markdown",
   "metadata": {},
   "source": [
    "<div class=\"alert alert-block alert-success\">\n",
    "\n",
    "**Комментарий ревьювера (все отлично)**\n",
    "    \n",
    "Основные результаты раздела, которые позволяют оценить корректность А/В теста, отражены👍\n",
    "\n",
    "</div>"
   ]
  },
  {
   "cell_type": "markdown",
   "metadata": {
    "id": "nudRr_BQ0eM2"
   },
   "source": [
    "### 4. Проверка результатов A/B-теста\n",
    "\n",
    "A/B-тест завершён, и у вас есть результаты за все дни проведения эксперимента. Необходимо убедиться в корректности теста и верно интерпретировать результаты."
   ]
  },
  {
   "cell_type": "markdown",
   "metadata": {
    "id": "JVve-YBB0eM2"
   },
   "source": [
    "#### 4.1. Получение результатов теста и подсчёт основной метрики\n",
    "\n",
    "- Считайте и сохраните в датафрейм `sessions_test` CSV-файл с историческими данными о сессиях пользователей `sessions_project_test.csv`.\n",
    "\n",
    "- В датафрейме `sessions_test` создайте дополнительный столбец `good_session`. В него войдёт значение `1`, если за одну сессию было просмотрено 4 и более страниц, и значение `0`, если просмотрено меньше."
   ]
  },
  {
   "cell_type": "code",
   "execution_count": 31,
   "metadata": {
    "id": "EqRlwMtKPTir"
   },
   "outputs": [],
   "source": [
    "sessions_test = pd.read_csv('https://code.s3.yandex.net/datasets/sessions_project_test.csv')"
   ]
  },
  {
   "cell_type": "code",
   "execution_count": 32,
   "metadata": {},
   "outputs": [],
   "source": [
    "sessions_test['good_session'] = (sessions_test['page_counter'] >= 4).astype(int)"
   ]
  },
  {
   "cell_type": "code",
   "execution_count": 33,
   "metadata": {},
   "outputs": [
    {
     "data": {
      "text/html": [
       "<div>\n",
       "<style scoped>\n",
       "    .dataframe tbody tr th:only-of-type {\n",
       "        vertical-align: middle;\n",
       "    }\n",
       "\n",
       "    .dataframe tbody tr th {\n",
       "        vertical-align: top;\n",
       "    }\n",
       "\n",
       "    .dataframe thead th {\n",
       "        text-align: right;\n",
       "    }\n",
       "</style>\n",
       "<table border=\"1\" class=\"dataframe\">\n",
       "  <thead>\n",
       "    <tr style=\"text-align: right;\">\n",
       "      <th></th>\n",
       "      <th>user_id</th>\n",
       "      <th>session_id</th>\n",
       "      <th>session_date</th>\n",
       "      <th>session_start_ts</th>\n",
       "      <th>install_date</th>\n",
       "      <th>session_number</th>\n",
       "      <th>registration_flag</th>\n",
       "      <th>page_counter</th>\n",
       "      <th>region</th>\n",
       "      <th>device</th>\n",
       "      <th>test_group</th>\n",
       "      <th>good_session</th>\n",
       "    </tr>\n",
       "  </thead>\n",
       "  <tbody>\n",
       "    <tr>\n",
       "      <th>0</th>\n",
       "      <td>6DAE3B3654DA738E</td>\n",
       "      <td>C69249E26E58F6E2</td>\n",
       "      <td>2025-10-26</td>\n",
       "      <td>2025-10-26 18:15:05</td>\n",
       "      <td>2025-10-16</td>\n",
       "      <td>3</td>\n",
       "      <td>0</td>\n",
       "      <td>3</td>\n",
       "      <td>MENA</td>\n",
       "      <td>Android</td>\n",
       "      <td>A</td>\n",
       "      <td>0</td>\n",
       "    </tr>\n",
       "    <tr>\n",
       "      <th>1</th>\n",
       "      <td>0A3FE5D1DD59110A</td>\n",
       "      <td>66D66D7C9F5181B7</td>\n",
       "      <td>2025-10-21</td>\n",
       "      <td>2025-10-21 17:04:53</td>\n",
       "      <td>2025-10-15</td>\n",
       "      <td>2</td>\n",
       "      <td>1</td>\n",
       "      <td>2</td>\n",
       "      <td>CIS</td>\n",
       "      <td>Android</td>\n",
       "      <td>B</td>\n",
       "      <td>0</td>\n",
       "    </tr>\n",
       "    <tr>\n",
       "      <th>2</th>\n",
       "      <td>2041F1D7AA740B88</td>\n",
       "      <td>50DE51D42215E74C</td>\n",
       "      <td>2025-10-23</td>\n",
       "      <td>2025-10-23 17:39:29</td>\n",
       "      <td>2025-10-19</td>\n",
       "      <td>3</td>\n",
       "      <td>0</td>\n",
       "      <td>2</td>\n",
       "      <td>MENA</td>\n",
       "      <td>Android</td>\n",
       "      <td>A</td>\n",
       "      <td>0</td>\n",
       "    </tr>\n",
       "    <tr>\n",
       "      <th>3</th>\n",
       "      <td>43D7585009168086</td>\n",
       "      <td>5763C0C353C22263</td>\n",
       "      <td>2025-10-24</td>\n",
       "      <td>2025-10-24 15:01:57</td>\n",
       "      <td>2025-10-18</td>\n",
       "      <td>4</td>\n",
       "      <td>0</td>\n",
       "      <td>1</td>\n",
       "      <td>CIS</td>\n",
       "      <td>iPhone</td>\n",
       "      <td>B</td>\n",
       "      <td>0</td>\n",
       "    </tr>\n",
       "    <tr>\n",
       "      <th>4</th>\n",
       "      <td>15AD68B14D62D88C</td>\n",
       "      <td>B1AD09F93C1053BC</td>\n",
       "      <td>2025-10-17</td>\n",
       "      <td>2025-10-17 17:34:39</td>\n",
       "      <td>2025-10-17</td>\n",
       "      <td>1</td>\n",
       "      <td>0</td>\n",
       "      <td>2</td>\n",
       "      <td>MENA</td>\n",
       "      <td>Android</td>\n",
       "      <td>B</td>\n",
       "      <td>0</td>\n",
       "    </tr>\n",
       "  </tbody>\n",
       "</table>\n",
       "</div>"
      ],
      "text/plain": [
       "            user_id        session_id session_date     session_start_ts  \\\n",
       "0  6DAE3B3654DA738E  C69249E26E58F6E2   2025-10-26  2025-10-26 18:15:05   \n",
       "1  0A3FE5D1DD59110A  66D66D7C9F5181B7   2025-10-21  2025-10-21 17:04:53   \n",
       "2  2041F1D7AA740B88  50DE51D42215E74C   2025-10-23  2025-10-23 17:39:29   \n",
       "3  43D7585009168086  5763C0C353C22263   2025-10-24  2025-10-24 15:01:57   \n",
       "4  15AD68B14D62D88C  B1AD09F93C1053BC   2025-10-17  2025-10-17 17:34:39   \n",
       "\n",
       "  install_date  session_number  registration_flag  page_counter region  \\\n",
       "0   2025-10-16               3                  0             3   MENA   \n",
       "1   2025-10-15               2                  1             2    CIS   \n",
       "2   2025-10-19               3                  0             2   MENA   \n",
       "3   2025-10-18               4                  0             1    CIS   \n",
       "4   2025-10-17               1                  0             2   MENA   \n",
       "\n",
       "    device test_group  good_session  \n",
       "0  Android          A             0  \n",
       "1  Android          B             0  \n",
       "2  Android          A             0  \n",
       "3   iPhone          B             0  \n",
       "4  Android          B             0  "
      ]
     },
     "execution_count": 33,
     "metadata": {},
     "output_type": "execute_result"
    }
   ],
   "source": [
    "sessions_test.head()"
   ]
  },
  {
   "cell_type": "markdown",
   "metadata": {
    "id": "aeYhrMYy0eM2"
   },
   "source": [
    "#### 4.2. Проверка корректности результатов теста\n",
    "\n",
    "Прежде чем приступать к анализу ключевых продуктовых метрик, необходимо убедиться, что тест проведён корректно и вы будете сравнивать две сопоставимые группы.\n",
    "\n",
    "- Рассчитайте количество уникальных сессий для каждого дня и обеих тестовых групп, используя группировку.\n",
    "\n",
    "- Проверьте, что количество уникальных дневных сессий в двух выборках не различается или различия не статистически значимыми. Используйте статистический тест, который позволит сделать вывод о равенстве средних двух выборок.\n",
    "\n",
    "- В качестве ответа выведите на экран полученное значение p-value и интерпретируйте его."
   ]
  },
  {
   "cell_type": "code",
   "execution_count": 34,
   "metadata": {
    "id": "5NUlcltkTTSU"
   },
   "outputs": [
    {
     "data": {
      "text/html": [
       "<div>\n",
       "<style scoped>\n",
       "    .dataframe tbody tr th:only-of-type {\n",
       "        vertical-align: middle;\n",
       "    }\n",
       "\n",
       "    .dataframe tbody tr th {\n",
       "        vertical-align: top;\n",
       "    }\n",
       "\n",
       "    .dataframe thead th {\n",
       "        text-align: right;\n",
       "    }\n",
       "</style>\n",
       "<table border=\"1\" class=\"dataframe\">\n",
       "  <thead>\n",
       "    <tr style=\"text-align: right;\">\n",
       "      <th>test_group</th>\n",
       "      <th>A</th>\n",
       "      <th>B</th>\n",
       "    </tr>\n",
       "    <tr>\n",
       "      <th>session_date</th>\n",
       "      <th></th>\n",
       "      <th></th>\n",
       "    </tr>\n",
       "  </thead>\n",
       "  <tbody>\n",
       "    <tr>\n",
       "      <th>2025-10-14</th>\n",
       "      <td>1502</td>\n",
       "      <td>1628</td>\n",
       "    </tr>\n",
       "    <tr>\n",
       "      <th>2025-10-15</th>\n",
       "      <td>2235</td>\n",
       "      <td>2283</td>\n",
       "    </tr>\n",
       "    <tr>\n",
       "      <th>2025-10-16</th>\n",
       "      <td>3280</td>\n",
       "      <td>3241</td>\n",
       "    </tr>\n",
       "    <tr>\n",
       "      <th>2025-10-17</th>\n",
       "      <td>4089</td>\n",
       "      <td>4054</td>\n",
       "    </tr>\n",
       "    <tr>\n",
       "      <th>2025-10-18</th>\n",
       "      <td>5013</td>\n",
       "      <td>5059</td>\n",
       "    </tr>\n",
       "  </tbody>\n",
       "</table>\n",
       "</div>"
      ],
      "text/plain": [
       "test_group       A     B\n",
       "session_date            \n",
       "2025-10-14    1502  1628\n",
       "2025-10-15    2235  2283\n",
       "2025-10-16    3280  3241\n",
       "2025-10-17    4089  4054\n",
       "2025-10-18    5013  5059"
      ]
     },
     "metadata": {},
     "output_type": "display_data"
    }
   ],
   "source": [
    "# Cгруппируем данные, чтобы получить количество уникальных сессий для каждой группы (A/B) по дням\n",
    "daily_sessions = sessions_test.groupby(['session_date', 'test_group'])['session_id'].nunique().unstack()\n",
    "display(daily_sessions.head())"
   ]
  },
  {
   "cell_type": "markdown",
   "metadata": {},
   "source": [
    "Сформулируем гипотезы для проверки:\n",
    "\n",
    "H₀ (нулевая гипотеза) — количество уникальных дневных сессий не различается между тестовой и контрольной группами. H₁ (альтернативная гипотеза) — количество уникальных дневных сессий различается между тестовой и контрольной группами."
   ]
  },
  {
   "cell_type": "code",
   "execution_count": 35,
   "metadata": {},
   "outputs": [
    {
     "name": "stdout",
     "output_type": "stream",
     "text": [
      "Результат t-теста: p-value = 0.9382\n",
      "Вывод: различий в количестве сессий между группами нет (тест корректен).\n"
     ]
    }
   ],
   "source": [
    "# Используем двухвыборочный t-тест (Student's t-test), чтобы проверить, различается ли среднее количество сессий между группами A и B\n",
    "from scipy.stats import ttest_ind \n",
    "\n",
    "# Выборки для групп A и B\n",
    "group_a = daily_sessions['A'].dropna()\n",
    "group_b = daily_sessions['B'].dropna()\n",
    "\n",
    "# Проведение t-теста\n",
    "t_stat, p_value = ttest_ind(group_a, group_b)\n",
    "\n",
    "print(f\"Результат t-теста: p-value = {p_value:.4f}\")\n",
    "\n",
    "if p_value > 0.05:\n",
    "    print(\"Вывод: различий в количестве сессий между группами нет (тест корректен).\")\n",
    "else:\n",
    "    print(\"Вывод: обнаружены статистически значимые различия (требуется проверка).\")"
   ]
  },
  {
   "cell_type": "markdown",
   "metadata": {},
   "source": [
    "<div class=\"alert alert-block alert-success\">\n",
    "\n",
    "**Комментарий ревьювера (все отлично)**\n",
    "    \n",
    "Проверка выполнена корректно👍\n",
    "</div>"
   ]
  },
  {
   "cell_type": "markdown",
   "metadata": {
    "id": "7kwRxzg70eM3"
   },
   "source": [
    "#### 4.3. Сравнение доли успешных сессий\n",
    "\n",
    "Когда вы убедились, что количество сессий в обеих выборках не различалось, можно переходить к анализу ключевой метрики — доли успешных сессий.\n",
    "\n",
    "Используйте созданный на первом шаге задания столбец `good_session` и рассчитайте долю успешных сессий для выборок A и B, а также разницу в этом показателе. Полученный вывод отобразите на экране."
   ]
  },
  {
   "cell_type": "code",
   "execution_count": 36,
   "metadata": {
    "id": "Uku-V1CpPRCz"
   },
   "outputs": [
    {
     "name": "stdout",
     "output_type": "stream",
     "text": [
      "Доля good_session в группе A: 0.3077 (15248/49551)\n",
      "Доля good_session в группе B: 0.3183 (16059/50454)\n",
      "Разница (B - A): 0.0106\n"
     ]
    }
   ],
   "source": [
    "# Считаем общее количество сессий и успешных сессий для каждой группы\n",
    "group_stats = sessions_test.groupby('test_group')['good_session'].agg(['sum', 'count'])\n",
    "group_stats['proportion'] = group_stats['sum'] / group_stats['count']\n",
    "\n",
    "# Для групп A и B отдельно\n",
    "prop_a = group_stats.loc['A', 'proportion']\n",
    "prop_b = group_stats.loc['B', 'proportion']\n",
    "diff = prop_b - prop_a  # Разница между B и A\n",
    "\n",
    "print(f\"Доля good_session в группе A: {prop_a:.4f} ({group_stats.loc['A', 'sum']}/{group_stats.loc['A', 'count']})\")\n",
    "print(f\"Доля good_session в группе B: {prop_b:.4f} ({group_stats.loc['B', 'sum']}/{group_stats.loc['B', 'count']})\")\n",
    "print(f\"Разница (B - A): {diff:.4f}\")"
   ]
  },
  {
   "cell_type": "markdown",
   "metadata": {},
   "source": [
    "<div class=\"alert alert-block alert-success\">\n",
    "\n",
    "**Комментарий ревьювера (все отлично)**\n",
    "    \n",
    "Расчёт выполнен корректно👍\n",
    "</div>"
   ]
  },
  {
   "cell_type": "markdown",
   "metadata": {
    "id": "9fMFuja10eM4"
   },
   "source": [
    "#### 4.4. Насколько статистически значимо изменение ключевой метрики\n",
    "\n",
    "На предыдущем шаге вы убедились, что количество успешных сессий в тестовой выборке примерно на 1.1% выше, чем в контрольной, но делать выводы только на основе этого значения будет некорректно. Для принятия решения всегда необходимо отвечать на вопрос: является ли это изменение статистически значимым.\n",
    "\n",
    "- Используя статистический тест, рассчитайте, является ли изменение в метрике доли успешных сессий статистически значимым.\n",
    "\n",
    "- Выведите на экран полученное значение p-value и свои выводы о статистической значимости. Напомним, что уровень значимости в эксперименте был выбран на уровне 0.05."
   ]
  },
  {
   "cell_type": "code",
   "execution_count": 37,
   "metadata": {
    "id": "gFvhRGwlPLS0"
   },
   "outputs": [
    {
     "name": "stdout",
     "output_type": "stream",
     "text": [
      "\n",
      "Результат Z-теста: z = -3.603, p-value = 0.0003\n"
     ]
    }
   ],
   "source": [
    "from statsmodels.stats.proportion import proportions_ztest\n",
    "\n",
    "# Подготовка данных\n",
    "successes = [group_stats.loc['A', 'sum'], group_stats.loc['B', 'sum']]\n",
    "trials = [group_stats.loc['A', 'count'], group_stats.loc['B', 'count']]\n",
    "\n",
    "# Двусторонний Z-тест\n",
    "z_stat, p_value = proportions_ztest(successes, trials)\n",
    "\n",
    "print(f\"\\nРезультат Z-теста: z = {z_stat:.3f}, p-value = {p_value:.4f}\")"
   ]
  },
  {
   "cell_type": "markdown",
   "metadata": {},
   "source": [
    "<div class=\"alert alert-block alert-success\">\n",
    "\n",
    "**Комментарий ревьювера (все отлично)**\n",
    "    \n",
    "Проверка выполнена корректно👍\n",
    "</div>"
   ]
  },
  {
   "cell_type": "markdown",
   "metadata": {},
   "source": [
    "<div class=\"alert alert-block alert-warning\">\n",
    "\n",
    "**Комментарий ревьювера (что можно улучшить)**\n",
    "    \n",
    "Альтернативно можно выполнить односторонний тест, указав параметр alternative='smaller' или alternative='larger'.\n",
    "    \n",
    "*Если параметр `alternative='larger'`, то первыми в списках count и nobs следовало бы передать значения группы В*\n",
    "</div>"
   ]
  },
  {
   "cell_type": "markdown",
   "metadata": {},
   "source": [
    "- Статистическая значимость различий: p-value = 0.0003 (меньше 0.05), т.е. разница в долях статистически значима. Z-статистика = -3.603. Значение попадает в критическую область. Это подтверждает, что разница не случайна.\n",
    "\n",
    "- Размер эффекта: Группа A: 30.77% успешных сессий (15,248 / 49,551). Группа B: 31.83% успешных сессий (16,059 / 50,454). Абсолютная разница: +1.06% (B - A).\n",
    "\n",
    "- Относительный прирост: (0.3183 - 0.3077) / 0.3077 ≈ 3.44%.\n",
    "\n",
    "Несмотря на статистическую значимость, прирост +1.06% (или 3.44% относительного увеличения) может быть недостаточным для бизнеса, если внедрение изменений требует высоких затрат.\n",
    "\n",
    "**Вывод:** Тест выявил достоверное улучшение доли успешных сессий в группе B, но размер эффекта требует дополнительной оценки с точки зрения бизнес-целей."
   ]
  },
  {
   "cell_type": "markdown",
   "metadata": {
    "id": "GnJrkY9Q63zS"
   },
   "source": [
    "#### 4.5. Вывод по результатам A/B-эксперимента\n",
    "\n",
    "На основе проведённого анализа результатов теста сформулируйте и запишите свои выводы для команды разработки приложения. В выводе обязательно укажите:\n",
    "\n",
    "- Характеристики проведённого эксперимента, количество задействованных пользователей и длительность эксперимента.\n",
    "\n",
    "- Повлияло ли внедрение нового алгоритма рекомендаций на рост ключевой метрики и как.\n",
    "\n",
    "- Каким получилось значение p-value для оценки статистической значимости выявленного эффекта.\n",
    "\n",
    "- Стоит ли внедрять нововведение в приложение."
   ]
  },
  {
   "cell_type": "markdown",
   "metadata": {
    "id": "rri8KRIgPMrW"
   },
   "source": []
  },
  {
   "cell_type": "markdown",
   "metadata": {},
   "source": [
    "**Выводы по результатам A/B-теста для команды разработки**  \n",
    "\n",
    "**1. Характеристики эксперимента**  \n",
    "- **Группы**:  \n",
    "  - **Группа A (контрольная)**: 49551 пользователей (старый алгоритм).  \n",
    "  - **Группа B (тестовая)**: 50454 пользователей (новый алгоритм рекомендаций).  \n",
    "- **Длительность теста**: 20 дней  \n",
    "- **Ключевая метрика**: Доля успешных сессий (`good_session`), где `page_counter ≥ 4`.  \n",
    "\n",
    "**2. Влияние нового алгоритма на метрику**  \n",
    "- **Группа A (старый алгоритм)**: 30.77% успешных сессий (15248 / 49551).  \n",
    "- **Группа B (новый алгоритм)**: 31.83% успешных сессий (16059 / 50454).  \n",
    "- **Абсолютный прирост**: **+1.06%**.  \n",
    "- **Относительный прирост**: **+3.44%** (`(31.83% - 30.77%) / 30.77%`).  \n",
    "\n",
    "Новый алгоритм увеличил долю успешных сессий, что говорит о его эффективности в удержании пользователей.  \n",
    "\n",
    "**3. Статистическая значимость (p-value)**  \n",
    "- **p-value = 0.0003** (Z-тест для пропорций).  \n",
    "- **Вывод**: Разница **статистически значима** (p < 0.05). Вероятность случайного отклонения — менее 0.03%.  \n",
    "\n",
    "**4. Рекомендация: внедрять или нет?**  \n",
    "Внедрить нововведение, так как:  \n",
    "- **Есть статистически значимый прирост** ключевой метрики.  \n",
    "- **Эффект устойчивый** (разница подтверждена на большой выборке).  \n",
    "- **Относительный рост (+3.44%)** может дать заметный экономический эффект при масштабировании.    \n",
    "\n",
    "**Итог**: Новый алгоритм рекомендаций улучшает пользовательский опыт и заслуживает внедрения."
   ]
  },
  {
   "cell_type": "markdown",
   "metadata": {},
   "source": [
    "<div class=\"alert alert-block alert-success\">\n",
    "\n",
    "**Комментарий ревьювера (все отлично)**\n",
    "    \n",
    "Молодец, что отразил все требуемые пункты в выводе, результаты статистического теста верно интерпретированы👍\n",
    "</div>"
   ]
  },
  {
   "cell_type": "markdown",
   "metadata": {},
   "source": [
    "<div class=\"alert alert-block alert-warning\">\n",
    "\n",
    "**Общий комментарий ревьювера**\n",
    "    \n",
    "Иван, хорошая работа! Выводы структурированы и достаточно четко отражают результаты исследования, качественная визуализация данных, есть навыки проверки статистических гипотез. Спасибо за четкие комментарии по результатам исследования и аккуратный код, это упростило проверку. Для принятия работы надо исправить критические недочеты:\n",
    "\n",
    "* исправить расчёт размера выборки.\n",
    "    \n",
    "Еще есть несколько рекомендаций, которые помогут тебе с будущими проектами. Жду твою работу!\n",
    "    \n",
    "В дополнении прикрепляю полезные материалы по A/B-тесту: \n",
    "    \n",
    "* https://your-scorpion.ru/ab-tests-check-mathematics/\n",
    "\n",
    "</div>"
   ]
  }
 ],
 "metadata": {
  "ExecuteTimeLog": [
   {
    "duration": 2213,
    "start_time": "2025-08-27T09:54:46.923Z"
   },
   {
    "duration": 23,
    "start_time": "2025-08-27T09:55:01.407Z"
   },
   {
    "duration": 3,
    "start_time": "2025-08-27T09:59:23.754Z"
   },
   {
    "duration": 2013,
    "start_time": "2025-08-27T09:59:24.383Z"
   },
   {
    "duration": 14,
    "start_time": "2025-08-27T09:59:28.330Z"
   },
   {
    "duration": 5,
    "start_time": "2025-08-27T10:00:08.019Z"
   },
   {
    "duration": 714,
    "start_time": "2025-08-27T10:00:41.699Z"
   },
   {
    "duration": 1920,
    "start_time": "2025-08-27T10:01:02.282Z"
   },
   {
    "duration": 701,
    "start_time": "2025-08-27T10:01:17.307Z"
   },
   {
    "duration": 675,
    "start_time": "2025-08-27T10:02:08.291Z"
   },
   {
    "duration": 72,
    "start_time": "2025-08-27T10:03:54.594Z"
   },
   {
    "duration": 50,
    "start_time": "2025-08-27T10:06:45.670Z"
   },
   {
    "duration": 504,
    "start_time": "2025-08-27T10:14:41.513Z"
   },
   {
    "duration": 284,
    "start_time": "2025-08-27T10:15:05.778Z"
   },
   {
    "duration": 191,
    "start_time": "2025-08-27T10:15:26.606Z"
   },
   {
    "duration": 25,
    "start_time": "2025-08-27T10:15:55.969Z"
   },
   {
    "duration": 528,
    "start_time": "2025-08-27T10:18:18.026Z"
   },
   {
    "duration": 371,
    "start_time": "2025-08-27T10:19:27.093Z"
   },
   {
    "duration": 6,
    "start_time": "2025-08-27T10:20:17.134Z"
   },
   {
    "duration": 4,
    "start_time": "2025-08-27T11:49:00.662Z"
   },
   {
    "duration": 2169,
    "start_time": "2025-08-27T11:49:00.847Z"
   },
   {
    "duration": 14,
    "start_time": "2025-08-27T11:49:03.019Z"
   },
   {
    "duration": 665,
    "start_time": "2025-08-27T11:49:03.558Z"
   },
   {
    "duration": 53,
    "start_time": "2025-08-27T11:49:04.226Z"
   },
   {
    "duration": 3,
    "start_time": "2025-08-27T11:49:04.542Z"
   },
   {
    "duration": 175,
    "start_time": "2025-08-27T11:49:05.376Z"
   },
   {
    "duration": 175,
    "start_time": "2025-08-27T11:49:05.783Z"
   },
   {
    "duration": 15,
    "start_time": "2025-08-27T11:49:31.870Z"
   },
   {
    "duration": 373,
    "start_time": "2025-08-27T11:50:41.494Z"
   },
   {
    "duration": 454,
    "start_time": "2025-08-27T11:50:57.958Z"
   },
   {
    "duration": 5,
    "start_time": "2025-08-27T11:50:59.638Z"
   },
   {
    "duration": 361,
    "start_time": "2025-08-27T11:51:47.358Z"
   },
   {
    "duration": 42,
    "start_time": "2025-08-27T11:52:55.853Z"
   },
   {
    "duration": 174,
    "start_time": "2025-08-27T11:52:56.125Z"
   },
   {
    "duration": 13,
    "start_time": "2025-08-27T11:52:56.621Z"
   },
   {
    "duration": 369,
    "start_time": "2025-08-27T11:52:58.101Z"
   },
   {
    "duration": 1554,
    "start_time": "2025-08-27T11:52:58.669Z"
   },
   {
    "duration": 1558,
    "start_time": "2025-08-27T11:54:00.313Z"
   },
   {
    "duration": 11,
    "start_time": "2025-08-27T11:54:30.513Z"
   },
   {
    "duration": 6,
    "start_time": "2025-08-27T11:57:32.892Z"
   },
   {
    "duration": 365,
    "start_time": "2025-08-27T11:57:58.436Z"
   },
   {
    "duration": 367,
    "start_time": "2025-08-27T12:02:21.910Z"
   },
   {
    "duration": 410,
    "start_time": "2025-08-27T12:02:32.502Z"
   },
   {
    "duration": 340,
    "start_time": "2025-08-27T12:02:44.454Z"
   },
   {
    "duration": 12,
    "start_time": "2025-08-27T12:05:52.266Z"
   },
   {
    "duration": 101,
    "start_time": "2025-08-27T12:06:28.282Z"
   },
   {
    "duration": 373,
    "start_time": "2025-08-27T12:06:43.213Z"
   },
   {
    "duration": 22,
    "start_time": "2025-08-27T12:16:56.719Z"
   },
   {
    "duration": 8,
    "start_time": "2025-08-27T12:18:05.976Z"
   },
   {
    "duration": 21,
    "start_time": "2025-08-27T12:18:45.151Z"
   },
   {
    "duration": 498,
    "start_time": "2025-08-27T12:19:21.929Z"
   },
   {
    "duration": 404,
    "start_time": "2025-08-27T12:20:21.176Z"
   },
   {
    "duration": 476,
    "start_time": "2025-08-27T12:39:56.097Z"
   },
   {
    "duration": 17,
    "start_time": "2025-08-27T12:40:22.737Z"
   },
   {
    "duration": 182,
    "start_time": "2025-08-27T12:55:36.966Z"
   },
   {
    "duration": 4,
    "start_time": "2025-08-27T12:56:32.890Z"
   },
   {
    "duration": 2149,
    "start_time": "2025-08-27T12:56:33.445Z"
   },
   {
    "duration": 14,
    "start_time": "2025-08-27T12:56:35.596Z"
   },
   {
    "duration": 684,
    "start_time": "2025-08-27T12:56:35.613Z"
   },
   {
    "duration": 62,
    "start_time": "2025-08-27T12:56:36.300Z"
   },
   {
    "duration": 33,
    "start_time": "2025-08-27T12:56:36.364Z"
   },
   {
    "duration": 174,
    "start_time": "2025-08-27T12:56:36.399Z"
   },
   {
    "duration": 176,
    "start_time": "2025-08-27T12:56:36.575Z"
   },
   {
    "duration": 15,
    "start_time": "2025-08-27T12:56:36.753Z"
   },
   {
    "duration": 423,
    "start_time": "2025-08-27T12:56:36.771Z"
   },
   {
    "duration": 5,
    "start_time": "2025-08-27T12:56:37.196Z"
   },
   {
    "duration": 375,
    "start_time": "2025-08-27T12:56:37.204Z"
   },
   {
    "duration": 9,
    "start_time": "2025-08-27T12:56:37.582Z"
   },
   {
    "duration": 478,
    "start_time": "2025-08-27T12:56:37.698Z"
   },
   {
    "duration": 17,
    "start_time": "2025-08-27T12:56:38.213Z"
   },
   {
    "duration": 367,
    "start_time": "2025-08-27T12:56:38.530Z"
   },
   {
    "duration": 18,
    "start_time": "2025-08-27T12:56:40.894Z"
   },
   {
    "duration": 163,
    "start_time": "2025-08-27T12:56:41.670Z"
   },
   {
    "duration": 16,
    "start_time": "2025-08-27T12:57:49.934Z"
   },
   {
    "duration": 173,
    "start_time": "2025-08-27T12:58:03.093Z"
   },
   {
    "duration": 4,
    "start_time": "2025-08-27T13:00:29.083Z"
   },
   {
    "duration": 3,
    "start_time": "2025-08-27T13:00:44.788Z"
   },
   {
    "duration": 187,
    "start_time": "2025-08-27T13:01:00.745Z"
   },
   {
    "duration": 256,
    "start_time": "2025-08-27T13:05:14.456Z"
   },
   {
    "duration": 256,
    "start_time": "2025-08-27T13:05:34.167Z"
   },
   {
    "duration": 166,
    "start_time": "2025-08-27T13:08:55.072Z"
   },
   {
    "duration": 173,
    "start_time": "2025-08-27T13:09:05.248Z"
   },
   {
    "duration": 169,
    "start_time": "2025-08-27T13:09:10.752Z"
   },
   {
    "duration": 17,
    "start_time": "2025-08-27T13:13:04.596Z"
   },
   {
    "duration": 170,
    "start_time": "2025-08-27T13:13:08.271Z"
   },
   {
    "duration": 139,
    "start_time": "2025-08-27T13:13:37.875Z"
   },
   {
    "duration": 141,
    "start_time": "2025-08-27T13:13:53.011Z"
   },
   {
    "duration": 146,
    "start_time": "2025-08-27T13:16:37.835Z"
   },
   {
    "duration": 61,
    "start_time": "2025-08-27T17:20:54.674Z"
   },
   {
    "duration": 506,
    "start_time": "2025-08-27T17:21:04.326Z"
   },
   {
    "duration": 2140,
    "start_time": "2025-08-27T17:21:04.835Z"
   },
   {
    "duration": 27,
    "start_time": "2025-08-27T17:21:06.977Z"
   },
   {
    "duration": 722,
    "start_time": "2025-08-27T17:21:07.007Z"
   },
   {
    "duration": 64,
    "start_time": "2025-08-27T17:21:07.732Z"
   },
   {
    "duration": 543,
    "start_time": "2025-08-27T17:21:07.799Z"
   },
   {
    "duration": 274,
    "start_time": "2025-08-27T17:21:08.344Z"
   },
   {
    "duration": 210,
    "start_time": "2025-08-27T17:21:08.620Z"
   },
   {
    "duration": 16,
    "start_time": "2025-08-27T17:21:08.832Z"
   },
   {
    "duration": 560,
    "start_time": "2025-08-27T17:21:08.851Z"
   },
   {
    "duration": 7,
    "start_time": "2025-08-27T17:21:09.413Z"
   },
   {
    "duration": 445,
    "start_time": "2025-08-27T17:21:09.422Z"
   },
   {
    "duration": 10,
    "start_time": "2025-08-27T17:21:09.869Z"
   },
   {
    "duration": 494,
    "start_time": "2025-08-27T17:21:09.881Z"
   },
   {
    "duration": 18,
    "start_time": "2025-08-27T17:21:10.377Z"
   },
   {
    "duration": 454,
    "start_time": "2025-08-27T17:21:10.397Z"
   },
   {
    "duration": 504,
    "start_time": "2025-08-27T17:21:10.860Z"
   },
   {
    "duration": 155,
    "start_time": "2025-08-27T17:21:11.365Z"
   },
   {
    "duration": 135,
    "start_time": "2025-08-27T17:21:14.599Z"
   },
   {
    "duration": 234,
    "start_time": "2025-08-27T17:21:51.832Z"
   },
   {
    "duration": 137,
    "start_time": "2025-08-27T17:22:10.975Z"
   },
   {
    "duration": 142,
    "start_time": "2025-08-27T17:22:17.751Z"
   },
   {
    "duration": 0,
    "start_time": "2025-08-27T17:26:24.686Z"
   },
   {
    "duration": 0,
    "start_time": "2025-08-27T17:26:24.688Z"
   },
   {
    "duration": 0,
    "start_time": "2025-08-27T17:26:24.691Z"
   },
   {
    "duration": 437,
    "start_time": "2025-08-27T17:27:04.400Z"
   },
   {
    "duration": 1941,
    "start_time": "2025-08-27T17:27:04.840Z"
   },
   {
    "duration": 21,
    "start_time": "2025-08-27T17:27:06.784Z"
   },
   {
    "duration": 672,
    "start_time": "2025-08-27T17:27:06.807Z"
   },
   {
    "duration": 48,
    "start_time": "2025-08-27T17:27:07.481Z"
   },
   {
    "duration": 301,
    "start_time": "2025-08-27T17:27:07.532Z"
   },
   {
    "duration": 233,
    "start_time": "2025-08-27T17:27:07.836Z"
   },
   {
    "duration": 203,
    "start_time": "2025-08-27T17:27:08.071Z"
   },
   {
    "duration": 14,
    "start_time": "2025-08-27T17:27:08.276Z"
   },
   {
    "duration": 492,
    "start_time": "2025-08-27T17:27:08.293Z"
   },
   {
    "duration": 6,
    "start_time": "2025-08-27T17:27:08.787Z"
   },
   {
    "duration": 393,
    "start_time": "2025-08-27T17:27:08.795Z"
   },
   {
    "duration": 8,
    "start_time": "2025-08-27T17:27:09.190Z"
   },
   {
    "duration": 377,
    "start_time": "2025-08-27T17:27:09.199Z"
   },
   {
    "duration": 17,
    "start_time": "2025-08-27T17:27:09.578Z"
   },
   {
    "duration": 476,
    "start_time": "2025-08-27T17:27:09.597Z"
   },
   {
    "duration": 471,
    "start_time": "2025-08-27T17:27:10.075Z"
   },
   {
    "duration": 120,
    "start_time": "2025-08-27T17:27:10.548Z"
   },
   {
    "duration": 181,
    "start_time": "2025-08-27T17:27:41.644Z"
   },
   {
    "duration": 160,
    "start_time": "2025-08-27T17:36:06.264Z"
   },
   {
    "duration": 168,
    "start_time": "2025-08-27T17:41:05.471Z"
   },
   {
    "duration": 172,
    "start_time": "2025-08-27T17:41:16.164Z"
   },
   {
    "duration": 17,
    "start_time": "2025-08-27T17:45:36.575Z"
   },
   {
    "duration": 21,
    "start_time": "2025-08-27T17:45:44.591Z"
   },
   {
    "duration": 177,
    "start_time": "2025-08-27T17:46:03.920Z"
   },
   {
    "duration": 43,
    "start_time": "2025-08-27T17:46:55.495Z"
   },
   {
    "duration": 177,
    "start_time": "2025-08-27T17:48:20.311Z"
   },
   {
    "duration": 19,
    "start_time": "2025-08-27T17:51:54.363Z"
   },
   {
    "duration": 19,
    "start_time": "2025-08-27T17:52:04.155Z"
   },
   {
    "duration": 390,
    "start_time": "2025-08-27T18:05:50.639Z"
   },
   {
    "duration": 24,
    "start_time": "2025-08-27T18:05:53.959Z"
   },
   {
    "duration": 400,
    "start_time": "2025-08-27T18:05:54.303Z"
   },
   {
    "duration": 122,
    "start_time": "2025-08-27T18:13:23.913Z"
   },
   {
    "duration": 19,
    "start_time": "2025-08-27T18:14:27.585Z"
   },
   {
    "duration": 19,
    "start_time": "2025-08-27T18:14:49.346Z"
   },
   {
    "duration": 187,
    "start_time": "2025-08-27T18:14:51.677Z"
   },
   {
    "duration": 192,
    "start_time": "2025-08-27T18:15:37.033Z"
   },
   {
    "duration": 281,
    "start_time": "2025-08-27T18:16:08.313Z"
   },
   {
    "duration": 67,
    "start_time": "2025-08-27T18:17:21.794Z"
   },
   {
    "duration": 69,
    "start_time": "2025-08-27T18:17:47.049Z"
   },
   {
    "duration": 7,
    "start_time": "2025-08-27T18:26:08.359Z"
   },
   {
    "duration": 22,
    "start_time": "2025-08-27T18:26:21.103Z"
   },
   {
    "duration": 7,
    "start_time": "2025-08-27T18:27:11.671Z"
   },
   {
    "duration": 1676,
    "start_time": "2025-08-27T18:29:42.368Z"
   },
   {
    "duration": 12,
    "start_time": "2025-08-27T18:30:08.102Z"
   },
   {
    "duration": 15,
    "start_time": "2025-08-27T18:30:19.160Z"
   },
   {
    "duration": 15,
    "start_time": "2025-08-27T18:31:01.982Z"
   },
   {
    "duration": 6,
    "start_time": "2025-08-27T18:32:34.324Z"
   },
   {
    "duration": 6,
    "start_time": "2025-08-27T18:33:08.688Z"
   },
   {
    "duration": 6,
    "start_time": "2025-08-27T18:33:47.955Z"
   },
   {
    "duration": 6,
    "start_time": "2025-08-27T18:34:05.163Z"
   },
   {
    "duration": 5,
    "start_time": "2025-08-27T18:34:16.619Z"
   },
   {
    "duration": 8,
    "start_time": "2025-08-27T18:35:47.754Z"
   },
   {
    "duration": 13,
    "start_time": "2025-08-27T18:36:10.506Z"
   },
   {
    "duration": 14,
    "start_time": "2025-08-27T18:38:01.552Z"
   },
   {
    "duration": 6,
    "start_time": "2025-08-27T18:38:13.957Z"
   },
   {
    "duration": 8,
    "start_time": "2025-08-27T18:38:14.445Z"
   },
   {
    "duration": 13,
    "start_time": "2025-08-27T18:38:44.030Z"
   },
   {
    "duration": 13,
    "start_time": "2025-08-27T18:39:24.291Z"
   },
   {
    "duration": 4,
    "start_time": "2025-08-27T18:40:37.827Z"
   },
   {
    "duration": 5,
    "start_time": "2025-08-27T18:41:12.626Z"
   },
   {
    "duration": 345,
    "start_time": "2025-08-27T18:41:59.638Z"
   },
   {
    "duration": 1382,
    "start_time": "2025-08-27T18:47:54.369Z"
   },
   {
    "duration": 12,
    "start_time": "2025-08-27T18:55:06.303Z"
   },
   {
    "duration": 11,
    "start_time": "2025-08-27T18:56:25.116Z"
   },
   {
    "duration": 347,
    "start_time": "2025-08-27T18:56:28.244Z"
   },
   {
    "duration": 10,
    "start_time": "2025-08-27T18:56:29.139Z"
   },
   {
    "duration": 12,
    "start_time": "2025-08-27T18:57:29.023Z"
   },
   {
    "duration": 59,
    "start_time": "2025-08-28T08:35:14.630Z"
   },
   {
    "duration": 446,
    "start_time": "2025-08-28T08:35:23.935Z"
   },
   {
    "duration": 3779,
    "start_time": "2025-08-28T08:35:24.383Z"
   },
   {
    "duration": 18,
    "start_time": "2025-08-28T08:35:28.164Z"
   },
   {
    "duration": 628,
    "start_time": "2025-08-28T08:35:32.831Z"
   },
   {
    "duration": 41,
    "start_time": "2025-08-28T08:35:33.461Z"
   },
   {
    "duration": 482,
    "start_time": "2025-08-28T08:35:33.503Z"
   },
   {
    "duration": 261,
    "start_time": "2025-08-28T08:35:33.988Z"
   },
   {
    "duration": 160,
    "start_time": "2025-08-28T08:35:34.251Z"
   },
   {
    "duration": 11,
    "start_time": "2025-08-28T08:35:34.413Z"
   },
   {
    "duration": 503,
    "start_time": "2025-08-28T08:35:34.436Z"
   },
   {
    "duration": 10,
    "start_time": "2025-08-28T08:35:34.943Z"
   },
   {
    "duration": 400,
    "start_time": "2025-08-28T08:35:34.956Z"
   },
   {
    "duration": 9,
    "start_time": "2025-08-28T08:35:35.358Z"
   },
   {
    "duration": 377,
    "start_time": "2025-08-28T08:35:35.370Z"
   },
   {
    "duration": 14,
    "start_time": "2025-08-28T08:35:35.749Z"
   },
   {
    "duration": 398,
    "start_time": "2025-08-28T08:35:35.766Z"
   },
   {
    "duration": 501,
    "start_time": "2025-08-28T08:35:36.807Z"
   },
   {
    "duration": 201,
    "start_time": "2025-08-28T08:35:37.310Z"
   },
   {
    "duration": 54,
    "start_time": "2025-08-28T08:35:37.671Z"
   },
   {
    "duration": 9,
    "start_time": "2025-08-28T08:35:37.855Z"
   },
   {
    "duration": 26,
    "start_time": "2025-08-28T08:35:38.031Z"
   },
   {
    "duration": 6,
    "start_time": "2025-08-28T08:35:38.191Z"
   },
   {
    "duration": 2,
    "start_time": "2025-08-28T08:35:38.375Z"
   },
   {
    "duration": 4,
    "start_time": "2025-08-28T08:35:38.559Z"
   },
   {
    "duration": 356,
    "start_time": "2025-08-28T08:35:38.743Z"
   },
   {
    "duration": 10,
    "start_time": "2025-08-28T08:35:44.666Z"
   },
   {
    "duration": 8,
    "start_time": "2025-08-28T08:35:46.834Z"
   },
   {
    "duration": 387,
    "start_time": "2025-08-28T08:36:21.079Z"
   },
   {
    "duration": 6,
    "start_time": "2025-08-28T08:37:25.019Z"
   },
   {
    "duration": 430,
    "start_time": "2025-08-28T08:38:18.790Z"
   },
   {
    "duration": 1009,
    "start_time": "2025-08-28T08:41:15.119Z"
   },
   {
    "duration": 5,
    "start_time": "2025-08-28T08:43:53.666Z"
   },
   {
    "duration": 12,
    "start_time": "2025-08-28T08:44:04.630Z"
   },
   {
    "duration": 47,
    "start_time": "2025-08-28T08:45:14.978Z"
   },
   {
    "duration": 78,
    "start_time": "2025-08-28T08:46:18.829Z"
   },
   {
    "duration": 7,
    "start_time": "2025-08-28T08:47:30.934Z"
   },
   {
    "duration": 16,
    "start_time": "2025-08-28T08:51:04.066Z"
   },
   {
    "duration": 10,
    "start_time": "2025-08-28T08:57:34.073Z"
   },
   {
    "duration": 418,
    "start_time": "2025-08-28T12:20:48.848Z"
   },
   {
    "duration": 1629,
    "start_time": "2025-08-28T12:20:49.268Z"
   },
   {
    "duration": 18,
    "start_time": "2025-08-28T12:20:50.898Z"
   },
   {
    "duration": 587,
    "start_time": "2025-08-28T12:20:50.918Z"
   },
   {
    "duration": 52,
    "start_time": "2025-08-28T12:20:51.508Z"
   },
   {
    "duration": 419,
    "start_time": "2025-08-28T12:20:51.561Z"
   },
   {
    "duration": 243,
    "start_time": "2025-08-28T12:20:51.982Z"
   },
   {
    "duration": 160,
    "start_time": "2025-08-28T12:20:52.227Z"
   },
   {
    "duration": 11,
    "start_time": "2025-08-28T12:20:52.388Z"
   },
   {
    "duration": 422,
    "start_time": "2025-08-28T12:20:52.400Z"
   },
   {
    "duration": 4,
    "start_time": "2025-08-28T12:20:52.824Z"
   },
   {
    "duration": 368,
    "start_time": "2025-08-28T12:20:52.830Z"
   },
   {
    "duration": 8,
    "start_time": "2025-08-28T12:20:53.200Z"
   },
   {
    "duration": 417,
    "start_time": "2025-08-28T12:20:53.211Z"
   },
   {
    "duration": 26,
    "start_time": "2025-08-28T12:20:53.630Z"
   },
   {
    "duration": 369,
    "start_time": "2025-08-28T12:20:53.658Z"
   },
   {
    "duration": 465,
    "start_time": "2025-08-28T12:20:54.029Z"
   },
   {
    "duration": 164,
    "start_time": "2025-08-28T12:20:54.496Z"
   },
   {
    "duration": 37,
    "start_time": "2025-08-28T12:20:54.661Z"
   },
   {
    "duration": 33,
    "start_time": "2025-08-28T12:20:54.700Z"
   },
   {
    "duration": 18,
    "start_time": "2025-08-28T12:20:54.735Z"
   },
   {
    "duration": 5,
    "start_time": "2025-08-28T12:20:54.755Z"
   },
   {
    "duration": 45,
    "start_time": "2025-08-28T12:20:54.761Z"
   },
   {
    "duration": 11,
    "start_time": "2025-08-28T12:20:54.808Z"
   },
   {
    "duration": 342,
    "start_time": "2025-08-28T12:20:54.821Z"
   },
   {
    "duration": 8,
    "start_time": "2025-08-28T12:20:55.166Z"
   },
   {
    "duration": 8,
    "start_time": "2025-08-28T12:20:55.175Z"
   },
   {
    "duration": 381,
    "start_time": "2025-08-28T12:20:55.184Z"
   },
   {
    "duration": 6,
    "start_time": "2025-08-28T12:20:55.566Z"
   },
   {
    "duration": 382,
    "start_time": "2025-08-28T12:20:55.574Z"
   },
   {
    "duration": 391,
    "start_time": "2025-08-28T12:20:55.958Z"
   },
   {
    "duration": 5,
    "start_time": "2025-08-28T12:20:56.350Z"
   },
   {
    "duration": 14,
    "start_time": "2025-08-28T12:20:56.356Z"
   },
   {
    "duration": 52,
    "start_time": "2025-08-28T12:20:56.372Z"
   },
   {
    "duration": 5,
    "start_time": "2025-08-28T12:20:56.426Z"
   },
   {
    "duration": 44,
    "start_time": "2025-08-28T12:20:56.432Z"
   },
   {
    "duration": 48,
    "start_time": "2025-08-28T12:20:56.478Z"
   },
   {
    "duration": 399,
    "start_time": "2025-08-28T12:38:07.567Z"
   },
   {
    "duration": 1564,
    "start_time": "2025-08-28T12:38:07.968Z"
   },
   {
    "duration": 20,
    "start_time": "2025-08-28T12:38:09.534Z"
   },
   {
    "duration": 573,
    "start_time": "2025-08-28T12:38:09.556Z"
   },
   {
    "duration": 46,
    "start_time": "2025-08-28T12:38:10.132Z"
   },
   {
    "duration": 247,
    "start_time": "2025-08-28T12:38:10.179Z"
   },
   {
    "duration": 222,
    "start_time": "2025-08-28T12:38:10.428Z"
   },
   {
    "duration": 154,
    "start_time": "2025-08-28T12:38:10.652Z"
   },
   {
    "duration": 10,
    "start_time": "2025-08-28T12:38:10.807Z"
   },
   {
    "duration": 404,
    "start_time": "2025-08-28T12:38:10.818Z"
   },
   {
    "duration": 4,
    "start_time": "2025-08-28T12:38:11.224Z"
   },
   {
    "duration": 322,
    "start_time": "2025-08-28T12:38:11.230Z"
   },
   {
    "duration": 8,
    "start_time": "2025-08-28T12:38:11.553Z"
   },
   {
    "duration": 317,
    "start_time": "2025-08-28T12:38:11.564Z"
   },
   {
    "duration": 13,
    "start_time": "2025-08-28T12:38:11.882Z"
   },
   {
    "duration": 439,
    "start_time": "2025-08-28T12:38:11.897Z"
   },
   {
    "duration": 432,
    "start_time": "2025-08-28T12:38:12.350Z"
   },
   {
    "duration": 168,
    "start_time": "2025-08-28T12:38:12.784Z"
   },
   {
    "duration": 43,
    "start_time": "2025-08-28T12:38:12.954Z"
   },
   {
    "duration": 6,
    "start_time": "2025-08-28T12:38:12.998Z"
   },
   {
    "duration": 70,
    "start_time": "2025-08-28T12:38:13.006Z"
   },
   {
    "duration": 6,
    "start_time": "2025-08-28T12:38:13.077Z"
   },
   {
    "duration": 7,
    "start_time": "2025-08-28T12:38:13.084Z"
   },
   {
    "duration": 9,
    "start_time": "2025-08-28T12:38:13.092Z"
   },
   {
    "duration": 340,
    "start_time": "2025-08-28T12:38:13.102Z"
   },
   {
    "duration": 7,
    "start_time": "2025-08-28T12:38:13.449Z"
   },
   {
    "duration": 24,
    "start_time": "2025-08-28T12:38:13.457Z"
   },
   {
    "duration": 340,
    "start_time": "2025-08-28T12:38:13.483Z"
   },
   {
    "duration": 7,
    "start_time": "2025-08-28T12:38:13.824Z"
   },
   {
    "duration": 407,
    "start_time": "2025-08-28T12:38:13.833Z"
   },
   {
    "duration": 493,
    "start_time": "2025-08-28T12:38:14.249Z"
   },
   {
    "duration": 7,
    "start_time": "2025-08-28T12:38:14.744Z"
   },
   {
    "duration": 78,
    "start_time": "2025-08-28T12:38:14.753Z"
   },
   {
    "duration": 49,
    "start_time": "2025-08-28T12:38:14.832Z"
   },
   {
    "duration": 5,
    "start_time": "2025-08-28T12:38:14.883Z"
   },
   {
    "duration": 21,
    "start_time": "2025-08-28T12:38:14.890Z"
   },
   {
    "duration": 8,
    "start_time": "2025-08-28T12:38:14.913Z"
   },
   {
    "duration": 467,
    "start_time": "2025-08-28T14:16:21.961Z"
   },
   {
    "duration": 2226,
    "start_time": "2025-08-28T14:16:23.140Z"
   },
   {
    "duration": 22,
    "start_time": "2025-08-28T14:16:25.369Z"
   },
   {
    "duration": 781,
    "start_time": "2025-08-28T14:16:25.393Z"
   },
   {
    "duration": 47,
    "start_time": "2025-08-28T14:16:26.176Z"
   },
   {
    "duration": 521,
    "start_time": "2025-08-28T14:16:26.225Z"
   },
   {
    "duration": 286,
    "start_time": "2025-08-28T14:16:26.748Z"
   },
   {
    "duration": 197,
    "start_time": "2025-08-28T14:16:27.036Z"
   },
   {
    "duration": 11,
    "start_time": "2025-08-28T14:16:27.235Z"
   },
   {
    "duration": 457,
    "start_time": "2025-08-28T14:16:27.247Z"
   },
   {
    "duration": 6,
    "start_time": "2025-08-28T14:16:27.707Z"
   },
   {
    "duration": 405,
    "start_time": "2025-08-28T14:16:27.715Z"
   },
   {
    "duration": 10,
    "start_time": "2025-08-28T14:16:28.122Z"
   },
   {
    "duration": 441,
    "start_time": "2025-08-28T14:16:28.134Z"
   },
   {
    "duration": 17,
    "start_time": "2025-08-28T14:16:28.577Z"
   },
   {
    "duration": 393,
    "start_time": "2025-08-28T14:16:28.597Z"
   },
   {
    "duration": 598,
    "start_time": "2025-08-28T14:16:28.993Z"
   },
   {
    "duration": 21,
    "start_time": "2025-08-28T14:18:40.173Z"
   },
   {
    "duration": 19,
    "start_time": "2025-08-28T14:18:46.945Z"
   },
   {
    "duration": 216,
    "start_time": "2025-08-28T14:18:50.193Z"
   },
   {
    "duration": 471,
    "start_time": "2025-08-28T18:23:48.524Z"
   },
   {
    "duration": 2001,
    "start_time": "2025-08-28T18:23:48.998Z"
   },
   {
    "duration": 21,
    "start_time": "2025-08-28T18:23:51.001Z"
   },
   {
    "duration": 672,
    "start_time": "2025-08-28T18:23:51.024Z"
   },
   {
    "duration": 44,
    "start_time": "2025-08-28T18:23:51.699Z"
   },
   {
    "duration": 460,
    "start_time": "2025-08-28T18:23:51.761Z"
   },
   {
    "duration": 271,
    "start_time": "2025-08-28T18:23:52.223Z"
   },
   {
    "duration": 194,
    "start_time": "2025-08-28T18:23:52.496Z"
   },
   {
    "duration": 14,
    "start_time": "2025-08-28T18:23:52.692Z"
   },
   {
    "duration": 485,
    "start_time": "2025-08-28T18:23:52.708Z"
   },
   {
    "duration": 6,
    "start_time": "2025-08-28T18:23:53.196Z"
   },
   {
    "duration": 473,
    "start_time": "2025-08-28T18:23:53.204Z"
   },
   {
    "duration": 8,
    "start_time": "2025-08-28T18:23:53.679Z"
   },
   {
    "duration": 451,
    "start_time": "2025-08-28T18:23:53.692Z"
   },
   {
    "duration": 26,
    "start_time": "2025-08-28T18:23:54.144Z"
   },
   {
    "duration": 399,
    "start_time": "2025-08-28T18:23:54.172Z"
   },
   {
    "duration": 476,
    "start_time": "2025-08-28T18:23:54.573Z"
   },
   {
    "duration": 199,
    "start_time": "2025-08-28T18:23:55.052Z"
   },
   {
    "duration": 51,
    "start_time": "2025-08-28T18:23:55.253Z"
   },
   {
    "duration": 7,
    "start_time": "2025-08-28T18:23:55.306Z"
   },
   {
    "duration": 27,
    "start_time": "2025-08-28T18:23:55.315Z"
   },
   {
    "duration": 7,
    "start_time": "2025-08-28T18:23:55.344Z"
   },
   {
    "duration": 3,
    "start_time": "2025-08-28T18:23:55.360Z"
   },
   {
    "duration": 9,
    "start_time": "2025-08-28T18:23:55.365Z"
   },
   {
    "duration": 403,
    "start_time": "2025-08-28T18:23:55.376Z"
   },
   {
    "duration": 12,
    "start_time": "2025-08-28T18:23:55.782Z"
   },
   {
    "duration": 13,
    "start_time": "2025-08-28T18:23:55.796Z"
   },
   {
    "duration": 473,
    "start_time": "2025-08-28T18:23:55.811Z"
   },
   {
    "duration": 8,
    "start_time": "2025-08-28T18:23:56.286Z"
   },
   {
    "duration": 383,
    "start_time": "2025-08-28T18:23:56.296Z"
   },
   {
    "duration": 462,
    "start_time": "2025-08-28T18:23:56.681Z"
   },
   {
    "duration": 5,
    "start_time": "2025-08-28T18:23:57.145Z"
   },
   {
    "duration": 106,
    "start_time": "2025-08-28T18:23:57.152Z"
   },
   {
    "duration": 80,
    "start_time": "2025-08-28T18:23:57.261Z"
   },
   {
    "duration": 7,
    "start_time": "2025-08-28T18:23:57.343Z"
   },
   {
    "duration": 20,
    "start_time": "2025-08-28T18:23:57.352Z"
   },
   {
    "duration": 6,
    "start_time": "2025-08-28T18:23:57.375Z"
   }
  ],
  "colab": {
   "provenance": []
  },
  "kernelspec": {
   "display_name": "Python 3 (ipykernel)",
   "language": "python",
   "name": "python3"
  },
  "language_info": {
   "codemirror_mode": {
    "name": "ipython",
    "version": 3
   },
   "file_extension": ".py",
   "mimetype": "text/x-python",
   "name": "python",
   "nbconvert_exporter": "python",
   "pygments_lexer": "ipython3",
   "version": "3.9.5"
  },
  "toc": {
   "base_numbering": 1,
   "nav_menu": {},
   "number_sections": false,
   "sideBar": true,
   "skip_h1_title": true,
   "title_cell": "Table of Contents",
   "title_sidebar": "Contents",
   "toc_cell": false,
   "toc_position": {
    "height": "calc(100% - 180px)",
    "left": "10px",
    "top": "150px",
    "width": "396.8px"
   },
   "toc_section_display": true,
   "toc_window_display": false
  }
 },
 "nbformat": 4,
 "nbformat_minor": 1
}
